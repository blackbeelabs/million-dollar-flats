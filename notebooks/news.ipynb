{
 "cells": [
  {
   "cell_type": "code",
   "execution_count": 1,
   "id": "11db01a2",
   "metadata": {},
   "outputs": [
    {
     "data": {
      "text/plain": [
       "polars.config.Config"
      ]
     },
     "execution_count": 1,
     "metadata": {},
     "output_type": "execute_result"
    }
   ],
   "source": [
    "import polars as pl\n",
    "pl.Config.set_tbl_rows(300) "
   ]
  },
  {
   "cell_type": "code",
   "execution_count": 2,
   "id": "3f3f96b1",
   "metadata": {},
   "outputs": [],
   "source": [
    "df = pl.read_csv(\"ingested.csv\")"
   ]
  },
  {
   "cell_type": "code",
   "execution_count": 3,
   "id": "a4e2215d",
   "metadata": {},
   "outputs": [],
   "source": [
    "df = df.with_columns(\n",
    "    (1_000_000 <= pl.col(\"price\")).cast(pl.Int8).alias(\"price_is_geq_one_million\")\n",
    ")"
   ]
  },
  {
   "cell_type": "code",
   "execution_count": 4,
   "id": "30413fab",
   "metadata": {},
   "outputs": [
    {
     "data": {
      "text/html": [
       "<div><style>\n",
       ".dataframe > thead > tr,\n",
       ".dataframe > tbody > tr {\n",
       "  text-align: right;\n",
       "  white-space: pre-wrap;\n",
       "}\n",
       "</style>\n",
       "<small>shape: (1, 17)</small><table border=\"1\" class=\"dataframe\"><thead><tr><th>address</th><th>lease_remaining</th><th>minimum_floor</th><th>maximum_floor</th><th>built_year</th><th>sqft</th><th>sqm</th><th>flat_type</th><th>road</th><th>town</th><th>year_of_sale</th><th>month_of_sale</th><th>months_ago</th><th>price</th><th>psf</th><th>band_name</th><th>price_is_geq_one_million</th></tr><tr><td>str</td><td>i64</td><td>i64</td><td>i64</td><td>i64</td><td>i64</td><td>i64</td><td>str</td><td>str</td><td>str</td><td>i64</td><td>i64</td><td>i64</td><td>i64</td><td>f64</td><td>str</td><td>i8</td></tr></thead><tbody><tr><td>&quot;133 GEYLANG EAST AVENUE 1&quot;</td><td>62</td><td>10</td><td>12</td><td>1987</td><td>1550</td><td>144</td><td>&quot;EXECUTIVE&quot;</td><td>&quot;GEYLANG EAST AVENUE 1&quot;</td><td>&quot;GEYLANG&quot;</td><td>2024</td><td>8</td><td>3</td><td>1038000</td><td>66967.74</td><td>&quot;60 - 64&quot;</td><td>1</td></tr></tbody></table></div>"
      ],
      "text/plain": [
       "shape: (1, 17)\n",
       "┌────────────┬────────────┬───────────┬───────────┬───┬─────────┬──────────┬───────────┬───────────┐\n",
       "│ address    ┆ lease_rema ┆ minimum_f ┆ maximum_f ┆ … ┆ price   ┆ psf      ┆ band_name ┆ price_is_ │\n",
       "│ ---        ┆ ining      ┆ loor      ┆ loor      ┆   ┆ ---     ┆ ---      ┆ ---       ┆ geq_one_m │\n",
       "│ str        ┆ ---        ┆ ---       ┆ ---       ┆   ┆ i64     ┆ f64      ┆ str       ┆ illion    │\n",
       "│            ┆ i64        ┆ i64       ┆ i64       ┆   ┆         ┆          ┆           ┆ ---       │\n",
       "│            ┆            ┆           ┆           ┆   ┆         ┆          ┆           ┆ i8        │\n",
       "╞════════════╪════════════╪═══════════╪═══════════╪═══╪═════════╪══════════╪═══════════╪═══════════╡\n",
       "│ 133        ┆ 62         ┆ 10        ┆ 12        ┆ … ┆ 1038000 ┆ 66967.74 ┆ 60 - 64   ┆ 1         │\n",
       "│ GEYLANG    ┆            ┆           ┆           ┆   ┆         ┆          ┆           ┆           │\n",
       "│ EAST       ┆            ┆           ┆           ┆   ┆         ┆          ┆           ┆           │\n",
       "│ AVENUE 1   ┆            ┆           ┆           ┆   ┆         ┆          ┆           ┆           │\n",
       "└────────────┴────────────┴───────────┴───────────┴───┴─────────┴──────────┴───────────┴───────────┘"
      ]
     },
     "metadata": {},
     "output_type": "display_data"
    }
   ],
   "source": [
    "display(df.sample())"
   ]
  },
  {
   "cell_type": "code",
   "execution_count": 5,
   "id": "a6700d72",
   "metadata": {},
   "outputs": [],
   "source": [
    "df_filter = df.select(\n",
    "    (\"flat_type\", \"year_of_sale\", \"month_of_sale\", \"months_ago\", \"price_is_geq_one_million\")\n",
    ")"
   ]
  },
  {
   "cell_type": "code",
   "execution_count": 6,
   "id": "1931d8b0",
   "metadata": {},
   "outputs": [
    {
     "data": {
      "text/html": [
       "<div><style>\n",
       ".dataframe > thead > tr,\n",
       ".dataframe > tbody > tr {\n",
       "  text-align: right;\n",
       "  white-space: pre-wrap;\n",
       "}\n",
       "</style>\n",
       "<small>shape: (1, 5)</small><table border=\"1\" class=\"dataframe\"><thead><tr><th>flat_type</th><th>year_of_sale</th><th>month_of_sale</th><th>months_ago</th><th>price_is_geq_one_million</th></tr><tr><td>str</td><td>i64</td><td>i64</td><td>i64</td><td>i8</td></tr></thead><tbody><tr><td>&quot;4 ROOM&quot;</td><td>2022</td><td>8</td><td>27</td><td>0</td></tr></tbody></table></div>"
      ],
      "text/plain": [
       "shape: (1, 5)\n",
       "┌───────────┬──────────────┬───────────────┬────────────┬──────────────────────────┐\n",
       "│ flat_type ┆ year_of_sale ┆ month_of_sale ┆ months_ago ┆ price_is_geq_one_million │\n",
       "│ ---       ┆ ---          ┆ ---           ┆ ---        ┆ ---                      │\n",
       "│ str       ┆ i64          ┆ i64           ┆ i64        ┆ i8                       │\n",
       "╞═══════════╪══════════════╪═══════════════╪════════════╪══════════════════════════╡\n",
       "│ 4 ROOM    ┆ 2022         ┆ 8             ┆ 27         ┆ 0                        │\n",
       "└───────────┴──────────────┴───────────────┴────────────┴──────────────────────────┘"
      ]
     },
     "metadata": {},
     "output_type": "display_data"
    }
   ],
   "source": [
    "display(df_filter.sample())"
   ]
  },
  {
   "cell_type": "code",
   "execution_count": 7,
   "id": "e0d1e4b8",
   "metadata": {},
   "outputs": [],
   "source": [
    "dm = df_filter.group_by([\"year_of_sale\", \"month_of_sale\", \"months_ago\", \"flat_type\"]).agg(\n",
    "    pl.col(\"flat_type\").len().alias(\"no_of_flats_sold\"),\n",
    "    pl.col(\"price_is_geq_one_million\").sum().alias(\"no_of_million_dollar_flats_sold\"),    \n",
    ")"
   ]
  },
  {
   "cell_type": "code",
   "execution_count": 8,
   "id": "18eee72c",
   "metadata": {
    "scrolled": false
   },
   "outputs": [
    {
     "data": {
      "text/html": [
       "<div><style>\n",
       ".dataframe > thead > tr,\n",
       ".dataframe > tbody > tr {\n",
       "  text-align: right;\n",
       "  white-space: pre-wrap;\n",
       "}\n",
       "</style>\n",
       "<small>shape: (10, 6)</small><table border=\"1\" class=\"dataframe\"><thead><tr><th>year_of_sale</th><th>month_of_sale</th><th>months_ago</th><th>flat_type</th><th>no_of_flats_sold</th><th>no_of_million_dollar_flats_sold</th></tr><tr><td>i64</td><td>i64</td><td>i64</td><td>str</td><td>u32</td><td>i64</td></tr></thead><tbody><tr><td>2024</td><td>11</td><td>0</td><td>&quot;2 ROOM&quot;</td><td>2</td><td>0</td></tr><tr><td>2024</td><td>11</td><td>0</td><td>&quot;1 ROOM&quot;</td><td>1</td><td>0</td></tr><tr><td>2024</td><td>11</td><td>0</td><td>&quot;EXECUTIVE&quot;</td><td>13</td><td>0</td></tr><tr><td>2024</td><td>11</td><td>0</td><td>&quot;3 ROOM&quot;</td><td>47</td><td>0</td></tr><tr><td>2024</td><td>11</td><td>0</td><td>&quot;4 ROOM&quot;</td><td>79</td><td>7</td></tr><tr><td>2024</td><td>11</td><td>0</td><td>&quot;5 ROOM&quot;</td><td>46</td><td>3</td></tr><tr><td>2024</td><td>10</td><td>1</td><td>&quot;3 ROOM&quot;</td><td>571</td><td>0</td></tr><tr><td>2024</td><td>10</td><td>1</td><td>&quot;5 ROOM&quot;</td><td>495</td><td>33</td></tr><tr><td>2024</td><td>10</td><td>1</td><td>&quot;1 ROOM&quot;</td><td>1</td><td>0</td></tr><tr><td>2024</td><td>10</td><td>1</td><td>&quot;EXECUTIVE&quot;</td><td>139</td><td>29</td></tr></tbody></table></div>"
      ],
      "text/plain": [
       "shape: (10, 6)\n",
       "┌──────────────┬───────────────┬────────────┬───────────┬──────────────────┬───────────────────────┐\n",
       "│ year_of_sale ┆ month_of_sale ┆ months_ago ┆ flat_type ┆ no_of_flats_sold ┆ no_of_million_dollar_ │\n",
       "│ ---          ┆ ---           ┆ ---        ┆ ---       ┆ ---              ┆ flats_sol…            │\n",
       "│ i64          ┆ i64           ┆ i64        ┆ str       ┆ u32              ┆ ---                   │\n",
       "│              ┆               ┆            ┆           ┆                  ┆ i64                   │\n",
       "╞══════════════╪═══════════════╪════════════╪═══════════╪══════════════════╪═══════════════════════╡\n",
       "│ 2024         ┆ 11            ┆ 0          ┆ 2 ROOM    ┆ 2                ┆ 0                     │\n",
       "│ 2024         ┆ 11            ┆ 0          ┆ 1 ROOM    ┆ 1                ┆ 0                     │\n",
       "│ 2024         ┆ 11            ┆ 0          ┆ EXECUTIVE ┆ 13               ┆ 0                     │\n",
       "│ 2024         ┆ 11            ┆ 0          ┆ 3 ROOM    ┆ 47               ┆ 0                     │\n",
       "│ 2024         ┆ 11            ┆ 0          ┆ 4 ROOM    ┆ 79               ┆ 7                     │\n",
       "│ 2024         ┆ 11            ┆ 0          ┆ 5 ROOM    ┆ 46               ┆ 3                     │\n",
       "│ 2024         ┆ 10            ┆ 1          ┆ 3 ROOM    ┆ 571              ┆ 0                     │\n",
       "│ 2024         ┆ 10            ┆ 1          ┆ 5 ROOM    ┆ 495              ┆ 33                    │\n",
       "│ 2024         ┆ 10            ┆ 1          ┆ 1 ROOM    ┆ 1                ┆ 0                     │\n",
       "│ 2024         ┆ 10            ┆ 1          ┆ EXECUTIVE ┆ 139              ┆ 29                    │\n",
       "└──────────────┴───────────────┴────────────┴───────────┴──────────────────┴───────────────────────┘"
      ]
     },
     "metadata": {},
     "output_type": "display_data"
    }
   ],
   "source": [
    "display(dm.sort(\n",
    "    \"months_ago\", descending=False\n",
    ").head(10))"
   ]
  },
  {
   "cell_type": "code",
   "execution_count": 9,
   "id": "082685c3",
   "metadata": {},
   "outputs": [
    {
     "data": {
      "text/html": [
       "<div><style>\n",
       ".dataframe > thead > tr,\n",
       ".dataframe > tbody > tr {\n",
       "  text-align: right;\n",
       "  white-space: pre-wrap;\n",
       "}\n",
       "</style>\n",
       "<small>shape: (3, 4)</small><table border=\"1\" class=\"dataframe\"><thead><tr><th>year_of_sale</th><th>number_of_flats_sold</th><th>number_of_million_dollar_flats_sold</th><th>percentage_of_million_dollar_flats_sold</th></tr><tr><td>i64</td><td>u32</td><td>i64</td><td>f64</td></tr></thead><tbody><tr><td>2022</td><td>26720</td><td>369</td><td>0.014</td></tr><tr><td>2023</td><td>25755</td><td>469</td><td>0.018</td></tr><tr><td>2024</td><td>24006</td><td>863</td><td>0.036</td></tr></tbody></table></div>"
      ],
      "text/plain": [
       "shape: (3, 4)\n",
       "┌──────────────┬──────────────────────┬──────────────────────────────┬─────────────────────────────┐\n",
       "│ year_of_sale ┆ number_of_flats_sold ┆ number_of_million_dollar_fla ┆ percentage_of_million_dolla │\n",
       "│ ---          ┆ ---                  ┆ ts…                          ┆ r_f…                        │\n",
       "│ i64          ┆ u32                  ┆ ---                          ┆ ---                         │\n",
       "│              ┆                      ┆ i64                          ┆ f64                         │\n",
       "╞══════════════╪══════════════════════╪══════════════════════════════╪═════════════════════════════╡\n",
       "│ 2022         ┆ 26720                ┆ 369                          ┆ 0.014                       │\n",
       "│ 2023         ┆ 25755                ┆ 469                          ┆ 0.018                       │\n",
       "│ 2024         ┆ 24006                ┆ 863                          ┆ 0.036                       │\n",
       "└──────────────┴──────────────────────┴──────────────────────────────┴─────────────────────────────┘"
      ]
     },
     "metadata": {},
     "output_type": "display_data"
    }
   ],
   "source": [
    "md_sold_per_year = dm.group_by(\"year_of_sale\").agg(\n",
    "    [\n",
    "        pl.col(\"no_of_flats_sold\").sum().alias(\"number_of_flats_sold\"),\n",
    "        pl.col(\"no_of_million_dollar_flats_sold\").sum().alias(\"number_of_million_dollar_flats_sold\"),        \n",
    "    ]\n",
    ")\n",
    "md_sold_per_year = md_sold_per_year.with_columns(\n",
    "    (pl.col(\"number_of_million_dollar_flats_sold\") / pl.col(\"number_of_flats_sold\"))\n",
    "    .round(3).alias(\"percentage_of_million_dollar_flats_sold\")\n",
    ")\n",
    "display(md_sold_per_year.sort(\"year_of_sale\"))"
   ]
  },
  {
   "cell_type": "code",
   "execution_count": 10,
   "id": "b50a42b3",
   "metadata": {},
   "outputs": [
    {
     "name": "stdout",
     "output_type": "stream",
     "text": [
      "shape: (1, 1)\n",
      "┌──────────────────────┐\n",
      "│ number_of_flats_sold │\n",
      "│ ---                  │\n",
      "│ u32                  │\n",
      "╞══════════════════════╡\n",
      "│ 76481                │\n",
      "└──────────────────────┘\n",
      "shape: (1, 1)\n",
      "┌─────────────────────────────────┐\n",
      "│ number_of_million_dollar_flats… │\n",
      "│ ---                             │\n",
      "│ i64                             │\n",
      "╞═════════════════════════════════╡\n",
      "│ 1701                            │\n",
      "└─────────────────────────────────┘\n",
      "shape: (1, 1)\n",
      "┌─────────────────────────────────┐\n",
      "│ number_of_million_dollar_flats… │\n",
      "│ ---                             │\n",
      "│ f64                             │\n",
      "╞═════════════════════════════════╡\n",
      "│ 0.022241                        │\n",
      "└─────────────────────────────────┘\n"
     ]
    }
   ],
   "source": [
    "total_sold = md_sold_per_year.select(\"number_of_flats_sold\").sum()\n",
    "print(total_sold)\n",
    "total_million_dollar_flats_sold = md_sold_per_year.select(\"number_of_million_dollar_flats_sold\").sum()\n",
    "print(total_million_dollar_flats_sold)\n",
    "print(total_million_dollar_flats_sold/total_sold)"
   ]
  },
  {
   "cell_type": "code",
   "execution_count": 11,
   "id": "54bfb736",
   "metadata": {},
   "outputs": [
    {
     "data": {
      "text/html": [
       "<div><style>\n",
       ".dataframe > thead > tr,\n",
       ".dataframe > tbody > tr {\n",
       "  text-align: right;\n",
       "  white-space: pre-wrap;\n",
       "}\n",
       "</style>\n",
       "<small>shape: (3, 5)</small><table border=\"1\" class=\"dataframe\"><thead><tr><th>year_of_sale</th><th>flat_type</th><th>number_of_flats_sold</th><th>number_of_million_dollar_flats_sold</th><th>percentage_of_million_dollar_flats_sold</th></tr><tr><td>i64</td><td>str</td><td>u32</td><td>i64</td><td>f64</td></tr></thead><tbody><tr><td>2022</td><td>&quot;4 ROOM&quot;</td><td>11309</td><td>38</td><td>0.003</td></tr><tr><td>2023</td><td>&quot;4 ROOM&quot;</td><td>11357</td><td>125</td><td>0.011</td></tr><tr><td>2024</td><td>&quot;4 ROOM&quot;</td><td>10282</td><td>302</td><td>0.029</td></tr></tbody></table></div>"
      ],
      "text/plain": [
       "shape: (3, 5)\n",
       "┌──────────────┬───────────┬──────────────────────┬────────────────────────┬───────────────────────┐\n",
       "│ year_of_sale ┆ flat_type ┆ number_of_flats_sold ┆ number_of_million_doll ┆ percentage_of_million │\n",
       "│ ---          ┆ ---       ┆ ---                  ┆ ar_flats…              ┆ _dollar_f…            │\n",
       "│ i64          ┆ str       ┆ u32                  ┆ ---                    ┆ ---                   │\n",
       "│              ┆           ┆                      ┆ i64                    ┆ f64                   │\n",
       "╞══════════════╪═══════════╪══════════════════════╪════════════════════════╪═══════════════════════╡\n",
       "│ 2022         ┆ 4 ROOM    ┆ 11309                ┆ 38                     ┆ 0.003                 │\n",
       "│ 2023         ┆ 4 ROOM    ┆ 11357                ┆ 125                    ┆ 0.011                 │\n",
       "│ 2024         ┆ 4 ROOM    ┆ 10282                ┆ 302                    ┆ 0.029                 │\n",
       "└──────────────┴───────────┴──────────────────────┴────────────────────────┴───────────────────────┘"
      ]
     },
     "metadata": {},
     "output_type": "display_data"
    }
   ],
   "source": [
    "md_sold_per_year_4r = dm.filter(\n",
    "    pl.col(\"flat_type\").eq(\"4 ROOM\")\n",
    ").group_by([\"year_of_sale\", \"flat_type\"]).agg(\n",
    "    [\n",
    "        pl.col(\"no_of_flats_sold\").sum().alias(\"number_of_flats_sold\"),\n",
    "        pl.col(\"no_of_million_dollar_flats_sold\").sum().alias(\"number_of_million_dollar_flats_sold\"),        \n",
    "    ]\n",
    ")\n",
    "md_sold_per_year_4r = md_sold_per_year_4r.with_columns(\n",
    "    (pl.col(\"number_of_million_dollar_flats_sold\") / pl.col(\"number_of_flats_sold\"))\n",
    "    .round(3).alias(\"percentage_of_million_dollar_flats_sold\")\n",
    ")\n",
    "display(md_sold_per_year_4r.sort(\"year_of_sale\"))"
   ]
  },
  {
   "cell_type": "code",
   "execution_count": 12,
   "id": "a4366229",
   "metadata": {},
   "outputs": [
    {
     "name": "stdout",
     "output_type": "stream",
     "text": [
      "shape: (1, 1)\n",
      "┌──────────────────────┐\n",
      "│ number_of_flats_sold │\n",
      "│ ---                  │\n",
      "│ u32                  │\n",
      "╞══════════════════════╡\n",
      "│ 32948                │\n",
      "└──────────────────────┘\n",
      "shape: (1, 1)\n",
      "┌─────────────────────────────────┐\n",
      "│ number_of_million_dollar_flats… │\n",
      "│ ---                             │\n",
      "│ i64                             │\n",
      "╞═════════════════════════════════╡\n",
      "│ 465                             │\n",
      "└─────────────────────────────────┘\n",
      "shape: (1, 1)\n",
      "┌─────────────────────────────────┐\n",
      "│ number_of_million_dollar_flats… │\n",
      "│ ---                             │\n",
      "│ f64                             │\n",
      "╞═════════════════════════════════╡\n",
      "│ 0.014113                        │\n",
      "└─────────────────────────────────┘\n"
     ]
    }
   ],
   "source": [
    "total_sold = md_sold_per_year_4r.select(\"number_of_flats_sold\").sum()\n",
    "print(total_sold)\n",
    "total_million_dollar_flats_sold = md_sold_per_year_4r.select(\"number_of_million_dollar_flats_sold\").sum()\n",
    "print(total_million_dollar_flats_sold)\n",
    "print(total_million_dollar_flats_sold/total_sold)"
   ]
  },
  {
   "cell_type": "code",
   "execution_count": null,
   "id": "09005bcf",
   "metadata": {},
   "outputs": [],
   "source": []
  }
 ],
 "metadata": {
  "kernelspec": {
   "display_name": "Python 3 (ipykernel)",
   "language": "python",
   "name": "python3"
  },
  "language_info": {
   "codemirror_mode": {
    "name": "ipython",
    "version": 3
   },
   "file_extension": ".py",
   "mimetype": "text/x-python",
   "name": "python",
   "nbconvert_exporter": "python",
   "pygments_lexer": "ipython3",
   "version": "3.10.13"
  }
 },
 "nbformat": 4,
 "nbformat_minor": 5
}
