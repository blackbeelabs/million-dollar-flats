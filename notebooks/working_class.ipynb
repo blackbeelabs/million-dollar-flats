{
 "cells": [
  {
   "cell_type": "code",
   "execution_count": 1,
   "id": "11db01a2",
   "metadata": {},
   "outputs": [
    {
     "data": {
      "text/plain": [
       "polars.config.Config"
      ]
     },
     "execution_count": 1,
     "metadata": {},
     "output_type": "execute_result"
    }
   ],
   "source": [
    "import polars as pl\n",
    "pl.Config.set_tbl_rows(300) "
   ]
  },
  {
   "cell_type": "code",
   "execution_count": 2,
   "id": "3f3f96b1",
   "metadata": {},
   "outputs": [],
   "source": [
    "df = pl.read_csv(\"ingested.csv\")"
   ]
  },
  {
   "cell_type": "code",
   "execution_count": 3,
   "id": "a4e2215d",
   "metadata": {},
   "outputs": [],
   "source": [
    "df = df.with_columns(\n",
    "    (1_000_000 <= pl.col(\"price\")).cast(pl.Int8).alias(\"price_is_geq_one_million\")\n",
    ")"
   ]
  },
  {
   "cell_type": "code",
   "execution_count": 4,
   "id": "30413fab",
   "metadata": {},
   "outputs": [
    {
     "data": {
      "text/html": [
       "<div><style>\n",
       ".dataframe > thead > tr,\n",
       ".dataframe > tbody > tr {\n",
       "  text-align: right;\n",
       "  white-space: pre-wrap;\n",
       "}\n",
       "</style>\n",
       "<small>shape: (1, 17)</small><table border=\"1\" class=\"dataframe\"><thead><tr><th>address</th><th>lease_remaining</th><th>minimum_floor</th><th>maximum_floor</th><th>built_year</th><th>sqft</th><th>sqm</th><th>flat_type</th><th>road</th><th>town</th><th>year_of_sale</th><th>month_of_sale</th><th>months_ago</th><th>price</th><th>psf</th><th>band_name</th><th>price_is_geq_one_million</th></tr><tr><td>str</td><td>i64</td><td>i64</td><td>i64</td><td>i64</td><td>i64</td><td>i64</td><td>str</td><td>str</td><td>str</td><td>i64</td><td>i64</td><td>i64</td><td>i64</td><td>f64</td><td>str</td><td>i8</td></tr></thead><tbody><tr><td>&quot;432 CHOA CHU KANG AVENUE 4&quot;</td><td>68</td><td>1</td><td>3</td><td>1993</td><td>1119</td><td>104</td><td>&quot;4 ROOM&quot;</td><td>&quot;CHOA CHU KANG AVENUE 4&quot;</td><td>&quot;CHOA CHU KANG&quot;</td><td>2022</td><td>9</td><td>26</td><td>480000</td><td>42895.44</td><td>&quot;65 - 69&quot;</td><td>0</td></tr></tbody></table></div>"
      ],
      "text/plain": [
       "shape: (1, 17)\n",
       "┌────────────┬────────────┬────────────┬───────────┬───┬────────┬──────────┬───────────┬───────────┐\n",
       "│ address    ┆ lease_rema ┆ minimum_fl ┆ maximum_f ┆ … ┆ price  ┆ psf      ┆ band_name ┆ price_is_ │\n",
       "│ ---        ┆ ining      ┆ oor        ┆ loor      ┆   ┆ ---    ┆ ---      ┆ ---       ┆ geq_one_m │\n",
       "│ str        ┆ ---        ┆ ---        ┆ ---       ┆   ┆ i64    ┆ f64      ┆ str       ┆ illion    │\n",
       "│            ┆ i64        ┆ i64        ┆ i64       ┆   ┆        ┆          ┆           ┆ ---       │\n",
       "│            ┆            ┆            ┆           ┆   ┆        ┆          ┆           ┆ i8        │\n",
       "╞════════════╪════════════╪════════════╪═══════════╪═══╪════════╪══════════╪═══════════╪═══════════╡\n",
       "│ 432 CHOA   ┆ 68         ┆ 1          ┆ 3         ┆ … ┆ 480000 ┆ 42895.44 ┆ 65 - 69   ┆ 0         │\n",
       "│ CHU KANG   ┆            ┆            ┆           ┆   ┆        ┆          ┆           ┆           │\n",
       "│ AVENUE 4   ┆            ┆            ┆           ┆   ┆        ┆          ┆           ┆           │\n",
       "└────────────┴────────────┴────────────┴───────────┴───┴────────┴──────────┴───────────┴───────────┘"
      ]
     },
     "metadata": {},
     "output_type": "display_data"
    }
   ],
   "source": [
    "display(df.sample())"
   ]
  },
  {
   "cell_type": "code",
   "execution_count": 5,
   "id": "a3ff62b9",
   "metadata": {},
   "outputs": [
    {
     "data": {
      "text/html": [
       "<div><style>\n",
       ".dataframe > thead > tr,\n",
       ".dataframe > tbody > tr {\n",
       "  text-align: right;\n",
       "  white-space: pre-wrap;\n",
       "}\n",
       "</style>\n",
       "<small>shape: (7, 2)</small><table border=\"1\" class=\"dataframe\"><thead><tr><th>flat_type</th><th>no_of_units_sold</th></tr><tr><td>str</td><td>u32</td></tr></thead><tbody><tr><td>&quot;1 ROOM&quot;</td><td>24</td></tr><tr><td>&quot;2 ROOM&quot;</td><td>1835</td></tr><tr><td>&quot;3 ROOM&quot;</td><td>18595</td></tr><tr><td>&quot;4 ROOM&quot;</td><td>32948</td></tr><tr><td>&quot;5 ROOM&quot;</td><td>18138</td></tr><tr><td>&quot;EXECUTIVE&quot;</td><td>4921</td></tr><tr><td>&quot;MULTI-GENERATION&quot;</td><td>20</td></tr></tbody></table></div>"
      ],
      "text/plain": [
       "shape: (7, 2)\n",
       "┌──────────────────┬──────────────────┐\n",
       "│ flat_type        ┆ no_of_units_sold │\n",
       "│ ---              ┆ ---              │\n",
       "│ str              ┆ u32              │\n",
       "╞══════════════════╪══════════════════╡\n",
       "│ 1 ROOM           ┆ 24               │\n",
       "│ 2 ROOM           ┆ 1835             │\n",
       "│ 3 ROOM           ┆ 18595            │\n",
       "│ 4 ROOM           ┆ 32948            │\n",
       "│ 5 ROOM           ┆ 18138            │\n",
       "│ EXECUTIVE        ┆ 4921             │\n",
       "│ MULTI-GENERATION ┆ 20               │\n",
       "└──────────────────┴──────────────────┘"
      ]
     },
     "execution_count": 5,
     "metadata": {},
     "output_type": "execute_result"
    }
   ],
   "source": [
    "df.group_by(\"flat_type\").agg(\n",
    "    pl.col(\"flat_type\").len().alias(\"no_of_units_sold\")\n",
    ").sort(\"flat_type\")"
   ]
  },
  {
   "cell_type": "code",
   "execution_count": 6,
   "id": "a6700d72",
   "metadata": {},
   "outputs": [],
   "source": [
    "df_filter = df.select(\n",
    "    [\"flat_type\", \"year_of_sale\", \"month_of_sale\", \"months_ago\", \"price_is_geq_one_million\"]\n",
    ")\n",
    "df_filter = df_filter.filter(\n",
    "    pl.col(\"flat_type\").is_in([\"3 ROOM\", \"4 ROOM\", \"5 ROOM\", \"EXECUTIVE\", \"MULTI-GENERATION\"])\n",
    ")"
   ]
  },
  {
   "cell_type": "code",
   "execution_count": 7,
   "id": "9a6eaf52",
   "metadata": {},
   "outputs": [
    {
     "data": {
      "text/html": [
       "<div><style>\n",
       ".dataframe > thead > tr,\n",
       ".dataframe > tbody > tr {\n",
       "  text-align: right;\n",
       "  white-space: pre-wrap;\n",
       "}\n",
       "</style>\n",
       "<small>shape: (1, 5)</small><table border=\"1\" class=\"dataframe\"><thead><tr><th>flat_type</th><th>year_of_sale</th><th>month_of_sale</th><th>months_ago</th><th>price_is_geq_one_million</th></tr><tr><td>str</td><td>i64</td><td>i64</td><td>i64</td><td>i8</td></tr></thead><tbody><tr><td>&quot;3 ROOM&quot;</td><td>2023</td><td>1</td><td>22</td><td>0</td></tr></tbody></table></div>"
      ],
      "text/plain": [
       "shape: (1, 5)\n",
       "┌───────────┬──────────────┬───────────────┬────────────┬──────────────────────────┐\n",
       "│ flat_type ┆ year_of_sale ┆ month_of_sale ┆ months_ago ┆ price_is_geq_one_million │\n",
       "│ ---       ┆ ---          ┆ ---           ┆ ---        ┆ ---                      │\n",
       "│ str       ┆ i64          ┆ i64           ┆ i64        ┆ i8                       │\n",
       "╞═══════════╪══════════════╪═══════════════╪════════════╪══════════════════════════╡\n",
       "│ 3 ROOM    ┆ 2023         ┆ 1             ┆ 22         ┆ 0                        │\n",
       "└───────────┴──────────────┴───────────────┴────────────┴──────────────────────────┘"
      ]
     },
     "execution_count": 7,
     "metadata": {},
     "output_type": "execute_result"
    }
   ],
   "source": [
    "df_filter.sample()"
   ]
  },
  {
   "cell_type": "code",
   "execution_count": 8,
   "id": "1931d8b0",
   "metadata": {},
   "outputs": [
    {
     "data": {
      "text/html": [
       "<div><style>\n",
       ".dataframe > thead > tr,\n",
       ".dataframe > tbody > tr {\n",
       "  text-align: right;\n",
       "  white-space: pre-wrap;\n",
       "}\n",
       "</style>\n",
       "<small>shape: (5, 2)</small><table border=\"1\" class=\"dataframe\"><thead><tr><th>flat_type</th><th>months_ago</th></tr><tr><td>str</td><td>u32</td></tr></thead><tbody><tr><td>&quot;3 ROOM&quot;</td><td>18595</td></tr><tr><td>&quot;4 ROOM&quot;</td><td>32948</td></tr><tr><td>&quot;5 ROOM&quot;</td><td>18138</td></tr><tr><td>&quot;EXECUTIVE&quot;</td><td>4921</td></tr><tr><td>&quot;MULTI-GENERATION&quot;</td><td>20</td></tr></tbody></table></div>"
      ],
      "text/plain": [
       "shape: (5, 2)\n",
       "┌──────────────────┬────────────┐\n",
       "│ flat_type        ┆ months_ago │\n",
       "│ ---              ┆ ---        │\n",
       "│ str              ┆ u32        │\n",
       "╞══════════════════╪════════════╡\n",
       "│ 3 ROOM           ┆ 18595      │\n",
       "│ 4 ROOM           ┆ 32948      │\n",
       "│ 5 ROOM           ┆ 18138      │\n",
       "│ EXECUTIVE        ┆ 4921       │\n",
       "│ MULTI-GENERATION ┆ 20         │\n",
       "└──────────────────┴────────────┘"
      ]
     },
     "execution_count": 8,
     "metadata": {},
     "output_type": "execute_result"
    }
   ],
   "source": [
    "df_filter.group_by(\"flat_type\").agg(\n",
    "    pl.col(\"months_ago\").len()\n",
    ").sort(\"flat_type\")"
   ]
  },
  {
   "cell_type": "code",
   "execution_count": 9,
   "id": "e0d1e4b8",
   "metadata": {},
   "outputs": [],
   "source": [
    "dm = df_filter.group_by([\"year_of_sale\", \"month_of_sale\", \"months_ago\", \"flat_type\"]).agg(\n",
    "    pl.col(\"flat_type\").len().alias(\"no_of_flats_sold\"),\n",
    "    pl.col(\"price_is_geq_one_million\").sum().alias(\"no_of_million_dollar_flats_sold\"),    \n",
    ")"
   ]
  },
  {
   "cell_type": "code",
   "execution_count": 10,
   "id": "18eee72c",
   "metadata": {
    "scrolled": false
   },
   "outputs": [
    {
     "data": {
      "text/html": [
       "<div><style>\n",
       ".dataframe > thead > tr,\n",
       ".dataframe > tbody > tr {\n",
       "  text-align: right;\n",
       "  white-space: pre-wrap;\n",
       "}\n",
       "</style>\n",
       "<small>shape: (12, 6)</small><table border=\"1\" class=\"dataframe\"><thead><tr><th>year_of_sale</th><th>month_of_sale</th><th>months_ago</th><th>flat_type</th><th>no_of_flats_sold</th><th>no_of_million_dollar_flats_sold</th></tr><tr><td>i64</td><td>i64</td><td>i64</td><td>str</td><td>u32</td><td>i64</td></tr></thead><tbody><tr><td>2024</td><td>11</td><td>0</td><td>&quot;3 ROOM&quot;</td><td>47</td><td>0</td></tr><tr><td>2024</td><td>11</td><td>0</td><td>&quot;4 ROOM&quot;</td><td>79</td><td>7</td></tr><tr><td>2024</td><td>11</td><td>0</td><td>&quot;5 ROOM&quot;</td><td>46</td><td>3</td></tr><tr><td>2024</td><td>11</td><td>0</td><td>&quot;EXECUTIVE&quot;</td><td>13</td><td>0</td></tr><tr><td>2024</td><td>10</td><td>1</td><td>&quot;3 ROOM&quot;</td><td>571</td><td>0</td></tr><tr><td>2024</td><td>10</td><td>1</td><td>&quot;4 ROOM&quot;</td><td>897</td><td>41</td></tr><tr><td>2024</td><td>10</td><td>1</td><td>&quot;5 ROOM&quot;</td><td>495</td><td>33</td></tr><tr><td>2024</td><td>10</td><td>1</td><td>&quot;EXECUTIVE&quot;</td><td>139</td><td>29</td></tr><tr><td>2024</td><td>9</td><td>2</td><td>&quot;3 ROOM&quot;</td><td>554</td><td>0</td></tr><tr><td>2024</td><td>9</td><td>2</td><td>&quot;4 ROOM&quot;</td><td>926</td><td>42</td></tr><tr><td>2024</td><td>9</td><td>2</td><td>&quot;5 ROOM&quot;</td><td>527</td><td>39</td></tr><tr><td>2024</td><td>9</td><td>2</td><td>&quot;EXECUTIVE&quot;</td><td>142</td><td>25</td></tr></tbody></table></div>"
      ],
      "text/plain": [
       "shape: (12, 6)\n",
       "┌──────────────┬───────────────┬────────────┬───────────┬──────────────────┬───────────────────────┐\n",
       "│ year_of_sale ┆ month_of_sale ┆ months_ago ┆ flat_type ┆ no_of_flats_sold ┆ no_of_million_dollar_ │\n",
       "│ ---          ┆ ---           ┆ ---        ┆ ---       ┆ ---              ┆ flats_sol…            │\n",
       "│ i64          ┆ i64           ┆ i64        ┆ str       ┆ u32              ┆ ---                   │\n",
       "│              ┆               ┆            ┆           ┆                  ┆ i64                   │\n",
       "╞══════════════╪═══════════════╪════════════╪═══════════╪══════════════════╪═══════════════════════╡\n",
       "│ 2024         ┆ 11            ┆ 0          ┆ 3 ROOM    ┆ 47               ┆ 0                     │\n",
       "│ 2024         ┆ 11            ┆ 0          ┆ 4 ROOM    ┆ 79               ┆ 7                     │\n",
       "│ 2024         ┆ 11            ┆ 0          ┆ 5 ROOM    ┆ 46               ┆ 3                     │\n",
       "│ 2024         ┆ 11            ┆ 0          ┆ EXECUTIVE ┆ 13               ┆ 0                     │\n",
       "│ 2024         ┆ 10            ┆ 1          ┆ 3 ROOM    ┆ 571              ┆ 0                     │\n",
       "│ 2024         ┆ 10            ┆ 1          ┆ 4 ROOM    ┆ 897              ┆ 41                    │\n",
       "│ 2024         ┆ 10            ┆ 1          ┆ 5 ROOM    ┆ 495              ┆ 33                    │\n",
       "│ 2024         ┆ 10            ┆ 1          ┆ EXECUTIVE ┆ 139              ┆ 29                    │\n",
       "│ 2024         ┆ 9             ┆ 2          ┆ 3 ROOM    ┆ 554              ┆ 0                     │\n",
       "│ 2024         ┆ 9             ┆ 2          ┆ 4 ROOM    ┆ 926              ┆ 42                    │\n",
       "│ 2024         ┆ 9             ┆ 2          ┆ 5 ROOM    ┆ 527              ┆ 39                    │\n",
       "│ 2024         ┆ 9             ┆ 2          ┆ EXECUTIVE ┆ 142              ┆ 25                    │\n",
       "└──────────────┴───────────────┴────────────┴───────────┴──────────────────┴───────────────────────┘"
      ]
     },
     "metadata": {},
     "output_type": "display_data"
    }
   ],
   "source": [
    "display(dm.sort(\n",
    "    [pl.col(\"months_ago\"), pl.col(\"flat_type\")], descending=(False, False)\n",
    ").head(12))"
   ]
  },
  {
   "cell_type": "code",
   "execution_count": 11,
   "id": "082685c3",
   "metadata": {},
   "outputs": [
    {
     "data": {
      "text/html": [
       "<div><style>\n",
       ".dataframe > thead > tr,\n",
       ".dataframe > tbody > tr {\n",
       "  text-align: right;\n",
       "  white-space: pre-wrap;\n",
       "}\n",
       "</style>\n",
       "<small>shape: (3, 4)</small><table border=\"1\" class=\"dataframe\"><thead><tr><th>year_of_sale</th><th>number_of_flats_sold</th><th>number_of_million_dollar_flats_sold</th><th>percentage_of_million_dollar_flats_sold</th></tr><tr><td>i64</td><td>u32</td><td>i64</td><td>f64</td></tr></thead><tbody><tr><td>2022</td><td>26254</td><td>369</td><td>0.014</td></tr><tr><td>2023</td><td>25061</td><td>469</td><td>0.019</td></tr><tr><td>2024</td><td>23307</td><td>863</td><td>0.037</td></tr></tbody></table></div>"
      ],
      "text/plain": [
       "shape: (3, 4)\n",
       "┌──────────────┬──────────────────────┬──────────────────────────────┬─────────────────────────────┐\n",
       "│ year_of_sale ┆ number_of_flats_sold ┆ number_of_million_dollar_fla ┆ percentage_of_million_dolla │\n",
       "│ ---          ┆ ---                  ┆ ts…                          ┆ r_f…                        │\n",
       "│ i64          ┆ u32                  ┆ ---                          ┆ ---                         │\n",
       "│              ┆                      ┆ i64                          ┆ f64                         │\n",
       "╞══════════════╪══════════════════════╪══════════════════════════════╪═════════════════════════════╡\n",
       "│ 2022         ┆ 26254                ┆ 369                          ┆ 0.014                       │\n",
       "│ 2023         ┆ 25061                ┆ 469                          ┆ 0.019                       │\n",
       "│ 2024         ┆ 23307                ┆ 863                          ┆ 0.037                       │\n",
       "└──────────────┴──────────────────────┴──────────────────────────────┴─────────────────────────────┘"
      ]
     },
     "metadata": {},
     "output_type": "display_data"
    }
   ],
   "source": [
    "md_sold_per_year = dm.group_by(\"year_of_sale\").agg(\n",
    "    [\n",
    "        pl.col(\"no_of_flats_sold\").sum().alias(\"number_of_flats_sold\"),\n",
    "        pl.col(\"no_of_million_dollar_flats_sold\").sum().alias(\"number_of_million_dollar_flats_sold\"),        \n",
    "    ]\n",
    ")\n",
    "md_sold_per_year = md_sold_per_year.with_columns(\n",
    "    (pl.col(\"number_of_million_dollar_flats_sold\") / pl.col(\"number_of_flats_sold\"))\n",
    "    .round(3).alias(\"percentage_of_million_dollar_flats_sold\")\n",
    ")\n",
    "display(md_sold_per_year.sort(\"year_of_sale\"))"
   ]
  },
  {
   "cell_type": "code",
   "execution_count": 12,
   "id": "b50a42b3",
   "metadata": {},
   "outputs": [
    {
     "name": "stdout",
     "output_type": "stream",
     "text": [
      "shape: (1, 1)\n",
      "┌──────────────────────┐\n",
      "│ number_of_flats_sold │\n",
      "│ ---                  │\n",
      "│ u32                  │\n",
      "╞══════════════════════╡\n",
      "│ 74622                │\n",
      "└──────────────────────┘\n",
      "shape: (1, 1)\n",
      "┌─────────────────────────────────┐\n",
      "│ number_of_million_dollar_flats… │\n",
      "│ ---                             │\n",
      "│ i64                             │\n",
      "╞═════════════════════════════════╡\n",
      "│ 1701                            │\n",
      "└─────────────────────────────────┘\n",
      "shape: (1, 1)\n",
      "┌─────────────────────────────────┐\n",
      "│ number_of_million_dollar_flats… │\n",
      "│ ---                             │\n",
      "│ f64                             │\n",
      "╞═════════════════════════════════╡\n",
      "│ 0.022795                        │\n",
      "└─────────────────────────────────┘\n"
     ]
    }
   ],
   "source": [
    "total_sold = md_sold_per_year.select(\"number_of_flats_sold\").sum()\n",
    "print(total_sold)\n",
    "total_million_dollar_flats_sold = md_sold_per_year.select(\"number_of_million_dollar_flats_sold\").sum()\n",
    "print(total_million_dollar_flats_sold)\n",
    "print(total_million_dollar_flats_sold/total_sold)"
   ]
  },
  {
   "cell_type": "code",
   "execution_count": 13,
   "id": "d2f81c48",
   "metadata": {
    "scrolled": false
   },
   "outputs": [],
   "source": [
    "df_mil = df.filter(\n",
    "    pl.col(\"price_is_geq_one_million\").eq(1)\n",
    ").select(\n",
    "    [\"address\", \"lease_remaining\", \"flat_type\", \"sqft\", \"price\", \"year_of_sale\", \"months_ago\"]\n",
    ").sample(150)\n",
    "df_mil = df_mil.with_columns(\n",
    "    (pl.col(\"price\") / pl.col(\"sqft\")).round(0).alias(\"psf\")\n",
    ")"
   ]
  },
  {
   "cell_type": "code",
   "execution_count": 14,
   "id": "e082fb47",
   "metadata": {
    "scrolled": false
   },
   "outputs": [
    {
     "data": {
      "text/html": [
       "<div><style>\n",
       ".dataframe > thead > tr,\n",
       ".dataframe > tbody > tr {\n",
       "  text-align: right;\n",
       "  white-space: pre-wrap;\n",
       "}\n",
       "</style>\n",
       "<small>shape: (150, 8)</small><table border=\"1\" class=\"dataframe\"><thead><tr><th>address</th><th>lease_remaining</th><th>flat_type</th><th>sqft</th><th>price</th><th>year_of_sale</th><th>months_ago</th><th>psf</th></tr><tr><td>str</td><td>i64</td><td>str</td><td>i64</td><td>i64</td><td>i64</td><td>i64</td><td>f64</td></tr></thead><tbody><tr><td>&quot;1B CANTONMENT ROAD&quot;</td><td>86</td><td>&quot;4 ROOM&quot;</td><td>1011</td><td>1410000</td><td>2023</td><td>15</td><td>1395.0</td></tr><tr><td>&quot;1G CANTONMENT ROAD&quot;</td><td>86</td><td>&quot;4 ROOM&quot;</td><td>1011</td><td>1365000</td><td>2024</td><td>5</td><td>1350.0</td></tr><tr><td>&quot;1C CANTONMENT ROAD&quot;</td><td>86</td><td>&quot;4 ROOM&quot;</td><td>1001</td><td>1325000</td><td>2024</td><td>1</td><td>1324.0</td></tr><tr><td>&quot;1A CANTONMENT ROAD&quot;</td><td>86</td><td>&quot;5 ROOM&quot;</td><td>1130</td><td>1435000</td><td>2024</td><td>2</td><td>1270.0</td></tr><tr><td>&quot;1B CANTONMENT ROAD&quot;</td><td>86</td><td>&quot;4 ROOM&quot;</td><td>1001</td><td>1248888</td><td>2024</td><td>6</td><td>1248.0</td></tr><tr><td>&quot;139A LORONG 1A TOA PAYOH&quot;</td><td>87</td><td>&quot;5 ROOM&quot;</td><td>1259</td><td>1568888</td><td>2024</td><td>10</td><td>1246.0</td></tr><tr><td>&quot;8B UPPER BOON KENG ROAD&quot;</td><td>92</td><td>&quot;4 ROOM&quot;</td><td>1054</td><td>1300888</td><td>2023</td><td>13</td><td>1234.0</td></tr><tr><td>&quot;1G CANTONMENT ROAD&quot;</td><td>86</td><td>&quot;5 ROOM&quot;</td><td>1140</td><td>1400000</td><td>2023</td><td>20</td><td>1228.0</td></tr><tr><td>&quot;9A BOON TIONG ROAD&quot;</td><td>91</td><td>&quot;5 ROOM&quot;</td><td>1205</td><td>1450000</td><td>2024</td><td>8</td><td>1203.0</td></tr><tr><td>&quot;130A LORONG 1 TOA PAYOH&quot;</td><td>93</td><td>&quot;4 ROOM&quot;</td><td>1001</td><td>1200888</td><td>2024</td><td>2</td><td>1200.0</td></tr><tr><td>&quot;1E CANTONMENT ROAD&quot;</td><td>86</td><td>&quot;5 ROOM&quot;</td><td>1151</td><td>1380000</td><td>2023</td><td>20</td><td>1199.0</td></tr><tr><td>&quot;95C HENDERSON ROAD&quot;</td><td>94</td><td>&quot;4 ROOM&quot;</td><td>1001</td><td>1200000</td><td>2024</td><td>5</td><td>1199.0</td></tr><tr><td>&quot;1G CANTONMENT ROAD&quot;</td><td>86</td><td>&quot;4 ROOM&quot;</td><td>1001</td><td>1200000</td><td>2022</td><td>28</td><td>1199.0</td></tr><tr><td>&quot;1F CANTONMENT ROAD&quot;</td><td>86</td><td>&quot;4 ROOM&quot;</td><td>1022</td><td>1210000</td><td>2022</td><td>32</td><td>1184.0</td></tr><tr><td>&quot;18A HOLLAND DRIVE&quot;</td><td>87</td><td>&quot;4 ROOM&quot;</td><td>990</td><td>1150000</td><td>2023</td><td>13</td><td>1162.0</td></tr><tr><td>&quot;88 DAWSON ROAD&quot;</td><td>91</td><td>&quot;5 ROOM&quot;</td><td>1119</td><td>1270000</td><td>2024</td><td>4</td><td>1135.0</td></tr><tr><td>&quot;273B BISHAN STREET 24&quot;</td><td>86</td><td>&quot;5 ROOM&quot;</td><td>1291</td><td>1458000</td><td>2024</td><td>10</td><td>1129.0</td></tr><tr><td>&quot;1C CANTONMENT ROAD&quot;</td><td>86</td><td>&quot;4 ROOM&quot;</td><td>1001</td><td>1130000</td><td>2022</td><td>29</td><td>1129.0</td></tr><tr><td>&quot;96A HENDERSON ROAD&quot;</td><td>94</td><td>&quot;4 ROOM&quot;</td><td>893</td><td>1000000</td><td>2024</td><td>3</td><td>1120.0</td></tr><tr><td>&quot;1C CANTONMENT ROAD&quot;</td><td>86</td><td>&quot;4 ROOM&quot;</td><td>1011</td><td>1130000</td><td>2024</td><td>9</td><td>1118.0</td></tr><tr><td>&quot;139A LORONG 1A TOA PAYOH&quot;</td><td>87</td><td>&quot;5 ROOM&quot;</td><td>1259</td><td>1400000</td><td>2024</td><td>7</td><td>1112.0</td></tr><tr><td>&quot;92 DAWSON ROAD&quot;</td><td>91</td><td>&quot;4 ROOM&quot;</td><td>1022</td><td>1130000</td><td>2023</td><td>20</td><td>1106.0</td></tr><tr><td>&quot;9 BOON KENG ROAD&quot;</td><td>86</td><td>&quot;5 ROOM&quot;</td><td>1259</td><td>1390000</td><td>2024</td><td>1</td><td>1104.0</td></tr><tr><td>&quot;106A BIDADARI PARK DRIVE&quot;</td><td>95</td><td>&quot;4 ROOM&quot;</td><td>1011</td><td>1110000</td><td>2024</td><td>0</td><td>1098.0</td></tr><tr><td>&quot;8C UPPER BOON KENG ROAD&quot;</td><td>92</td><td>&quot;5 ROOM&quot;</td><td>1216</td><td>1330000</td><td>2024</td><td>2</td><td>1094.0</td></tr><tr><td>&quot;88 DAWSON ROAD&quot;</td><td>91</td><td>&quot;5 ROOM&quot;</td><td>1162</td><td>1270000</td><td>2022</td><td>25</td><td>1093.0</td></tr><tr><td>&quot;7 BOON KENG ROAD&quot;</td><td>86</td><td>&quot;5 ROOM&quot;</td><td>1173</td><td>1280000</td><td>2022</td><td>26</td><td>1091.0</td></tr><tr><td>&quot;7 BOON KENG ROAD&quot;</td><td>86</td><td>&quot;5 ROOM&quot;</td><td>1151</td><td>1250000</td><td>2024</td><td>3</td><td>1086.0</td></tr><tr><td>&quot;273A BISHAN STREET 24&quot;</td><td>86</td><td>&quot;5 ROOM&quot;</td><td>1291</td><td>1400000</td><td>2023</td><td>17</td><td>1084.0</td></tr><tr><td>&quot;82B CIRCUIT ROAD&quot;</td><td>95</td><td>&quot;4 ROOM&quot;</td><td>1001</td><td>1080000</td><td>2024</td><td>5</td><td>1079.0</td></tr><tr><td>&quot;10C BENDEMEER ROAD&quot;</td><td>92</td><td>&quot;4 ROOM&quot;</td><td>1001</td><td>1075000</td><td>2023</td><td>11</td><td>1074.0</td></tr><tr><td>&quot;93B TELOK BLANGAH STREET 31&quot;</td><td>93</td><td>&quot;4 ROOM&quot;</td><td>1001</td><td>1068888</td><td>2024</td><td>2</td><td>1068.0</td></tr><tr><td>&quot;138A LORONG 1A TOA PAYOH&quot;</td><td>87</td><td>&quot;4 ROOM&quot;</td><td>979</td><td>1045000</td><td>2023</td><td>14</td><td>1067.0</td></tr><tr><td>&quot;311C CLEMENTI AVENUE 4&quot;</td><td>89</td><td>&quot;5 ROOM&quot;</td><td>1130</td><td>1200000</td><td>2023</td><td>17</td><td>1062.0</td></tr><tr><td>&quot;440C CLEMENTI AVENUE 3&quot;</td><td>93</td><td>&quot;5 ROOM&quot;</td><td>1205</td><td>1280000</td><td>2023</td><td>14</td><td>1062.0</td></tr><tr><td>&quot;29 GHIM MOH LINK&quot;</td><td>93</td><td>&quot;4 ROOM&quot;</td><td>1001</td><td>1060888</td><td>2024</td><td>1</td><td>1060.0</td></tr><tr><td>&quot;26B SAINT GEORGE&#x27;S LANE&quot;</td><td>95</td><td>&quot;4 ROOM&quot;</td><td>990</td><td>1042000</td><td>2024</td><td>1</td><td>1053.0</td></tr><tr><td>&quot;25A SAINT GEORGE&#x27;S LANE&quot;</td><td>95</td><td>&quot;4 ROOM&quot;</td><td>990</td><td>1042888</td><td>2024</td><td>7</td><td>1053.0</td></tr><tr><td>&quot;79A TOA PAYOH CENTRAL&quot;</td><td>84</td><td>&quot;4 ROOM&quot;</td><td>979</td><td>1018888</td><td>2024</td><td>1</td><td>1041.0</td></tr><tr><td>&quot;106A BIDADARI PARK DRIVE&quot;</td><td>95</td><td>&quot;4 ROOM&quot;</td><td>1011</td><td>1050000</td><td>2024</td><td>1</td><td>1039.0</td></tr><tr><td>&quot;273A BISHAN STREET 24&quot;</td><td>86</td><td>&quot;5 ROOM&quot;</td><td>1291</td><td>1338888</td><td>2022</td><td>34</td><td>1037.0</td></tr><tr><td>&quot;312C CLEMENTI AVENUE 4&quot;</td><td>92</td><td>&quot;5 ROOM&quot;</td><td>1216</td><td>1250000</td><td>2023</td><td>13</td><td>1028.0</td></tr><tr><td>&quot;311A CLEMENTI AVENUE 4&quot;</td><td>89</td><td>&quot;5 ROOM&quot;</td><td>1130</td><td>1160000</td><td>2023</td><td>13</td><td>1027.0</td></tr><tr><td>&quot;441A CLEMENTI AVENUE 3&quot;</td><td>87</td><td>&quot;5 ROOM&quot;</td><td>1248</td><td>1280000</td><td>2023</td><td>22</td><td>1026.0</td></tr><tr><td>&quot;591A ANG MO KIO STREET 51&quot;</td><td>94</td><td>&quot;4 ROOM&quot;</td><td>1001</td><td>1025000</td><td>2024</td><td>1</td><td>1024.0</td></tr><tr><td>&quot;312B CLEMENTI AVENUE 4&quot;</td><td>92</td><td>&quot;5 ROOM&quot;</td><td>1216</td><td>1240000</td><td>2024</td><td>10</td><td>1020.0</td></tr><tr><td>&quot;138C LORONG 1A TOA PAYOH&quot;</td><td>87</td><td>&quot;5 ROOM&quot;</td><td>1227</td><td>1250000</td><td>2022</td><td>29</td><td>1019.0</td></tr><tr><td>&quot;53 COMMONWEALTH DRIVE&quot;</td><td>90</td><td>&quot;4 ROOM&quot;</td><td>1033</td><td>1048000</td><td>2024</td><td>2</td><td>1015.0</td></tr><tr><td>&quot;816 JELLICOE ROAD&quot;</td><td>78</td><td>&quot;5 ROOM&quot;</td><td>1184</td><td>1200000</td><td>2023</td><td>22</td><td>1014.0</td></tr><tr><td>&quot;26A SAINT GEORGE&#x27;S LANE&quot;</td><td>95</td><td>&quot;4 ROOM&quot;</td><td>990</td><td>1000000</td><td>2024</td><td>3</td><td>1010.0</td></tr><tr><td>&quot;26A SAINT GEORGE&#x27;S LANE&quot;</td><td>95</td><td>&quot;4 ROOM&quot;</td><td>990</td><td>1000000</td><td>2024</td><td>4</td><td>1010.0</td></tr><tr><td>&quot;131B LORONG 1 TOA PAYOH&quot;</td><td>93</td><td>&quot;4 ROOM&quot;</td><td>1001</td><td>1010101</td><td>2022</td><td>26</td><td>1009.0</td></tr><tr><td>&quot;139A LORONG 1A TOA PAYOH&quot;</td><td>87</td><td>&quot;5 ROOM&quot;</td><td>1259</td><td>1270000</td><td>2022</td><td>26</td><td>1009.0</td></tr><tr><td>&quot;131B LORONG 1 TOA PAYOH&quot;</td><td>93</td><td>&quot;4 ROOM&quot;</td><td>1001</td><td>1008888</td><td>2023</td><td>17</td><td>1008.0</td></tr><tr><td>&quot;33 GHIM MOH LINK&quot;</td><td>93</td><td>&quot;4 ROOM&quot;</td><td>1001</td><td>1009000</td><td>2024</td><td>4</td><td>1008.0</td></tr><tr><td>&quot;82A CIRCUIT ROAD&quot;</td><td>95</td><td>&quot;4 ROOM&quot;</td><td>1001</td><td>1006888</td><td>2024</td><td>5</td><td>1006.0</td></tr><tr><td>&quot;82B CIRCUIT ROAD&quot;</td><td>95</td><td>&quot;4 ROOM&quot;</td><td>1001</td><td>1000000</td><td>2024</td><td>1</td><td>999.0</td></tr><tr><td>&quot;1A CANTONMENT ROAD&quot;</td><td>86</td><td>&quot;4 ROOM&quot;</td><td>1022</td><td>1021000</td><td>2022</td><td>27</td><td>999.0</td></tr><tr><td>&quot;263 TOA PAYOH EAST&quot;</td><td>94</td><td>&quot;4 ROOM&quot;</td><td>1001</td><td>1000000</td><td>2024</td><td>3</td><td>999.0</td></tr><tr><td>&quot;131B LORONG 1 TOA PAYOH&quot;</td><td>93</td><td>&quot;4 ROOM&quot;</td><td>1001</td><td>1000000</td><td>2023</td><td>17</td><td>999.0</td></tr><tr><td>&quot;261 TOA PAYOH EAST&quot;</td><td>94</td><td>&quot;4 ROOM&quot;</td><td>1001</td><td>1000000</td><td>2024</td><td>7</td><td>999.0</td></tr><tr><td>&quot;7 BOON KENG ROAD&quot;</td><td>86</td><td>&quot;5 ROOM&quot;</td><td>1151</td><td>1150000</td><td>2023</td><td>22</td><td>999.0</td></tr><tr><td>&quot;105B BIDADARI PARK DRIVE&quot;</td><td>95</td><td>&quot;5 ROOM&quot;</td><td>1227</td><td>1220000</td><td>2024</td><td>1</td><td>994.0</td></tr><tr><td>&quot;9 BOON KENG ROAD&quot;</td><td>86</td><td>&quot;4 ROOM&quot;</td><td>1022</td><td>1010000</td><td>2023</td><td>19</td><td>988.0</td></tr><tr><td>&quot;241 BISHAN STREET 22&quot;</td><td>67</td><td>&quot;EXECUTIVE&quot;</td><td>1517</td><td>1448000</td><td>2024</td><td>6</td><td>955.0</td></tr><tr><td>&quot;455A ANG MO KIO STREET 44&quot;</td><td>93</td><td>&quot;5 ROOM&quot;</td><td>1216</td><td>1160000</td><td>2023</td><td>11</td><td>954.0</td></tr><tr><td>&quot;311A CLEMENTI AVENUE 4&quot;</td><td>89</td><td>&quot;5 ROOM&quot;</td><td>1130</td><td>1068888</td><td>2022</td><td>32</td><td>946.0</td></tr><tr><td>&quot;9 BOON KENG ROAD&quot;</td><td>86</td><td>&quot;5 ROOM&quot;</td><td>1173</td><td>1100000</td><td>2022</td><td>32</td><td>938.0</td></tr><tr><td>&quot;9 BOON KENG ROAD&quot;</td><td>86</td><td>&quot;5 ROOM&quot;</td><td>1259</td><td>1180000</td><td>2022</td><td>34</td><td>937.0</td></tr><tr><td>&quot;74A REDHILL ROAD&quot;</td><td>80</td><td>&quot;5 ROOM&quot;</td><td>1237</td><td>1150000</td><td>2024</td><td>4</td><td>930.0</td></tr><tr><td>&quot;8 CANTONMENT CLOSE&quot;</td><td>77</td><td>&quot;5 ROOM&quot;</td><td>1184</td><td>1088000</td><td>2024</td><td>1</td><td>919.0</td></tr><tr><td>&quot;311B CLEMENTI AVENUE 4&quot;</td><td>89</td><td>&quot;5 ROOM&quot;</td><td>1130</td><td>1038000</td><td>2022</td><td>34</td><td>919.0</td></tr><tr><td>&quot;311C CLEMENTI AVENUE 4&quot;</td><td>89</td><td>&quot;5 ROOM&quot;</td><td>1130</td><td>1030000</td><td>2023</td><td>13</td><td>912.0</td></tr><tr><td>&quot;9 TOH YI DRIVE&quot;</td><td>64</td><td>&quot;5 ROOM&quot;</td><td>1313</td><td>1180000</td><td>2023</td><td>11</td><td>899.0</td></tr><tr><td>&quot;455B ANG MO KIO STREET 44&quot;</td><td>93</td><td>&quot;5 ROOM&quot;</td><td>1216</td><td>1090000</td><td>2023</td><td>22</td><td>896.0</td></tr><tr><td>&quot;86 DAWSON ROAD&quot;</td><td>91</td><td>&quot;5 ROOM&quot;</td><td>1119</td><td>1000000</td><td>2022</td><td>34</td><td>894.0</td></tr><tr><td>&quot;455A ANG MO KIO STREET 44&quot;</td><td>93</td><td>&quot;5 ROOM&quot;</td><td>1216</td><td>1085000</td><td>2023</td><td>15</td><td>892.0</td></tr><tr><td>&quot;455B ANG MO KIO STREET 44&quot;</td><td>93</td><td>&quot;5 ROOM&quot;</td><td>1216</td><td>1080000</td><td>2024</td><td>4</td><td>888.0</td></tr><tr><td>&quot;84A LORONG 2 TOA PAYOH&quot;</td><td>72</td><td>&quot;4 ROOM&quot;</td><td>1130</td><td>1000000</td><td>2024</td><td>7</td><td>885.0</td></tr><tr><td>&quot;22 JALAN MEMBINA&quot;</td><td>78</td><td>&quot;5 ROOM&quot;</td><td>1184</td><td>1038000</td><td>2023</td><td>15</td><td>877.0</td></tr><tr><td>&quot;20 JALAN MEMBINA&quot;</td><td>78</td><td>&quot;5 ROOM&quot;</td><td>1184</td><td>1038888</td><td>2023</td><td>17</td><td>877.0</td></tr><tr><td>&quot;12 CANTONMENT CLOSE&quot;</td><td>78</td><td>&quot;5 ROOM&quot;</td><td>1184</td><td>1038000</td><td>2024</td><td>5</td><td>877.0</td></tr><tr><td>&quot;312C CLEMENTI AVENUE 4&quot;</td><td>92</td><td>&quot;5 ROOM&quot;</td><td>1216</td><td>1060000</td><td>2022</td><td>33</td><td>872.0</td></tr><tr><td>&quot;3 PINE CLOSE&quot;</td><td>75</td><td>&quot;5 ROOM&quot;</td><td>1184</td><td>1030000</td><td>2024</td><td>3</td><td>870.0</td></tr><tr><td>&quot;53 HAVELOCK ROAD&quot;</td><td>88</td><td>&quot;5 ROOM&quot;</td><td>1227</td><td>1060000</td><td>2022</td><td>26</td><td>864.0</td></tr><tr><td>&quot;186A BEDOK NORTH STREET 4&quot;</td><td>93</td><td>&quot;5 ROOM&quot;</td><td>1216</td><td>1050000</td><td>2024</td><td>1</td><td>863.0</td></tr><tr><td>&quot;416 CLEMENTI AVENUE 1&quot;</td><td>88</td><td>&quot;5 ROOM&quot;</td><td>1216</td><td>1045000</td><td>2024</td><td>2</td><td>859.0</td></tr><tr><td>&quot;125 KIM TIAN ROAD&quot;</td><td>70</td><td>&quot;5 ROOM&quot;</td><td>1474</td><td>1260000</td><td>2023</td><td>16</td><td>855.0</td></tr><tr><td>&quot;30 CASSIA CRESCENT&quot;</td><td>73</td><td>&quot;5 ROOM&quot;</td><td>1291</td><td>1088000</td><td>2024</td><td>9</td><td>843.0</td></tr><tr><td>&quot;260B ANG MO KIO STREET 21&quot;</td><td>93</td><td>&quot;5 ROOM&quot;</td><td>1216</td><td>1025000</td><td>2022</td><td>26</td><td>843.0</td></tr><tr><td>&quot;126 BUKIT MERAH VIEW&quot;</td><td>71</td><td>&quot;5 ROOM&quot;</td><td>1377</td><td>1160000</td><td>2023</td><td>15</td><td>842.0</td></tr><tr><td>&quot;416 CLEMENTI AVENUE 1&quot;</td><td>88</td><td>&quot;5 ROOM&quot;</td><td>1216</td><td>1020000</td><td>2024</td><td>6</td><td>839.0</td></tr><tr><td>&quot;70 REDHILL CLOSE&quot;</td><td>76</td><td>&quot;5 ROOM&quot;</td><td>1237</td><td>1035000</td><td>2024</td><td>7</td><td>837.0</td></tr><tr><td>&quot;588C ANG MO KIO STREET 52&quot;</td><td>86</td><td>&quot;5 ROOM&quot;</td><td>1291</td><td>1070000</td><td>2022</td><td>29</td><td>829.0</td></tr><tr><td>&quot;455B ANG MO KIO STREET 44&quot;</td><td>93</td><td>&quot;5 ROOM&quot;</td><td>1216</td><td>1006000</td><td>2024</td><td>5</td><td>827.0</td></tr><tr><td>&quot;4B BOON TIONG ROAD&quot;</td><td>80</td><td>&quot;5 ROOM&quot;</td><td>1237</td><td>1020000</td><td>2022</td><td>31</td><td>825.0</td></tr><tr><td>&quot;2 TOH YI DRIVE&quot;</td><td>63</td><td>&quot;EXECUTIVE&quot;</td><td>1657</td><td>1360000</td><td>2024</td><td>10</td><td>821.0</td></tr><tr><td>&quot;7 TOH YI DRIVE&quot;</td><td>64</td><td>&quot;EXECUTIVE&quot;</td><td>1571</td><td>1288000</td><td>2024</td><td>7</td><td>820.0</td></tr><tr><td>&quot;186 BISHAN STREET 13&quot;</td><td>62</td><td>&quot;EXECUTIVE&quot;</td><td>1571</td><td>1277000</td><td>2024</td><td>4</td><td>813.0</td></tr><tr><td>&quot;261 BISHAN STREET 22&quot;</td><td>67</td><td>&quot;EXECUTIVE&quot;</td><td>1603</td><td>1300000</td><td>2024</td><td>5</td><td>811.0</td></tr><tr><td>&quot;10 TOH YI DRIVE&quot;</td><td>64</td><td>&quot;EXECUTIVE&quot;</td><td>1571</td><td>1270000</td><td>2024</td><td>9</td><td>808.0</td></tr><tr><td>&quot;7A COMMONWEALTH AVENUE&quot;</td><td>71</td><td>&quot;5 ROOM&quot;</td><td>1485</td><td>1200000</td><td>2023</td><td>18</td><td>808.0</td></tr><tr><td>&quot;128 BISHAN STREET 12&quot;</td><td>62</td><td>&quot;EXECUTIVE&quot;</td><td>1614</td><td>1290000</td><td>2024</td><td>10</td><td>799.0</td></tr><tr><td>&quot;78 MARINE DRIVE&quot;</td><td>52</td><td>&quot;5 ROOM&quot;</td><td>1291</td><td>1028000</td><td>2022</td><td>27</td><td>796.0</td></tr><tr><td>&quot;425 CLEMENTI AVENUE 1&quot;</td><td>88</td><td>&quot;5 ROOM&quot;</td><td>1259</td><td>1000000</td><td>2023</td><td>16</td><td>794.0</td></tr><tr><td>&quot;95 HAVELOCK ROAD&quot;</td><td>58</td><td>&quot;5 ROOM&quot;</td><td>1270</td><td>1000000</td><td>2023</td><td>13</td><td>787.0</td></tr><tr><td>&quot;150 MEI LING STREET&quot;</td><td>70</td><td>&quot;EXECUTIVE&quot;</td><td>1614</td><td>1260000</td><td>2023</td><td>21</td><td>781.0</td></tr><tr><td>&quot;223 BISHAN STREET 23&quot;</td><td>67</td><td>&quot;EXECUTIVE&quot;</td><td>1517</td><td>1180000</td><td>2022</td><td>30</td><td>778.0</td></tr><tr><td>&quot;5 HOLLAND CLOSE&quot;</td><td>73</td><td>&quot;5 ROOM&quot;</td><td>1334</td><td>1026000</td><td>2024</td><td>3</td><td>769.0</td></tr><tr><td>&quot;97 LORONG 3 TOA PAYOH&quot;</td><td>68</td><td>&quot;5 ROOM&quot;</td><td>1313</td><td>1008000</td><td>2024</td><td>7</td><td>768.0</td></tr><tr><td>&quot;10B BEDOK SOUTH AVENUE 2&quot;</td><td>70</td><td>&quot;EXECUTIVE&quot;</td><td>1539</td><td>1180888</td><td>2024</td><td>7</td><td>767.0</td></tr><tr><td>&quot;7 KIM TIAN PLACE&quot;</td><td>59</td><td>&quot;5 ROOM&quot;</td><td>1410</td><td>1080000</td><td>2024</td><td>2</td><td>766.0</td></tr><tr><td>&quot;232A SERANGOON AVENUE 2&quot;</td><td>73</td><td>&quot;EXECUTIVE&quot;</td><td>1506</td><td>1150000</td><td>2022</td><td>34</td><td>764.0</td></tr><tr><td>&quot;13 UPPER BOON KENG ROAD&quot;</td><td>74</td><td>&quot;5 ROOM&quot;</td><td>1313</td><td>1002000</td><td>2024</td><td>6</td><td>763.0</td></tr><tr><td>&quot;292 BISHAN STREET 22&quot;</td><td>73</td><td>&quot;5 ROOM&quot;</td><td>1323</td><td>1000000</td><td>2024</td><td>10</td><td>756.0</td></tr><tr><td>&quot;321 SERANGOON AVENUE 2&quot;</td><td>61</td><td>&quot;EXECUTIVE&quot;</td><td>1571</td><td>1180000</td><td>2024</td><td>10</td><td>751.0</td></tr><tr><td>&quot;321 SERANGOON AVENUE 2&quot;</td><td>61</td><td>&quot;EXECUTIVE&quot;</td><td>1614</td><td>1208000</td><td>2024</td><td>8</td><td>748.0</td></tr><tr><td>&quot;8 EMPRESS ROAD&quot;</td><td>51</td><td>&quot;5 ROOM&quot;</td><td>1399</td><td>1008000</td><td>2024</td><td>9</td><td>721.0</td></tr><tr><td>&quot;150 MEI LING STREET&quot;</td><td>70</td><td>&quot;EXECUTIVE&quot;</td><td>1528</td><td>1100000</td><td>2022</td><td>27</td><td>720.0</td></tr><tr><td>&quot;104A ANG MO KIO STREET 11&quot;</td><td>71</td><td>&quot;EXECUTIVE&quot;</td><td>1571</td><td>1120000</td><td>2022</td><td>28</td><td>713.0</td></tr><tr><td>&quot;126 BUKIT MERAH VIEW&quot;</td><td>71</td><td>&quot;5 ROOM&quot;</td><td>1506</td><td>1070000</td><td>2022</td><td>32</td><td>710.0</td></tr><tr><td>&quot;213 BISHAN STREET 23&quot;</td><td>67</td><td>&quot;5 ROOM&quot;</td><td>1496</td><td>1060000</td><td>2024</td><td>3</td><td>709.0</td></tr><tr><td>&quot;423 SERANGOON CENTRAL&quot;</td><td>64</td><td>&quot;EXECUTIVE&quot;</td><td>1571</td><td>1110000</td><td>2023</td><td>14</td><td>707.0</td></tr><tr><td>&quot;104A ANG MO KIO STREET 11&quot;</td><td>71</td><td>&quot;EXECUTIVE&quot;</td><td>1550</td><td>1094888</td><td>2024</td><td>6</td><td>706.0</td></tr><tr><td>&quot;159 BISHAN STREET 13&quot;</td><td>63</td><td>&quot;EXECUTIVE&quot;</td><td>1550</td><td>1088888</td><td>2024</td><td>10</td><td>703.0</td></tr><tr><td>&quot;450 SIN MING AVENUE&quot;</td><td>64</td><td>&quot;EXECUTIVE&quot;</td><td>1743</td><td>1215000</td><td>2022</td><td>26</td><td>697.0</td></tr><tr><td>&quot;104 TOWNER ROAD&quot;</td><td>58</td><td>&quot;5 ROOM&quot;</td><td>1474</td><td>1023000</td><td>2023</td><td>12</td><td>694.0</td></tr><tr><td>&quot;375 HOUGANG STREET 31&quot;</td><td>74</td><td>&quot;EXECUTIVE&quot;</td><td>1517</td><td>1042000</td><td>2023</td><td>12</td><td>687.0</td></tr><tr><td>&quot;267A PUNGGOL FIELD&quot;</td><td>88</td><td>&quot;5 ROOM&quot;</td><td>1603</td><td>1100888</td><td>2024</td><td>10</td><td>687.0</td></tr><tr><td>&quot;614 ANG MO KIO AVENUE 4&quot;</td><td>71</td><td>&quot;EXECUTIVE&quot;</td><td>1603</td><td>1100000</td><td>2022</td><td>25</td><td>686.0</td></tr><tr><td>&quot;611 ANG MO KIO AVENUE 5&quot;</td><td>55</td><td>&quot;EXECUTIVE&quot;</td><td>1915</td><td>1300000</td><td>2024</td><td>4</td><td>679.0</td></tr><tr><td>&quot;287C JURONG EAST STREET 21&quot;</td><td>73</td><td>&quot;EXECUTIVE&quot;</td><td>1539</td><td>1008000</td><td>2023</td><td>21</td><td>655.0</td></tr><tr><td>&quot;288A BUKIT BATOK STREET 25&quot;</td><td>72</td><td>&quot;EXECUTIVE&quot;</td><td>1550</td><td>1010800</td><td>2024</td><td>6</td><td>652.0</td></tr><tr><td>&quot;613 ANG MO KIO AVENUE 4&quot;</td><td>71</td><td>&quot;EXECUTIVE&quot;</td><td>1679</td><td>1088000</td><td>2024</td><td>7</td><td>648.0</td></tr><tr><td>&quot;257 KIM KEAT AVENUE&quot;</td><td>63</td><td>&quot;EXECUTIVE&quot;</td><td>1646</td><td>1050000</td><td>2023</td><td>19</td><td>638.0</td></tr><tr><td>&quot;108 JALAN RAJAH&quot;</td><td>59</td><td>&quot;EXECUTIVE&quot;</td><td>1646</td><td>1050000</td><td>2022</td><td>23</td><td>638.0</td></tr><tr><td>&quot;8 JOO SENG ROAD&quot;</td><td>70</td><td>&quot;EXECUTIVE&quot;</td><td>1571</td><td>1000000</td><td>2024</td><td>5</td><td>637.0</td></tr><tr><td>&quot;404 SIN MING AVENUE&quot;</td><td>61</td><td>&quot;EXECUTIVE&quot;</td><td>1657</td><td>1038888</td><td>2024</td><td>10</td><td>627.0</td></tr><tr><td>&quot;201 CLEMENTI AVENUE 6&quot;</td><td>60</td><td>&quot;EXECUTIVE&quot;</td><td>1614</td><td>1000000</td><td>2024</td><td>8</td><td>620.0</td></tr><tr><td>&quot;401 SIN MING AVENUE&quot;</td><td>60</td><td>&quot;EXECUTIVE&quot;</td><td>1657</td><td>1020000</td><td>2022</td><td>25</td><td>616.0</td></tr><tr><td>&quot;602 ELIAS ROAD&quot;</td><td>70</td><td>&quot;EXECUTIVE&quot;</td><td>1657</td><td>1020000</td><td>2024</td><td>5</td><td>616.0</td></tr><tr><td>&quot;424 SERANGOON CENTRAL&quot;</td><td>64</td><td>&quot;EXECUTIVE&quot;</td><td>1657</td><td>1020000</td><td>2022</td><td>30</td><td>616.0</td></tr><tr><td>&quot;661 YISHUN AVENUE 4&quot;</td><td>67</td><td>&quot;EXECUTIVE&quot;</td><td>1765</td><td>1078000</td><td>2022</td><td>25</td><td>611.0</td></tr><tr><td>&quot;156 TAMPINES STREET 12&quot;</td><td>59</td><td>&quot;EXECUTIVE&quot;</td><td>1679</td><td>1020000</td><td>2024</td><td>7</td><td>608.0</td></tr><tr><td>&quot;476 TAMPINES STREET 44&quot;</td><td>68</td><td>&quot;EXECUTIVE&quot;</td><td>1711</td><td>1018000</td><td>2024</td><td>2</td><td>595.0</td></tr><tr><td>&quot;849 WOODLANDS STREET 82&quot;</td><td>70</td><td>&quot;EXECUTIVE&quot;</td><td>1905</td><td>1060000</td><td>2023</td><td>18</td><td>556.0</td></tr><tr><td>&quot;652 YISHUN AVENUE 4&quot;</td><td>67</td><td>&quot;EXECUTIVE&quot;</td><td>1948</td><td>1068000</td><td>2023</td><td>21</td><td>548.0</td></tr><tr><td>&quot;404 WOODLANDS STREET 41&quot;</td><td>70</td><td>&quot;EXECUTIVE&quot;</td><td>1894</td><td>1000000</td><td>2022</td><td>24</td><td>528.0</td></tr><tr><td>&quot;805 WOODLANDS STREET 81&quot;</td><td>69</td><td>&quot;EXECUTIVE&quot;</td><td>2034</td><td>1030000</td><td>2022</td><td>30</td><td>506.0</td></tr><tr><td>&quot;807 WOODLANDS STREET 81&quot;</td><td>69</td><td>&quot;EXECUTIVE&quot;</td><td>2066</td><td>1020000</td><td>2022</td><td>24</td><td>494.0</td></tr></tbody></table></div>"
      ],
      "text/plain": [
       "shape: (150, 8)\n",
       "┌────────────────┬───────────────┬───────────┬──────┬─────────┬──────────────┬────────────┬────────┐\n",
       "│ address        ┆ lease_remaini ┆ flat_type ┆ sqft ┆ price   ┆ year_of_sale ┆ months_ago ┆ psf    │\n",
       "│ ---            ┆ ng            ┆ ---       ┆ ---  ┆ ---     ┆ ---          ┆ ---        ┆ ---    │\n",
       "│ str            ┆ ---           ┆ str       ┆ i64  ┆ i64     ┆ i64          ┆ i64        ┆ f64    │\n",
       "│                ┆ i64           ┆           ┆      ┆         ┆              ┆            ┆        │\n",
       "╞════════════════╪═══════════════╪═══════════╪══════╪═════════╪══════════════╪════════════╪════════╡\n",
       "│ 1B CANTONMENT  ┆ 86            ┆ 4 ROOM    ┆ 1011 ┆ 1410000 ┆ 2023         ┆ 15         ┆ 1395.0 │\n",
       "│ ROAD           ┆               ┆           ┆      ┆         ┆              ┆            ┆        │\n",
       "│ 1G CANTONMENT  ┆ 86            ┆ 4 ROOM    ┆ 1011 ┆ 1365000 ┆ 2024         ┆ 5          ┆ 1350.0 │\n",
       "│ ROAD           ┆               ┆           ┆      ┆         ┆              ┆            ┆        │\n",
       "│ 1C CANTONMENT  ┆ 86            ┆ 4 ROOM    ┆ 1001 ┆ 1325000 ┆ 2024         ┆ 1          ┆ 1324.0 │\n",
       "│ ROAD           ┆               ┆           ┆      ┆         ┆              ┆            ┆        │\n",
       "│ 1A CANTONMENT  ┆ 86            ┆ 5 ROOM    ┆ 1130 ┆ 1435000 ┆ 2024         ┆ 2          ┆ 1270.0 │\n",
       "│ ROAD           ┆               ┆           ┆      ┆         ┆              ┆            ┆        │\n",
       "│ 1B CANTONMENT  ┆ 86            ┆ 4 ROOM    ┆ 1001 ┆ 1248888 ┆ 2024         ┆ 6          ┆ 1248.0 │\n",
       "│ ROAD           ┆               ┆           ┆      ┆         ┆              ┆            ┆        │\n",
       "│ 139A LORONG 1A ┆ 87            ┆ 5 ROOM    ┆ 1259 ┆ 1568888 ┆ 2024         ┆ 10         ┆ 1246.0 │\n",
       "│ TOA PAYOH      ┆               ┆           ┆      ┆         ┆              ┆            ┆        │\n",
       "│ 8B UPPER BOON  ┆ 92            ┆ 4 ROOM    ┆ 1054 ┆ 1300888 ┆ 2023         ┆ 13         ┆ 1234.0 │\n",
       "│ KENG ROAD      ┆               ┆           ┆      ┆         ┆              ┆            ┆        │\n",
       "│ 1G CANTONMENT  ┆ 86            ┆ 5 ROOM    ┆ 1140 ┆ 1400000 ┆ 2023         ┆ 20         ┆ 1228.0 │\n",
       "│ ROAD           ┆               ┆           ┆      ┆         ┆              ┆            ┆        │\n",
       "│ 9A BOON TIONG  ┆ 91            ┆ 5 ROOM    ┆ 1205 ┆ 1450000 ┆ 2024         ┆ 8          ┆ 1203.0 │\n",
       "│ ROAD           ┆               ┆           ┆      ┆         ┆              ┆            ┆        │\n",
       "│ 130A LORONG 1  ┆ 93            ┆ 4 ROOM    ┆ 1001 ┆ 1200888 ┆ 2024         ┆ 2          ┆ 1200.0 │\n",
       "│ TOA PAYOH      ┆               ┆           ┆      ┆         ┆              ┆            ┆        │\n",
       "│ 1E CANTONMENT  ┆ 86            ┆ 5 ROOM    ┆ 1151 ┆ 1380000 ┆ 2023         ┆ 20         ┆ 1199.0 │\n",
       "│ ROAD           ┆               ┆           ┆      ┆         ┆              ┆            ┆        │\n",
       "│ 95C HENDERSON  ┆ 94            ┆ 4 ROOM    ┆ 1001 ┆ 1200000 ┆ 2024         ┆ 5          ┆ 1199.0 │\n",
       "│ ROAD           ┆               ┆           ┆      ┆         ┆              ┆            ┆        │\n",
       "│ 1G CANTONMENT  ┆ 86            ┆ 4 ROOM    ┆ 1001 ┆ 1200000 ┆ 2022         ┆ 28         ┆ 1199.0 │\n",
       "│ ROAD           ┆               ┆           ┆      ┆         ┆              ┆            ┆        │\n",
       "│ 1F CANTONMENT  ┆ 86            ┆ 4 ROOM    ┆ 1022 ┆ 1210000 ┆ 2022         ┆ 32         ┆ 1184.0 │\n",
       "│ ROAD           ┆               ┆           ┆      ┆         ┆              ┆            ┆        │\n",
       "│ 18A HOLLAND    ┆ 87            ┆ 4 ROOM    ┆ 990  ┆ 1150000 ┆ 2023         ┆ 13         ┆ 1162.0 │\n",
       "│ DRIVE          ┆               ┆           ┆      ┆         ┆              ┆            ┆        │\n",
       "│ 88 DAWSON ROAD ┆ 91            ┆ 5 ROOM    ┆ 1119 ┆ 1270000 ┆ 2024         ┆ 4          ┆ 1135.0 │\n",
       "│ 273B BISHAN    ┆ 86            ┆ 5 ROOM    ┆ 1291 ┆ 1458000 ┆ 2024         ┆ 10         ┆ 1129.0 │\n",
       "│ STREET 24      ┆               ┆           ┆      ┆         ┆              ┆            ┆        │\n",
       "│ 1C CANTONMENT  ┆ 86            ┆ 4 ROOM    ┆ 1001 ┆ 1130000 ┆ 2022         ┆ 29         ┆ 1129.0 │\n",
       "│ ROAD           ┆               ┆           ┆      ┆         ┆              ┆            ┆        │\n",
       "│ 96A HENDERSON  ┆ 94            ┆ 4 ROOM    ┆ 893  ┆ 1000000 ┆ 2024         ┆ 3          ┆ 1120.0 │\n",
       "│ ROAD           ┆               ┆           ┆      ┆         ┆              ┆            ┆        │\n",
       "│ 1C CANTONMENT  ┆ 86            ┆ 4 ROOM    ┆ 1011 ┆ 1130000 ┆ 2024         ┆ 9          ┆ 1118.0 │\n",
       "│ ROAD           ┆               ┆           ┆      ┆         ┆              ┆            ┆        │\n",
       "│ 139A LORONG 1A ┆ 87            ┆ 5 ROOM    ┆ 1259 ┆ 1400000 ┆ 2024         ┆ 7          ┆ 1112.0 │\n",
       "│ TOA PAYOH      ┆               ┆           ┆      ┆         ┆              ┆            ┆        │\n",
       "│ 92 DAWSON ROAD ┆ 91            ┆ 4 ROOM    ┆ 1022 ┆ 1130000 ┆ 2023         ┆ 20         ┆ 1106.0 │\n",
       "│ 9 BOON KENG    ┆ 86            ┆ 5 ROOM    ┆ 1259 ┆ 1390000 ┆ 2024         ┆ 1          ┆ 1104.0 │\n",
       "│ ROAD           ┆               ┆           ┆      ┆         ┆              ┆            ┆        │\n",
       "│ 106A BIDADARI  ┆ 95            ┆ 4 ROOM    ┆ 1011 ┆ 1110000 ┆ 2024         ┆ 0          ┆ 1098.0 │\n",
       "│ PARK DRIVE     ┆               ┆           ┆      ┆         ┆              ┆            ┆        │\n",
       "│ 8C UPPER BOON  ┆ 92            ┆ 5 ROOM    ┆ 1216 ┆ 1330000 ┆ 2024         ┆ 2          ┆ 1094.0 │\n",
       "│ KENG ROAD      ┆               ┆           ┆      ┆         ┆              ┆            ┆        │\n",
       "│ 88 DAWSON ROAD ┆ 91            ┆ 5 ROOM    ┆ 1162 ┆ 1270000 ┆ 2022         ┆ 25         ┆ 1093.0 │\n",
       "│ 7 BOON KENG    ┆ 86            ┆ 5 ROOM    ┆ 1173 ┆ 1280000 ┆ 2022         ┆ 26         ┆ 1091.0 │\n",
       "│ ROAD           ┆               ┆           ┆      ┆         ┆              ┆            ┆        │\n",
       "│ 7 BOON KENG    ┆ 86            ┆ 5 ROOM    ┆ 1151 ┆ 1250000 ┆ 2024         ┆ 3          ┆ 1086.0 │\n",
       "│ ROAD           ┆               ┆           ┆      ┆         ┆              ┆            ┆        │\n",
       "│ 273A BISHAN    ┆ 86            ┆ 5 ROOM    ┆ 1291 ┆ 1400000 ┆ 2023         ┆ 17         ┆ 1084.0 │\n",
       "│ STREET 24      ┆               ┆           ┆      ┆         ┆              ┆            ┆        │\n",
       "│ 82B CIRCUIT    ┆ 95            ┆ 4 ROOM    ┆ 1001 ┆ 1080000 ┆ 2024         ┆ 5          ┆ 1079.0 │\n",
       "│ ROAD           ┆               ┆           ┆      ┆         ┆              ┆            ┆        │\n",
       "│ 10C BENDEMEER  ┆ 92            ┆ 4 ROOM    ┆ 1001 ┆ 1075000 ┆ 2023         ┆ 11         ┆ 1074.0 │\n",
       "│ ROAD           ┆               ┆           ┆      ┆         ┆              ┆            ┆        │\n",
       "│ 93B TELOK      ┆ 93            ┆ 4 ROOM    ┆ 1001 ┆ 1068888 ┆ 2024         ┆ 2          ┆ 1068.0 │\n",
       "│ BLANGAH STREET ┆               ┆           ┆      ┆         ┆              ┆            ┆        │\n",
       "│ 31             ┆               ┆           ┆      ┆         ┆              ┆            ┆        │\n",
       "│ 138A LORONG 1A ┆ 87            ┆ 4 ROOM    ┆ 979  ┆ 1045000 ┆ 2023         ┆ 14         ┆ 1067.0 │\n",
       "│ TOA PAYOH      ┆               ┆           ┆      ┆         ┆              ┆            ┆        │\n",
       "│ 311C CLEMENTI  ┆ 89            ┆ 5 ROOM    ┆ 1130 ┆ 1200000 ┆ 2023         ┆ 17         ┆ 1062.0 │\n",
       "│ AVENUE 4       ┆               ┆           ┆      ┆         ┆              ┆            ┆        │\n",
       "│ 440C CLEMENTI  ┆ 93            ┆ 5 ROOM    ┆ 1205 ┆ 1280000 ┆ 2023         ┆ 14         ┆ 1062.0 │\n",
       "│ AVENUE 3       ┆               ┆           ┆      ┆         ┆              ┆            ┆        │\n",
       "│ 29 GHIM MOH    ┆ 93            ┆ 4 ROOM    ┆ 1001 ┆ 1060888 ┆ 2024         ┆ 1          ┆ 1060.0 │\n",
       "│ LINK           ┆               ┆           ┆      ┆         ┆              ┆            ┆        │\n",
       "│ 26B SAINT      ┆ 95            ┆ 4 ROOM    ┆ 990  ┆ 1042000 ┆ 2024         ┆ 1          ┆ 1053.0 │\n",
       "│ GEORGE'S LANE  ┆               ┆           ┆      ┆         ┆              ┆            ┆        │\n",
       "│ 25A SAINT      ┆ 95            ┆ 4 ROOM    ┆ 990  ┆ 1042888 ┆ 2024         ┆ 7          ┆ 1053.0 │\n",
       "│ GEORGE'S LANE  ┆               ┆           ┆      ┆         ┆              ┆            ┆        │\n",
       "│ 79A TOA PAYOH  ┆ 84            ┆ 4 ROOM    ┆ 979  ┆ 1018888 ┆ 2024         ┆ 1          ┆ 1041.0 │\n",
       "│ CENTRAL        ┆               ┆           ┆      ┆         ┆              ┆            ┆        │\n",
       "│ 106A BIDADARI  ┆ 95            ┆ 4 ROOM    ┆ 1011 ┆ 1050000 ┆ 2024         ┆ 1          ┆ 1039.0 │\n",
       "│ PARK DRIVE     ┆               ┆           ┆      ┆         ┆              ┆            ┆        │\n",
       "│ 273A BISHAN    ┆ 86            ┆ 5 ROOM    ┆ 1291 ┆ 1338888 ┆ 2022         ┆ 34         ┆ 1037.0 │\n",
       "│ STREET 24      ┆               ┆           ┆      ┆         ┆              ┆            ┆        │\n",
       "│ 312C CLEMENTI  ┆ 92            ┆ 5 ROOM    ┆ 1216 ┆ 1250000 ┆ 2023         ┆ 13         ┆ 1028.0 │\n",
       "│ AVENUE 4       ┆               ┆           ┆      ┆         ┆              ┆            ┆        │\n",
       "│ 311A CLEMENTI  ┆ 89            ┆ 5 ROOM    ┆ 1130 ┆ 1160000 ┆ 2023         ┆ 13         ┆ 1027.0 │\n",
       "│ AVENUE 4       ┆               ┆           ┆      ┆         ┆              ┆            ┆        │\n",
       "│ 441A CLEMENTI  ┆ 87            ┆ 5 ROOM    ┆ 1248 ┆ 1280000 ┆ 2023         ┆ 22         ┆ 1026.0 │\n",
       "│ AVENUE 3       ┆               ┆           ┆      ┆         ┆              ┆            ┆        │\n",
       "│ 591A ANG MO    ┆ 94            ┆ 4 ROOM    ┆ 1001 ┆ 1025000 ┆ 2024         ┆ 1          ┆ 1024.0 │\n",
       "│ KIO STREET 51  ┆               ┆           ┆      ┆         ┆              ┆            ┆        │\n",
       "│ 312B CLEMENTI  ┆ 92            ┆ 5 ROOM    ┆ 1216 ┆ 1240000 ┆ 2024         ┆ 10         ┆ 1020.0 │\n",
       "│ AVENUE 4       ┆               ┆           ┆      ┆         ┆              ┆            ┆        │\n",
       "│ 138C LORONG 1A ┆ 87            ┆ 5 ROOM    ┆ 1227 ┆ 1250000 ┆ 2022         ┆ 29         ┆ 1019.0 │\n",
       "│ TOA PAYOH      ┆               ┆           ┆      ┆         ┆              ┆            ┆        │\n",
       "│ 53             ┆ 90            ┆ 4 ROOM    ┆ 1033 ┆ 1048000 ┆ 2024         ┆ 2          ┆ 1015.0 │\n",
       "│ COMMONWEALTH   ┆               ┆           ┆      ┆         ┆              ┆            ┆        │\n",
       "│ DRIVE          ┆               ┆           ┆      ┆         ┆              ┆            ┆        │\n",
       "│ 816 JELLICOE   ┆ 78            ┆ 5 ROOM    ┆ 1184 ┆ 1200000 ┆ 2023         ┆ 22         ┆ 1014.0 │\n",
       "│ ROAD           ┆               ┆           ┆      ┆         ┆              ┆            ┆        │\n",
       "│ 26A SAINT      ┆ 95            ┆ 4 ROOM    ┆ 990  ┆ 1000000 ┆ 2024         ┆ 3          ┆ 1010.0 │\n",
       "│ GEORGE'S LANE  ┆               ┆           ┆      ┆         ┆              ┆            ┆        │\n",
       "│ 26A SAINT      ┆ 95            ┆ 4 ROOM    ┆ 990  ┆ 1000000 ┆ 2024         ┆ 4          ┆ 1010.0 │\n",
       "│ GEORGE'S LANE  ┆               ┆           ┆      ┆         ┆              ┆            ┆        │\n",
       "│ 131B LORONG 1  ┆ 93            ┆ 4 ROOM    ┆ 1001 ┆ 1010101 ┆ 2022         ┆ 26         ┆ 1009.0 │\n",
       "│ TOA PAYOH      ┆               ┆           ┆      ┆         ┆              ┆            ┆        │\n",
       "│ 139A LORONG 1A ┆ 87            ┆ 5 ROOM    ┆ 1259 ┆ 1270000 ┆ 2022         ┆ 26         ┆ 1009.0 │\n",
       "│ TOA PAYOH      ┆               ┆           ┆      ┆         ┆              ┆            ┆        │\n",
       "│ 131B LORONG 1  ┆ 93            ┆ 4 ROOM    ┆ 1001 ┆ 1008888 ┆ 2023         ┆ 17         ┆ 1008.0 │\n",
       "│ TOA PAYOH      ┆               ┆           ┆      ┆         ┆              ┆            ┆        │\n",
       "│ 33 GHIM MOH    ┆ 93            ┆ 4 ROOM    ┆ 1001 ┆ 1009000 ┆ 2024         ┆ 4          ┆ 1008.0 │\n",
       "│ LINK           ┆               ┆           ┆      ┆         ┆              ┆            ┆        │\n",
       "│ 82A CIRCUIT    ┆ 95            ┆ 4 ROOM    ┆ 1001 ┆ 1006888 ┆ 2024         ┆ 5          ┆ 1006.0 │\n",
       "│ ROAD           ┆               ┆           ┆      ┆         ┆              ┆            ┆        │\n",
       "│ 82B CIRCUIT    ┆ 95            ┆ 4 ROOM    ┆ 1001 ┆ 1000000 ┆ 2024         ┆ 1          ┆ 999.0  │\n",
       "│ ROAD           ┆               ┆           ┆      ┆         ┆              ┆            ┆        │\n",
       "│ 1A CANTONMENT  ┆ 86            ┆ 4 ROOM    ┆ 1022 ┆ 1021000 ┆ 2022         ┆ 27         ┆ 999.0  │\n",
       "│ ROAD           ┆               ┆           ┆      ┆         ┆              ┆            ┆        │\n",
       "│ 263 TOA PAYOH  ┆ 94            ┆ 4 ROOM    ┆ 1001 ┆ 1000000 ┆ 2024         ┆ 3          ┆ 999.0  │\n",
       "│ EAST           ┆               ┆           ┆      ┆         ┆              ┆            ┆        │\n",
       "│ 131B LORONG 1  ┆ 93            ┆ 4 ROOM    ┆ 1001 ┆ 1000000 ┆ 2023         ┆ 17         ┆ 999.0  │\n",
       "│ TOA PAYOH      ┆               ┆           ┆      ┆         ┆              ┆            ┆        │\n",
       "│ 261 TOA PAYOH  ┆ 94            ┆ 4 ROOM    ┆ 1001 ┆ 1000000 ┆ 2024         ┆ 7          ┆ 999.0  │\n",
       "│ EAST           ┆               ┆           ┆      ┆         ┆              ┆            ┆        │\n",
       "│ 7 BOON KENG    ┆ 86            ┆ 5 ROOM    ┆ 1151 ┆ 1150000 ┆ 2023         ┆ 22         ┆ 999.0  │\n",
       "│ ROAD           ┆               ┆           ┆      ┆         ┆              ┆            ┆        │\n",
       "│ 105B BIDADARI  ┆ 95            ┆ 5 ROOM    ┆ 1227 ┆ 1220000 ┆ 2024         ┆ 1          ┆ 994.0  │\n",
       "│ PARK DRIVE     ┆               ┆           ┆      ┆         ┆              ┆            ┆        │\n",
       "│ 9 BOON KENG    ┆ 86            ┆ 4 ROOM    ┆ 1022 ┆ 1010000 ┆ 2023         ┆ 19         ┆ 988.0  │\n",
       "│ ROAD           ┆               ┆           ┆      ┆         ┆              ┆            ┆        │\n",
       "│ 241 BISHAN     ┆ 67            ┆ EXECUTIVE ┆ 1517 ┆ 1448000 ┆ 2024         ┆ 6          ┆ 955.0  │\n",
       "│ STREET 22      ┆               ┆           ┆      ┆         ┆              ┆            ┆        │\n",
       "│ 455A ANG MO    ┆ 93            ┆ 5 ROOM    ┆ 1216 ┆ 1160000 ┆ 2023         ┆ 11         ┆ 954.0  │\n",
       "│ KIO STREET 44  ┆               ┆           ┆      ┆         ┆              ┆            ┆        │\n",
       "│ 311A CLEMENTI  ┆ 89            ┆ 5 ROOM    ┆ 1130 ┆ 1068888 ┆ 2022         ┆ 32         ┆ 946.0  │\n",
       "│ AVENUE 4       ┆               ┆           ┆      ┆         ┆              ┆            ┆        │\n",
       "│ 9 BOON KENG    ┆ 86            ┆ 5 ROOM    ┆ 1173 ┆ 1100000 ┆ 2022         ┆ 32         ┆ 938.0  │\n",
       "│ ROAD           ┆               ┆           ┆      ┆         ┆              ┆            ┆        │\n",
       "│ 9 BOON KENG    ┆ 86            ┆ 5 ROOM    ┆ 1259 ┆ 1180000 ┆ 2022         ┆ 34         ┆ 937.0  │\n",
       "│ ROAD           ┆               ┆           ┆      ┆         ┆              ┆            ┆        │\n",
       "│ 74A REDHILL    ┆ 80            ┆ 5 ROOM    ┆ 1237 ┆ 1150000 ┆ 2024         ┆ 4          ┆ 930.0  │\n",
       "│ ROAD           ┆               ┆           ┆      ┆         ┆              ┆            ┆        │\n",
       "│ 8 CANTONMENT   ┆ 77            ┆ 5 ROOM    ┆ 1184 ┆ 1088000 ┆ 2024         ┆ 1          ┆ 919.0  │\n",
       "│ CLOSE          ┆               ┆           ┆      ┆         ┆              ┆            ┆        │\n",
       "│ 311B CLEMENTI  ┆ 89            ┆ 5 ROOM    ┆ 1130 ┆ 1038000 ┆ 2022         ┆ 34         ┆ 919.0  │\n",
       "│ AVENUE 4       ┆               ┆           ┆      ┆         ┆              ┆            ┆        │\n",
       "│ 311C CLEMENTI  ┆ 89            ┆ 5 ROOM    ┆ 1130 ┆ 1030000 ┆ 2023         ┆ 13         ┆ 912.0  │\n",
       "│ AVENUE 4       ┆               ┆           ┆      ┆         ┆              ┆            ┆        │\n",
       "│ 9 TOH YI DRIVE ┆ 64            ┆ 5 ROOM    ┆ 1313 ┆ 1180000 ┆ 2023         ┆ 11         ┆ 899.0  │\n",
       "│ 455B ANG MO    ┆ 93            ┆ 5 ROOM    ┆ 1216 ┆ 1090000 ┆ 2023         ┆ 22         ┆ 896.0  │\n",
       "│ KIO STREET 44  ┆               ┆           ┆      ┆         ┆              ┆            ┆        │\n",
       "│ 86 DAWSON ROAD ┆ 91            ┆ 5 ROOM    ┆ 1119 ┆ 1000000 ┆ 2022         ┆ 34         ┆ 894.0  │\n",
       "│ 455A ANG MO    ┆ 93            ┆ 5 ROOM    ┆ 1216 ┆ 1085000 ┆ 2023         ┆ 15         ┆ 892.0  │\n",
       "│ KIO STREET 44  ┆               ┆           ┆      ┆         ┆              ┆            ┆        │\n",
       "│ 455B ANG MO    ┆ 93            ┆ 5 ROOM    ┆ 1216 ┆ 1080000 ┆ 2024         ┆ 4          ┆ 888.0  │\n",
       "│ KIO STREET 44  ┆               ┆           ┆      ┆         ┆              ┆            ┆        │\n",
       "│ 84A LORONG 2   ┆ 72            ┆ 4 ROOM    ┆ 1130 ┆ 1000000 ┆ 2024         ┆ 7          ┆ 885.0  │\n",
       "│ TOA PAYOH      ┆               ┆           ┆      ┆         ┆              ┆            ┆        │\n",
       "│ 22 JALAN       ┆ 78            ┆ 5 ROOM    ┆ 1184 ┆ 1038000 ┆ 2023         ┆ 15         ┆ 877.0  │\n",
       "│ MEMBINA        ┆               ┆           ┆      ┆         ┆              ┆            ┆        │\n",
       "│ 20 JALAN       ┆ 78            ┆ 5 ROOM    ┆ 1184 ┆ 1038888 ┆ 2023         ┆ 17         ┆ 877.0  │\n",
       "│ MEMBINA        ┆               ┆           ┆      ┆         ┆              ┆            ┆        │\n",
       "│ 12 CANTONMENT  ┆ 78            ┆ 5 ROOM    ┆ 1184 ┆ 1038000 ┆ 2024         ┆ 5          ┆ 877.0  │\n",
       "│ CLOSE          ┆               ┆           ┆      ┆         ┆              ┆            ┆        │\n",
       "│ 312C CLEMENTI  ┆ 92            ┆ 5 ROOM    ┆ 1216 ┆ 1060000 ┆ 2022         ┆ 33         ┆ 872.0  │\n",
       "│ AVENUE 4       ┆               ┆           ┆      ┆         ┆              ┆            ┆        │\n",
       "│ 3 PINE CLOSE   ┆ 75            ┆ 5 ROOM    ┆ 1184 ┆ 1030000 ┆ 2024         ┆ 3          ┆ 870.0  │\n",
       "│ 53 HAVELOCK    ┆ 88            ┆ 5 ROOM    ┆ 1227 ┆ 1060000 ┆ 2022         ┆ 26         ┆ 864.0  │\n",
       "│ ROAD           ┆               ┆           ┆      ┆         ┆              ┆            ┆        │\n",
       "│ 186A BEDOK     ┆ 93            ┆ 5 ROOM    ┆ 1216 ┆ 1050000 ┆ 2024         ┆ 1          ┆ 863.0  │\n",
       "│ NORTH STREET 4 ┆               ┆           ┆      ┆         ┆              ┆            ┆        │\n",
       "│ 416 CLEMENTI   ┆ 88            ┆ 5 ROOM    ┆ 1216 ┆ 1045000 ┆ 2024         ┆ 2          ┆ 859.0  │\n",
       "│ AVENUE 1       ┆               ┆           ┆      ┆         ┆              ┆            ┆        │\n",
       "│ 125 KIM TIAN   ┆ 70            ┆ 5 ROOM    ┆ 1474 ┆ 1260000 ┆ 2023         ┆ 16         ┆ 855.0  │\n",
       "│ ROAD           ┆               ┆           ┆      ┆         ┆              ┆            ┆        │\n",
       "│ 30 CASSIA      ┆ 73            ┆ 5 ROOM    ┆ 1291 ┆ 1088000 ┆ 2024         ┆ 9          ┆ 843.0  │\n",
       "│ CRESCENT       ┆               ┆           ┆      ┆         ┆              ┆            ┆        │\n",
       "│ 260B ANG MO    ┆ 93            ┆ 5 ROOM    ┆ 1216 ┆ 1025000 ┆ 2022         ┆ 26         ┆ 843.0  │\n",
       "│ KIO STREET 21  ┆               ┆           ┆      ┆         ┆              ┆            ┆        │\n",
       "│ 126 BUKIT      ┆ 71            ┆ 5 ROOM    ┆ 1377 ┆ 1160000 ┆ 2023         ┆ 15         ┆ 842.0  │\n",
       "│ MERAH VIEW     ┆               ┆           ┆      ┆         ┆              ┆            ┆        │\n",
       "│ 416 CLEMENTI   ┆ 88            ┆ 5 ROOM    ┆ 1216 ┆ 1020000 ┆ 2024         ┆ 6          ┆ 839.0  │\n",
       "│ AVENUE 1       ┆               ┆           ┆      ┆         ┆              ┆            ┆        │\n",
       "│ 70 REDHILL     ┆ 76            ┆ 5 ROOM    ┆ 1237 ┆ 1035000 ┆ 2024         ┆ 7          ┆ 837.0  │\n",
       "│ CLOSE          ┆               ┆           ┆      ┆         ┆              ┆            ┆        │\n",
       "│ 588C ANG MO    ┆ 86            ┆ 5 ROOM    ┆ 1291 ┆ 1070000 ┆ 2022         ┆ 29         ┆ 829.0  │\n",
       "│ KIO STREET 52  ┆               ┆           ┆      ┆         ┆              ┆            ┆        │\n",
       "│ 455B ANG MO    ┆ 93            ┆ 5 ROOM    ┆ 1216 ┆ 1006000 ┆ 2024         ┆ 5          ┆ 827.0  │\n",
       "│ KIO STREET 44  ┆               ┆           ┆      ┆         ┆              ┆            ┆        │\n",
       "│ 4B BOON TIONG  ┆ 80            ┆ 5 ROOM    ┆ 1237 ┆ 1020000 ┆ 2022         ┆ 31         ┆ 825.0  │\n",
       "│ ROAD           ┆               ┆           ┆      ┆         ┆              ┆            ┆        │\n",
       "│ 2 TOH YI DRIVE ┆ 63            ┆ EXECUTIVE ┆ 1657 ┆ 1360000 ┆ 2024         ┆ 10         ┆ 821.0  │\n",
       "│ 7 TOH YI DRIVE ┆ 64            ┆ EXECUTIVE ┆ 1571 ┆ 1288000 ┆ 2024         ┆ 7          ┆ 820.0  │\n",
       "│ 186 BISHAN     ┆ 62            ┆ EXECUTIVE ┆ 1571 ┆ 1277000 ┆ 2024         ┆ 4          ┆ 813.0  │\n",
       "│ STREET 13      ┆               ┆           ┆      ┆         ┆              ┆            ┆        │\n",
       "│ 261 BISHAN     ┆ 67            ┆ EXECUTIVE ┆ 1603 ┆ 1300000 ┆ 2024         ┆ 5          ┆ 811.0  │\n",
       "│ STREET 22      ┆               ┆           ┆      ┆         ┆              ┆            ┆        │\n",
       "│ 10 TOH YI      ┆ 64            ┆ EXECUTIVE ┆ 1571 ┆ 1270000 ┆ 2024         ┆ 9          ┆ 808.0  │\n",
       "│ DRIVE          ┆               ┆           ┆      ┆         ┆              ┆            ┆        │\n",
       "│ 7A             ┆ 71            ┆ 5 ROOM    ┆ 1485 ┆ 1200000 ┆ 2023         ┆ 18         ┆ 808.0  │\n",
       "│ COMMONWEALTH   ┆               ┆           ┆      ┆         ┆              ┆            ┆        │\n",
       "│ AVENUE         ┆               ┆           ┆      ┆         ┆              ┆            ┆        │\n",
       "│ 128 BISHAN     ┆ 62            ┆ EXECUTIVE ┆ 1614 ┆ 1290000 ┆ 2024         ┆ 10         ┆ 799.0  │\n",
       "│ STREET 12      ┆               ┆           ┆      ┆         ┆              ┆            ┆        │\n",
       "│ 78 MARINE      ┆ 52            ┆ 5 ROOM    ┆ 1291 ┆ 1028000 ┆ 2022         ┆ 27         ┆ 796.0  │\n",
       "│ DRIVE          ┆               ┆           ┆      ┆         ┆              ┆            ┆        │\n",
       "│ 425 CLEMENTI   ┆ 88            ┆ 5 ROOM    ┆ 1259 ┆ 1000000 ┆ 2023         ┆ 16         ┆ 794.0  │\n",
       "│ AVENUE 1       ┆               ┆           ┆      ┆         ┆              ┆            ┆        │\n",
       "│ 95 HAVELOCK    ┆ 58            ┆ 5 ROOM    ┆ 1270 ┆ 1000000 ┆ 2023         ┆ 13         ┆ 787.0  │\n",
       "│ ROAD           ┆               ┆           ┆      ┆         ┆              ┆            ┆        │\n",
       "│ 150 MEI LING   ┆ 70            ┆ EXECUTIVE ┆ 1614 ┆ 1260000 ┆ 2023         ┆ 21         ┆ 781.0  │\n",
       "│ STREET         ┆               ┆           ┆      ┆         ┆              ┆            ┆        │\n",
       "│ 223 BISHAN     ┆ 67            ┆ EXECUTIVE ┆ 1517 ┆ 1180000 ┆ 2022         ┆ 30         ┆ 778.0  │\n",
       "│ STREET 23      ┆               ┆           ┆      ┆         ┆              ┆            ┆        │\n",
       "│ 5 HOLLAND      ┆ 73            ┆ 5 ROOM    ┆ 1334 ┆ 1026000 ┆ 2024         ┆ 3          ┆ 769.0  │\n",
       "│ CLOSE          ┆               ┆           ┆      ┆         ┆              ┆            ┆        │\n",
       "│ 97 LORONG 3    ┆ 68            ┆ 5 ROOM    ┆ 1313 ┆ 1008000 ┆ 2024         ┆ 7          ┆ 768.0  │\n",
       "│ TOA PAYOH      ┆               ┆           ┆      ┆         ┆              ┆            ┆        │\n",
       "│ 10B BEDOK      ┆ 70            ┆ EXECUTIVE ┆ 1539 ┆ 1180888 ┆ 2024         ┆ 7          ┆ 767.0  │\n",
       "│ SOUTH AVENUE 2 ┆               ┆           ┆      ┆         ┆              ┆            ┆        │\n",
       "│ 7 KIM TIAN     ┆ 59            ┆ 5 ROOM    ┆ 1410 ┆ 1080000 ┆ 2024         ┆ 2          ┆ 766.0  │\n",
       "│ PLACE          ┆               ┆           ┆      ┆         ┆              ┆            ┆        │\n",
       "│ 232A SERANGOON ┆ 73            ┆ EXECUTIVE ┆ 1506 ┆ 1150000 ┆ 2022         ┆ 34         ┆ 764.0  │\n",
       "│ AVENUE 2       ┆               ┆           ┆      ┆         ┆              ┆            ┆        │\n",
       "│ 13 UPPER BOON  ┆ 74            ┆ 5 ROOM    ┆ 1313 ┆ 1002000 ┆ 2024         ┆ 6          ┆ 763.0  │\n",
       "│ KENG ROAD      ┆               ┆           ┆      ┆         ┆              ┆            ┆        │\n",
       "│ 292 BISHAN     ┆ 73            ┆ 5 ROOM    ┆ 1323 ┆ 1000000 ┆ 2024         ┆ 10         ┆ 756.0  │\n",
       "│ STREET 22      ┆               ┆           ┆      ┆         ┆              ┆            ┆        │\n",
       "│ 321 SERANGOON  ┆ 61            ┆ EXECUTIVE ┆ 1571 ┆ 1180000 ┆ 2024         ┆ 10         ┆ 751.0  │\n",
       "│ AVENUE 2       ┆               ┆           ┆      ┆         ┆              ┆            ┆        │\n",
       "│ 321 SERANGOON  ┆ 61            ┆ EXECUTIVE ┆ 1614 ┆ 1208000 ┆ 2024         ┆ 8          ┆ 748.0  │\n",
       "│ AVENUE 2       ┆               ┆           ┆      ┆         ┆              ┆            ┆        │\n",
       "│ 8 EMPRESS ROAD ┆ 51            ┆ 5 ROOM    ┆ 1399 ┆ 1008000 ┆ 2024         ┆ 9          ┆ 721.0  │\n",
       "│ 150 MEI LING   ┆ 70            ┆ EXECUTIVE ┆ 1528 ┆ 1100000 ┆ 2022         ┆ 27         ┆ 720.0  │\n",
       "│ STREET         ┆               ┆           ┆      ┆         ┆              ┆            ┆        │\n",
       "│ 104A ANG MO    ┆ 71            ┆ EXECUTIVE ┆ 1571 ┆ 1120000 ┆ 2022         ┆ 28         ┆ 713.0  │\n",
       "│ KIO STREET 11  ┆               ┆           ┆      ┆         ┆              ┆            ┆        │\n",
       "│ 126 BUKIT      ┆ 71            ┆ 5 ROOM    ┆ 1506 ┆ 1070000 ┆ 2022         ┆ 32         ┆ 710.0  │\n",
       "│ MERAH VIEW     ┆               ┆           ┆      ┆         ┆              ┆            ┆        │\n",
       "│ 213 BISHAN     ┆ 67            ┆ 5 ROOM    ┆ 1496 ┆ 1060000 ┆ 2024         ┆ 3          ┆ 709.0  │\n",
       "│ STREET 23      ┆               ┆           ┆      ┆         ┆              ┆            ┆        │\n",
       "│ 423 SERANGOON  ┆ 64            ┆ EXECUTIVE ┆ 1571 ┆ 1110000 ┆ 2023         ┆ 14         ┆ 707.0  │\n",
       "│ CENTRAL        ┆               ┆           ┆      ┆         ┆              ┆            ┆        │\n",
       "│ 104A ANG MO    ┆ 71            ┆ EXECUTIVE ┆ 1550 ┆ 1094888 ┆ 2024         ┆ 6          ┆ 706.0  │\n",
       "│ KIO STREET 11  ┆               ┆           ┆      ┆         ┆              ┆            ┆        │\n",
       "│ 159 BISHAN     ┆ 63            ┆ EXECUTIVE ┆ 1550 ┆ 1088888 ┆ 2024         ┆ 10         ┆ 703.0  │\n",
       "│ STREET 13      ┆               ┆           ┆      ┆         ┆              ┆            ┆        │\n",
       "│ 450 SIN MING   ┆ 64            ┆ EXECUTIVE ┆ 1743 ┆ 1215000 ┆ 2022         ┆ 26         ┆ 697.0  │\n",
       "│ AVENUE         ┆               ┆           ┆      ┆         ┆              ┆            ┆        │\n",
       "│ 104 TOWNER     ┆ 58            ┆ 5 ROOM    ┆ 1474 ┆ 1023000 ┆ 2023         ┆ 12         ┆ 694.0  │\n",
       "│ ROAD           ┆               ┆           ┆      ┆         ┆              ┆            ┆        │\n",
       "│ 375 HOUGANG    ┆ 74            ┆ EXECUTIVE ┆ 1517 ┆ 1042000 ┆ 2023         ┆ 12         ┆ 687.0  │\n",
       "│ STREET 31      ┆               ┆           ┆      ┆         ┆              ┆            ┆        │\n",
       "│ 267A PUNGGOL   ┆ 88            ┆ 5 ROOM    ┆ 1603 ┆ 1100888 ┆ 2024         ┆ 10         ┆ 687.0  │\n",
       "│ FIELD          ┆               ┆           ┆      ┆         ┆              ┆            ┆        │\n",
       "│ 614 ANG MO KIO ┆ 71            ┆ EXECUTIVE ┆ 1603 ┆ 1100000 ┆ 2022         ┆ 25         ┆ 686.0  │\n",
       "│ AVENUE 4       ┆               ┆           ┆      ┆         ┆              ┆            ┆        │\n",
       "│ 611 ANG MO KIO ┆ 55            ┆ EXECUTIVE ┆ 1915 ┆ 1300000 ┆ 2024         ┆ 4          ┆ 679.0  │\n",
       "│ AVENUE 5       ┆               ┆           ┆      ┆         ┆              ┆            ┆        │\n",
       "│ 287C JURONG    ┆ 73            ┆ EXECUTIVE ┆ 1539 ┆ 1008000 ┆ 2023         ┆ 21         ┆ 655.0  │\n",
       "│ EAST STREET 21 ┆               ┆           ┆      ┆         ┆              ┆            ┆        │\n",
       "│ 288A BUKIT     ┆ 72            ┆ EXECUTIVE ┆ 1550 ┆ 1010800 ┆ 2024         ┆ 6          ┆ 652.0  │\n",
       "│ BATOK STREET   ┆               ┆           ┆      ┆         ┆              ┆            ┆        │\n",
       "│ 25             ┆               ┆           ┆      ┆         ┆              ┆            ┆        │\n",
       "│ 613 ANG MO KIO ┆ 71            ┆ EXECUTIVE ┆ 1679 ┆ 1088000 ┆ 2024         ┆ 7          ┆ 648.0  │\n",
       "│ AVENUE 4       ┆               ┆           ┆      ┆         ┆              ┆            ┆        │\n",
       "│ 257 KIM KEAT   ┆ 63            ┆ EXECUTIVE ┆ 1646 ┆ 1050000 ┆ 2023         ┆ 19         ┆ 638.0  │\n",
       "│ AVENUE         ┆               ┆           ┆      ┆         ┆              ┆            ┆        │\n",
       "│ 108 JALAN      ┆ 59            ┆ EXECUTIVE ┆ 1646 ┆ 1050000 ┆ 2022         ┆ 23         ┆ 638.0  │\n",
       "│ RAJAH          ┆               ┆           ┆      ┆         ┆              ┆            ┆        │\n",
       "│ 8 JOO SENG     ┆ 70            ┆ EXECUTIVE ┆ 1571 ┆ 1000000 ┆ 2024         ┆ 5          ┆ 637.0  │\n",
       "│ ROAD           ┆               ┆           ┆      ┆         ┆              ┆            ┆        │\n",
       "│ 404 SIN MING   ┆ 61            ┆ EXECUTIVE ┆ 1657 ┆ 1038888 ┆ 2024         ┆ 10         ┆ 627.0  │\n",
       "│ AVENUE         ┆               ┆           ┆      ┆         ┆              ┆            ┆        │\n",
       "│ 201 CLEMENTI   ┆ 60            ┆ EXECUTIVE ┆ 1614 ┆ 1000000 ┆ 2024         ┆ 8          ┆ 620.0  │\n",
       "│ AVENUE 6       ┆               ┆           ┆      ┆         ┆              ┆            ┆        │\n",
       "│ 401 SIN MING   ┆ 60            ┆ EXECUTIVE ┆ 1657 ┆ 1020000 ┆ 2022         ┆ 25         ┆ 616.0  │\n",
       "│ AVENUE         ┆               ┆           ┆      ┆         ┆              ┆            ┆        │\n",
       "│ 602 ELIAS ROAD ┆ 70            ┆ EXECUTIVE ┆ 1657 ┆ 1020000 ┆ 2024         ┆ 5          ┆ 616.0  │\n",
       "│ 424 SERANGOON  ┆ 64            ┆ EXECUTIVE ┆ 1657 ┆ 1020000 ┆ 2022         ┆ 30         ┆ 616.0  │\n",
       "│ CENTRAL        ┆               ┆           ┆      ┆         ┆              ┆            ┆        │\n",
       "│ 661 YISHUN     ┆ 67            ┆ EXECUTIVE ┆ 1765 ┆ 1078000 ┆ 2022         ┆ 25         ┆ 611.0  │\n",
       "│ AVENUE 4       ┆               ┆           ┆      ┆         ┆              ┆            ┆        │\n",
       "│ 156 TAMPINES   ┆ 59            ┆ EXECUTIVE ┆ 1679 ┆ 1020000 ┆ 2024         ┆ 7          ┆ 608.0  │\n",
       "│ STREET 12      ┆               ┆           ┆      ┆         ┆              ┆            ┆        │\n",
       "│ 476 TAMPINES   ┆ 68            ┆ EXECUTIVE ┆ 1711 ┆ 1018000 ┆ 2024         ┆ 2          ┆ 595.0  │\n",
       "│ STREET 44      ┆               ┆           ┆      ┆         ┆              ┆            ┆        │\n",
       "│ 849 WOODLANDS  ┆ 70            ┆ EXECUTIVE ┆ 1905 ┆ 1060000 ┆ 2023         ┆ 18         ┆ 556.0  │\n",
       "│ STREET 82      ┆               ┆           ┆      ┆         ┆              ┆            ┆        │\n",
       "│ 652 YISHUN     ┆ 67            ┆ EXECUTIVE ┆ 1948 ┆ 1068000 ┆ 2023         ┆ 21         ┆ 548.0  │\n",
       "│ AVENUE 4       ┆               ┆           ┆      ┆         ┆              ┆            ┆        │\n",
       "│ 404 WOODLANDS  ┆ 70            ┆ EXECUTIVE ┆ 1894 ┆ 1000000 ┆ 2022         ┆ 24         ┆ 528.0  │\n",
       "│ STREET 41      ┆               ┆           ┆      ┆         ┆              ┆            ┆        │\n",
       "│ 805 WOODLANDS  ┆ 69            ┆ EXECUTIVE ┆ 2034 ┆ 1030000 ┆ 2022         ┆ 30         ┆ 506.0  │\n",
       "│ STREET 81      ┆               ┆           ┆      ┆         ┆              ┆            ┆        │\n",
       "│ 807 WOODLANDS  ┆ 69            ┆ EXECUTIVE ┆ 2066 ┆ 1020000 ┆ 2022         ┆ 24         ┆ 494.0  │\n",
       "│ STREET 81      ┆               ┆           ┆      ┆         ┆              ┆            ┆        │\n",
       "└────────────────┴───────────────┴───────────┴──────┴─────────┴──────────────┴────────────┴────────┘"
      ]
     },
     "metadata": {},
     "output_type": "display_data"
    }
   ],
   "source": [
    "display(df_mil.sort(\"psf\", descending=True))"
   ]
  },
  {
   "cell_type": "code",
   "execution_count": null,
   "id": "3ee3c2c9",
   "metadata": {},
   "outputs": [],
   "source": []
  }
 ],
 "metadata": {
  "kernelspec": {
   "display_name": "Python 3 (ipykernel)",
   "language": "python",
   "name": "python3"
  },
  "language_info": {
   "codemirror_mode": {
    "name": "ipython",
    "version": 3
   },
   "file_extension": ".py",
   "mimetype": "text/x-python",
   "name": "python",
   "nbconvert_exporter": "python",
   "pygments_lexer": "ipython3",
   "version": "3.10.13"
  }
 },
 "nbformat": 4,
 "nbformat_minor": 5
}
