{
 "cells": [
  {
   "cell_type": "code",
   "execution_count": 1,
   "id": "11db01a2",
   "metadata": {},
   "outputs": [],
   "source": [
    "import polars as pl\n",
    "import matplotlib.pyplot as plt\n",
    "import seaborn as sns\n",
    "sns.set()"
   ]
  },
  {
   "cell_type": "code",
   "execution_count": 2,
   "id": "3f3f96b1",
   "metadata": {},
   "outputs": [],
   "source": [
    "df = pl.read_csv(\"ingested.csv\")\n",
    "\n",
    "df_filter = df.filter(\n",
    "    (pl.col(\"year_of_sale\").is_in([2023, 2024])),\n",
    ")"
   ]
  },
  {
   "cell_type": "code",
   "execution_count": 3,
   "id": "48ea54f6",
   "metadata": {},
   "outputs": [
    {
     "data": {
      "text/html": [
       "<div><style>\n",
       ".dataframe > thead > tr,\n",
       ".dataframe > tbody > tr {\n",
       "  text-align: right;\n",
       "  white-space: pre-wrap;\n",
       "}\n",
       "</style>\n",
       "<small>shape: (2, 4)</small><table border=\"1\" class=\"dataframe\"><thead><tr><th>year_of_sale</th><th>price_is_geq_one_million</th><th>count_transactions</th><th>pct_transactions</th></tr><tr><td>i64</td><td>i64</td><td>u32</td><td>f64</td></tr></thead><tbody><tr><td>2023</td><td>0</td><td>25286</td><td>0.98179</td></tr><tr><td>2023</td><td>1</td><td>469</td><td>0.01821</td></tr></tbody></table></div>"
      ],
      "text/plain": [
       "shape: (2, 4)\n",
       "┌──────────────┬──────────────────────────┬────────────────────┬──────────────────┐\n",
       "│ year_of_sale ┆ price_is_geq_one_million ┆ count_transactions ┆ pct_transactions │\n",
       "│ ---          ┆ ---                      ┆ ---                ┆ ---              │\n",
       "│ i64          ┆ i64                      ┆ u32                ┆ f64              │\n",
       "╞══════════════╪══════════════════════════╪════════════════════╪══════════════════╡\n",
       "│ 2023         ┆ 0                        ┆ 25286              ┆ 0.98179          │\n",
       "│ 2023         ┆ 1                        ┆ 469                ┆ 0.01821          │\n",
       "└──────────────┴──────────────────────────┴────────────────────┴──────────────────┘"
      ]
     },
     "metadata": {},
     "output_type": "display_data"
    }
   ],
   "source": [
    "df_million_2023 = df_filter.filter(\n",
    "    pl.col(\"year_of_sale\").eq(2023)\n",
    ").group_by(\n",
    "    pl.col(\"year_of_sale\"), pl.col(\"price_is_geq_one_million\")\n",
    ").agg(\n",
    "    pl.len().alias(\"count_transactions\")\n",
    ").sort(\n",
    "    pl.col(\"price_is_geq_one_million\"), descending=False\n",
    ").with_columns(\n",
    "    (pl.col(\"count_transactions\") / pl.col(\"count_transactions\").sum()).alias(\"pct_transactions\")\n",
    ")\n",
    "display(df_million_2023)"
   ]
  },
  {
   "cell_type": "code",
   "execution_count": 4,
   "id": "26b49ebd",
   "metadata": {},
   "outputs": [
    {
     "name": "stdout",
     "output_type": "stream",
     "text": [
      "shape: (11, 5)\n",
      "┌──────────────┬───────────────┬──────────────────────────┬────────────────────┬──────────────────┐\n",
      "│ year_of_sale ┆ month_of_sale ┆ price_is_geq_one_million ┆ count_transactions ┆ pct_transactions │\n",
      "│ ---          ┆ ---           ┆ ---                      ┆ ---                ┆ ---              │\n",
      "│ i64          ┆ i64           ┆ i64                      ┆ u32                ┆ f64              │\n",
      "╞══════════════╪═══════════════╪══════════════════════════╪════════════════════╪══════════════════╡\n",
      "│ 2024         ┆ 1             ┆ 1                        ┆ 74                 ┆ 0.078723         │\n",
      "│ 2024         ┆ 2             ┆ 1                        ┆ 49                 ┆ 0.052128         │\n",
      "│ 2024         ┆ 3             ┆ 1                        ┆ 60                 ┆ 0.06383          │\n",
      "│ 2024         ┆ 4             ┆ 1                        ┆ 68                 ┆ 0.07234          │\n",
      "│ 2024         ┆ 5             ┆ 1                        ┆ 73                 ┆ 0.07766          │\n",
      "│ 2024         ┆ 6             ┆ 1                        ┆ 95                 ┆ 0.101064         │\n",
      "│ 2024         ┆ 7             ┆ 1                        ┆ 120                ┆ 0.12766          │\n",
      "│ 2024         ┆ 8             ┆ 1                        ┆ 105                ┆ 0.111702         │\n",
      "│ 2024         ┆ 9             ┆ 1                        ┆ 106                ┆ 0.112766         │\n",
      "│ 2024         ┆ 10            ┆ 1                        ┆ 103                ┆ 0.109574         │\n",
      "│ 2024         ┆ 11            ┆ 1                        ┆ 87                 ┆ 0.092553         │\n",
      "└──────────────┴───────────────┴──────────────────────────┴────────────────────┴──────────────────┘\n",
      "shape: (1, 1)\n",
      "┌────────────────────┐\n",
      "│ count_transactions │\n",
      "│ ---                │\n",
      "│ u32                │\n",
      "╞════════════════════╡\n",
      "│ 940                │\n",
      "└────────────────────┘\n"
     ]
    }
   ],
   "source": [
    "df_million_2024 = df_filter.filter(\n",
    "    pl.col(\"year_of_sale\").eq(2024), pl.col(\"month_of_sale\").le(11), pl.col(\"price_is_geq_one_million\").eq(1)\n",
    ").group_by(\n",
    "    pl.col(\"year_of_sale\"), pl.col(\"month_of_sale\"), pl.col(\"price_is_geq_one_million\")\n",
    ").agg(\n",
    "    pl.len().alias(\"count_transactions\")\n",
    ").sort(\n",
    "    pl.col(\"price_is_geq_one_million\"), descending=False\n",
    ").with_columns(\n",
    "    (pl.col(\"count_transactions\") / pl.col(\"count_transactions\").sum()).alias(\"pct_transactions\")\n",
    ")\n",
    "with pl.Config(tbl_rows = 20):\n",
    "    print(df_million_2024.sort(\"month_of_sale\"))\n",
    "    print(df_million_2024.select(\"count_transactions\").sum())"
   ]
  },
  {
   "cell_type": "code",
   "execution_count": 5,
   "id": "30413fab",
   "metadata": {},
   "outputs": [
    {
     "name": "stdout",
     "output_type": "stream",
     "text": [
      "shape: (2, 4)\n",
      "┌──────────────┬──────────────────────────┬────────────────────┬──────────────────┐\n",
      "│ year_of_sale ┆ price_is_geq_one_million ┆ count_transactions ┆ pct_transactions │\n",
      "│ ---          ┆ ---                      ┆ ---                ┆ ---              │\n",
      "│ i64          ┆ i64                      ┆ u32                ┆ f64              │\n",
      "╞══════════════╪══════════════════════════╪════════════════════╪══════════════════╡\n",
      "│ 2024         ┆ 0                        ┆ 26410              ┆ 0.962955         │\n",
      "│ 2024         ┆ 1                        ┆ 1016               ┆ 0.037045         │\n",
      "└──────────────┴──────────────────────────┴────────────────────┴──────────────────┘\n"
     ]
    }
   ],
   "source": [
    "df_million_2024 = df_filter.filter(\n",
    "    pl.col(\"year_of_sale\").eq(2024)\n",
    ").group_by(\n",
    "    pl.col(\"year_of_sale\"), pl.col(\"price_is_geq_one_million\")\n",
    ").agg(\n",
    "    pl.len().alias(\"count_transactions\")\n",
    ").sort(\n",
    "    pl.col(\"price_is_geq_one_million\"), descending=False\n",
    ").with_columns(\n",
    "    (pl.col(\"count_transactions\") / pl.col(\"count_transactions\").sum()).alias(\"pct_transactions\")\n",
    ")\n",
    "\n",
    "print(df_million_2024)"
   ]
  },
  {
   "cell_type": "code",
   "execution_count": 6,
   "id": "fe3cae9a",
   "metadata": {},
   "outputs": [
    {
     "name": "stdout",
     "output_type": "stream",
     "text": [
      "shape: (6, 3)\n",
      "┌───────────────────────┬────────────────────┬──────────────────┐\n",
      "│ price_round_down_100k ┆ count_transactions ┆ pct_transactions │\n",
      "│ ---                   ┆ ---                ┆ ---              │\n",
      "│ i64                   ┆ u32                ┆ f64              │\n",
      "╞═══════════════════════╪════════════════════╪══════════════════╡\n",
      "│ 1000000               ┆ 846                ┆ 0.569697         │\n",
      "│ 1100000               ┆ 298                ┆ 0.200673         │\n",
      "│ 1200000               ┆ 180                ┆ 0.121212         │\n",
      "│ 1300000               ┆ 89                 ┆ 0.059933         │\n",
      "│ 1400000               ┆ 50                 ┆ 0.03367          │\n",
      "│ 1500000               ┆ 22                 ┆ 0.014815         │\n",
      "└───────────────────────┴────────────────────┴──────────────────┘\n"
     ]
    }
   ],
   "source": [
    "df_by_100_000 = df_filter.with_columns(\n",
    "    (pl.col(\"price\") // 100000 * 100000).alias(\"price_round_down_100k\")  \n",
    ").filter(\n",
    "    pl.col(\"price_is_geq_one_million\").eq(1)\n",
    ").group_by(\"price_round_down_100k\").agg(\n",
    "    pl.len().alias(\"count_transactions\")\n",
    ").with_columns(\n",
    "  (pl.col(\"count_transactions\") / pl.col(\"count_transactions\").sum()).alias(\"pct_transactions\")\n",
    ").sort(\"price_round_down_100k\")\n",
    "print(df_by_100_000)"
   ]
  },
  {
   "cell_type": "code",
   "execution_count": 7,
   "id": "cd58bef0",
   "metadata": {},
   "outputs": [
    {
     "data": {
      "text/html": [
       "<div><style>\n",
       ".dataframe > thead > tr,\n",
       ".dataframe > tbody > tr {\n",
       "  text-align: right;\n",
       "  white-space: pre-wrap;\n",
       "}\n",
       "</style>\n",
       "<small>shape: (16, 5)</small><table border=\"1\" class=\"dataframe\"><thead><tr><th>address</th><th>town</th><th>flat_type</th><th>price</th><th>band_name</th></tr><tr><td>str</td><td>str</td><td>str</td><td>i64</td><td>str</td></tr></thead><tbody><tr><td>&quot;9B BOON TIONG ROAD&quot;</td><td>&quot;BUKIT MERAH&quot;</td><td>&quot;5 ROOM&quot;</td><td>1588000</td><td>&quot;90 - 94&quot;</td></tr><tr><td>&quot;96A HENDERSON ROAD&quot;</td><td>&quot;BUKIT MERAH&quot;</td><td>&quot;5 ROOM&quot;</td><td>1588000</td><td>&quot;90 - 94&quot;</td></tr><tr><td>&quot;126A KIM TIAN ROAD&quot;</td><td>&quot;BUKIT MERAH&quot;</td><td>&quot;5 ROOM&quot;</td><td>1580000</td><td>&quot;85 - 89&quot;</td></tr><tr><td>&quot;139A LORONG 1A TOA PAYOH&quot;</td><td>&quot;TOA PAYOH&quot;</td><td>&quot;5 ROOM&quot;</td><td>1568888</td><td>&quot;85 - 89&quot;</td></tr><tr><td>&quot;275A BISHAN STREET 24&quot;</td><td>&quot;BISHAN&quot;</td><td>&quot;5 ROOM&quot;</td><td>1568000</td><td>&quot;85 - 89&quot;</td></tr><tr><td>&quot;53 JALAN MA&#x27;MOR&quot;</td><td>&quot;KALLANG/WHAMPOA&quot;</td><td>&quot;3 ROOM&quot;</td><td>1568000</td><td>&quot;45 - 49&quot;</td></tr><tr><td>&quot;28A DOVER CRESCENT&quot;</td><td>&quot;QUEENSTOWN&quot;</td><td>&quot;5 ROOM&quot;</td><td>1550000</td><td>&quot;85 - 89&quot;</td></tr><tr><td>&quot;1D CANTONMENT ROAD&quot;</td><td>&quot;CENTRAL AREA&quot;</td><td>&quot;5 ROOM&quot;</td><td>1542880</td><td>&quot;85 - 89&quot;</td></tr><tr><td>&quot;1F CANTONMENT ROAD&quot;</td><td>&quot;CENTRAL AREA&quot;</td><td>&quot;5 ROOM&quot;</td><td>1540000</td><td>&quot;85 - 89&quot;</td></tr><tr><td>&quot;138C LORONG 1A TOA PAYOH&quot;</td><td>&quot;TOA PAYOH&quot;</td><td>&quot;5 ROOM&quot;</td><td>1540000</td><td>&quot;85 - 89&quot;</td></tr><tr><td>&quot;139A LORONG 1A TOA PAYOH&quot;</td><td>&quot;TOA PAYOH&quot;</td><td>&quot;5 ROOM&quot;</td><td>1540000</td><td>&quot;85 - 89&quot;</td></tr><tr><td>&quot;275A BISHAN STREET 24&quot;</td><td>&quot;BISHAN&quot;</td><td>&quot;5 ROOM&quot;</td><td>1539000</td><td>&quot;85 - 89&quot;</td></tr><tr><td>&quot;275A BISHAN STREET 24&quot;</td><td>&quot;BISHAN&quot;</td><td>&quot;5 ROOM&quot;</td><td>1538000</td><td>&quot;85 - 89&quot;</td></tr><tr><td>&quot;1C CANTONMENT ROAD&quot;</td><td>&quot;CENTRAL AREA&quot;</td><td>&quot;5 ROOM&quot;</td><td>1515000</td><td>&quot;85 - 89&quot;</td></tr><tr><td>&quot;1D CANTONMENT ROAD&quot;</td><td>&quot;CENTRAL AREA&quot;</td><td>&quot;5 ROOM&quot;</td><td>1515000</td><td>&quot;85 - 89&quot;</td></tr><tr><td>&quot;138C LORONG 1A TOA PAYOH&quot;</td><td>&quot;TOA PAYOH&quot;</td><td>&quot;5 ROOM&quot;</td><td>1503888</td><td>&quot;85 - 89&quot;</td></tr></tbody></table></div>"
      ],
      "text/plain": [
       "shape: (16, 5)\n",
       "┌──────────────────────────┬─────────────────┬───────────┬─────────┬───────────┐\n",
       "│ address                  ┆ town            ┆ flat_type ┆ price   ┆ band_name │\n",
       "│ ---                      ┆ ---             ┆ ---       ┆ ---     ┆ ---       │\n",
       "│ str                      ┆ str             ┆ str       ┆ i64     ┆ str       │\n",
       "╞══════════════════════════╪═════════════════╪═══════════╪═════════╪═══════════╡\n",
       "│ 9B BOON TIONG ROAD       ┆ BUKIT MERAH     ┆ 5 ROOM    ┆ 1588000 ┆ 90 - 94   │\n",
       "│ 96A HENDERSON ROAD       ┆ BUKIT MERAH     ┆ 5 ROOM    ┆ 1588000 ┆ 90 - 94   │\n",
       "│ 126A KIM TIAN ROAD       ┆ BUKIT MERAH     ┆ 5 ROOM    ┆ 1580000 ┆ 85 - 89   │\n",
       "│ 139A LORONG 1A TOA PAYOH ┆ TOA PAYOH       ┆ 5 ROOM    ┆ 1568888 ┆ 85 - 89   │\n",
       "│ 275A BISHAN STREET 24    ┆ BISHAN          ┆ 5 ROOM    ┆ 1568000 ┆ 85 - 89   │\n",
       "│ 53 JALAN MA'MOR          ┆ KALLANG/WHAMPOA ┆ 3 ROOM    ┆ 1568000 ┆ 45 - 49   │\n",
       "│ 28A DOVER CRESCENT       ┆ QUEENSTOWN      ┆ 5 ROOM    ┆ 1550000 ┆ 85 - 89   │\n",
       "│ 1D CANTONMENT ROAD       ┆ CENTRAL AREA    ┆ 5 ROOM    ┆ 1542880 ┆ 85 - 89   │\n",
       "│ 1F CANTONMENT ROAD       ┆ CENTRAL AREA    ┆ 5 ROOM    ┆ 1540000 ┆ 85 - 89   │\n",
       "│ 138C LORONG 1A TOA PAYOH ┆ TOA PAYOH       ┆ 5 ROOM    ┆ 1540000 ┆ 85 - 89   │\n",
       "│ 139A LORONG 1A TOA PAYOH ┆ TOA PAYOH       ┆ 5 ROOM    ┆ 1540000 ┆ 85 - 89   │\n",
       "│ 275A BISHAN STREET 24    ┆ BISHAN          ┆ 5 ROOM    ┆ 1539000 ┆ 85 - 89   │\n",
       "│ 275A BISHAN STREET 24    ┆ BISHAN          ┆ 5 ROOM    ┆ 1538000 ┆ 85 - 89   │\n",
       "│ 1C CANTONMENT ROAD       ┆ CENTRAL AREA    ┆ 5 ROOM    ┆ 1515000 ┆ 85 - 89   │\n",
       "│ 1D CANTONMENT ROAD       ┆ CENTRAL AREA    ┆ 5 ROOM    ┆ 1515000 ┆ 85 - 89   │\n",
       "│ 138C LORONG 1A TOA PAYOH ┆ TOA PAYOH       ┆ 5 ROOM    ┆ 1503888 ┆ 85 - 89   │\n",
       "└──────────────────────────┴─────────────────┴───────────┴─────────┴───────────┘"
      ]
     },
     "metadata": {},
     "output_type": "display_data"
    }
   ],
   "source": [
    "with pl.Config(tbl_rows = 20):\n",
    "    display(\n",
    "        df_filter.filter(pl.col(\"price\") > 1500000).sort(\"price\", descending=True).select(\"address\", \"town\", \"flat_type\", \"price\", \"band_name\")\n",
    "    )"
   ]
  },
  {
   "cell_type": "code",
   "execution_count": 8,
   "id": "a2859d20",
   "metadata": {},
   "outputs": [
    {
     "data": {
      "text/html": [
       "<div><style>\n",
       ".dataframe > thead > tr,\n",
       ".dataframe > tbody > tr {\n",
       "  text-align: right;\n",
       "  white-space: pre-wrap;\n",
       "}\n",
       "</style>\n",
       "<small>shape: (23, 2)</small><table border=\"1\" class=\"dataframe\"><thead><tr><th>town</th><th>count_transactions</th></tr><tr><td>str</td><td>u32</td></tr></thead><tbody><tr><td>&quot;KALLANG/WHAMPOA&quot;</td><td>154</td></tr><tr><td>&quot;TOA PAYOH&quot;</td><td>141</td></tr><tr><td>&quot;BUKIT MERAH&quot;</td><td>133</td></tr><tr><td>&quot;QUEENSTOWN&quot;</td><td>106</td></tr><tr><td>&quot;BISHAN&quot;</td><td>77</td></tr><tr><td>&quot;ANG MO KIO&quot;</td><td>67</td></tr><tr><td>&quot;CLEMENTI&quot;</td><td>51</td></tr><tr><td>&quot;GEYLANG&quot;</td><td>48</td></tr><tr><td>&quot;CENTRAL AREA&quot;</td><td>45</td></tr><tr><td>&quot;HOUGANG&quot;</td><td>31</td></tr><tr><td>&quot;SERANGOON&quot;</td><td>28</td></tr><tr><td>&quot;BEDOK&quot;</td><td>25</td></tr><tr><td>&quot;BUKIT TIMAH&quot;</td><td>24</td></tr><tr><td>&quot;TAMPINES&quot;</td><td>22</td></tr><tr><td>&quot;WOODLANDS&quot;</td><td>20</td></tr><tr><td>&quot;YISHUN&quot;</td><td>9</td></tr><tr><td>&quot;BUKIT PANJANG&quot;</td><td>9</td></tr><tr><td>&quot;JURONG EAST&quot;</td><td>6</td></tr><tr><td>&quot;MARINE PARADE&quot;</td><td>5</td></tr><tr><td>&quot;PASIR RIS&quot;</td><td>5</td></tr><tr><td>&quot;SENGKANG&quot;</td><td>4</td></tr><tr><td>&quot;PUNGGOL&quot;</td><td>3</td></tr><tr><td>&quot;BUKIT BATOK&quot;</td><td>3</td></tr></tbody></table></div>"
      ],
      "text/plain": [
       "shape: (23, 2)\n",
       "┌─────────────────┬────────────────────┐\n",
       "│ town            ┆ count_transactions │\n",
       "│ ---             ┆ ---                │\n",
       "│ str             ┆ u32                │\n",
       "╞═════════════════╪════════════════════╡\n",
       "│ KALLANG/WHAMPOA ┆ 154                │\n",
       "│ TOA PAYOH       ┆ 141                │\n",
       "│ BUKIT MERAH     ┆ 133                │\n",
       "│ QUEENSTOWN      ┆ 106                │\n",
       "│ BISHAN          ┆ 77                 │\n",
       "│ ANG MO KIO      ┆ 67                 │\n",
       "│ CLEMENTI        ┆ 51                 │\n",
       "│ GEYLANG         ┆ 48                 │\n",
       "│ CENTRAL AREA    ┆ 45                 │\n",
       "│ HOUGANG         ┆ 31                 │\n",
       "│ SERANGOON       ┆ 28                 │\n",
       "│ BEDOK           ┆ 25                 │\n",
       "│ BUKIT TIMAH     ┆ 24                 │\n",
       "│ TAMPINES        ┆ 22                 │\n",
       "│ WOODLANDS       ┆ 20                 │\n",
       "│ YISHUN          ┆ 9                  │\n",
       "│ BUKIT PANJANG   ┆ 9                  │\n",
       "│ JURONG EAST     ┆ 6                  │\n",
       "│ MARINE PARADE   ┆ 5                  │\n",
       "│ PASIR RIS       ┆ 5                  │\n",
       "│ SENGKANG        ┆ 4                  │\n",
       "│ PUNGGOL         ┆ 3                  │\n",
       "│ BUKIT BATOK     ┆ 3                  │\n",
       "└─────────────────┴────────────────────┘"
      ]
     },
     "metadata": {},
     "output_type": "display_data"
    }
   ],
   "source": [
    "with pl.Config(set_tbl_rows=30):\n",
    "    display(\n",
    "        df.filter(\n",
    "            (pl.col(\"year_of_sale\").eq(2024)),\n",
    "            (pl.col(\"price_is_geq_one_million\").eq(1)),\n",
    "        )\n",
    "        .group_by(\"town\")\n",
    "        .agg(pl.col(\"address\").len().alias(\"count_transactions\"))\n",
    "        .sort(\"count_transactions\", descending=True)\n",
    "    )\n"
   ]
  },
  {
   "cell_type": "code",
   "execution_count": 9,
   "id": "a31d22bb",
   "metadata": {},
   "outputs": [
    {
     "data": {
      "text/html": [
       "<div><style>\n",
       ".dataframe > thead > tr,\n",
       ".dataframe > tbody > tr {\n",
       "  text-align: right;\n",
       "  white-space: pre-wrap;\n",
       "}\n",
       "</style>\n",
       "<small>shape: (4, 8)</small><table border=\"1\" class=\"dataframe\"><thead><tr><th>address</th><th>sqft</th><th>minimum_floor</th><th>maximum_floor</th><th>flat_type</th><th>price</th><th>year_of_sale</th><th>month_of_sale</th></tr><tr><td>str</td><td>i64</td><td>i64</td><td>i64</td><td>str</td><td>i64</td><td>i64</td><td>i64</td></tr></thead><tbody><tr><td>&quot;205B COMPASSVALE LANE&quot;</td><td>1539</td><td>7</td><td>9</td><td>&quot;EXECUTIVE&quot;</td><td>1000000</td><td>2024</td><td>4</td></tr><tr><td>&quot;216B COMPASSVALE DRIVE&quot;</td><td>1205</td><td>16</td><td>18</td><td>&quot;5 ROOM&quot;</td><td>1000000</td><td>2024</td><td>7</td></tr><tr><td>&quot;102 RIVERVALE WALK&quot;</td><td>1528</td><td>10</td><td>12</td><td>&quot;EXECUTIVE&quot;</td><td>1005000</td><td>2024</td><td>8</td></tr><tr><td>&quot;216B COMPASSVALE DRIVE&quot;</td><td>1205</td><td>13</td><td>15</td><td>&quot;5 ROOM&quot;</td><td>1050000</td><td>2024</td><td>11</td></tr></tbody></table></div>"
      ],
      "text/plain": [
       "shape: (4, 8)\n",
       "┌─────────────┬──────┬─────────────┬─────────────┬───────────┬─────────┬─────────────┬─────────────┐\n",
       "│ address     ┆ sqft ┆ minimum_flo ┆ maximum_flo ┆ flat_type ┆ price   ┆ year_of_sal ┆ month_of_sa │\n",
       "│ ---         ┆ ---  ┆ or          ┆ or          ┆ ---       ┆ ---     ┆ e           ┆ le          │\n",
       "│ str         ┆ i64  ┆ ---         ┆ ---         ┆ str       ┆ i64     ┆ ---         ┆ ---         │\n",
       "│             ┆      ┆ i64         ┆ i64         ┆           ┆         ┆ i64         ┆ i64         │\n",
       "╞═════════════╪══════╪═════════════╪═════════════╪═══════════╪═════════╪═════════════╪═════════════╡\n",
       "│ 205B        ┆ 1539 ┆ 7           ┆ 9           ┆ EXECUTIVE ┆ 1000000 ┆ 2024        ┆ 4           │\n",
       "│ COMPASSVALE ┆      ┆             ┆             ┆           ┆         ┆             ┆             │\n",
       "│ LANE        ┆      ┆             ┆             ┆           ┆         ┆             ┆             │\n",
       "│ 216B        ┆ 1205 ┆ 16          ┆ 18          ┆ 5 ROOM    ┆ 1000000 ┆ 2024        ┆ 7           │\n",
       "│ COMPASSVALE ┆      ┆             ┆             ┆           ┆         ┆             ┆             │\n",
       "│ DRIVE       ┆      ┆             ┆             ┆           ┆         ┆             ┆             │\n",
       "│ 102         ┆ 1528 ┆ 10          ┆ 12          ┆ EXECUTIVE ┆ 1005000 ┆ 2024        ┆ 8           │\n",
       "│ RIVERVALE   ┆      ┆             ┆             ┆           ┆         ┆             ┆             │\n",
       "│ WALK        ┆      ┆             ┆             ┆           ┆         ┆             ┆             │\n",
       "│ 216B        ┆ 1205 ┆ 13          ┆ 15          ┆ 5 ROOM    ┆ 1050000 ┆ 2024        ┆ 11          │\n",
       "│ COMPASSVALE ┆      ┆             ┆             ┆           ┆         ┆             ┆             │\n",
       "│ DRIVE       ┆      ┆             ┆             ┆           ┆         ┆             ┆             │\n",
       "└─────────────┴──────┴─────────────┴─────────────┴───────────┴─────────┴─────────────┴─────────────┘"
      ]
     },
     "execution_count": 9,
     "metadata": {},
     "output_type": "execute_result"
    }
   ],
   "source": [
    "df.filter(\n",
    "    (pl.col(\"year_of_sale\").eq(2024)),\n",
    "    (pl.col(\"price_is_geq_one_million\").eq(1)),\n",
    "    (pl.col(\"town\").eq(\"SENGKANG\"))\n",
    ").sort(\"month_of_sale\").select(\n",
    "    \"address\", \"sqft\", \"minimum_floor\", \"maximum_floor\", \"flat_type\",\n",
    "    \"price\", \"year_of_sale\", \"month_of_sale\"\n",
    ")"
   ]
  },
  {
   "cell_type": "code",
   "execution_count": 10,
   "id": "c004c261",
   "metadata": {},
   "outputs": [
    {
     "data": {
      "text/html": [
       "<div><style>\n",
       ".dataframe > thead > tr,\n",
       ".dataframe > tbody > tr {\n",
       "  text-align: right;\n",
       "  white-space: pre-wrap;\n",
       "}\n",
       "</style>\n",
       "<small>shape: (1_926, 8)</small><table border=\"1\" class=\"dataframe\"><thead><tr><th>address</th><th>sqft</th><th>minimum_floor</th><th>maximum_floor</th><th>flat_type</th><th>price</th><th>year_of_sale</th><th>month_of_sale</th></tr><tr><td>str</td><td>i64</td><td>i64</td><td>i64</td><td>str</td><td>i64</td><td>i64</td><td>i64</td></tr></thead><tbody><tr><td>&quot;471 JURONG WEST STREET 41&quot;</td><td>1603</td><td>10</td><td>12</td><td>&quot;EXECUTIVE&quot;</td><td>980000</td><td>2024</td><td>6</td></tr><tr><td>&quot;469 JURONG WEST STREET 41&quot;</td><td>1689</td><td>4</td><td>6</td><td>&quot;EXECUTIVE&quot;</td><td>960000</td><td>2024</td><td>9</td></tr><tr><td>&quot;138D YUAN CHING ROAD&quot;</td><td>1162</td><td>13</td><td>15</td><td>&quot;5 ROOM&quot;</td><td>952888</td><td>2024</td><td>11</td></tr><tr><td>&quot;472 JURONG WEST STREET 41&quot;</td><td>1625</td><td>13</td><td>15</td><td>&quot;EXECUTIVE&quot;</td><td>940000</td><td>2024</td><td>12</td></tr><tr><td>&quot;138C YUAN CHING ROAD&quot;</td><td>1162</td><td>13</td><td>15</td><td>&quot;5 ROOM&quot;</td><td>920000</td><td>2024</td><td>6</td></tr><tr><td>&hellip;</td><td>&hellip;</td><td>&hellip;</td><td>&hellip;</td><td>&hellip;</td><td>&hellip;</td><td>&hellip;</td><td>&hellip;</td></tr><tr><td>&quot;112 HO CHING ROAD&quot;</td><td>613</td><td>4</td><td>6</td><td>&quot;2 ROOM&quot;</td><td>270000</td><td>2024</td><td>6</td></tr><tr><td>&quot;191 BOON LAY DRIVE&quot;</td><td>505</td><td>4</td><td>6</td><td>&quot;2 ROOM&quot;</td><td>265000</td><td>2024</td><td>5</td></tr><tr><td>&quot;191 BOON LAY DRIVE&quot;</td><td>398</td><td>4</td><td>6</td><td>&quot;2 ROOM&quot;</td><td>265000</td><td>2024</td><td>7</td></tr><tr><td>&quot;188 BOON LAY DRIVE&quot;</td><td>516</td><td>4</td><td>6</td><td>&quot;2 ROOM&quot;</td><td>260000</td><td>2024</td><td>1</td></tr><tr><td>&quot;191 BOON LAY DRIVE&quot;</td><td>505</td><td>4</td><td>6</td><td>&quot;2 ROOM&quot;</td><td>255000</td><td>2024</td><td>4</td></tr></tbody></table></div>"
      ],
      "text/plain": [
       "shape: (1_926, 8)\n",
       "┌──────────────┬──────┬─────────────┬─────────────┬───────────┬────────┬─────────────┬─────────────┐\n",
       "│ address      ┆ sqft ┆ minimum_flo ┆ maximum_flo ┆ flat_type ┆ price  ┆ year_of_sal ┆ month_of_sa │\n",
       "│ ---          ┆ ---  ┆ or          ┆ or          ┆ ---       ┆ ---    ┆ e           ┆ le          │\n",
       "│ str          ┆ i64  ┆ ---         ┆ ---         ┆ str       ┆ i64    ┆ ---         ┆ ---         │\n",
       "│              ┆      ┆ i64         ┆ i64         ┆           ┆        ┆ i64         ┆ i64         │\n",
       "╞══════════════╪══════╪═════════════╪═════════════╪═══════════╪════════╪═════════════╪═════════════╡\n",
       "│ 471 JURONG   ┆ 1603 ┆ 10          ┆ 12          ┆ EXECUTIVE ┆ 980000 ┆ 2024        ┆ 6           │\n",
       "│ WEST STREET  ┆      ┆             ┆             ┆           ┆        ┆             ┆             │\n",
       "│ 41           ┆      ┆             ┆             ┆           ┆        ┆             ┆             │\n",
       "│ 469 JURONG   ┆ 1689 ┆ 4           ┆ 6           ┆ EXECUTIVE ┆ 960000 ┆ 2024        ┆ 9           │\n",
       "│ WEST STREET  ┆      ┆             ┆             ┆           ┆        ┆             ┆             │\n",
       "│ 41           ┆      ┆             ┆             ┆           ┆        ┆             ┆             │\n",
       "│ 138D YUAN    ┆ 1162 ┆ 13          ┆ 15          ┆ 5 ROOM    ┆ 952888 ┆ 2024        ┆ 11          │\n",
       "│ CHING ROAD   ┆      ┆             ┆             ┆           ┆        ┆             ┆             │\n",
       "│ 472 JURONG   ┆ 1625 ┆ 13          ┆ 15          ┆ EXECUTIVE ┆ 940000 ┆ 2024        ┆ 12          │\n",
       "│ WEST STREET  ┆      ┆             ┆             ┆           ┆        ┆             ┆             │\n",
       "│ 41           ┆      ┆             ┆             ┆           ┆        ┆             ┆             │\n",
       "│ 138C YUAN    ┆ 1162 ┆ 13          ┆ 15          ┆ 5 ROOM    ┆ 920000 ┆ 2024        ┆ 6           │\n",
       "│ CHING ROAD   ┆      ┆             ┆             ┆           ┆        ┆             ┆             │\n",
       "│ …            ┆ …    ┆ …           ┆ …           ┆ …         ┆ …      ┆ …           ┆ …           │\n",
       "│ 112 HO CHING ┆ 613  ┆ 4           ┆ 6           ┆ 2 ROOM    ┆ 270000 ┆ 2024        ┆ 6           │\n",
       "│ ROAD         ┆      ┆             ┆             ┆           ┆        ┆             ┆             │\n",
       "│ 191 BOON LAY ┆ 505  ┆ 4           ┆ 6           ┆ 2 ROOM    ┆ 265000 ┆ 2024        ┆ 5           │\n",
       "│ DRIVE        ┆      ┆             ┆             ┆           ┆        ┆             ┆             │\n",
       "│ 191 BOON LAY ┆ 398  ┆ 4           ┆ 6           ┆ 2 ROOM    ┆ 265000 ┆ 2024        ┆ 7           │\n",
       "│ DRIVE        ┆      ┆             ┆             ┆           ┆        ┆             ┆             │\n",
       "│ 188 BOON LAY ┆ 516  ┆ 4           ┆ 6           ┆ 2 ROOM    ┆ 260000 ┆ 2024        ┆ 1           │\n",
       "│ DRIVE        ┆      ┆             ┆             ┆           ┆        ┆             ┆             │\n",
       "│ 191 BOON LAY ┆ 505  ┆ 4           ┆ 6           ┆ 2 ROOM    ┆ 255000 ┆ 2024        ┆ 4           │\n",
       "│ DRIVE        ┆      ┆             ┆             ┆           ┆        ┆             ┆             │\n",
       "└──────────────┴──────┴─────────────┴─────────────┴───────────┴────────┴─────────────┴─────────────┘"
      ]
     },
     "execution_count": 10,
     "metadata": {},
     "output_type": "execute_result"
    }
   ],
   "source": [
    "df.filter(\n",
    "    (pl.col(\"year_of_sale\").eq(2024)),\n",
    "    (pl.col(\"price_is_geq_one_million\").eq(0)),\n",
    "    (pl.col(\"town\").eq(\"JURONG WEST\"))\n",
    ").sort(\"price\", descending=True).select(\n",
    "    \"address\", \"sqft\", \"minimum_floor\", \"maximum_floor\", \"flat_type\",\n",
    "    \"price\", \"year_of_sale\", \"month_of_sale\"\n",
    ")"
   ]
  },
  {
   "cell_type": "code",
   "execution_count": 11,
   "id": "2d9348f4",
   "metadata": {},
   "outputs": [
    {
     "data": {
      "text/html": [
       "<div><style>\n",
       ".dataframe > thead > tr,\n",
       ".dataframe > tbody > tr {\n",
       "  text-align: right;\n",
       "  white-space: pre-wrap;\n",
       "}\n",
       "</style>\n",
       "<small>shape: (1_016, 10)</small><table border=\"1\" class=\"dataframe\"><thead><tr><th>address</th><th>sqft</th><th>minimum_floor</th><th>maximum_floor</th><th>flat_type</th><th>price</th><th>year_of_sale</th><th>month_of_sale</th><th>psf</th><th>band_name</th></tr><tr><td>str</td><td>i64</td><td>i64</td><td>i64</td><td>str</td><td>i64</td><td>i64</td><td>i64</td><td>f64</td><td>str</td></tr></thead><tbody><tr><td>&quot;9B BOON TIONG ROAD&quot;</td><td>1205</td><td>34</td><td>36</td><td>&quot;5 ROOM&quot;</td><td>1588000</td><td>2024</td><td>6</td><td>1317.84</td><td>&quot;90 - 94&quot;</td></tr><tr><td>&quot;96A HENDERSON ROAD&quot;</td><td>1216</td><td>46</td><td>48</td><td>&quot;5 ROOM&quot;</td><td>1588000</td><td>2024</td><td>6</td><td>1305.92</td><td>&quot;90 - 94&quot;</td></tr><tr><td>&quot;126A KIM TIAN ROAD&quot;</td><td>1216</td><td>40</td><td>42</td><td>&quot;5 ROOM&quot;</td><td>1580000</td><td>2024</td><td>9</td><td>1299.34</td><td>&quot;85 - 89&quot;</td></tr><tr><td>&quot;139A LORONG 1A TOA PAYOH&quot;</td><td>1259</td><td>40</td><td>42</td><td>&quot;5 ROOM&quot;</td><td>1568888</td><td>2024</td><td>1</td><td>1246.13</td><td>&quot;85 - 89&quot;</td></tr><tr><td>&quot;275A BISHAN STREET 24&quot;</td><td>1291</td><td>37</td><td>39</td><td>&quot;5 ROOM&quot;</td><td>1568000</td><td>2024</td><td>7</td><td>1214.56</td><td>&quot;85 - 89&quot;</td></tr><tr><td>&hellip;</td><td>&hellip;</td><td>&hellip;</td><td>&hellip;</td><td>&hellip;</td><td>&hellip;</td><td>&hellip;</td><td>&hellip;</td><td>&hellip;</td><td>&hellip;</td></tr><tr><td>&quot;849 WOODLANDS STREET 82&quot;</td><td>1894</td><td>1</td><td>3</td><td>&quot;EXECUTIVE&quot;</td><td>1000000</td><td>2024</td><td>10</td><td>527.98</td><td>&quot;70 - 74&quot;</td></tr><tr><td>&quot;654 YISHUN AVENUE 4&quot;</td><td>1765</td><td>10</td><td>12</td><td>&quot;EXECUTIVE&quot;</td><td>1000000</td><td>2024</td><td>10</td><td>566.57</td><td>&quot;65 - 69&quot;</td></tr><tr><td>&quot;826 YISHUN STREET 81&quot;</td><td>1571</td><td>10</td><td>12</td><td>&quot;EXECUTIVE&quot;</td><td>1000000</td><td>2024</td><td>6</td><td>636.53</td><td>&quot;60 - 64&quot;</td></tr><tr><td>&quot;826 YISHUN STREET 81&quot;</td><td>1571</td><td>4</td><td>6</td><td>&quot;EXECUTIVE&quot;</td><td>1000000</td><td>2024</td><td>6</td><td>636.53</td><td>&quot;60 - 64&quot;</td></tr><tr><td>&quot;824 YISHUN STREET 81&quot;</td><td>1571</td><td>4</td><td>6</td><td>&quot;EXECUTIVE&quot;</td><td>1000000</td><td>2024</td><td>8</td><td>636.53</td><td>&quot;60 - 64&quot;</td></tr></tbody></table></div>"
      ],
      "text/plain": [
       "shape: (1_016, 10)\n",
       "┌─────────────┬──────┬────────────┬────────────┬───┬────────────┬────────────┬─────────┬───────────┐\n",
       "│ address     ┆ sqft ┆ minimum_fl ┆ maximum_fl ┆ … ┆ year_of_sa ┆ month_of_s ┆ psf     ┆ band_name │\n",
       "│ ---         ┆ ---  ┆ oor        ┆ oor        ┆   ┆ le         ┆ ale        ┆ ---     ┆ ---       │\n",
       "│ str         ┆ i64  ┆ ---        ┆ ---        ┆   ┆ ---        ┆ ---        ┆ f64     ┆ str       │\n",
       "│             ┆      ┆ i64        ┆ i64        ┆   ┆ i64        ┆ i64        ┆         ┆           │\n",
       "╞═════════════╪══════╪════════════╪════════════╪═══╪════════════╪════════════╪═════════╪═══════════╡\n",
       "│ 9B BOON     ┆ 1205 ┆ 34         ┆ 36         ┆ … ┆ 2024       ┆ 6          ┆ 1317.84 ┆ 90 - 94   │\n",
       "│ TIONG ROAD  ┆      ┆            ┆            ┆   ┆            ┆            ┆         ┆           │\n",
       "│ 96A         ┆ 1216 ┆ 46         ┆ 48         ┆ … ┆ 2024       ┆ 6          ┆ 1305.92 ┆ 90 - 94   │\n",
       "│ HENDERSON   ┆      ┆            ┆            ┆   ┆            ┆            ┆         ┆           │\n",
       "│ ROAD        ┆      ┆            ┆            ┆   ┆            ┆            ┆         ┆           │\n",
       "│ 126A KIM    ┆ 1216 ┆ 40         ┆ 42         ┆ … ┆ 2024       ┆ 9          ┆ 1299.34 ┆ 85 - 89   │\n",
       "│ TIAN ROAD   ┆      ┆            ┆            ┆   ┆            ┆            ┆         ┆           │\n",
       "│ 139A LORONG ┆ 1259 ┆ 40         ┆ 42         ┆ … ┆ 2024       ┆ 1          ┆ 1246.13 ┆ 85 - 89   │\n",
       "│ 1A TOA      ┆      ┆            ┆            ┆   ┆            ┆            ┆         ┆           │\n",
       "│ PAYOH       ┆      ┆            ┆            ┆   ┆            ┆            ┆         ┆           │\n",
       "│ 275A BISHAN ┆ 1291 ┆ 37         ┆ 39         ┆ … ┆ 2024       ┆ 7          ┆ 1214.56 ┆ 85 - 89   │\n",
       "│ STREET 24   ┆      ┆            ┆            ┆   ┆            ┆            ┆         ┆           │\n",
       "│ …           ┆ …    ┆ …          ┆ …          ┆ … ┆ …          ┆ …          ┆ …       ┆ …         │\n",
       "│ 849         ┆ 1894 ┆ 1          ┆ 3          ┆ … ┆ 2024       ┆ 10         ┆ 527.98  ┆ 70 - 74   │\n",
       "│ WOODLANDS   ┆      ┆            ┆            ┆   ┆            ┆            ┆         ┆           │\n",
       "│ STREET 82   ┆      ┆            ┆            ┆   ┆            ┆            ┆         ┆           │\n",
       "│ 654 YISHUN  ┆ 1765 ┆ 10         ┆ 12         ┆ … ┆ 2024       ┆ 10         ┆ 566.57  ┆ 65 - 69   │\n",
       "│ AVENUE 4    ┆      ┆            ┆            ┆   ┆            ┆            ┆         ┆           │\n",
       "│ 826 YISHUN  ┆ 1571 ┆ 10         ┆ 12         ┆ … ┆ 2024       ┆ 6          ┆ 636.53  ┆ 60 - 64   │\n",
       "│ STREET 81   ┆      ┆            ┆            ┆   ┆            ┆            ┆         ┆           │\n",
       "│ 826 YISHUN  ┆ 1571 ┆ 4          ┆ 6          ┆ … ┆ 2024       ┆ 6          ┆ 636.53  ┆ 60 - 64   │\n",
       "│ STREET 81   ┆      ┆            ┆            ┆   ┆            ┆            ┆         ┆           │\n",
       "│ 824 YISHUN  ┆ 1571 ┆ 4          ┆ 6          ┆ … ┆ 2024       ┆ 8          ┆ 636.53  ┆ 60 - 64   │\n",
       "│ STREET 81   ┆      ┆            ┆            ┆   ┆            ┆            ┆         ┆           │\n",
       "└─────────────┴──────┴────────────┴────────────┴───┴────────────┴────────────┴─────────┴───────────┘"
      ]
     },
     "execution_count": 11,
     "metadata": {},
     "output_type": "execute_result"
    }
   ],
   "source": [
    "df.filter(\n",
    "    (pl.col(\"year_of_sale\").eq(2024)),\n",
    "    (pl.col(\"price_is_geq_one_million\").eq(1)),\n",
    ").sort(\"price\", descending=True).select(\n",
    "    \"address\", \"sqft\", \"minimum_floor\", \"maximum_floor\", \"flat_type\",\n",
    "    \"price\", \"year_of_sale\", \"month_of_sale\", \"psf\", \"band_name\"\n",
    ")"
   ]
  },
  {
   "cell_type": "code",
   "execution_count": 12,
   "id": "5df69d82",
   "metadata": {},
   "outputs": [
    {
     "data": {
      "text/html": [
       "<div><style>\n",
       ".dataframe > thead > tr,\n",
       ".dataframe > tbody > tr {\n",
       "  text-align: right;\n",
       "  white-space: pre-wrap;\n",
       "}\n",
       "</style>\n",
       "<small>shape: (11, 2)</small><table border=\"1\" class=\"dataframe\"><thead><tr><th>band_name</th><th>count_transactions</th></tr><tr><td>str</td><td>f64</td></tr></thead><tbody><tr><td>&quot;&gt;95&quot;</td><td>0.108268</td></tr><tr><td>&quot;90 - 94&quot;</td><td>0.216535</td></tr><tr><td>&quot;85 - 89&quot;</td><td>0.180118</td></tr><tr><td>&quot;80 - 84&quot;</td><td>0.05315</td></tr><tr><td>&quot;75 - 79&quot;</td><td>0.058071</td></tr><tr><td>&hellip;</td><td>&hellip;</td></tr><tr><td>&quot;65 - 69&quot;</td><td>0.084646</td></tr><tr><td>&quot;60 - 64&quot;</td><td>0.121063</td></tr><tr><td>&quot;55 - 59&quot;</td><td>0.044291</td></tr><tr><td>&quot;50 - 54&quot;</td><td>0.011811</td></tr><tr><td>&quot;45 - 49&quot;</td><td>0.005906</td></tr></tbody></table></div>"
      ],
      "text/plain": [
       "shape: (11, 2)\n",
       "┌───────────┬────────────────────┐\n",
       "│ band_name ┆ count_transactions │\n",
       "│ ---       ┆ ---                │\n",
       "│ str       ┆ f64                │\n",
       "╞═══════════╪════════════════════╡\n",
       "│ >95       ┆ 0.108268           │\n",
       "│ 90 - 94   ┆ 0.216535           │\n",
       "│ 85 - 89   ┆ 0.180118           │\n",
       "│ 80 - 84   ┆ 0.05315            │\n",
       "│ 75 - 79   ┆ 0.058071           │\n",
       "│ …         ┆ …                  │\n",
       "│ 65 - 69   ┆ 0.084646           │\n",
       "│ 60 - 64   ┆ 0.121063           │\n",
       "│ 55 - 59   ┆ 0.044291           │\n",
       "│ 50 - 54   ┆ 0.011811           │\n",
       "│ 45 - 49   ┆ 0.005906           │\n",
       "└───────────┴────────────────────┘"
      ]
     },
     "execution_count": 12,
     "metadata": {},
     "output_type": "execute_result"
    }
   ],
   "source": [
    "df.filter(\n",
    "    (pl.col(\"year_of_sale\").eq(2024)),\n",
    "    (pl.col(\"price_is_geq_one_million\").eq(1)),\n",
    ").group_by(\"band_name\").agg(\n",
    "    pl.col(\"address\").len().alias(\"count_transactions\")\n",
    ").with_columns(\n",
    "    pl.col(\"count_transactions\")/pl.col(\"count_transactions\").sum().alias(\"pct_transactions\")\n",
    ").sort(\"band_name\", descending=True)"
   ]
  },
  {
   "cell_type": "code",
   "execution_count": 13,
   "id": "6b7e6242",
   "metadata": {},
   "outputs": [
    {
     "data": {
      "text/html": [
       "<div><style>\n",
       ".dataframe > thead > tr,\n",
       ".dataframe > tbody > tr {\n",
       "  text-align: right;\n",
       "  white-space: pre-wrap;\n",
       "}\n",
       "</style>\n",
       "<small>shape: (27_426, 10)</small><table border=\"1\" class=\"dataframe\"><thead><tr><th>address</th><th>sqft</th><th>minimum_floor</th><th>maximum_floor</th><th>flat_type</th><th>price</th><th>year_of_sale</th><th>month_of_sale</th><th>psf</th><th>band_name</th></tr><tr><td>str</td><td>i64</td><td>i64</td><td>i64</td><td>str</td><td>i64</td><td>i64</td><td>i64</td><td>f64</td><td>str</td></tr></thead><tbody><tr><td>&quot;1C CANTONMENT ROAD&quot;</td><td>1001</td><td>46</td><td>48</td><td>&quot;4 ROOM&quot;</td><td>1450000</td><td>2024</td><td>5</td><td>1448.55</td><td>&quot;85 - 89&quot;</td></tr><tr><td>&quot;1B CANTONMENT ROAD&quot;</td><td>1011</td><td>49</td><td>51</td><td>&quot;4 ROOM&quot;</td><td>1430000</td><td>2024</td><td>12</td><td>1414.44</td><td>&quot;85 - 89&quot;</td></tr><tr><td>&quot;1C CANTONMENT ROAD&quot;</td><td>1011</td><td>49</td><td>51</td><td>&quot;4 ROOM&quot;</td><td>1408000</td><td>2024</td><td>9</td><td>1392.68</td><td>&quot;85 - 89&quot;</td></tr><tr><td>&quot;1G CANTONMENT ROAD&quot;</td><td>1001</td><td>34</td><td>36</td><td>&quot;4 ROOM&quot;</td><td>1388888</td><td>2024</td><td>10</td><td>1387.5</td><td>&quot;85 - 89&quot;</td></tr><tr><td>&quot;1A CANTONMENT ROAD&quot;</td><td>1001</td><td>40</td><td>42</td><td>&quot;4 ROOM&quot;</td><td>1380000</td><td>2024</td><td>12</td><td>1378.62</td><td>&quot;85 - 89&quot;</td></tr><tr><td>&hellip;</td><td>&hellip;</td><td>&hellip;</td><td>&hellip;</td><td>&hellip;</td><td>&hellip;</td><td>&hellip;</td><td>&hellip;</td><td>&hellip;</td><td>&hellip;</td></tr><tr><td>&quot;11 MARSILING DRIVE&quot;</td><td>1356</td><td>1</td><td>3</td><td>&quot;5 ROOM&quot;</td><td>482000</td><td>2024</td><td>1</td><td>355.45</td><td>&quot;50 - 54&quot;</td></tr><tr><td>&quot;10 MARSILING DRIVE&quot;</td><td>1323</td><td>7</td><td>9</td><td>&quot;5 ROOM&quot;</td><td>470000</td><td>2024</td><td>7</td><td>355.25</td><td>&quot;50 - 54&quot;</td></tr><tr><td>&quot;403 PANDAN GARDENS&quot;</td><td>1227</td><td>7</td><td>9</td><td>&quot;5 ROOM&quot;</td><td>432000</td><td>2024</td><td>5</td><td>352.07</td><td>&quot;50 - 54&quot;</td></tr><tr><td>&quot;35 MARSILING DRIVE&quot;</td><td>1270</td><td>1</td><td>3</td><td>&quot;5 ROOM&quot;</td><td>425000</td><td>2024</td><td>6</td><td>334.64</td><td>&quot;50 - 54&quot;</td></tr><tr><td>&quot;117 BUKIT BATOK WEST AVENUE 6&quot;</td><td>1420</td><td>1</td><td>3</td><td>&quot;5 ROOM&quot;</td><td>400000</td><td>2024</td><td>3</td><td>281.69</td><td>&quot;60 - 64&quot;</td></tr></tbody></table></div>"
      ],
      "text/plain": [
       "shape: (27_426, 10)\n",
       "┌─────────────┬──────┬────────────┬────────────┬───┬────────────┬────────────┬─────────┬───────────┐\n",
       "│ address     ┆ sqft ┆ minimum_fl ┆ maximum_fl ┆ … ┆ year_of_sa ┆ month_of_s ┆ psf     ┆ band_name │\n",
       "│ ---         ┆ ---  ┆ oor        ┆ oor        ┆   ┆ le         ┆ ale        ┆ ---     ┆ ---       │\n",
       "│ str         ┆ i64  ┆ ---        ┆ ---        ┆   ┆ ---        ┆ ---        ┆ f64     ┆ str       │\n",
       "│             ┆      ┆ i64        ┆ i64        ┆   ┆ i64        ┆ i64        ┆         ┆           │\n",
       "╞═════════════╪══════╪════════════╪════════════╪═══╪════════════╪════════════╪═════════╪═══════════╡\n",
       "│ 1C          ┆ 1001 ┆ 46         ┆ 48         ┆ … ┆ 2024       ┆ 5          ┆ 1448.55 ┆ 85 - 89   │\n",
       "│ CANTONMENT  ┆      ┆            ┆            ┆   ┆            ┆            ┆         ┆           │\n",
       "│ ROAD        ┆      ┆            ┆            ┆   ┆            ┆            ┆         ┆           │\n",
       "│ 1B          ┆ 1011 ┆ 49         ┆ 51         ┆ … ┆ 2024       ┆ 12         ┆ 1414.44 ┆ 85 - 89   │\n",
       "│ CANTONMENT  ┆      ┆            ┆            ┆   ┆            ┆            ┆         ┆           │\n",
       "│ ROAD        ┆      ┆            ┆            ┆   ┆            ┆            ┆         ┆           │\n",
       "│ 1C          ┆ 1011 ┆ 49         ┆ 51         ┆ … ┆ 2024       ┆ 9          ┆ 1392.68 ┆ 85 - 89   │\n",
       "│ CANTONMENT  ┆      ┆            ┆            ┆   ┆            ┆            ┆         ┆           │\n",
       "│ ROAD        ┆      ┆            ┆            ┆   ┆            ┆            ┆         ┆           │\n",
       "│ 1G          ┆ 1001 ┆ 34         ┆ 36         ┆ … ┆ 2024       ┆ 10         ┆ 1387.5  ┆ 85 - 89   │\n",
       "│ CANTONMENT  ┆      ┆            ┆            ┆   ┆            ┆            ┆         ┆           │\n",
       "│ ROAD        ┆      ┆            ┆            ┆   ┆            ┆            ┆         ┆           │\n",
       "│ 1A          ┆ 1001 ┆ 40         ┆ 42         ┆ … ┆ 2024       ┆ 12         ┆ 1378.62 ┆ 85 - 89   │\n",
       "│ CANTONMENT  ┆      ┆            ┆            ┆   ┆            ┆            ┆         ┆           │\n",
       "│ ROAD        ┆      ┆            ┆            ┆   ┆            ┆            ┆         ┆           │\n",
       "│ …           ┆ …    ┆ …          ┆ …          ┆ … ┆ …          ┆ …          ┆ …       ┆ …         │\n",
       "│ 11          ┆ 1356 ┆ 1          ┆ 3          ┆ … ┆ 2024       ┆ 1          ┆ 355.45  ┆ 50 - 54   │\n",
       "│ MARSILING   ┆      ┆            ┆            ┆   ┆            ┆            ┆         ┆           │\n",
       "│ DRIVE       ┆      ┆            ┆            ┆   ┆            ┆            ┆         ┆           │\n",
       "│ 10          ┆ 1323 ┆ 7          ┆ 9          ┆ … ┆ 2024       ┆ 7          ┆ 355.25  ┆ 50 - 54   │\n",
       "│ MARSILING   ┆      ┆            ┆            ┆   ┆            ┆            ┆         ┆           │\n",
       "│ DRIVE       ┆      ┆            ┆            ┆   ┆            ┆            ┆         ┆           │\n",
       "│ 403 PANDAN  ┆ 1227 ┆ 7          ┆ 9          ┆ … ┆ 2024       ┆ 5          ┆ 352.07  ┆ 50 - 54   │\n",
       "│ GARDENS     ┆      ┆            ┆            ┆   ┆            ┆            ┆         ┆           │\n",
       "│ 35          ┆ 1270 ┆ 1          ┆ 3          ┆ … ┆ 2024       ┆ 6          ┆ 334.64  ┆ 50 - 54   │\n",
       "│ MARSILING   ┆      ┆            ┆            ┆   ┆            ┆            ┆         ┆           │\n",
       "│ DRIVE       ┆      ┆            ┆            ┆   ┆            ┆            ┆         ┆           │\n",
       "│ 117 BUKIT   ┆ 1420 ┆ 1          ┆ 3          ┆ … ┆ 2024       ┆ 3          ┆ 281.69  ┆ 60 - 64   │\n",
       "│ BATOK WEST  ┆      ┆            ┆            ┆   ┆            ┆            ┆         ┆           │\n",
       "│ AVENUE 6    ┆      ┆            ┆            ┆   ┆            ┆            ┆         ┆           │\n",
       "└─────────────┴──────┴────────────┴────────────┴───┴────────────┴────────────┴─────────┴───────────┘"
      ]
     },
     "execution_count": 13,
     "metadata": {},
     "output_type": "execute_result"
    }
   ],
   "source": [
    "df.filter(\n",
    "    (pl.col(\"year_of_sale\").eq(2024)),\n",
    ").sort(\"psf\", descending=True).select(\n",
    "    \"address\", \"sqft\", \"minimum_floor\", \"maximum_floor\", \"flat_type\",\n",
    "    \"price\", \"year_of_sale\", \"month_of_sale\", \"psf\", \"band_name\"\n",
    ")"
   ]
  },
  {
   "cell_type": "code",
   "execution_count": 14,
   "id": "f0b4b3a4",
   "metadata": {
    "scrolled": false
   },
   "outputs": [
    {
     "data": {
      "text/html": [
       "<div><style>\n",
       ".dataframe > thead > tr,\n",
       ".dataframe > tbody > tr {\n",
       "  text-align: right;\n",
       "  white-space: pre-wrap;\n",
       "}\n",
       "</style>\n",
       "<small>shape: (8, 2)</small><table border=\"1\" class=\"dataframe\"><thead><tr><th>year_of_sale</th><th>count_transactions</th></tr><tr><td>i64</td><td>u32</td></tr></thead><tbody><tr><td>2017</td><td>20509</td></tr><tr><td>2018</td><td>21561</td></tr><tr><td>2019</td><td>22186</td></tr><tr><td>2020</td><td>23333</td></tr><tr><td>2021</td><td>29087</td></tr><tr><td>2022</td><td>26720</td></tr><tr><td>2023</td><td>25755</td></tr><tr><td>2024</td><td>27426</td></tr></tbody></table></div>"
      ],
      "text/plain": [
       "shape: (8, 2)\n",
       "┌──────────────┬────────────────────┐\n",
       "│ year_of_sale ┆ count_transactions │\n",
       "│ ---          ┆ ---                │\n",
       "│ i64          ┆ u32                │\n",
       "╞══════════════╪════════════════════╡\n",
       "│ 2017         ┆ 20509              │\n",
       "│ 2018         ┆ 21561              │\n",
       "│ 2019         ┆ 22186              │\n",
       "│ 2020         ┆ 23333              │\n",
       "│ 2021         ┆ 29087              │\n",
       "│ 2022         ┆ 26720              │\n",
       "│ 2023         ┆ 25755              │\n",
       "│ 2024         ┆ 27426              │\n",
       "└──────────────┴────────────────────┘"
      ]
     },
     "metadata": {},
     "output_type": "display_data"
    }
   ],
   "source": [
    "df_by_sale = df.group_by(\n",
    "    (pl.col(\"year_of_sale\"))\n",
    ").agg(\n",
    "    pl.col(\"address\").len().alias(\"count_transactions\")\n",
    ").sort(\n",
    "    \"year_of_sale\"\n",
    ")\n",
    "display(df_by_sale)"
   ]
  },
  {
   "cell_type": "code",
   "execution_count": 15,
   "id": "58a617f1",
   "metadata": {},
   "outputs": [
    {
     "data": {
      "text/plain": [
       "<Axes: >"
      ]
     },
     "execution_count": 15,
     "metadata": {},
     "output_type": "execute_result"
    },
    {
     "data": {
      "image/png": "[encoded data removed]",
      "text/plain": [
       "<Figure size 640x480 with 1 Axes>"
      ]
     },
     "metadata": {},
     "output_type": "display_data"
    }
   ],
   "source": [
    "sns.barplot(\n",
    "    x=df_by_sale.select(\"year_of_sale\").to_numpy().flatten(), \n",
    "    y=df_by_sale.select(\"count_transactions\").to_numpy().flatten()\n",
    ")"
   ]
  },
  {
   "cell_type": "code",
   "execution_count": 18,
   "id": "5a7ab144",
   "metadata": {},
   "outputs": [],
   "source": [
    "df_twn = df.filter(\n",
    "    pl.col(\"price_is_geq_one_million\").eq(1),\n",
    "    pl.col(\"year_of_sale\").is_in([2022, 2023, 2024])\n",
    ").group_by(\n",
    "    \"year_of_sale\", \"town\"\n",
    ").agg(\n",
    "    pl.col(\"address\").len().alias(\"count_transactions\")\n",
    ").sort(\n",
    "    \"town\", \"year_of_sale\"\n",
    ")"
   ]
  },
  {
   "cell_type": "code",
   "execution_count": 19,
   "id": "5d1248e9",
   "metadata": {},
   "outputs": [
    {
     "name": "stderr",
     "output_type": "stream",
     "text": [
      "/Users/bryanlim/.pyenv/versions/3.10.13/envs/create-hdb-entities-pipeline/lib/python3.10/site-packages/seaborn/_base.py:949: FutureWarning: When grouping with a length-1 list-like, you will need to pass a length-1 tuple to get_group in a future version of pandas. Pass `(name,)` instead of `name` to silence this warning.\n",
      "  data_subset = grouped_data.get_group(pd_key)\n",
      "/Users/bryanlim/.pyenv/versions/3.10.13/envs/create-hdb-entities-pipeline/lib/python3.10/site-packages/seaborn/_base.py:949: FutureWarning: When grouping with a length-1 list-like, you will need to pass a length-1 tuple to get_group in a future version of pandas. Pass `(name,)` instead of `name` to silence this warning.\n",
      "  data_subset = grouped_data.get_group(pd_key)\n",
      "/Users/bryanlim/.pyenv/versions/3.10.13/envs/create-hdb-entities-pipeline/lib/python3.10/site-packages/seaborn/_base.py:949: FutureWarning: When grouping with a length-1 list-like, you will need to pass a length-1 tuple to get_group in a future version of pandas. Pass `(name,)` instead of `name` to silence this warning.\n",
      "  data_subset = grouped_data.get_group(pd_key)\n"
     ]
    },
    {
     "data": {
      "text/plain": [
       "([0,\n",
       "  1,\n",
       "  2,\n",
       "  3,\n",
       "  4,\n",
       "  5,\n",
       "  6,\n",
       "  7,\n",
       "  8,\n",
       "  9,\n",
       "  10,\n",
       "  11,\n",
       "  12,\n",
       "  13,\n",
       "  14,\n",
       "  15,\n",
       "  16,\n",
       "  17,\n",
       "  18,\n",
       "  19,\n",
       "  20,\n",
       "  21,\n",
       "  22],\n",
       " [Text(0, 0, 'ANG MO KIO'),\n",
       "  Text(1, 0, 'BEDOK'),\n",
       "  Text(2, 0, 'BISHAN'),\n",
       "  Text(3, 0, 'BUKIT BATOK'),\n",
       "  Text(4, 0, 'BUKIT MERAH'),\n",
       "  Text(5, 0, 'BUKIT PANJANG'),\n",
       "  Text(6, 0, 'BUKIT TIMAH'),\n",
       "  Text(7, 0, 'CENTRAL AREA'),\n",
       "  Text(8, 0, 'CLEMENTI'),\n",
       "  Text(9, 0, 'GEYLANG'),\n",
       "  Text(10, 0, 'HOUGANG'),\n",
       "  Text(11, 0, 'JURONG EAST'),\n",
       "  Text(12, 0, 'KALLANG/WHAMPOA'),\n",
       "  Text(13, 0, 'MARINE PARADE'),\n",
       "  Text(14, 0, 'PASIR RIS'),\n",
       "  Text(15, 0, 'PUNGGOL'),\n",
       "  Text(16, 0, 'QUEENSTOWN'),\n",
       "  Text(17, 0, 'SENGKANG'),\n",
       "  Text(18, 0, 'SERANGOON'),\n",
       "  Text(19, 0, 'TAMPINES'),\n",
       "  Text(20, 0, 'TOA PAYOH'),\n",
       "  Text(21, 0, 'WOODLANDS'),\n",
       "  Text(22, 0, 'YISHUN')])"
      ]
     },
     "execution_count": 19,
     "metadata": {},
     "output_type": "execute_result"
    },
    {
     "data": {
      "image/png": "[encoded data removed]",
      "text/plain": [
       "<Figure size 1500x800 with 1 Axes>"
      ]
     },
     "metadata": {},
     "output_type": "display_data"
    }
   ],
   "source": [
    "# ... existing code ...\n",
    "\n",
    "plt.figure(figsize=(15, 8))  # Width: 15 inches, Height: 8 inches\n",
    "sns.barplot(\n",
    "    x=df_twn.select(\"town\").to_numpy().flatten(), \n",
    "    y=df_twn.select(\"count_transactions\").to_numpy().flatten(),\n",
    "    hue=df_twn.select(\"year_of_sale\").to_numpy().flatten(),\n",
    ")\n",
    "plt.xticks(rotation=45, ha='right')  # Rotate x-axis labels for better readability"
   ]
  },
  {
   "cell_type": "code",
   "execution_count": null,
   "id": "5c5c2f70",
   "metadata": {},
   "outputs": [],
   "source": []
  }
 ],
 "metadata": {
  "kernelspec": {
   "display_name": "Python 3 (ipykernel)",
   "language": "python",
   "name": "python3"
  },
  "language_info": {
   "codemirror_mode": {
    "name": "ipython",
    "version": 3
   },
   "file_extension": ".py",
   "mimetype": "text/x-python",
   "name": "python",
   "nbconvert_exporter": "python",
   "pygments_lexer": "ipython3",
   "version": "3.10.13"
  }
 },
 "nbformat": 4,
 "nbformat_minor": 5
}
