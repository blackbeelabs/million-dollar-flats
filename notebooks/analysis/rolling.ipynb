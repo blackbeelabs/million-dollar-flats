{
 "cells": [
  {
   "cell_type": "code",
   "execution_count": 1,
   "id": "11db01a2",
   "metadata": {},
   "outputs": [
    {
     "data": {
      "text/plain": [
       "polars.config.Config"
      ]
     },
     "execution_count": 1,
     "metadata": {},
     "output_type": "execute_result"
    }
   ],
   "source": [
    "import polars as pl\n",
    "pl.Config.set_tbl_rows(50) "
   ]
  },
  {
   "cell_type": "code",
   "execution_count": 2,
   "id": "3f3f96b1",
   "metadata": {},
   "outputs": [],
   "source": [
    "df = pl.read_csv(\"ingested.csv\")"
   ]
  },
  {
   "cell_type": "code",
   "execution_count": 3,
   "id": "30413fab",
   "metadata": {},
   "outputs": [
    {
     "data": {
      "text/html": [
       "<div><style>\n",
       ".dataframe > thead > tr,\n",
       ".dataframe > tbody > tr {\n",
       "  text-align: right;\n",
       "  white-space: pre-wrap;\n",
       "}\n",
       "</style>\n",
       "<small>shape: (1, 17)</small><table border=\"1\" class=\"dataframe\"><thead><tr><th>address</th><th>lease_remaining</th><th>minimum_floor</th><th>maximum_floor</th><th>built_year</th><th>sqft</th><th>sqm</th><th>flat_type</th><th>road</th><th>town</th><th>year_of_sale</th><th>month_of_sale</th><th>months_ago</th><th>price</th><th>psf</th><th>band_name</th><th>price_is_geq_one_million</th></tr><tr><td>str</td><td>i64</td><td>i64</td><td>i64</td><td>i64</td><td>i64</td><td>i64</td><td>str</td><td>str</td><td>str</td><td>i64</td><td>i64</td><td>i64</td><td>i64</td><td>f64</td><td>str</td><td>i64</td></tr></thead><tbody><tr><td>&quot;116 MARSILING RISE&quot;</td><td>70</td><td>4</td><td>6</td><td>1995</td><td>1829</td><td>170</td><td>&quot;EXECUTIVE&quot;</td><td>&quot;MARSILING RISE&quot;</td><td>&quot;WOODLANDS&quot;</td><td>2024</td><td>5</td><td>6</td><td>920000</td><td>50300.71</td><td>&quot;70 - 74&quot;</td><td>0</td></tr></tbody></table></div>"
      ],
      "text/plain": [
       "shape: (1, 17)\n",
       "┌────────────┬────────────┬────────────┬───────────┬───┬────────┬──────────┬───────────┬───────────┐\n",
       "│ address    ┆ lease_rema ┆ minimum_fl ┆ maximum_f ┆ … ┆ price  ┆ psf      ┆ band_name ┆ price_is_ │\n",
       "│ ---        ┆ ining      ┆ oor        ┆ loor      ┆   ┆ ---    ┆ ---      ┆ ---       ┆ geq_one_m │\n",
       "│ str        ┆ ---        ┆ ---        ┆ ---       ┆   ┆ i64    ┆ f64      ┆ str       ┆ illion    │\n",
       "│            ┆ i64        ┆ i64        ┆ i64       ┆   ┆        ┆          ┆           ┆ ---       │\n",
       "│            ┆            ┆            ┆           ┆   ┆        ┆          ┆           ┆ i64       │\n",
       "╞════════════╪════════════╪════════════╪═══════════╪═══╪════════╪══════════╪═══════════╪═══════════╡\n",
       "│ 116        ┆ 70         ┆ 4          ┆ 6         ┆ … ┆ 920000 ┆ 50300.71 ┆ 70 - 74   ┆ 0         │\n",
       "│ MARSILING  ┆            ┆            ┆           ┆   ┆        ┆          ┆           ┆           │\n",
       "│ RISE       ┆            ┆            ┆           ┆   ┆        ┆          ┆           ┆           │\n",
       "└────────────┴────────────┴────────────┴───────────┴───┴────────┴──────────┴───────────┴───────────┘"
      ]
     },
     "metadata": {},
     "output_type": "display_data"
    }
   ],
   "source": [
    "display(df.sample())"
   ]
  },
  {
   "cell_type": "code",
   "execution_count": 4,
   "id": "a6700d72",
   "metadata": {},
   "outputs": [],
   "source": [
    "df_filter = df.select(\n",
    "    (\"flat_type\", \"year_of_sale\", \"month_of_sale\", \"months_ago\", \"price_is_geq_one_million\")\n",
    ")"
   ]
  },
  {
   "cell_type": "code",
   "execution_count": 5,
   "id": "1931d8b0",
   "metadata": {},
   "outputs": [
    {
     "data": {
      "text/html": [
       "<div><style>\n",
       ".dataframe > thead > tr,\n",
       ".dataframe > tbody > tr {\n",
       "  text-align: right;\n",
       "  white-space: pre-wrap;\n",
       "}\n",
       "</style>\n",
       "<small>shape: (1, 5)</small><table border=\"1\" class=\"dataframe\"><thead><tr><th>flat_type</th><th>year_of_sale</th><th>month_of_sale</th><th>months_ago</th><th>price_is_geq_one_million</th></tr><tr><td>str</td><td>i64</td><td>i64</td><td>i64</td><td>i64</td></tr></thead><tbody><tr><td>&quot;4 ROOM&quot;</td><td>2023</td><td>1</td><td>22</td><td>0</td></tr></tbody></table></div>"
      ],
      "text/plain": [
       "shape: (1, 5)\n",
       "┌───────────┬──────────────┬───────────────┬────────────┬──────────────────────────┐\n",
       "│ flat_type ┆ year_of_sale ┆ month_of_sale ┆ months_ago ┆ price_is_geq_one_million │\n",
       "│ ---       ┆ ---          ┆ ---           ┆ ---        ┆ ---                      │\n",
       "│ str       ┆ i64          ┆ i64           ┆ i64        ┆ i64                      │\n",
       "╞═══════════╪══════════════╪═══════════════╪════════════╪══════════════════════════╡\n",
       "│ 4 ROOM    ┆ 2023         ┆ 1             ┆ 22         ┆ 0                        │\n",
       "└───────────┴──────────────┴───────────────┴────────────┴──────────────────────────┘"
      ]
     },
     "metadata": {},
     "output_type": "display_data"
    }
   ],
   "source": [
    "display(df_filter.sample())"
   ]
  },
  {
   "cell_type": "code",
   "execution_count": 6,
   "id": "e0d1e4b8",
   "metadata": {},
   "outputs": [],
   "source": [
    "dm = df_filter.group_by([\"year_of_sale\", \"month_of_sale\", \"months_ago\",]).agg(\n",
    "    pl.col(\"flat_type\").len().alias(\"no_of_flats_sold\"),\n",
    "    pl.col(\"price_is_geq_one_million\").sum().alias(\"no_of_million_dollar_flats_sold\"),    \n",
    ")\n",
    "dm = dm.with_columns([\n",
    "    (pl.col(\"year_of_sale\").cast(str) + \"-\" + pl.col(\"month_of_sale\").cast(str).str.zfill(2)).alias(\"year_month\")\n",
    "])"
   ]
  },
  {
   "cell_type": "code",
   "execution_count": 7,
   "id": "18eee72c",
   "metadata": {
    "scrolled": false
   },
   "outputs": [
    {
     "data": {
      "text/html": [
       "<div><style>\n",
       ".dataframe > thead > tr,\n",
       ".dataframe > tbody > tr {\n",
       "  text-align: right;\n",
       "  white-space: pre-wrap;\n",
       "}\n",
       "</style>\n",
       "<small>shape: (35, 6)</small><table border=\"1\" class=\"dataframe\"><thead><tr><th>year_of_sale</th><th>month_of_sale</th><th>months_ago</th><th>no_of_flats_sold</th><th>no_of_million_dollar_flats_sold</th><th>year_month</th></tr><tr><td>i64</td><td>i64</td><td>i64</td><td>u32</td><td>i64</td><td>str</td></tr></thead><tbody><tr><td>2024</td><td>11</td><td>0</td><td>188</td><td>10</td><td>&quot;2024-11&quot;</td></tr><tr><td>2024</td><td>10</td><td>1</td><td>2155</td><td>103</td><td>&quot;2024-10&quot;</td></tr><tr><td>2024</td><td>9</td><td>2</td><td>2209</td><td>106</td><td>&quot;2024-09&quot;</td></tr><tr><td>2024</td><td>8</td><td>3</td><td>2595</td><td>105</td><td>&quot;2024-08&quot;</td></tr><tr><td>2024</td><td>7</td><td>4</td><td>3036</td><td>120</td><td>&quot;2024-07&quot;</td></tr><tr><td>2024</td><td>6</td><td>5</td><td>2172</td><td>95</td><td>&quot;2024-06&quot;</td></tr><tr><td>2024</td><td>5</td><td>6</td><td>2491</td><td>73</td><td>&quot;2024-05&quot;</td></tr><tr><td>2024</td><td>4</td><td>7</td><td>2370</td><td>68</td><td>&quot;2024-04&quot;</td></tr><tr><td>2024</td><td>3</td><td>8</td><td>2046</td><td>60</td><td>&quot;2024-03&quot;</td></tr><tr><td>2024</td><td>2</td><td>9</td><td>2123</td><td>49</td><td>&quot;2024-02&quot;</td></tr><tr><td>2024</td><td>1</td><td>10</td><td>2621</td><td>74</td><td>&quot;2024-01&quot;</td></tr><tr><td>2023</td><td>12</td><td>11</td><td>2004</td><td>48</td><td>&quot;2023-12&quot;</td></tr><tr><td>2023</td><td>11</td><td>12</td><td>2129</td><td>45</td><td>&quot;2023-11&quot;</td></tr><tr><td>2023</td><td>10</td><td>13</td><td>2189</td><td>40</td><td>&quot;2023-10&quot;</td></tr><tr><td>2023</td><td>9</td><td>14</td><td>1974</td><td>42</td><td>&quot;2023-09&quot;</td></tr><tr><td>2023</td><td>8</td><td>15</td><td>2467</td><td>54</td><td>&quot;2023-08&quot;</td></tr><tr><td>2023</td><td>7</td><td>16</td><td>2052</td><td>32</td><td>&quot;2023-07&quot;</td></tr><tr><td>2023</td><td>6</td><td>17</td><td>1853</td><td>34</td><td>&quot;2023-06&quot;</td></tr><tr><td>2023</td><td>5</td><td>18</td><td>2245</td><td>34</td><td>&quot;2023-05&quot;</td></tr><tr><td>2023</td><td>4</td><td>19</td><td>2177</td><td>37</td><td>&quot;2023-04&quot;</td></tr><tr><td>2023</td><td>3</td><td>20</td><td>2277</td><td>39</td><td>&quot;2023-03&quot;</td></tr><tr><td>2023</td><td>2</td><td>21</td><td>1837</td><td>24</td><td>&quot;2023-02&quot;</td></tr><tr><td>2023</td><td>1</td><td>22</td><td>2551</td><td>40</td><td>&quot;2023-01&quot;</td></tr><tr><td>2022</td><td>12</td><td>23</td><td>2234</td><td>28</td><td>&quot;2022-12&quot;</td></tr><tr><td>2022</td><td>11</td><td>24</td><td>2130</td><td>26</td><td>&quot;2022-11&quot;</td></tr><tr><td>2022</td><td>10</td><td>25</td><td>1958</td><td>38</td><td>&quot;2022-10&quot;</td></tr><tr><td>2022</td><td>9</td><td>26</td><td>2578</td><td>45</td><td>&quot;2022-09&quot;</td></tr><tr><td>2022</td><td>8</td><td>27</td><td>2309</td><td>33</td><td>&quot;2022-08&quot;</td></tr><tr><td>2022</td><td>7</td><td>28</td><td>2361</td><td>33</td><td>&quot;2022-07&quot;</td></tr><tr><td>2022</td><td>6</td><td>29</td><td>2135</td><td>31</td><td>&quot;2022-06&quot;</td></tr><tr><td>2022</td><td>5</td><td>30</td><td>2154</td><td>30</td><td>&quot;2022-05&quot;</td></tr><tr><td>2022</td><td>4</td><td>31</td><td>2262</td><td>22</td><td>&quot;2022-04&quot;</td></tr><tr><td>2022</td><td>3</td><td>32</td><td>2262</td><td>27</td><td>&quot;2022-03&quot;</td></tr><tr><td>2022</td><td>2</td><td>33</td><td>1895</td><td>29</td><td>&quot;2022-02&quot;</td></tr><tr><td>2022</td><td>1</td><td>34</td><td>2442</td><td>27</td><td>&quot;2022-01&quot;</td></tr></tbody></table></div>"
      ],
      "text/plain": [
       "shape: (35, 6)\n",
       "┌──────────────┬───────────────┬────────────┬──────────────────┬──────────────────────┬────────────┐\n",
       "│ year_of_sale ┆ month_of_sale ┆ months_ago ┆ no_of_flats_sold ┆ no_of_million_dollar ┆ year_month │\n",
       "│ ---          ┆ ---           ┆ ---        ┆ ---              ┆ _flats_sol…          ┆ ---        │\n",
       "│ i64          ┆ i64           ┆ i64        ┆ u32              ┆ ---                  ┆ str        │\n",
       "│              ┆               ┆            ┆                  ┆ i64                  ┆            │\n",
       "╞══════════════╪═══════════════╪════════════╪══════════════════╪══════════════════════╪════════════╡\n",
       "│ 2024         ┆ 11            ┆ 0          ┆ 188              ┆ 10                   ┆ 2024-11    │\n",
       "│ 2024         ┆ 10            ┆ 1          ┆ 2155             ┆ 103                  ┆ 2024-10    │\n",
       "│ 2024         ┆ 9             ┆ 2          ┆ 2209             ┆ 106                  ┆ 2024-09    │\n",
       "│ 2024         ┆ 8             ┆ 3          ┆ 2595             ┆ 105                  ┆ 2024-08    │\n",
       "│ 2024         ┆ 7             ┆ 4          ┆ 3036             ┆ 120                  ┆ 2024-07    │\n",
       "│ 2024         ┆ 6             ┆ 5          ┆ 2172             ┆ 95                   ┆ 2024-06    │\n",
       "│ 2024         ┆ 5             ┆ 6          ┆ 2491             ┆ 73                   ┆ 2024-05    │\n",
       "│ 2024         ┆ 4             ┆ 7          ┆ 2370             ┆ 68                   ┆ 2024-04    │\n",
       "│ 2024         ┆ 3             ┆ 8          ┆ 2046             ┆ 60                   ┆ 2024-03    │\n",
       "│ 2024         ┆ 2             ┆ 9          ┆ 2123             ┆ 49                   ┆ 2024-02    │\n",
       "│ 2024         ┆ 1             ┆ 10         ┆ 2621             ┆ 74                   ┆ 2024-01    │\n",
       "│ 2023         ┆ 12            ┆ 11         ┆ 2004             ┆ 48                   ┆ 2023-12    │\n",
       "│ 2023         ┆ 11            ┆ 12         ┆ 2129             ┆ 45                   ┆ 2023-11    │\n",
       "│ 2023         ┆ 10            ┆ 13         ┆ 2189             ┆ 40                   ┆ 2023-10    │\n",
       "│ 2023         ┆ 9             ┆ 14         ┆ 1974             ┆ 42                   ┆ 2023-09    │\n",
       "│ 2023         ┆ 8             ┆ 15         ┆ 2467             ┆ 54                   ┆ 2023-08    │\n",
       "│ 2023         ┆ 7             ┆ 16         ┆ 2052             ┆ 32                   ┆ 2023-07    │\n",
       "│ 2023         ┆ 6             ┆ 17         ┆ 1853             ┆ 34                   ┆ 2023-06    │\n",
       "│ 2023         ┆ 5             ┆ 18         ┆ 2245             ┆ 34                   ┆ 2023-05    │\n",
       "│ 2023         ┆ 4             ┆ 19         ┆ 2177             ┆ 37                   ┆ 2023-04    │\n",
       "│ 2023         ┆ 3             ┆ 20         ┆ 2277             ┆ 39                   ┆ 2023-03    │\n",
       "│ 2023         ┆ 2             ┆ 21         ┆ 1837             ┆ 24                   ┆ 2023-02    │\n",
       "│ 2023         ┆ 1             ┆ 22         ┆ 2551             ┆ 40                   ┆ 2023-01    │\n",
       "│ 2022         ┆ 12            ┆ 23         ┆ 2234             ┆ 28                   ┆ 2022-12    │\n",
       "│ 2022         ┆ 11            ┆ 24         ┆ 2130             ┆ 26                   ┆ 2022-11    │\n",
       "│ 2022         ┆ 10            ┆ 25         ┆ 1958             ┆ 38                   ┆ 2022-10    │\n",
       "│ 2022         ┆ 9             ┆ 26         ┆ 2578             ┆ 45                   ┆ 2022-09    │\n",
       "│ 2022         ┆ 8             ┆ 27         ┆ 2309             ┆ 33                   ┆ 2022-08    │\n",
       "│ 2022         ┆ 7             ┆ 28         ┆ 2361             ┆ 33                   ┆ 2022-07    │\n",
       "│ 2022         ┆ 6             ┆ 29         ┆ 2135             ┆ 31                   ┆ 2022-06    │\n",
       "│ 2022         ┆ 5             ┆ 30         ┆ 2154             ┆ 30                   ┆ 2022-05    │\n",
       "│ 2022         ┆ 4             ┆ 31         ┆ 2262             ┆ 22                   ┆ 2022-04    │\n",
       "│ 2022         ┆ 3             ┆ 32         ┆ 2262             ┆ 27                   ┆ 2022-03    │\n",
       "│ 2022         ┆ 2             ┆ 33         ┆ 1895             ┆ 29                   ┆ 2022-02    │\n",
       "│ 2022         ┆ 1             ┆ 34         ┆ 2442             ┆ 27                   ┆ 2022-01    │\n",
       "└──────────────┴───────────────┴────────────┴──────────────────┴──────────────────────┴────────────┘"
      ]
     },
     "metadata": {},
     "output_type": "display_data"
    }
   ],
   "source": [
    "display(\n",
    "    dm.sort(\"months_ago\", descending=False)\n",
    ")"
   ]
  },
  {
   "cell_type": "code",
   "execution_count": 8,
   "id": "6248310f",
   "metadata": {},
   "outputs": [
    {
     "name": "stdout",
     "output_type": "stream",
     "text": [
      "[30, 31, 32, 33, 34]\n",
      "0 34\n",
      "2024-11 2022-01\n"
     ]
    }
   ],
   "source": [
    "months_ago_list = dm.select(\n",
    "    pl.col(\"months_ago\").unique()\n",
    ").to_numpy().flatten().tolist()\n",
    "start_month_list = dm.with_columns(\n",
    "    pl.col(\"year_month\").unique()\n",
    ").sort(pl.col(\"year_month\"), descending=True).select(\"year_month\").to_numpy().flatten().tolist()\n",
    "start_month_list\n",
    "print(months_ago_list[-5:])\n",
    "min_months_ago, max_months_ago = months_ago_list[0], months_ago_list[-1]\n",
    "print(min_months_ago, max_months_ago)\n",
    "min_start_month, max_start_month = start_month_list[0], start_month_list[-1]\n",
    "print(min_start_month, max_start_month)"
   ]
  },
  {
   "cell_type": "code",
   "execution_count": 9,
   "id": "ac227ebc",
   "metadata": {
    "scrolled": false
   },
   "outputs": [
    {
     "name": "stdout",
     "output_type": "stream",
     "text": [
      "[0, 24, '2024-11', '2022-11']\n"
     ]
    },
    {
     "data": {
      "text/html": [
       "<div><style>\n",
       ".dataframe > thead > tr,\n",
       ".dataframe > tbody > tr {\n",
       "  text-align: right;\n",
       "  white-space: pre-wrap;\n",
       "}\n",
       "</style>\n",
       "<small>shape: (24, 6)</small><table border=\"1\" class=\"dataframe\"><thead><tr><th>year_of_sale</th><th>month_of_sale</th><th>months_ago</th><th>no_of_flats_sold</th><th>no_of_million_dollar_flats_sold</th><th>year_month</th></tr><tr><td>i64</td><td>i64</td><td>i64</td><td>u32</td><td>i64</td><td>str</td></tr></thead><tbody><tr><td>2024</td><td>11</td><td>0</td><td>188</td><td>10</td><td>&quot;2024-11&quot;</td></tr><tr><td>2024</td><td>10</td><td>1</td><td>2155</td><td>103</td><td>&quot;2024-10&quot;</td></tr><tr><td>2024</td><td>9</td><td>2</td><td>2209</td><td>106</td><td>&quot;2024-09&quot;</td></tr><tr><td>2024</td><td>8</td><td>3</td><td>2595</td><td>105</td><td>&quot;2024-08&quot;</td></tr><tr><td>2024</td><td>7</td><td>4</td><td>3036</td><td>120</td><td>&quot;2024-07&quot;</td></tr><tr><td>2024</td><td>6</td><td>5</td><td>2172</td><td>95</td><td>&quot;2024-06&quot;</td></tr><tr><td>2024</td><td>5</td><td>6</td><td>2491</td><td>73</td><td>&quot;2024-05&quot;</td></tr><tr><td>2024</td><td>4</td><td>7</td><td>2370</td><td>68</td><td>&quot;2024-04&quot;</td></tr><tr><td>2024</td><td>3</td><td>8</td><td>2046</td><td>60</td><td>&quot;2024-03&quot;</td></tr><tr><td>2024</td><td>2</td><td>9</td><td>2123</td><td>49</td><td>&quot;2024-02&quot;</td></tr><tr><td>2024</td><td>1</td><td>10</td><td>2621</td><td>74</td><td>&quot;2024-01&quot;</td></tr><tr><td>2023</td><td>12</td><td>11</td><td>2004</td><td>48</td><td>&quot;2023-12&quot;</td></tr><tr><td>2023</td><td>11</td><td>12</td><td>2129</td><td>45</td><td>&quot;2023-11&quot;</td></tr><tr><td>2023</td><td>10</td><td>13</td><td>2189</td><td>40</td><td>&quot;2023-10&quot;</td></tr><tr><td>2023</td><td>9</td><td>14</td><td>1974</td><td>42</td><td>&quot;2023-09&quot;</td></tr><tr><td>2023</td><td>8</td><td>15</td><td>2467</td><td>54</td><td>&quot;2023-08&quot;</td></tr><tr><td>2023</td><td>7</td><td>16</td><td>2052</td><td>32</td><td>&quot;2023-07&quot;</td></tr><tr><td>2023</td><td>6</td><td>17</td><td>1853</td><td>34</td><td>&quot;2023-06&quot;</td></tr><tr><td>2023</td><td>5</td><td>18</td><td>2245</td><td>34</td><td>&quot;2023-05&quot;</td></tr><tr><td>2023</td><td>4</td><td>19</td><td>2177</td><td>37</td><td>&quot;2023-04&quot;</td></tr><tr><td>2023</td><td>3</td><td>20</td><td>2277</td><td>39</td><td>&quot;2023-03&quot;</td></tr><tr><td>2023</td><td>2</td><td>21</td><td>1837</td><td>24</td><td>&quot;2023-02&quot;</td></tr><tr><td>2023</td><td>1</td><td>22</td><td>2551</td><td>40</td><td>&quot;2023-01&quot;</td></tr><tr><td>2022</td><td>12</td><td>23</td><td>2234</td><td>28</td><td>&quot;2022-12&quot;</td></tr></tbody></table></div>"
      ],
      "text/plain": [
       "shape: (24, 6)\n",
       "┌──────────────┬───────────────┬────────────┬──────────────────┬──────────────────────┬────────────┐\n",
       "│ year_of_sale ┆ month_of_sale ┆ months_ago ┆ no_of_flats_sold ┆ no_of_million_dollar ┆ year_month │\n",
       "│ ---          ┆ ---           ┆ ---        ┆ ---              ┆ _flats_sol…          ┆ ---        │\n",
       "│ i64          ┆ i64           ┆ i64        ┆ u32              ┆ ---                  ┆ str        │\n",
       "│              ┆               ┆            ┆                  ┆ i64                  ┆            │\n",
       "╞══════════════╪═══════════════╪════════════╪══════════════════╪══════════════════════╪════════════╡\n",
       "│ 2024         ┆ 11            ┆ 0          ┆ 188              ┆ 10                   ┆ 2024-11    │\n",
       "│ 2024         ┆ 10            ┆ 1          ┆ 2155             ┆ 103                  ┆ 2024-10    │\n",
       "│ 2024         ┆ 9             ┆ 2          ┆ 2209             ┆ 106                  ┆ 2024-09    │\n",
       "│ 2024         ┆ 8             ┆ 3          ┆ 2595             ┆ 105                  ┆ 2024-08    │\n",
       "│ 2024         ┆ 7             ┆ 4          ┆ 3036             ┆ 120                  ┆ 2024-07    │\n",
       "│ 2024         ┆ 6             ┆ 5          ┆ 2172             ┆ 95                   ┆ 2024-06    │\n",
       "│ 2024         ┆ 5             ┆ 6          ┆ 2491             ┆ 73                   ┆ 2024-05    │\n",
       "│ 2024         ┆ 4             ┆ 7          ┆ 2370             ┆ 68                   ┆ 2024-04    │\n",
       "│ 2024         ┆ 3             ┆ 8          ┆ 2046             ┆ 60                   ┆ 2024-03    │\n",
       "│ 2024         ┆ 2             ┆ 9          ┆ 2123             ┆ 49                   ┆ 2024-02    │\n",
       "│ 2024         ┆ 1             ┆ 10         ┆ 2621             ┆ 74                   ┆ 2024-01    │\n",
       "│ 2023         ┆ 12            ┆ 11         ┆ 2004             ┆ 48                   ┆ 2023-12    │\n",
       "│ 2023         ┆ 11            ┆ 12         ┆ 2129             ┆ 45                   ┆ 2023-11    │\n",
       "│ 2023         ┆ 10            ┆ 13         ┆ 2189             ┆ 40                   ┆ 2023-10    │\n",
       "│ 2023         ┆ 9             ┆ 14         ┆ 1974             ┆ 42                   ┆ 2023-09    │\n",
       "│ 2023         ┆ 8             ┆ 15         ┆ 2467             ┆ 54                   ┆ 2023-08    │\n",
       "│ 2023         ┆ 7             ┆ 16         ┆ 2052             ┆ 32                   ┆ 2023-07    │\n",
       "│ 2023         ┆ 6             ┆ 17         ┆ 1853             ┆ 34                   ┆ 2023-06    │\n",
       "│ 2023         ┆ 5             ┆ 18         ┆ 2245             ┆ 34                   ┆ 2023-05    │\n",
       "│ 2023         ┆ 4             ┆ 19         ┆ 2177             ┆ 37                   ┆ 2023-04    │\n",
       "│ 2023         ┆ 3             ┆ 20         ┆ 2277             ┆ 39                   ┆ 2023-03    │\n",
       "│ 2023         ┆ 2             ┆ 21         ┆ 1837             ┆ 24                   ┆ 2023-02    │\n",
       "│ 2023         ┆ 1             ┆ 22         ┆ 2551             ┆ 40                   ┆ 2023-01    │\n",
       "│ 2022         ┆ 12            ┆ 23         ┆ 2234             ┆ 28                   ┆ 2022-12    │\n",
       "└──────────────┴───────────────┴────────────┴──────────────────┴──────────────────────┴────────────┘"
      ]
     },
     "metadata": {},
     "output_type": "display_data"
    },
    {
     "name": "stdout",
     "output_type": "stream",
     "text": [
      "shape: (1, 3)\n",
      "┌──────────────────┬─────────────────────────────────┬─────────────────────────────────┐\n",
      "│ no_of_flats_sold ┆ no_of_million_dollar_flats_sol… ┆ pctage_of_million_dollar_flats… │\n",
      "│ ---              ┆ ---                             ┆ ---                             │\n",
      "│ u32              ┆ i64                             ┆ f64                             │\n",
      "╞══════════════════╪═════════════════════════════════╪═════════════════════════════════╡\n",
      "│ 51995            ┆ 1360                            ┆ 0.026156                        │\n",
      "└──────────────────┴─────────────────────────────────┴─────────────────────────────────┘\n",
      "---\n",
      "[1, 25, '2024-10', '2022-10']\n"
     ]
    },
    {
     "data": {
      "text/html": [
       "<div><style>\n",
       ".dataframe > thead > tr,\n",
       ".dataframe > tbody > tr {\n",
       "  text-align: right;\n",
       "  white-space: pre-wrap;\n",
       "}\n",
       "</style>\n",
       "<small>shape: (24, 6)</small><table border=\"1\" class=\"dataframe\"><thead><tr><th>year_of_sale</th><th>month_of_sale</th><th>months_ago</th><th>no_of_flats_sold</th><th>no_of_million_dollar_flats_sold</th><th>year_month</th></tr><tr><td>i64</td><td>i64</td><td>i64</td><td>u32</td><td>i64</td><td>str</td></tr></thead><tbody><tr><td>2024</td><td>10</td><td>1</td><td>2155</td><td>103</td><td>&quot;2024-10&quot;</td></tr><tr><td>2024</td><td>9</td><td>2</td><td>2209</td><td>106</td><td>&quot;2024-09&quot;</td></tr><tr><td>2024</td><td>8</td><td>3</td><td>2595</td><td>105</td><td>&quot;2024-08&quot;</td></tr><tr><td>2024</td><td>7</td><td>4</td><td>3036</td><td>120</td><td>&quot;2024-07&quot;</td></tr><tr><td>2024</td><td>6</td><td>5</td><td>2172</td><td>95</td><td>&quot;2024-06&quot;</td></tr><tr><td>2024</td><td>5</td><td>6</td><td>2491</td><td>73</td><td>&quot;2024-05&quot;</td></tr><tr><td>2024</td><td>4</td><td>7</td><td>2370</td><td>68</td><td>&quot;2024-04&quot;</td></tr><tr><td>2024</td><td>3</td><td>8</td><td>2046</td><td>60</td><td>&quot;2024-03&quot;</td></tr><tr><td>2024</td><td>2</td><td>9</td><td>2123</td><td>49</td><td>&quot;2024-02&quot;</td></tr><tr><td>2024</td><td>1</td><td>10</td><td>2621</td><td>74</td><td>&quot;2024-01&quot;</td></tr><tr><td>2023</td><td>12</td><td>11</td><td>2004</td><td>48</td><td>&quot;2023-12&quot;</td></tr><tr><td>2023</td><td>11</td><td>12</td><td>2129</td><td>45</td><td>&quot;2023-11&quot;</td></tr><tr><td>2023</td><td>10</td><td>13</td><td>2189</td><td>40</td><td>&quot;2023-10&quot;</td></tr><tr><td>2023</td><td>9</td><td>14</td><td>1974</td><td>42</td><td>&quot;2023-09&quot;</td></tr><tr><td>2023</td><td>8</td><td>15</td><td>2467</td><td>54</td><td>&quot;2023-08&quot;</td></tr><tr><td>2023</td><td>7</td><td>16</td><td>2052</td><td>32</td><td>&quot;2023-07&quot;</td></tr><tr><td>2023</td><td>6</td><td>17</td><td>1853</td><td>34</td><td>&quot;2023-06&quot;</td></tr><tr><td>2023</td><td>5</td><td>18</td><td>2245</td><td>34</td><td>&quot;2023-05&quot;</td></tr><tr><td>2023</td><td>4</td><td>19</td><td>2177</td><td>37</td><td>&quot;2023-04&quot;</td></tr><tr><td>2023</td><td>3</td><td>20</td><td>2277</td><td>39</td><td>&quot;2023-03&quot;</td></tr><tr><td>2023</td><td>2</td><td>21</td><td>1837</td><td>24</td><td>&quot;2023-02&quot;</td></tr><tr><td>2023</td><td>1</td><td>22</td><td>2551</td><td>40</td><td>&quot;2023-01&quot;</td></tr><tr><td>2022</td><td>12</td><td>23</td><td>2234</td><td>28</td><td>&quot;2022-12&quot;</td></tr><tr><td>2022</td><td>11</td><td>24</td><td>2130</td><td>26</td><td>&quot;2022-11&quot;</td></tr></tbody></table></div>"
      ],
      "text/plain": [
       "shape: (24, 6)\n",
       "┌──────────────┬───────────────┬────────────┬──────────────────┬──────────────────────┬────────────┐\n",
       "│ year_of_sale ┆ month_of_sale ┆ months_ago ┆ no_of_flats_sold ┆ no_of_million_dollar ┆ year_month │\n",
       "│ ---          ┆ ---           ┆ ---        ┆ ---              ┆ _flats_sol…          ┆ ---        │\n",
       "│ i64          ┆ i64           ┆ i64        ┆ u32              ┆ ---                  ┆ str        │\n",
       "│              ┆               ┆            ┆                  ┆ i64                  ┆            │\n",
       "╞══════════════╪═══════════════╪════════════╪══════════════════╪══════════════════════╪════════════╡\n",
       "│ 2024         ┆ 10            ┆ 1          ┆ 2155             ┆ 103                  ┆ 2024-10    │\n",
       "│ 2024         ┆ 9             ┆ 2          ┆ 2209             ┆ 106                  ┆ 2024-09    │\n",
       "│ 2024         ┆ 8             ┆ 3          ┆ 2595             ┆ 105                  ┆ 2024-08    │\n",
       "│ 2024         ┆ 7             ┆ 4          ┆ 3036             ┆ 120                  ┆ 2024-07    │\n",
       "│ 2024         ┆ 6             ┆ 5          ┆ 2172             ┆ 95                   ┆ 2024-06    │\n",
       "│ 2024         ┆ 5             ┆ 6          ┆ 2491             ┆ 73                   ┆ 2024-05    │\n",
       "│ 2024         ┆ 4             ┆ 7          ┆ 2370             ┆ 68                   ┆ 2024-04    │\n",
       "│ 2024         ┆ 3             ┆ 8          ┆ 2046             ┆ 60                   ┆ 2024-03    │\n",
       "│ 2024         ┆ 2             ┆ 9          ┆ 2123             ┆ 49                   ┆ 2024-02    │\n",
       "│ 2024         ┆ 1             ┆ 10         ┆ 2621             ┆ 74                   ┆ 2024-01    │\n",
       "│ 2023         ┆ 12            ┆ 11         ┆ 2004             ┆ 48                   ┆ 2023-12    │\n",
       "│ 2023         ┆ 11            ┆ 12         ┆ 2129             ┆ 45                   ┆ 2023-11    │\n",
       "│ 2023         ┆ 10            ┆ 13         ┆ 2189             ┆ 40                   ┆ 2023-10    │\n",
       "│ 2023         ┆ 9             ┆ 14         ┆ 1974             ┆ 42                   ┆ 2023-09    │\n",
       "│ 2023         ┆ 8             ┆ 15         ┆ 2467             ┆ 54                   ┆ 2023-08    │\n",
       "│ 2023         ┆ 7             ┆ 16         ┆ 2052             ┆ 32                   ┆ 2023-07    │\n",
       "│ 2023         ┆ 6             ┆ 17         ┆ 1853             ┆ 34                   ┆ 2023-06    │\n",
       "│ 2023         ┆ 5             ┆ 18         ┆ 2245             ┆ 34                   ┆ 2023-05    │\n",
       "│ 2023         ┆ 4             ┆ 19         ┆ 2177             ┆ 37                   ┆ 2023-04    │\n",
       "│ 2023         ┆ 3             ┆ 20         ┆ 2277             ┆ 39                   ┆ 2023-03    │\n",
       "│ 2023         ┆ 2             ┆ 21         ┆ 1837             ┆ 24                   ┆ 2023-02    │\n",
       "│ 2023         ┆ 1             ┆ 22         ┆ 2551             ┆ 40                   ┆ 2023-01    │\n",
       "│ 2022         ┆ 12            ┆ 23         ┆ 2234             ┆ 28                   ┆ 2022-12    │\n",
       "│ 2022         ┆ 11            ┆ 24         ┆ 2130             ┆ 26                   ┆ 2022-11    │\n",
       "└──────────────┴───────────────┴────────────┴──────────────────┴──────────────────────┴────────────┘"
      ]
     },
     "metadata": {},
     "output_type": "display_data"
    },
    {
     "name": "stdout",
     "output_type": "stream",
     "text": [
      "shape: (1, 3)\n",
      "┌──────────────────┬─────────────────────────────────┬─────────────────────────────────┐\n",
      "│ no_of_flats_sold ┆ no_of_million_dollar_flats_sol… ┆ pctage_of_million_dollar_flats… │\n",
      "│ ---              ┆ ---                             ┆ ---                             │\n",
      "│ u32              ┆ i64                             ┆ f64                             │\n",
      "╞══════════════════╪═════════════════════════════════╪═════════════════════════════════╡\n",
      "│ 53937            ┆ 1376                            ┆ 0.025511                        │\n",
      "└──────────────────┴─────────────────────────────────┴─────────────────────────────────┘\n",
      "---\n",
      "[2, 26, '2024-09', '2022-09']\n"
     ]
    },
    {
     "data": {
      "text/html": [
       "<div><style>\n",
       ".dataframe > thead > tr,\n",
       ".dataframe > tbody > tr {\n",
       "  text-align: right;\n",
       "  white-space: pre-wrap;\n",
       "}\n",
       "</style>\n",
       "<small>shape: (24, 6)</small><table border=\"1\" class=\"dataframe\"><thead><tr><th>year_of_sale</th><th>month_of_sale</th><th>months_ago</th><th>no_of_flats_sold</th><th>no_of_million_dollar_flats_sold</th><th>year_month</th></tr><tr><td>i64</td><td>i64</td><td>i64</td><td>u32</td><td>i64</td><td>str</td></tr></thead><tbody><tr><td>2024</td><td>9</td><td>2</td><td>2209</td><td>106</td><td>&quot;2024-09&quot;</td></tr><tr><td>2024</td><td>8</td><td>3</td><td>2595</td><td>105</td><td>&quot;2024-08&quot;</td></tr><tr><td>2024</td><td>7</td><td>4</td><td>3036</td><td>120</td><td>&quot;2024-07&quot;</td></tr><tr><td>2024</td><td>6</td><td>5</td><td>2172</td><td>95</td><td>&quot;2024-06&quot;</td></tr><tr><td>2024</td><td>5</td><td>6</td><td>2491</td><td>73</td><td>&quot;2024-05&quot;</td></tr><tr><td>2024</td><td>4</td><td>7</td><td>2370</td><td>68</td><td>&quot;2024-04&quot;</td></tr><tr><td>2024</td><td>3</td><td>8</td><td>2046</td><td>60</td><td>&quot;2024-03&quot;</td></tr><tr><td>2024</td><td>2</td><td>9</td><td>2123</td><td>49</td><td>&quot;2024-02&quot;</td></tr><tr><td>2024</td><td>1</td><td>10</td><td>2621</td><td>74</td><td>&quot;2024-01&quot;</td></tr><tr><td>2023</td><td>12</td><td>11</td><td>2004</td><td>48</td><td>&quot;2023-12&quot;</td></tr><tr><td>2023</td><td>11</td><td>12</td><td>2129</td><td>45</td><td>&quot;2023-11&quot;</td></tr><tr><td>2023</td><td>10</td><td>13</td><td>2189</td><td>40</td><td>&quot;2023-10&quot;</td></tr><tr><td>2023</td><td>9</td><td>14</td><td>1974</td><td>42</td><td>&quot;2023-09&quot;</td></tr><tr><td>2023</td><td>8</td><td>15</td><td>2467</td><td>54</td><td>&quot;2023-08&quot;</td></tr><tr><td>2023</td><td>7</td><td>16</td><td>2052</td><td>32</td><td>&quot;2023-07&quot;</td></tr><tr><td>2023</td><td>6</td><td>17</td><td>1853</td><td>34</td><td>&quot;2023-06&quot;</td></tr><tr><td>2023</td><td>5</td><td>18</td><td>2245</td><td>34</td><td>&quot;2023-05&quot;</td></tr><tr><td>2023</td><td>4</td><td>19</td><td>2177</td><td>37</td><td>&quot;2023-04&quot;</td></tr><tr><td>2023</td><td>3</td><td>20</td><td>2277</td><td>39</td><td>&quot;2023-03&quot;</td></tr><tr><td>2023</td><td>2</td><td>21</td><td>1837</td><td>24</td><td>&quot;2023-02&quot;</td></tr><tr><td>2023</td><td>1</td><td>22</td><td>2551</td><td>40</td><td>&quot;2023-01&quot;</td></tr><tr><td>2022</td><td>12</td><td>23</td><td>2234</td><td>28</td><td>&quot;2022-12&quot;</td></tr><tr><td>2022</td><td>11</td><td>24</td><td>2130</td><td>26</td><td>&quot;2022-11&quot;</td></tr><tr><td>2022</td><td>10</td><td>25</td><td>1958</td><td>38</td><td>&quot;2022-10&quot;</td></tr></tbody></table></div>"
      ],
      "text/plain": [
       "shape: (24, 6)\n",
       "┌──────────────┬───────────────┬────────────┬──────────────────┬──────────────────────┬────────────┐\n",
       "│ year_of_sale ┆ month_of_sale ┆ months_ago ┆ no_of_flats_sold ┆ no_of_million_dollar ┆ year_month │\n",
       "│ ---          ┆ ---           ┆ ---        ┆ ---              ┆ _flats_sol…          ┆ ---        │\n",
       "│ i64          ┆ i64           ┆ i64        ┆ u32              ┆ ---                  ┆ str        │\n",
       "│              ┆               ┆            ┆                  ┆ i64                  ┆            │\n",
       "╞══════════════╪═══════════════╪════════════╪══════════════════╪══════════════════════╪════════════╡\n",
       "│ 2024         ┆ 9             ┆ 2          ┆ 2209             ┆ 106                  ┆ 2024-09    │\n",
       "│ 2024         ┆ 8             ┆ 3          ┆ 2595             ┆ 105                  ┆ 2024-08    │\n",
       "│ 2024         ┆ 7             ┆ 4          ┆ 3036             ┆ 120                  ┆ 2024-07    │\n",
       "│ 2024         ┆ 6             ┆ 5          ┆ 2172             ┆ 95                   ┆ 2024-06    │\n",
       "│ 2024         ┆ 5             ┆ 6          ┆ 2491             ┆ 73                   ┆ 2024-05    │\n",
       "│ 2024         ┆ 4             ┆ 7          ┆ 2370             ┆ 68                   ┆ 2024-04    │\n",
       "│ 2024         ┆ 3             ┆ 8          ┆ 2046             ┆ 60                   ┆ 2024-03    │\n",
       "│ 2024         ┆ 2             ┆ 9          ┆ 2123             ┆ 49                   ┆ 2024-02    │\n",
       "│ 2024         ┆ 1             ┆ 10         ┆ 2621             ┆ 74                   ┆ 2024-01    │\n",
       "│ 2023         ┆ 12            ┆ 11         ┆ 2004             ┆ 48                   ┆ 2023-12    │\n",
       "│ 2023         ┆ 11            ┆ 12         ┆ 2129             ┆ 45                   ┆ 2023-11    │\n",
       "│ 2023         ┆ 10            ┆ 13         ┆ 2189             ┆ 40                   ┆ 2023-10    │\n",
       "│ 2023         ┆ 9             ┆ 14         ┆ 1974             ┆ 42                   ┆ 2023-09    │\n",
       "│ 2023         ┆ 8             ┆ 15         ┆ 2467             ┆ 54                   ┆ 2023-08    │\n",
       "│ 2023         ┆ 7             ┆ 16         ┆ 2052             ┆ 32                   ┆ 2023-07    │\n",
       "│ 2023         ┆ 6             ┆ 17         ┆ 1853             ┆ 34                   ┆ 2023-06    │\n",
       "│ 2023         ┆ 5             ┆ 18         ┆ 2245             ┆ 34                   ┆ 2023-05    │\n",
       "│ 2023         ┆ 4             ┆ 19         ┆ 2177             ┆ 37                   ┆ 2023-04    │\n",
       "│ 2023         ┆ 3             ┆ 20         ┆ 2277             ┆ 39                   ┆ 2023-03    │\n",
       "│ 2023         ┆ 2             ┆ 21         ┆ 1837             ┆ 24                   ┆ 2023-02    │\n",
       "│ 2023         ┆ 1             ┆ 22         ┆ 2551             ┆ 40                   ┆ 2023-01    │\n",
       "│ 2022         ┆ 12            ┆ 23         ┆ 2234             ┆ 28                   ┆ 2022-12    │\n",
       "│ 2022         ┆ 11            ┆ 24         ┆ 2130             ┆ 26                   ┆ 2022-11    │\n",
       "│ 2022         ┆ 10            ┆ 25         ┆ 1958             ┆ 38                   ┆ 2022-10    │\n",
       "└──────────────┴───────────────┴────────────┴──────────────────┴──────────────────────┴────────────┘"
      ]
     },
     "metadata": {},
     "output_type": "display_data"
    },
    {
     "name": "stdout",
     "output_type": "stream",
     "text": [
      "shape: (1, 3)\n",
      "┌──────────────────┬─────────────────────────────────┬─────────────────────────────────┐\n",
      "│ no_of_flats_sold ┆ no_of_million_dollar_flats_sol… ┆ pctage_of_million_dollar_flats… │\n",
      "│ ---              ┆ ---                             ┆ ---                             │\n",
      "│ u32              ┆ i64                             ┆ f64                             │\n",
      "╞══════════════════╪═════════════════════════════════╪═════════════════════════════════╡\n",
      "│ 53740            ┆ 1311                            ┆ 0.024395                        │\n",
      "└──────────────────┴─────────────────────────────────┴─────────────────────────────────┘\n",
      "---\n",
      "[3, 27, '2024-08', '2022-08']\n"
     ]
    },
    {
     "data": {
      "text/html": [
       "<div><style>\n",
       ".dataframe > thead > tr,\n",
       ".dataframe > tbody > tr {\n",
       "  text-align: right;\n",
       "  white-space: pre-wrap;\n",
       "}\n",
       "</style>\n",
       "<small>shape: (24, 6)</small><table border=\"1\" class=\"dataframe\"><thead><tr><th>year_of_sale</th><th>month_of_sale</th><th>months_ago</th><th>no_of_flats_sold</th><th>no_of_million_dollar_flats_sold</th><th>year_month</th></tr><tr><td>i64</td><td>i64</td><td>i64</td><td>u32</td><td>i64</td><td>str</td></tr></thead><tbody><tr><td>2024</td><td>8</td><td>3</td><td>2595</td><td>105</td><td>&quot;2024-08&quot;</td></tr><tr><td>2024</td><td>7</td><td>4</td><td>3036</td><td>120</td><td>&quot;2024-07&quot;</td></tr><tr><td>2024</td><td>6</td><td>5</td><td>2172</td><td>95</td><td>&quot;2024-06&quot;</td></tr><tr><td>2024</td><td>5</td><td>6</td><td>2491</td><td>73</td><td>&quot;2024-05&quot;</td></tr><tr><td>2024</td><td>4</td><td>7</td><td>2370</td><td>68</td><td>&quot;2024-04&quot;</td></tr><tr><td>2024</td><td>3</td><td>8</td><td>2046</td><td>60</td><td>&quot;2024-03&quot;</td></tr><tr><td>2024</td><td>2</td><td>9</td><td>2123</td><td>49</td><td>&quot;2024-02&quot;</td></tr><tr><td>2024</td><td>1</td><td>10</td><td>2621</td><td>74</td><td>&quot;2024-01&quot;</td></tr><tr><td>2023</td><td>12</td><td>11</td><td>2004</td><td>48</td><td>&quot;2023-12&quot;</td></tr><tr><td>2023</td><td>11</td><td>12</td><td>2129</td><td>45</td><td>&quot;2023-11&quot;</td></tr><tr><td>2023</td><td>10</td><td>13</td><td>2189</td><td>40</td><td>&quot;2023-10&quot;</td></tr><tr><td>2023</td><td>9</td><td>14</td><td>1974</td><td>42</td><td>&quot;2023-09&quot;</td></tr><tr><td>2023</td><td>8</td><td>15</td><td>2467</td><td>54</td><td>&quot;2023-08&quot;</td></tr><tr><td>2023</td><td>7</td><td>16</td><td>2052</td><td>32</td><td>&quot;2023-07&quot;</td></tr><tr><td>2023</td><td>6</td><td>17</td><td>1853</td><td>34</td><td>&quot;2023-06&quot;</td></tr><tr><td>2023</td><td>5</td><td>18</td><td>2245</td><td>34</td><td>&quot;2023-05&quot;</td></tr><tr><td>2023</td><td>4</td><td>19</td><td>2177</td><td>37</td><td>&quot;2023-04&quot;</td></tr><tr><td>2023</td><td>3</td><td>20</td><td>2277</td><td>39</td><td>&quot;2023-03&quot;</td></tr><tr><td>2023</td><td>2</td><td>21</td><td>1837</td><td>24</td><td>&quot;2023-02&quot;</td></tr><tr><td>2023</td><td>1</td><td>22</td><td>2551</td><td>40</td><td>&quot;2023-01&quot;</td></tr><tr><td>2022</td><td>12</td><td>23</td><td>2234</td><td>28</td><td>&quot;2022-12&quot;</td></tr><tr><td>2022</td><td>11</td><td>24</td><td>2130</td><td>26</td><td>&quot;2022-11&quot;</td></tr><tr><td>2022</td><td>10</td><td>25</td><td>1958</td><td>38</td><td>&quot;2022-10&quot;</td></tr><tr><td>2022</td><td>9</td><td>26</td><td>2578</td><td>45</td><td>&quot;2022-09&quot;</td></tr></tbody></table></div>"
      ],
      "text/plain": [
       "shape: (24, 6)\n",
       "┌──────────────┬───────────────┬────────────┬──────────────────┬──────────────────────┬────────────┐\n",
       "│ year_of_sale ┆ month_of_sale ┆ months_ago ┆ no_of_flats_sold ┆ no_of_million_dollar ┆ year_month │\n",
       "│ ---          ┆ ---           ┆ ---        ┆ ---              ┆ _flats_sol…          ┆ ---        │\n",
       "│ i64          ┆ i64           ┆ i64        ┆ u32              ┆ ---                  ┆ str        │\n",
       "│              ┆               ┆            ┆                  ┆ i64                  ┆            │\n",
       "╞══════════════╪═══════════════╪════════════╪══════════════════╪══════════════════════╪════════════╡\n",
       "│ 2024         ┆ 8             ┆ 3          ┆ 2595             ┆ 105                  ┆ 2024-08    │\n",
       "│ 2024         ┆ 7             ┆ 4          ┆ 3036             ┆ 120                  ┆ 2024-07    │\n",
       "│ 2024         ┆ 6             ┆ 5          ┆ 2172             ┆ 95                   ┆ 2024-06    │\n",
       "│ 2024         ┆ 5             ┆ 6          ┆ 2491             ┆ 73                   ┆ 2024-05    │\n",
       "│ 2024         ┆ 4             ┆ 7          ┆ 2370             ┆ 68                   ┆ 2024-04    │\n",
       "│ 2024         ┆ 3             ┆ 8          ┆ 2046             ┆ 60                   ┆ 2024-03    │\n",
       "│ 2024         ┆ 2             ┆ 9          ┆ 2123             ┆ 49                   ┆ 2024-02    │\n",
       "│ 2024         ┆ 1             ┆ 10         ┆ 2621             ┆ 74                   ┆ 2024-01    │\n",
       "│ 2023         ┆ 12            ┆ 11         ┆ 2004             ┆ 48                   ┆ 2023-12    │\n",
       "│ 2023         ┆ 11            ┆ 12         ┆ 2129             ┆ 45                   ┆ 2023-11    │\n",
       "│ 2023         ┆ 10            ┆ 13         ┆ 2189             ┆ 40                   ┆ 2023-10    │\n",
       "│ 2023         ┆ 9             ┆ 14         ┆ 1974             ┆ 42                   ┆ 2023-09    │\n",
       "│ 2023         ┆ 8             ┆ 15         ┆ 2467             ┆ 54                   ┆ 2023-08    │\n",
       "│ 2023         ┆ 7             ┆ 16         ┆ 2052             ┆ 32                   ┆ 2023-07    │\n",
       "│ 2023         ┆ 6             ┆ 17         ┆ 1853             ┆ 34                   ┆ 2023-06    │\n",
       "│ 2023         ┆ 5             ┆ 18         ┆ 2245             ┆ 34                   ┆ 2023-05    │\n",
       "│ 2023         ┆ 4             ┆ 19         ┆ 2177             ┆ 37                   ┆ 2023-04    │\n",
       "│ 2023         ┆ 3             ┆ 20         ┆ 2277             ┆ 39                   ┆ 2023-03    │\n",
       "│ 2023         ┆ 2             ┆ 21         ┆ 1837             ┆ 24                   ┆ 2023-02    │\n",
       "│ 2023         ┆ 1             ┆ 22         ┆ 2551             ┆ 40                   ┆ 2023-01    │\n",
       "│ 2022         ┆ 12            ┆ 23         ┆ 2234             ┆ 28                   ┆ 2022-12    │\n",
       "│ 2022         ┆ 11            ┆ 24         ┆ 2130             ┆ 26                   ┆ 2022-11    │\n",
       "│ 2022         ┆ 10            ┆ 25         ┆ 1958             ┆ 38                   ┆ 2022-10    │\n",
       "│ 2022         ┆ 9             ┆ 26         ┆ 2578             ┆ 45                   ┆ 2022-09    │\n",
       "└──────────────┴───────────────┴────────────┴──────────────────┴──────────────────────┴────────────┘"
      ]
     },
     "metadata": {},
     "output_type": "display_data"
    },
    {
     "name": "stdout",
     "output_type": "stream",
     "text": [
      "shape: (1, 3)\n",
      "┌──────────────────┬─────────────────────────────────┬─────────────────────────────────┐\n",
      "│ no_of_flats_sold ┆ no_of_million_dollar_flats_sol… ┆ pctage_of_million_dollar_flats… │\n",
      "│ ---              ┆ ---                             ┆ ---                             │\n",
      "│ u32              ┆ i64                             ┆ f64                             │\n",
      "╞══════════════════╪═════════════════════════════════╪═════════════════════════════════╡\n",
      "│ 54109            ┆ 1250                            ┆ 0.023102                        │\n",
      "└──────────────────┴─────────────────────────────────┴─────────────────────────────────┘\n",
      "---\n",
      "[4, 28, '2024-07', '2022-07']\n"
     ]
    },
    {
     "data": {
      "text/html": [
       "<div><style>\n",
       ".dataframe > thead > tr,\n",
       ".dataframe > tbody > tr {\n",
       "  text-align: right;\n",
       "  white-space: pre-wrap;\n",
       "}\n",
       "</style>\n",
       "<small>shape: (24, 6)</small><table border=\"1\" class=\"dataframe\"><thead><tr><th>year_of_sale</th><th>month_of_sale</th><th>months_ago</th><th>no_of_flats_sold</th><th>no_of_million_dollar_flats_sold</th><th>year_month</th></tr><tr><td>i64</td><td>i64</td><td>i64</td><td>u32</td><td>i64</td><td>str</td></tr></thead><tbody><tr><td>2024</td><td>7</td><td>4</td><td>3036</td><td>120</td><td>&quot;2024-07&quot;</td></tr><tr><td>2024</td><td>6</td><td>5</td><td>2172</td><td>95</td><td>&quot;2024-06&quot;</td></tr><tr><td>2024</td><td>5</td><td>6</td><td>2491</td><td>73</td><td>&quot;2024-05&quot;</td></tr><tr><td>2024</td><td>4</td><td>7</td><td>2370</td><td>68</td><td>&quot;2024-04&quot;</td></tr><tr><td>2024</td><td>3</td><td>8</td><td>2046</td><td>60</td><td>&quot;2024-03&quot;</td></tr><tr><td>2024</td><td>2</td><td>9</td><td>2123</td><td>49</td><td>&quot;2024-02&quot;</td></tr><tr><td>2024</td><td>1</td><td>10</td><td>2621</td><td>74</td><td>&quot;2024-01&quot;</td></tr><tr><td>2023</td><td>12</td><td>11</td><td>2004</td><td>48</td><td>&quot;2023-12&quot;</td></tr><tr><td>2023</td><td>11</td><td>12</td><td>2129</td><td>45</td><td>&quot;2023-11&quot;</td></tr><tr><td>2023</td><td>10</td><td>13</td><td>2189</td><td>40</td><td>&quot;2023-10&quot;</td></tr><tr><td>2023</td><td>9</td><td>14</td><td>1974</td><td>42</td><td>&quot;2023-09&quot;</td></tr><tr><td>2023</td><td>8</td><td>15</td><td>2467</td><td>54</td><td>&quot;2023-08&quot;</td></tr><tr><td>2023</td><td>7</td><td>16</td><td>2052</td><td>32</td><td>&quot;2023-07&quot;</td></tr><tr><td>2023</td><td>6</td><td>17</td><td>1853</td><td>34</td><td>&quot;2023-06&quot;</td></tr><tr><td>2023</td><td>5</td><td>18</td><td>2245</td><td>34</td><td>&quot;2023-05&quot;</td></tr><tr><td>2023</td><td>4</td><td>19</td><td>2177</td><td>37</td><td>&quot;2023-04&quot;</td></tr><tr><td>2023</td><td>3</td><td>20</td><td>2277</td><td>39</td><td>&quot;2023-03&quot;</td></tr><tr><td>2023</td><td>2</td><td>21</td><td>1837</td><td>24</td><td>&quot;2023-02&quot;</td></tr><tr><td>2023</td><td>1</td><td>22</td><td>2551</td><td>40</td><td>&quot;2023-01&quot;</td></tr><tr><td>2022</td><td>12</td><td>23</td><td>2234</td><td>28</td><td>&quot;2022-12&quot;</td></tr><tr><td>2022</td><td>11</td><td>24</td><td>2130</td><td>26</td><td>&quot;2022-11&quot;</td></tr><tr><td>2022</td><td>10</td><td>25</td><td>1958</td><td>38</td><td>&quot;2022-10&quot;</td></tr><tr><td>2022</td><td>9</td><td>26</td><td>2578</td><td>45</td><td>&quot;2022-09&quot;</td></tr><tr><td>2022</td><td>8</td><td>27</td><td>2309</td><td>33</td><td>&quot;2022-08&quot;</td></tr></tbody></table></div>"
      ],
      "text/plain": [
       "shape: (24, 6)\n",
       "┌──────────────┬───────────────┬────────────┬──────────────────┬──────────────────────┬────────────┐\n",
       "│ year_of_sale ┆ month_of_sale ┆ months_ago ┆ no_of_flats_sold ┆ no_of_million_dollar ┆ year_month │\n",
       "│ ---          ┆ ---           ┆ ---        ┆ ---              ┆ _flats_sol…          ┆ ---        │\n",
       "│ i64          ┆ i64           ┆ i64        ┆ u32              ┆ ---                  ┆ str        │\n",
       "│              ┆               ┆            ┆                  ┆ i64                  ┆            │\n",
       "╞══════════════╪═══════════════╪════════════╪══════════════════╪══════════════════════╪════════════╡\n",
       "│ 2024         ┆ 7             ┆ 4          ┆ 3036             ┆ 120                  ┆ 2024-07    │\n",
       "│ 2024         ┆ 6             ┆ 5          ┆ 2172             ┆ 95                   ┆ 2024-06    │\n",
       "│ 2024         ┆ 5             ┆ 6          ┆ 2491             ┆ 73                   ┆ 2024-05    │\n",
       "│ 2024         ┆ 4             ┆ 7          ┆ 2370             ┆ 68                   ┆ 2024-04    │\n",
       "│ 2024         ┆ 3             ┆ 8          ┆ 2046             ┆ 60                   ┆ 2024-03    │\n",
       "│ 2024         ┆ 2             ┆ 9          ┆ 2123             ┆ 49                   ┆ 2024-02    │\n",
       "│ 2024         ┆ 1             ┆ 10         ┆ 2621             ┆ 74                   ┆ 2024-01    │\n",
       "│ 2023         ┆ 12            ┆ 11         ┆ 2004             ┆ 48                   ┆ 2023-12    │\n",
       "│ 2023         ┆ 11            ┆ 12         ┆ 2129             ┆ 45                   ┆ 2023-11    │\n",
       "│ 2023         ┆ 10            ┆ 13         ┆ 2189             ┆ 40                   ┆ 2023-10    │\n",
       "│ 2023         ┆ 9             ┆ 14         ┆ 1974             ┆ 42                   ┆ 2023-09    │\n",
       "│ 2023         ┆ 8             ┆ 15         ┆ 2467             ┆ 54                   ┆ 2023-08    │\n",
       "│ 2023         ┆ 7             ┆ 16         ┆ 2052             ┆ 32                   ┆ 2023-07    │\n",
       "│ 2023         ┆ 6             ┆ 17         ┆ 1853             ┆ 34                   ┆ 2023-06    │\n",
       "│ 2023         ┆ 5             ┆ 18         ┆ 2245             ┆ 34                   ┆ 2023-05    │\n",
       "│ 2023         ┆ 4             ┆ 19         ┆ 2177             ┆ 37                   ┆ 2023-04    │\n",
       "│ 2023         ┆ 3             ┆ 20         ┆ 2277             ┆ 39                   ┆ 2023-03    │\n",
       "│ 2023         ┆ 2             ┆ 21         ┆ 1837             ┆ 24                   ┆ 2023-02    │\n",
       "│ 2023         ┆ 1             ┆ 22         ┆ 2551             ┆ 40                   ┆ 2023-01    │\n",
       "│ 2022         ┆ 12            ┆ 23         ┆ 2234             ┆ 28                   ┆ 2022-12    │\n",
       "│ 2022         ┆ 11            ┆ 24         ┆ 2130             ┆ 26                   ┆ 2022-11    │\n",
       "│ 2022         ┆ 10            ┆ 25         ┆ 1958             ┆ 38                   ┆ 2022-10    │\n",
       "│ 2022         ┆ 9             ┆ 26         ┆ 2578             ┆ 45                   ┆ 2022-09    │\n",
       "│ 2022         ┆ 8             ┆ 27         ┆ 2309             ┆ 33                   ┆ 2022-08    │\n",
       "└──────────────┴───────────────┴────────────┴──────────────────┴──────────────────────┴────────────┘"
      ]
     },
     "metadata": {},
     "output_type": "display_data"
    },
    {
     "name": "stdout",
     "output_type": "stream",
     "text": [
      "shape: (1, 3)\n",
      "┌──────────────────┬─────────────────────────────────┬─────────────────────────────────┐\n",
      "│ no_of_flats_sold ┆ no_of_million_dollar_flats_sol… ┆ pctage_of_million_dollar_flats… │\n",
      "│ ---              ┆ ---                             ┆ ---                             │\n",
      "│ u32              ┆ i64                             ┆ f64                             │\n",
      "╞══════════════════╪═════════════════════════════════╪═════════════════════════════════╡\n",
      "│ 53823            ┆ 1178                            ┆ 0.021887                        │\n",
      "└──────────────────┴─────────────────────────────────┴─────────────────────────────────┘\n",
      "---\n",
      "[5, 29, '2024-06', '2022-06']\n"
     ]
    },
    {
     "data": {
      "text/html": [
       "<div><style>\n",
       ".dataframe > thead > tr,\n",
       ".dataframe > tbody > tr {\n",
       "  text-align: right;\n",
       "  white-space: pre-wrap;\n",
       "}\n",
       "</style>\n",
       "<small>shape: (24, 6)</small><table border=\"1\" class=\"dataframe\"><thead><tr><th>year_of_sale</th><th>month_of_sale</th><th>months_ago</th><th>no_of_flats_sold</th><th>no_of_million_dollar_flats_sold</th><th>year_month</th></tr><tr><td>i64</td><td>i64</td><td>i64</td><td>u32</td><td>i64</td><td>str</td></tr></thead><tbody><tr><td>2024</td><td>6</td><td>5</td><td>2172</td><td>95</td><td>&quot;2024-06&quot;</td></tr><tr><td>2024</td><td>5</td><td>6</td><td>2491</td><td>73</td><td>&quot;2024-05&quot;</td></tr><tr><td>2024</td><td>4</td><td>7</td><td>2370</td><td>68</td><td>&quot;2024-04&quot;</td></tr><tr><td>2024</td><td>3</td><td>8</td><td>2046</td><td>60</td><td>&quot;2024-03&quot;</td></tr><tr><td>2024</td><td>2</td><td>9</td><td>2123</td><td>49</td><td>&quot;2024-02&quot;</td></tr><tr><td>2024</td><td>1</td><td>10</td><td>2621</td><td>74</td><td>&quot;2024-01&quot;</td></tr><tr><td>2023</td><td>12</td><td>11</td><td>2004</td><td>48</td><td>&quot;2023-12&quot;</td></tr><tr><td>2023</td><td>11</td><td>12</td><td>2129</td><td>45</td><td>&quot;2023-11&quot;</td></tr><tr><td>2023</td><td>10</td><td>13</td><td>2189</td><td>40</td><td>&quot;2023-10&quot;</td></tr><tr><td>2023</td><td>9</td><td>14</td><td>1974</td><td>42</td><td>&quot;2023-09&quot;</td></tr><tr><td>2023</td><td>8</td><td>15</td><td>2467</td><td>54</td><td>&quot;2023-08&quot;</td></tr><tr><td>2023</td><td>7</td><td>16</td><td>2052</td><td>32</td><td>&quot;2023-07&quot;</td></tr><tr><td>2023</td><td>6</td><td>17</td><td>1853</td><td>34</td><td>&quot;2023-06&quot;</td></tr><tr><td>2023</td><td>5</td><td>18</td><td>2245</td><td>34</td><td>&quot;2023-05&quot;</td></tr><tr><td>2023</td><td>4</td><td>19</td><td>2177</td><td>37</td><td>&quot;2023-04&quot;</td></tr><tr><td>2023</td><td>3</td><td>20</td><td>2277</td><td>39</td><td>&quot;2023-03&quot;</td></tr><tr><td>2023</td><td>2</td><td>21</td><td>1837</td><td>24</td><td>&quot;2023-02&quot;</td></tr><tr><td>2023</td><td>1</td><td>22</td><td>2551</td><td>40</td><td>&quot;2023-01&quot;</td></tr><tr><td>2022</td><td>12</td><td>23</td><td>2234</td><td>28</td><td>&quot;2022-12&quot;</td></tr><tr><td>2022</td><td>11</td><td>24</td><td>2130</td><td>26</td><td>&quot;2022-11&quot;</td></tr><tr><td>2022</td><td>10</td><td>25</td><td>1958</td><td>38</td><td>&quot;2022-10&quot;</td></tr><tr><td>2022</td><td>9</td><td>26</td><td>2578</td><td>45</td><td>&quot;2022-09&quot;</td></tr><tr><td>2022</td><td>8</td><td>27</td><td>2309</td><td>33</td><td>&quot;2022-08&quot;</td></tr><tr><td>2022</td><td>7</td><td>28</td><td>2361</td><td>33</td><td>&quot;2022-07&quot;</td></tr></tbody></table></div>"
      ],
      "text/plain": [
       "shape: (24, 6)\n",
       "┌──────────────┬───────────────┬────────────┬──────────────────┬──────────────────────┬────────────┐\n",
       "│ year_of_sale ┆ month_of_sale ┆ months_ago ┆ no_of_flats_sold ┆ no_of_million_dollar ┆ year_month │\n",
       "│ ---          ┆ ---           ┆ ---        ┆ ---              ┆ _flats_sol…          ┆ ---        │\n",
       "│ i64          ┆ i64           ┆ i64        ┆ u32              ┆ ---                  ┆ str        │\n",
       "│              ┆               ┆            ┆                  ┆ i64                  ┆            │\n",
       "╞══════════════╪═══════════════╪════════════╪══════════════════╪══════════════════════╪════════════╡\n",
       "│ 2024         ┆ 6             ┆ 5          ┆ 2172             ┆ 95                   ┆ 2024-06    │\n",
       "│ 2024         ┆ 5             ┆ 6          ┆ 2491             ┆ 73                   ┆ 2024-05    │\n",
       "│ 2024         ┆ 4             ┆ 7          ┆ 2370             ┆ 68                   ┆ 2024-04    │\n",
       "│ 2024         ┆ 3             ┆ 8          ┆ 2046             ┆ 60                   ┆ 2024-03    │\n",
       "│ 2024         ┆ 2             ┆ 9          ┆ 2123             ┆ 49                   ┆ 2024-02    │\n",
       "│ 2024         ┆ 1             ┆ 10         ┆ 2621             ┆ 74                   ┆ 2024-01    │\n",
       "│ 2023         ┆ 12            ┆ 11         ┆ 2004             ┆ 48                   ┆ 2023-12    │\n",
       "│ 2023         ┆ 11            ┆ 12         ┆ 2129             ┆ 45                   ┆ 2023-11    │\n",
       "│ 2023         ┆ 10            ┆ 13         ┆ 2189             ┆ 40                   ┆ 2023-10    │\n",
       "│ 2023         ┆ 9             ┆ 14         ┆ 1974             ┆ 42                   ┆ 2023-09    │\n",
       "│ 2023         ┆ 8             ┆ 15         ┆ 2467             ┆ 54                   ┆ 2023-08    │\n",
       "│ 2023         ┆ 7             ┆ 16         ┆ 2052             ┆ 32                   ┆ 2023-07    │\n",
       "│ 2023         ┆ 6             ┆ 17         ┆ 1853             ┆ 34                   ┆ 2023-06    │\n",
       "│ 2023         ┆ 5             ┆ 18         ┆ 2245             ┆ 34                   ┆ 2023-05    │\n",
       "│ 2023         ┆ 4             ┆ 19         ┆ 2177             ┆ 37                   ┆ 2023-04    │\n",
       "│ 2023         ┆ 3             ┆ 20         ┆ 2277             ┆ 39                   ┆ 2023-03    │\n",
       "│ 2023         ┆ 2             ┆ 21         ┆ 1837             ┆ 24                   ┆ 2023-02    │\n",
       "│ 2023         ┆ 1             ┆ 22         ┆ 2551             ┆ 40                   ┆ 2023-01    │\n",
       "│ 2022         ┆ 12            ┆ 23         ┆ 2234             ┆ 28                   ┆ 2022-12    │\n",
       "│ 2022         ┆ 11            ┆ 24         ┆ 2130             ┆ 26                   ┆ 2022-11    │\n",
       "│ 2022         ┆ 10            ┆ 25         ┆ 1958             ┆ 38                   ┆ 2022-10    │\n",
       "│ 2022         ┆ 9             ┆ 26         ┆ 2578             ┆ 45                   ┆ 2022-09    │\n",
       "│ 2022         ┆ 8             ┆ 27         ┆ 2309             ┆ 33                   ┆ 2022-08    │\n",
       "│ 2022         ┆ 7             ┆ 28         ┆ 2361             ┆ 33                   ┆ 2022-07    │\n",
       "└──────────────┴───────────────┴────────────┴──────────────────┴──────────────────────┴────────────┘"
      ]
     },
     "metadata": {},
     "output_type": "display_data"
    },
    {
     "name": "stdout",
     "output_type": "stream",
     "text": [
      "shape: (1, 3)\n",
      "┌──────────────────┬─────────────────────────────────┬─────────────────────────────────┐\n",
      "│ no_of_flats_sold ┆ no_of_million_dollar_flats_sol… ┆ pctage_of_million_dollar_flats… │\n",
      "│ ---              ┆ ---                             ┆ ---                             │\n",
      "│ u32              ┆ i64                             ┆ f64                             │\n",
      "╞══════════════════╪═════════════════════════════════╪═════════════════════════════════╡\n",
      "│ 53148            ┆ 1091                            ┆ 0.020528                        │\n",
      "└──────────────────┴─────────────────────────────────┴─────────────────────────────────┘\n",
      "---\n",
      "[6, 30, '2024-05', '2022-05']\n"
     ]
    },
    {
     "data": {
      "text/html": [
       "<div><style>\n",
       ".dataframe > thead > tr,\n",
       ".dataframe > tbody > tr {\n",
       "  text-align: right;\n",
       "  white-space: pre-wrap;\n",
       "}\n",
       "</style>\n",
       "<small>shape: (24, 6)</small><table border=\"1\" class=\"dataframe\"><thead><tr><th>year_of_sale</th><th>month_of_sale</th><th>months_ago</th><th>no_of_flats_sold</th><th>no_of_million_dollar_flats_sold</th><th>year_month</th></tr><tr><td>i64</td><td>i64</td><td>i64</td><td>u32</td><td>i64</td><td>str</td></tr></thead><tbody><tr><td>2024</td><td>5</td><td>6</td><td>2491</td><td>73</td><td>&quot;2024-05&quot;</td></tr><tr><td>2024</td><td>4</td><td>7</td><td>2370</td><td>68</td><td>&quot;2024-04&quot;</td></tr><tr><td>2024</td><td>3</td><td>8</td><td>2046</td><td>60</td><td>&quot;2024-03&quot;</td></tr><tr><td>2024</td><td>2</td><td>9</td><td>2123</td><td>49</td><td>&quot;2024-02&quot;</td></tr><tr><td>2024</td><td>1</td><td>10</td><td>2621</td><td>74</td><td>&quot;2024-01&quot;</td></tr><tr><td>2023</td><td>12</td><td>11</td><td>2004</td><td>48</td><td>&quot;2023-12&quot;</td></tr><tr><td>2023</td><td>11</td><td>12</td><td>2129</td><td>45</td><td>&quot;2023-11&quot;</td></tr><tr><td>2023</td><td>10</td><td>13</td><td>2189</td><td>40</td><td>&quot;2023-10&quot;</td></tr><tr><td>2023</td><td>9</td><td>14</td><td>1974</td><td>42</td><td>&quot;2023-09&quot;</td></tr><tr><td>2023</td><td>8</td><td>15</td><td>2467</td><td>54</td><td>&quot;2023-08&quot;</td></tr><tr><td>2023</td><td>7</td><td>16</td><td>2052</td><td>32</td><td>&quot;2023-07&quot;</td></tr><tr><td>2023</td><td>6</td><td>17</td><td>1853</td><td>34</td><td>&quot;2023-06&quot;</td></tr><tr><td>2023</td><td>5</td><td>18</td><td>2245</td><td>34</td><td>&quot;2023-05&quot;</td></tr><tr><td>2023</td><td>4</td><td>19</td><td>2177</td><td>37</td><td>&quot;2023-04&quot;</td></tr><tr><td>2023</td><td>3</td><td>20</td><td>2277</td><td>39</td><td>&quot;2023-03&quot;</td></tr><tr><td>2023</td><td>2</td><td>21</td><td>1837</td><td>24</td><td>&quot;2023-02&quot;</td></tr><tr><td>2023</td><td>1</td><td>22</td><td>2551</td><td>40</td><td>&quot;2023-01&quot;</td></tr><tr><td>2022</td><td>12</td><td>23</td><td>2234</td><td>28</td><td>&quot;2022-12&quot;</td></tr><tr><td>2022</td><td>11</td><td>24</td><td>2130</td><td>26</td><td>&quot;2022-11&quot;</td></tr><tr><td>2022</td><td>10</td><td>25</td><td>1958</td><td>38</td><td>&quot;2022-10&quot;</td></tr><tr><td>2022</td><td>9</td><td>26</td><td>2578</td><td>45</td><td>&quot;2022-09&quot;</td></tr><tr><td>2022</td><td>8</td><td>27</td><td>2309</td><td>33</td><td>&quot;2022-08&quot;</td></tr><tr><td>2022</td><td>7</td><td>28</td><td>2361</td><td>33</td><td>&quot;2022-07&quot;</td></tr><tr><td>2022</td><td>6</td><td>29</td><td>2135</td><td>31</td><td>&quot;2022-06&quot;</td></tr></tbody></table></div>"
      ],
      "text/plain": [
       "shape: (24, 6)\n",
       "┌──────────────┬───────────────┬────────────┬──────────────────┬──────────────────────┬────────────┐\n",
       "│ year_of_sale ┆ month_of_sale ┆ months_ago ┆ no_of_flats_sold ┆ no_of_million_dollar ┆ year_month │\n",
       "│ ---          ┆ ---           ┆ ---        ┆ ---              ┆ _flats_sol…          ┆ ---        │\n",
       "│ i64          ┆ i64           ┆ i64        ┆ u32              ┆ ---                  ┆ str        │\n",
       "│              ┆               ┆            ┆                  ┆ i64                  ┆            │\n",
       "╞══════════════╪═══════════════╪════════════╪══════════════════╪══════════════════════╪════════════╡\n",
       "│ 2024         ┆ 5             ┆ 6          ┆ 2491             ┆ 73                   ┆ 2024-05    │\n",
       "│ 2024         ┆ 4             ┆ 7          ┆ 2370             ┆ 68                   ┆ 2024-04    │\n",
       "│ 2024         ┆ 3             ┆ 8          ┆ 2046             ┆ 60                   ┆ 2024-03    │\n",
       "│ 2024         ┆ 2             ┆ 9          ┆ 2123             ┆ 49                   ┆ 2024-02    │\n",
       "│ 2024         ┆ 1             ┆ 10         ┆ 2621             ┆ 74                   ┆ 2024-01    │\n",
       "│ 2023         ┆ 12            ┆ 11         ┆ 2004             ┆ 48                   ┆ 2023-12    │\n",
       "│ 2023         ┆ 11            ┆ 12         ┆ 2129             ┆ 45                   ┆ 2023-11    │\n",
       "│ 2023         ┆ 10            ┆ 13         ┆ 2189             ┆ 40                   ┆ 2023-10    │\n",
       "│ 2023         ┆ 9             ┆ 14         ┆ 1974             ┆ 42                   ┆ 2023-09    │\n",
       "│ 2023         ┆ 8             ┆ 15         ┆ 2467             ┆ 54                   ┆ 2023-08    │\n",
       "│ 2023         ┆ 7             ┆ 16         ┆ 2052             ┆ 32                   ┆ 2023-07    │\n",
       "│ 2023         ┆ 6             ┆ 17         ┆ 1853             ┆ 34                   ┆ 2023-06    │\n",
       "│ 2023         ┆ 5             ┆ 18         ┆ 2245             ┆ 34                   ┆ 2023-05    │\n",
       "│ 2023         ┆ 4             ┆ 19         ┆ 2177             ┆ 37                   ┆ 2023-04    │\n",
       "│ 2023         ┆ 3             ┆ 20         ┆ 2277             ┆ 39                   ┆ 2023-03    │\n",
       "│ 2023         ┆ 2             ┆ 21         ┆ 1837             ┆ 24                   ┆ 2023-02    │\n",
       "│ 2023         ┆ 1             ┆ 22         ┆ 2551             ┆ 40                   ┆ 2023-01    │\n",
       "│ 2022         ┆ 12            ┆ 23         ┆ 2234             ┆ 28                   ┆ 2022-12    │\n",
       "│ 2022         ┆ 11            ┆ 24         ┆ 2130             ┆ 26                   ┆ 2022-11    │\n",
       "│ 2022         ┆ 10            ┆ 25         ┆ 1958             ┆ 38                   ┆ 2022-10    │\n",
       "│ 2022         ┆ 9             ┆ 26         ┆ 2578             ┆ 45                   ┆ 2022-09    │\n",
       "│ 2022         ┆ 8             ┆ 27         ┆ 2309             ┆ 33                   ┆ 2022-08    │\n",
       "│ 2022         ┆ 7             ┆ 28         ┆ 2361             ┆ 33                   ┆ 2022-07    │\n",
       "│ 2022         ┆ 6             ┆ 29         ┆ 2135             ┆ 31                   ┆ 2022-06    │\n",
       "└──────────────┴───────────────┴────────────┴──────────────────┴──────────────────────┴────────────┘"
      ]
     },
     "metadata": {},
     "output_type": "display_data"
    },
    {
     "name": "stdout",
     "output_type": "stream",
     "text": [
      "shape: (1, 3)\n",
      "┌──────────────────┬─────────────────────────────────┬─────────────────────────────────┐\n",
      "│ no_of_flats_sold ┆ no_of_million_dollar_flats_sol… ┆ pctage_of_million_dollar_flats… │\n",
      "│ ---              ┆ ---                             ┆ ---                             │\n",
      "│ u32              ┆ i64                             ┆ f64                             │\n",
      "╞══════════════════╪═════════════════════════════════╪═════════════════════════════════╡\n",
      "│ 53111            ┆ 1027                            ┆ 0.019337                        │\n",
      "└──────────────────┴─────────────────────────────────┴─────────────────────────────────┘\n",
      "---\n",
      "[7, 31, '2024-04', '2022-04']\n"
     ]
    },
    {
     "data": {
      "text/html": [
       "<div><style>\n",
       ".dataframe > thead > tr,\n",
       ".dataframe > tbody > tr {\n",
       "  text-align: right;\n",
       "  white-space: pre-wrap;\n",
       "}\n",
       "</style>\n",
       "<small>shape: (24, 6)</small><table border=\"1\" class=\"dataframe\"><thead><tr><th>year_of_sale</th><th>month_of_sale</th><th>months_ago</th><th>no_of_flats_sold</th><th>no_of_million_dollar_flats_sold</th><th>year_month</th></tr><tr><td>i64</td><td>i64</td><td>i64</td><td>u32</td><td>i64</td><td>str</td></tr></thead><tbody><tr><td>2024</td><td>4</td><td>7</td><td>2370</td><td>68</td><td>&quot;2024-04&quot;</td></tr><tr><td>2024</td><td>3</td><td>8</td><td>2046</td><td>60</td><td>&quot;2024-03&quot;</td></tr><tr><td>2024</td><td>2</td><td>9</td><td>2123</td><td>49</td><td>&quot;2024-02&quot;</td></tr><tr><td>2024</td><td>1</td><td>10</td><td>2621</td><td>74</td><td>&quot;2024-01&quot;</td></tr><tr><td>2023</td><td>12</td><td>11</td><td>2004</td><td>48</td><td>&quot;2023-12&quot;</td></tr><tr><td>2023</td><td>11</td><td>12</td><td>2129</td><td>45</td><td>&quot;2023-11&quot;</td></tr><tr><td>2023</td><td>10</td><td>13</td><td>2189</td><td>40</td><td>&quot;2023-10&quot;</td></tr><tr><td>2023</td><td>9</td><td>14</td><td>1974</td><td>42</td><td>&quot;2023-09&quot;</td></tr><tr><td>2023</td><td>8</td><td>15</td><td>2467</td><td>54</td><td>&quot;2023-08&quot;</td></tr><tr><td>2023</td><td>7</td><td>16</td><td>2052</td><td>32</td><td>&quot;2023-07&quot;</td></tr><tr><td>2023</td><td>6</td><td>17</td><td>1853</td><td>34</td><td>&quot;2023-06&quot;</td></tr><tr><td>2023</td><td>5</td><td>18</td><td>2245</td><td>34</td><td>&quot;2023-05&quot;</td></tr><tr><td>2023</td><td>4</td><td>19</td><td>2177</td><td>37</td><td>&quot;2023-04&quot;</td></tr><tr><td>2023</td><td>3</td><td>20</td><td>2277</td><td>39</td><td>&quot;2023-03&quot;</td></tr><tr><td>2023</td><td>2</td><td>21</td><td>1837</td><td>24</td><td>&quot;2023-02&quot;</td></tr><tr><td>2023</td><td>1</td><td>22</td><td>2551</td><td>40</td><td>&quot;2023-01&quot;</td></tr><tr><td>2022</td><td>12</td><td>23</td><td>2234</td><td>28</td><td>&quot;2022-12&quot;</td></tr><tr><td>2022</td><td>11</td><td>24</td><td>2130</td><td>26</td><td>&quot;2022-11&quot;</td></tr><tr><td>2022</td><td>10</td><td>25</td><td>1958</td><td>38</td><td>&quot;2022-10&quot;</td></tr><tr><td>2022</td><td>9</td><td>26</td><td>2578</td><td>45</td><td>&quot;2022-09&quot;</td></tr><tr><td>2022</td><td>8</td><td>27</td><td>2309</td><td>33</td><td>&quot;2022-08&quot;</td></tr><tr><td>2022</td><td>7</td><td>28</td><td>2361</td><td>33</td><td>&quot;2022-07&quot;</td></tr><tr><td>2022</td><td>6</td><td>29</td><td>2135</td><td>31</td><td>&quot;2022-06&quot;</td></tr><tr><td>2022</td><td>5</td><td>30</td><td>2154</td><td>30</td><td>&quot;2022-05&quot;</td></tr></tbody></table></div>"
      ],
      "text/plain": [
       "shape: (24, 6)\n",
       "┌──────────────┬───────────────┬────────────┬──────────────────┬──────────────────────┬────────────┐\n",
       "│ year_of_sale ┆ month_of_sale ┆ months_ago ┆ no_of_flats_sold ┆ no_of_million_dollar ┆ year_month │\n",
       "│ ---          ┆ ---           ┆ ---        ┆ ---              ┆ _flats_sol…          ┆ ---        │\n",
       "│ i64          ┆ i64           ┆ i64        ┆ u32              ┆ ---                  ┆ str        │\n",
       "│              ┆               ┆            ┆                  ┆ i64                  ┆            │\n",
       "╞══════════════╪═══════════════╪════════════╪══════════════════╪══════════════════════╪════════════╡\n",
       "│ 2024         ┆ 4             ┆ 7          ┆ 2370             ┆ 68                   ┆ 2024-04    │\n",
       "│ 2024         ┆ 3             ┆ 8          ┆ 2046             ┆ 60                   ┆ 2024-03    │\n",
       "│ 2024         ┆ 2             ┆ 9          ┆ 2123             ┆ 49                   ┆ 2024-02    │\n",
       "│ 2024         ┆ 1             ┆ 10         ┆ 2621             ┆ 74                   ┆ 2024-01    │\n",
       "│ 2023         ┆ 12            ┆ 11         ┆ 2004             ┆ 48                   ┆ 2023-12    │\n",
       "│ 2023         ┆ 11            ┆ 12         ┆ 2129             ┆ 45                   ┆ 2023-11    │\n",
       "│ 2023         ┆ 10            ┆ 13         ┆ 2189             ┆ 40                   ┆ 2023-10    │\n",
       "│ 2023         ┆ 9             ┆ 14         ┆ 1974             ┆ 42                   ┆ 2023-09    │\n",
       "│ 2023         ┆ 8             ┆ 15         ┆ 2467             ┆ 54                   ┆ 2023-08    │\n",
       "│ 2023         ┆ 7             ┆ 16         ┆ 2052             ┆ 32                   ┆ 2023-07    │\n",
       "│ 2023         ┆ 6             ┆ 17         ┆ 1853             ┆ 34                   ┆ 2023-06    │\n",
       "│ 2023         ┆ 5             ┆ 18         ┆ 2245             ┆ 34                   ┆ 2023-05    │\n",
       "│ 2023         ┆ 4             ┆ 19         ┆ 2177             ┆ 37                   ┆ 2023-04    │\n",
       "│ 2023         ┆ 3             ┆ 20         ┆ 2277             ┆ 39                   ┆ 2023-03    │\n",
       "│ 2023         ┆ 2             ┆ 21         ┆ 1837             ┆ 24                   ┆ 2023-02    │\n",
       "│ 2023         ┆ 1             ┆ 22         ┆ 2551             ┆ 40                   ┆ 2023-01    │\n",
       "│ 2022         ┆ 12            ┆ 23         ┆ 2234             ┆ 28                   ┆ 2022-12    │\n",
       "│ 2022         ┆ 11            ┆ 24         ┆ 2130             ┆ 26                   ┆ 2022-11    │\n",
       "│ 2022         ┆ 10            ┆ 25         ┆ 1958             ┆ 38                   ┆ 2022-10    │\n",
       "│ 2022         ┆ 9             ┆ 26         ┆ 2578             ┆ 45                   ┆ 2022-09    │\n",
       "│ 2022         ┆ 8             ┆ 27         ┆ 2309             ┆ 33                   ┆ 2022-08    │\n",
       "│ 2022         ┆ 7             ┆ 28         ┆ 2361             ┆ 33                   ┆ 2022-07    │\n",
       "│ 2022         ┆ 6             ┆ 29         ┆ 2135             ┆ 31                   ┆ 2022-06    │\n",
       "│ 2022         ┆ 5             ┆ 30         ┆ 2154             ┆ 30                   ┆ 2022-05    │\n",
       "└──────────────┴───────────────┴────────────┴──────────────────┴──────────────────────┴────────────┘"
      ]
     },
     "metadata": {},
     "output_type": "display_data"
    },
    {
     "name": "stdout",
     "output_type": "stream",
     "text": [
      "shape: (1, 3)\n",
      "┌──────────────────┬─────────────────────────────────┬─────────────────────────────────┐\n",
      "│ no_of_flats_sold ┆ no_of_million_dollar_flats_sol… ┆ pctage_of_million_dollar_flats… │\n",
      "│ ---              ┆ ---                             ┆ ---                             │\n",
      "│ u32              ┆ i64                             ┆ f64                             │\n",
      "╞══════════════════╪═════════════════════════════════╪═════════════════════════════════╡\n",
      "│ 52774            ┆ 984                             ┆ 0.018646                        │\n",
      "└──────────────────┴─────────────────────────────────┴─────────────────────────────────┘\n",
      "---\n",
      "[8, 32, '2024-03', '2022-03']\n"
     ]
    },
    {
     "data": {
      "text/html": [
       "<div><style>\n",
       ".dataframe > thead > tr,\n",
       ".dataframe > tbody > tr {\n",
       "  text-align: right;\n",
       "  white-space: pre-wrap;\n",
       "}\n",
       "</style>\n",
       "<small>shape: (24, 6)</small><table border=\"1\" class=\"dataframe\"><thead><tr><th>year_of_sale</th><th>month_of_sale</th><th>months_ago</th><th>no_of_flats_sold</th><th>no_of_million_dollar_flats_sold</th><th>year_month</th></tr><tr><td>i64</td><td>i64</td><td>i64</td><td>u32</td><td>i64</td><td>str</td></tr></thead><tbody><tr><td>2024</td><td>3</td><td>8</td><td>2046</td><td>60</td><td>&quot;2024-03&quot;</td></tr><tr><td>2024</td><td>2</td><td>9</td><td>2123</td><td>49</td><td>&quot;2024-02&quot;</td></tr><tr><td>2024</td><td>1</td><td>10</td><td>2621</td><td>74</td><td>&quot;2024-01&quot;</td></tr><tr><td>2023</td><td>12</td><td>11</td><td>2004</td><td>48</td><td>&quot;2023-12&quot;</td></tr><tr><td>2023</td><td>11</td><td>12</td><td>2129</td><td>45</td><td>&quot;2023-11&quot;</td></tr><tr><td>2023</td><td>10</td><td>13</td><td>2189</td><td>40</td><td>&quot;2023-10&quot;</td></tr><tr><td>2023</td><td>9</td><td>14</td><td>1974</td><td>42</td><td>&quot;2023-09&quot;</td></tr><tr><td>2023</td><td>8</td><td>15</td><td>2467</td><td>54</td><td>&quot;2023-08&quot;</td></tr><tr><td>2023</td><td>7</td><td>16</td><td>2052</td><td>32</td><td>&quot;2023-07&quot;</td></tr><tr><td>2023</td><td>6</td><td>17</td><td>1853</td><td>34</td><td>&quot;2023-06&quot;</td></tr><tr><td>2023</td><td>5</td><td>18</td><td>2245</td><td>34</td><td>&quot;2023-05&quot;</td></tr><tr><td>2023</td><td>4</td><td>19</td><td>2177</td><td>37</td><td>&quot;2023-04&quot;</td></tr><tr><td>2023</td><td>3</td><td>20</td><td>2277</td><td>39</td><td>&quot;2023-03&quot;</td></tr><tr><td>2023</td><td>2</td><td>21</td><td>1837</td><td>24</td><td>&quot;2023-02&quot;</td></tr><tr><td>2023</td><td>1</td><td>22</td><td>2551</td><td>40</td><td>&quot;2023-01&quot;</td></tr><tr><td>2022</td><td>12</td><td>23</td><td>2234</td><td>28</td><td>&quot;2022-12&quot;</td></tr><tr><td>2022</td><td>11</td><td>24</td><td>2130</td><td>26</td><td>&quot;2022-11&quot;</td></tr><tr><td>2022</td><td>10</td><td>25</td><td>1958</td><td>38</td><td>&quot;2022-10&quot;</td></tr><tr><td>2022</td><td>9</td><td>26</td><td>2578</td><td>45</td><td>&quot;2022-09&quot;</td></tr><tr><td>2022</td><td>8</td><td>27</td><td>2309</td><td>33</td><td>&quot;2022-08&quot;</td></tr><tr><td>2022</td><td>7</td><td>28</td><td>2361</td><td>33</td><td>&quot;2022-07&quot;</td></tr><tr><td>2022</td><td>6</td><td>29</td><td>2135</td><td>31</td><td>&quot;2022-06&quot;</td></tr><tr><td>2022</td><td>5</td><td>30</td><td>2154</td><td>30</td><td>&quot;2022-05&quot;</td></tr><tr><td>2022</td><td>4</td><td>31</td><td>2262</td><td>22</td><td>&quot;2022-04&quot;</td></tr></tbody></table></div>"
      ],
      "text/plain": [
       "shape: (24, 6)\n",
       "┌──────────────┬───────────────┬────────────┬──────────────────┬──────────────────────┬────────────┐\n",
       "│ year_of_sale ┆ month_of_sale ┆ months_ago ┆ no_of_flats_sold ┆ no_of_million_dollar ┆ year_month │\n",
       "│ ---          ┆ ---           ┆ ---        ┆ ---              ┆ _flats_sol…          ┆ ---        │\n",
       "│ i64          ┆ i64           ┆ i64        ┆ u32              ┆ ---                  ┆ str        │\n",
       "│              ┆               ┆            ┆                  ┆ i64                  ┆            │\n",
       "╞══════════════╪═══════════════╪════════════╪══════════════════╪══════════════════════╪════════════╡\n",
       "│ 2024         ┆ 3             ┆ 8          ┆ 2046             ┆ 60                   ┆ 2024-03    │\n",
       "│ 2024         ┆ 2             ┆ 9          ┆ 2123             ┆ 49                   ┆ 2024-02    │\n",
       "│ 2024         ┆ 1             ┆ 10         ┆ 2621             ┆ 74                   ┆ 2024-01    │\n",
       "│ 2023         ┆ 12            ┆ 11         ┆ 2004             ┆ 48                   ┆ 2023-12    │\n",
       "│ 2023         ┆ 11            ┆ 12         ┆ 2129             ┆ 45                   ┆ 2023-11    │\n",
       "│ 2023         ┆ 10            ┆ 13         ┆ 2189             ┆ 40                   ┆ 2023-10    │\n",
       "│ 2023         ┆ 9             ┆ 14         ┆ 1974             ┆ 42                   ┆ 2023-09    │\n",
       "│ 2023         ┆ 8             ┆ 15         ┆ 2467             ┆ 54                   ┆ 2023-08    │\n",
       "│ 2023         ┆ 7             ┆ 16         ┆ 2052             ┆ 32                   ┆ 2023-07    │\n",
       "│ 2023         ┆ 6             ┆ 17         ┆ 1853             ┆ 34                   ┆ 2023-06    │\n",
       "│ 2023         ┆ 5             ┆ 18         ┆ 2245             ┆ 34                   ┆ 2023-05    │\n",
       "│ 2023         ┆ 4             ┆ 19         ┆ 2177             ┆ 37                   ┆ 2023-04    │\n",
       "│ 2023         ┆ 3             ┆ 20         ┆ 2277             ┆ 39                   ┆ 2023-03    │\n",
       "│ 2023         ┆ 2             ┆ 21         ┆ 1837             ┆ 24                   ┆ 2023-02    │\n",
       "│ 2023         ┆ 1             ┆ 22         ┆ 2551             ┆ 40                   ┆ 2023-01    │\n",
       "│ 2022         ┆ 12            ┆ 23         ┆ 2234             ┆ 28                   ┆ 2022-12    │\n",
       "│ 2022         ┆ 11            ┆ 24         ┆ 2130             ┆ 26                   ┆ 2022-11    │\n",
       "│ 2022         ┆ 10            ┆ 25         ┆ 1958             ┆ 38                   ┆ 2022-10    │\n",
       "│ 2022         ┆ 9             ┆ 26         ┆ 2578             ┆ 45                   ┆ 2022-09    │\n",
       "│ 2022         ┆ 8             ┆ 27         ┆ 2309             ┆ 33                   ┆ 2022-08    │\n",
       "│ 2022         ┆ 7             ┆ 28         ┆ 2361             ┆ 33                   ┆ 2022-07    │\n",
       "│ 2022         ┆ 6             ┆ 29         ┆ 2135             ┆ 31                   ┆ 2022-06    │\n",
       "│ 2022         ┆ 5             ┆ 30         ┆ 2154             ┆ 30                   ┆ 2022-05    │\n",
       "│ 2022         ┆ 4             ┆ 31         ┆ 2262             ┆ 22                   ┆ 2022-04    │\n",
       "└──────────────┴───────────────┴────────────┴──────────────────┴──────────────────────┴────────────┘"
      ]
     },
     "metadata": {},
     "output_type": "display_data"
    },
    {
     "name": "stdout",
     "output_type": "stream",
     "text": [
      "shape: (1, 3)\n",
      "┌──────────────────┬─────────────────────────────────┬─────────────────────────────────┐\n",
      "│ no_of_flats_sold ┆ no_of_million_dollar_flats_sol… ┆ pctage_of_million_dollar_flats… │\n",
      "│ ---              ┆ ---                             ┆ ---                             │\n",
      "│ u32              ┆ i64                             ┆ f64                             │\n",
      "╞══════════════════╪═════════════════════════════════╪═════════════════════════════════╡\n",
      "│ 52666            ┆ 938                             ┆ 0.01781                         │\n",
      "└──────────────────┴─────────────────────────────────┴─────────────────────────────────┘\n",
      "---\n",
      "[9, 33, '2024-02', '2022-02']\n"
     ]
    },
    {
     "data": {
      "text/html": [
       "<div><style>\n",
       ".dataframe > thead > tr,\n",
       ".dataframe > tbody > tr {\n",
       "  text-align: right;\n",
       "  white-space: pre-wrap;\n",
       "}\n",
       "</style>\n",
       "<small>shape: (24, 6)</small><table border=\"1\" class=\"dataframe\"><thead><tr><th>year_of_sale</th><th>month_of_sale</th><th>months_ago</th><th>no_of_flats_sold</th><th>no_of_million_dollar_flats_sold</th><th>year_month</th></tr><tr><td>i64</td><td>i64</td><td>i64</td><td>u32</td><td>i64</td><td>str</td></tr></thead><tbody><tr><td>2024</td><td>2</td><td>9</td><td>2123</td><td>49</td><td>&quot;2024-02&quot;</td></tr><tr><td>2024</td><td>1</td><td>10</td><td>2621</td><td>74</td><td>&quot;2024-01&quot;</td></tr><tr><td>2023</td><td>12</td><td>11</td><td>2004</td><td>48</td><td>&quot;2023-12&quot;</td></tr><tr><td>2023</td><td>11</td><td>12</td><td>2129</td><td>45</td><td>&quot;2023-11&quot;</td></tr><tr><td>2023</td><td>10</td><td>13</td><td>2189</td><td>40</td><td>&quot;2023-10&quot;</td></tr><tr><td>2023</td><td>9</td><td>14</td><td>1974</td><td>42</td><td>&quot;2023-09&quot;</td></tr><tr><td>2023</td><td>8</td><td>15</td><td>2467</td><td>54</td><td>&quot;2023-08&quot;</td></tr><tr><td>2023</td><td>7</td><td>16</td><td>2052</td><td>32</td><td>&quot;2023-07&quot;</td></tr><tr><td>2023</td><td>6</td><td>17</td><td>1853</td><td>34</td><td>&quot;2023-06&quot;</td></tr><tr><td>2023</td><td>5</td><td>18</td><td>2245</td><td>34</td><td>&quot;2023-05&quot;</td></tr><tr><td>2023</td><td>4</td><td>19</td><td>2177</td><td>37</td><td>&quot;2023-04&quot;</td></tr><tr><td>2023</td><td>3</td><td>20</td><td>2277</td><td>39</td><td>&quot;2023-03&quot;</td></tr><tr><td>2023</td><td>2</td><td>21</td><td>1837</td><td>24</td><td>&quot;2023-02&quot;</td></tr><tr><td>2023</td><td>1</td><td>22</td><td>2551</td><td>40</td><td>&quot;2023-01&quot;</td></tr><tr><td>2022</td><td>12</td><td>23</td><td>2234</td><td>28</td><td>&quot;2022-12&quot;</td></tr><tr><td>2022</td><td>11</td><td>24</td><td>2130</td><td>26</td><td>&quot;2022-11&quot;</td></tr><tr><td>2022</td><td>10</td><td>25</td><td>1958</td><td>38</td><td>&quot;2022-10&quot;</td></tr><tr><td>2022</td><td>9</td><td>26</td><td>2578</td><td>45</td><td>&quot;2022-09&quot;</td></tr><tr><td>2022</td><td>8</td><td>27</td><td>2309</td><td>33</td><td>&quot;2022-08&quot;</td></tr><tr><td>2022</td><td>7</td><td>28</td><td>2361</td><td>33</td><td>&quot;2022-07&quot;</td></tr><tr><td>2022</td><td>6</td><td>29</td><td>2135</td><td>31</td><td>&quot;2022-06&quot;</td></tr><tr><td>2022</td><td>5</td><td>30</td><td>2154</td><td>30</td><td>&quot;2022-05&quot;</td></tr><tr><td>2022</td><td>4</td><td>31</td><td>2262</td><td>22</td><td>&quot;2022-04&quot;</td></tr><tr><td>2022</td><td>3</td><td>32</td><td>2262</td><td>27</td><td>&quot;2022-03&quot;</td></tr></tbody></table></div>"
      ],
      "text/plain": [
       "shape: (24, 6)\n",
       "┌──────────────┬───────────────┬────────────┬──────────────────┬──────────────────────┬────────────┐\n",
       "│ year_of_sale ┆ month_of_sale ┆ months_ago ┆ no_of_flats_sold ┆ no_of_million_dollar ┆ year_month │\n",
       "│ ---          ┆ ---           ┆ ---        ┆ ---              ┆ _flats_sol…          ┆ ---        │\n",
       "│ i64          ┆ i64           ┆ i64        ┆ u32              ┆ ---                  ┆ str        │\n",
       "│              ┆               ┆            ┆                  ┆ i64                  ┆            │\n",
       "╞══════════════╪═══════════════╪════════════╪══════════════════╪══════════════════════╪════════════╡\n",
       "│ 2024         ┆ 2             ┆ 9          ┆ 2123             ┆ 49                   ┆ 2024-02    │\n",
       "│ 2024         ┆ 1             ┆ 10         ┆ 2621             ┆ 74                   ┆ 2024-01    │\n",
       "│ 2023         ┆ 12            ┆ 11         ┆ 2004             ┆ 48                   ┆ 2023-12    │\n",
       "│ 2023         ┆ 11            ┆ 12         ┆ 2129             ┆ 45                   ┆ 2023-11    │\n",
       "│ 2023         ┆ 10            ┆ 13         ┆ 2189             ┆ 40                   ┆ 2023-10    │\n",
       "│ 2023         ┆ 9             ┆ 14         ┆ 1974             ┆ 42                   ┆ 2023-09    │\n",
       "│ 2023         ┆ 8             ┆ 15         ┆ 2467             ┆ 54                   ┆ 2023-08    │\n",
       "│ 2023         ┆ 7             ┆ 16         ┆ 2052             ┆ 32                   ┆ 2023-07    │\n",
       "│ 2023         ┆ 6             ┆ 17         ┆ 1853             ┆ 34                   ┆ 2023-06    │\n",
       "│ 2023         ┆ 5             ┆ 18         ┆ 2245             ┆ 34                   ┆ 2023-05    │\n",
       "│ 2023         ┆ 4             ┆ 19         ┆ 2177             ┆ 37                   ┆ 2023-04    │\n",
       "│ 2023         ┆ 3             ┆ 20         ┆ 2277             ┆ 39                   ┆ 2023-03    │\n",
       "│ 2023         ┆ 2             ┆ 21         ┆ 1837             ┆ 24                   ┆ 2023-02    │\n",
       "│ 2023         ┆ 1             ┆ 22         ┆ 2551             ┆ 40                   ┆ 2023-01    │\n",
       "│ 2022         ┆ 12            ┆ 23         ┆ 2234             ┆ 28                   ┆ 2022-12    │\n",
       "│ 2022         ┆ 11            ┆ 24         ┆ 2130             ┆ 26                   ┆ 2022-11    │\n",
       "│ 2022         ┆ 10            ┆ 25         ┆ 1958             ┆ 38                   ┆ 2022-10    │\n",
       "│ 2022         ┆ 9             ┆ 26         ┆ 2578             ┆ 45                   ┆ 2022-09    │\n",
       "│ 2022         ┆ 8             ┆ 27         ┆ 2309             ┆ 33                   ┆ 2022-08    │\n",
       "│ 2022         ┆ 7             ┆ 28         ┆ 2361             ┆ 33                   ┆ 2022-07    │\n",
       "│ 2022         ┆ 6             ┆ 29         ┆ 2135             ┆ 31                   ┆ 2022-06    │\n",
       "│ 2022         ┆ 5             ┆ 30         ┆ 2154             ┆ 30                   ┆ 2022-05    │\n",
       "│ 2022         ┆ 4             ┆ 31         ┆ 2262             ┆ 22                   ┆ 2022-04    │\n",
       "│ 2022         ┆ 3             ┆ 32         ┆ 2262             ┆ 27                   ┆ 2022-03    │\n",
       "└──────────────┴───────────────┴────────────┴──────────────────┴──────────────────────┴────────────┘"
      ]
     },
     "metadata": {},
     "output_type": "display_data"
    },
    {
     "name": "stdout",
     "output_type": "stream",
     "text": [
      "shape: (1, 3)\n",
      "┌──────────────────┬─────────────────────────────────┬─────────────────────────────────┐\n",
      "│ no_of_flats_sold ┆ no_of_million_dollar_flats_sol… ┆ pctage_of_million_dollar_flats… │\n",
      "│ ---              ┆ ---                             ┆ ---                             │\n",
      "│ u32              ┆ i64                             ┆ f64                             │\n",
      "╞══════════════════╪═════════════════════════════════╪═════════════════════════════════╡\n",
      "│ 52882            ┆ 905                             ┆ 0.017114                        │\n",
      "└──────────────────┴─────────────────────────────────┴─────────────────────────────────┘\n",
      "---\n",
      "[10, 34, '2024-01', '2022-01']\n"
     ]
    },
    {
     "data": {
      "text/html": [
       "<div><style>\n",
       ".dataframe > thead > tr,\n",
       ".dataframe > tbody > tr {\n",
       "  text-align: right;\n",
       "  white-space: pre-wrap;\n",
       "}\n",
       "</style>\n",
       "<small>shape: (24, 6)</small><table border=\"1\" class=\"dataframe\"><thead><tr><th>year_of_sale</th><th>month_of_sale</th><th>months_ago</th><th>no_of_flats_sold</th><th>no_of_million_dollar_flats_sold</th><th>year_month</th></tr><tr><td>i64</td><td>i64</td><td>i64</td><td>u32</td><td>i64</td><td>str</td></tr></thead><tbody><tr><td>2024</td><td>1</td><td>10</td><td>2621</td><td>74</td><td>&quot;2024-01&quot;</td></tr><tr><td>2023</td><td>12</td><td>11</td><td>2004</td><td>48</td><td>&quot;2023-12&quot;</td></tr><tr><td>2023</td><td>11</td><td>12</td><td>2129</td><td>45</td><td>&quot;2023-11&quot;</td></tr><tr><td>2023</td><td>10</td><td>13</td><td>2189</td><td>40</td><td>&quot;2023-10&quot;</td></tr><tr><td>2023</td><td>9</td><td>14</td><td>1974</td><td>42</td><td>&quot;2023-09&quot;</td></tr><tr><td>2023</td><td>8</td><td>15</td><td>2467</td><td>54</td><td>&quot;2023-08&quot;</td></tr><tr><td>2023</td><td>7</td><td>16</td><td>2052</td><td>32</td><td>&quot;2023-07&quot;</td></tr><tr><td>2023</td><td>6</td><td>17</td><td>1853</td><td>34</td><td>&quot;2023-06&quot;</td></tr><tr><td>2023</td><td>5</td><td>18</td><td>2245</td><td>34</td><td>&quot;2023-05&quot;</td></tr><tr><td>2023</td><td>4</td><td>19</td><td>2177</td><td>37</td><td>&quot;2023-04&quot;</td></tr><tr><td>2023</td><td>3</td><td>20</td><td>2277</td><td>39</td><td>&quot;2023-03&quot;</td></tr><tr><td>2023</td><td>2</td><td>21</td><td>1837</td><td>24</td><td>&quot;2023-02&quot;</td></tr><tr><td>2023</td><td>1</td><td>22</td><td>2551</td><td>40</td><td>&quot;2023-01&quot;</td></tr><tr><td>2022</td><td>12</td><td>23</td><td>2234</td><td>28</td><td>&quot;2022-12&quot;</td></tr><tr><td>2022</td><td>11</td><td>24</td><td>2130</td><td>26</td><td>&quot;2022-11&quot;</td></tr><tr><td>2022</td><td>10</td><td>25</td><td>1958</td><td>38</td><td>&quot;2022-10&quot;</td></tr><tr><td>2022</td><td>9</td><td>26</td><td>2578</td><td>45</td><td>&quot;2022-09&quot;</td></tr><tr><td>2022</td><td>8</td><td>27</td><td>2309</td><td>33</td><td>&quot;2022-08&quot;</td></tr><tr><td>2022</td><td>7</td><td>28</td><td>2361</td><td>33</td><td>&quot;2022-07&quot;</td></tr><tr><td>2022</td><td>6</td><td>29</td><td>2135</td><td>31</td><td>&quot;2022-06&quot;</td></tr><tr><td>2022</td><td>5</td><td>30</td><td>2154</td><td>30</td><td>&quot;2022-05&quot;</td></tr><tr><td>2022</td><td>4</td><td>31</td><td>2262</td><td>22</td><td>&quot;2022-04&quot;</td></tr><tr><td>2022</td><td>3</td><td>32</td><td>2262</td><td>27</td><td>&quot;2022-03&quot;</td></tr><tr><td>2022</td><td>2</td><td>33</td><td>1895</td><td>29</td><td>&quot;2022-02&quot;</td></tr></tbody></table></div>"
      ],
      "text/plain": [
       "shape: (24, 6)\n",
       "┌──────────────┬───────────────┬────────────┬──────────────────┬──────────────────────┬────────────┐\n",
       "│ year_of_sale ┆ month_of_sale ┆ months_ago ┆ no_of_flats_sold ┆ no_of_million_dollar ┆ year_month │\n",
       "│ ---          ┆ ---           ┆ ---        ┆ ---              ┆ _flats_sol…          ┆ ---        │\n",
       "│ i64          ┆ i64           ┆ i64        ┆ u32              ┆ ---                  ┆ str        │\n",
       "│              ┆               ┆            ┆                  ┆ i64                  ┆            │\n",
       "╞══════════════╪═══════════════╪════════════╪══════════════════╪══════════════════════╪════════════╡\n",
       "│ 2024         ┆ 1             ┆ 10         ┆ 2621             ┆ 74                   ┆ 2024-01    │\n",
       "│ 2023         ┆ 12            ┆ 11         ┆ 2004             ┆ 48                   ┆ 2023-12    │\n",
       "│ 2023         ┆ 11            ┆ 12         ┆ 2129             ┆ 45                   ┆ 2023-11    │\n",
       "│ 2023         ┆ 10            ┆ 13         ┆ 2189             ┆ 40                   ┆ 2023-10    │\n",
       "│ 2023         ┆ 9             ┆ 14         ┆ 1974             ┆ 42                   ┆ 2023-09    │\n",
       "│ 2023         ┆ 8             ┆ 15         ┆ 2467             ┆ 54                   ┆ 2023-08    │\n",
       "│ 2023         ┆ 7             ┆ 16         ┆ 2052             ┆ 32                   ┆ 2023-07    │\n",
       "│ 2023         ┆ 6             ┆ 17         ┆ 1853             ┆ 34                   ┆ 2023-06    │\n",
       "│ 2023         ┆ 5             ┆ 18         ┆ 2245             ┆ 34                   ┆ 2023-05    │\n",
       "│ 2023         ┆ 4             ┆ 19         ┆ 2177             ┆ 37                   ┆ 2023-04    │\n",
       "│ 2023         ┆ 3             ┆ 20         ┆ 2277             ┆ 39                   ┆ 2023-03    │\n",
       "│ 2023         ┆ 2             ┆ 21         ┆ 1837             ┆ 24                   ┆ 2023-02    │\n",
       "│ 2023         ┆ 1             ┆ 22         ┆ 2551             ┆ 40                   ┆ 2023-01    │\n",
       "│ 2022         ┆ 12            ┆ 23         ┆ 2234             ┆ 28                   ┆ 2022-12    │\n",
       "│ 2022         ┆ 11            ┆ 24         ┆ 2130             ┆ 26                   ┆ 2022-11    │\n",
       "│ 2022         ┆ 10            ┆ 25         ┆ 1958             ┆ 38                   ┆ 2022-10    │\n",
       "│ 2022         ┆ 9             ┆ 26         ┆ 2578             ┆ 45                   ┆ 2022-09    │\n",
       "│ 2022         ┆ 8             ┆ 27         ┆ 2309             ┆ 33                   ┆ 2022-08    │\n",
       "│ 2022         ┆ 7             ┆ 28         ┆ 2361             ┆ 33                   ┆ 2022-07    │\n",
       "│ 2022         ┆ 6             ┆ 29         ┆ 2135             ┆ 31                   ┆ 2022-06    │\n",
       "│ 2022         ┆ 5             ┆ 30         ┆ 2154             ┆ 30                   ┆ 2022-05    │\n",
       "│ 2022         ┆ 4             ┆ 31         ┆ 2262             ┆ 22                   ┆ 2022-04    │\n",
       "│ 2022         ┆ 3             ┆ 32         ┆ 2262             ┆ 27                   ┆ 2022-03    │\n",
       "│ 2022         ┆ 2             ┆ 33         ┆ 1895             ┆ 29                   ┆ 2022-02    │\n",
       "└──────────────┴───────────────┴────────────┴──────────────────┴──────────────────────┴────────────┘"
      ]
     },
     "metadata": {},
     "output_type": "display_data"
    },
    {
     "name": "stdout",
     "output_type": "stream",
     "text": [
      "shape: (1, 3)\n",
      "┌──────────────────┬─────────────────────────────────┬─────────────────────────────────┐\n",
      "│ no_of_flats_sold ┆ no_of_million_dollar_flats_sol… ┆ pctage_of_million_dollar_flats… │\n",
      "│ ---              ┆ ---                             ┆ ---                             │\n",
      "│ u32              ┆ i64                             ┆ f64                             │\n",
      "╞══════════════════╪═════════════════════════════════╪═════════════════════════════════╡\n",
      "│ 52654            ┆ 885                             ┆ 0.016808                        │\n",
      "└──────────────────┴─────────────────────────────────┴─────────────────────────────────┘\n",
      "---\n"
     ]
    }
   ],
   "source": [
    "for mstart, mend, ymstart, ymend in zip(\n",
    "    months_ago_list[:-24], months_ago_list[-(max_months_ago-24+1):],\n",
    "    start_month_list[:-24], start_month_list[-(max_months_ago-24+1):]\n",
    "):\n",
    "    print([mstart, mend, ymstart, ymend])\n",
    "    dm_filtered = dm.filter(\n",
    "        (mstart <= pl.col(\"months_ago\")) &\n",
    "        (pl.col(\"months_ago\") < mend)\n",
    "    ).sort(\"months_ago\")\n",
    "    display(dm_filtered)\n",
    "    flats_sold = pl.DataFrame(\n",
    "        {\n",
    "            \"no_of_flats_sold\" : dm_filtered.select(pl.col(\"no_of_flats_sold\").sum()),\n",
    "            \"one\" : 1\n",
    "        }\n",
    "    )\n",
    "    million_dollar_flats_sold = pl.DataFrame(\n",
    "        {\n",
    "            \"no_of_million_dollar_flats_sold\" : dm_filtered.select(pl.col(\"no_of_million_dollar_flats_sold\").sum()),\n",
    "            \"one\" : 1\n",
    "        }\n",
    "    )\n",
    "    metric_df = flats_sold.join(million_dollar_flats_sold, on=\"one\")\n",
    "    metric_df = metric_df.with_columns(\n",
    "        (pl.col(\"no_of_million_dollar_flats_sold\") / pl.col(\"no_of_flats_sold\")).alias(\"pctage_of_million_dollar_flats_sold\")\n",
    "    ).select([\"no_of_flats_sold\", \"no_of_million_dollar_flats_sold\", \"pctage_of_million_dollar_flats_sold\"])\n",
    "    print(metric_df)\n",
    "    print(\"---\")"
   ]
  }
 ],
 "metadata": {
  "kernelspec": {
   "display_name": "Python 3 (ipykernel)",
   "language": "python",
   "name": "python3"
  },
  "language_info": {
   "codemirror_mode": {
    "name": "ipython",
    "version": 3
   },
   "file_extension": ".py",
   "mimetype": "text/x-python",
   "name": "python",
   "nbconvert_exporter": "python",
   "pygments_lexer": "ipython3",
   "version": "3.10.13"
  }
 },
 "nbformat": 4,
 "nbformat_minor": 5
}
