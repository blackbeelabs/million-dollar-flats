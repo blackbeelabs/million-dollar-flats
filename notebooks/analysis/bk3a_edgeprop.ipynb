{
 "cells": [
  {
   "cell_type": "code",
   "execution_count": 1,
   "id": "11db01a2",
   "metadata": {},
   "outputs": [],
   "source": [
    "import polars as pl\n",
    "\n",
    "import seaborn as sns\n",
    "import matplotlib.pyplot as plt\n",
    "\n",
    "sns.set()"
   ]
  },
  {
   "cell_type": "code",
   "execution_count": 2,
   "id": "3f3f96b1",
   "metadata": {
    "scrolled": true
   },
   "outputs": [
    {
     "data": {
      "text/html": [
       "<div><style>\n",
       ".dataframe > thead > tr,\n",
       ".dataframe > tbody > tr {\n",
       "  text-align: right;\n",
       "  white-space: pre-wrap;\n",
       "}\n",
       "</style>\n",
       "<small>shape: (1, 18)</small><table border=\"1\" class=\"dataframe\"><thead><tr><th>address</th><th>lease_remaining</th><th>minimum_floor</th><th>maximum_floor</th><th>built_year</th><th>sqft</th><th>sqm</th><th>flat_type</th><th>road</th><th>town</th><th>year_of_sale</th><th>month_of_sale</th><th>months_ago</th><th>price</th><th>psf</th><th>band_name</th><th>price_is_geq_one_million</th><th>ge_1M</th></tr><tr><td>str</td><td>i64</td><td>i64</td><td>i64</td><td>i64</td><td>i64</td><td>i64</td><td>str</td><td>str</td><td>str</td><td>i64</td><td>i64</td><td>i64</td><td>i64</td><td>f64</td><td>str</td><td>i64</td><td>i64</td></tr></thead><tbody><tr><td>&quot;110D PUNGGOL FIELD&quot;</td><td>78</td><td>13</td><td>15</td><td>2003</td><td>1184</td><td>110</td><td>&quot;5 ROOM&quot;</td><td>&quot;PUNGGOL FIELD&quot;</td><td>&quot;PUNGGOL&quot;</td><td>2024</td><td>2</td><td>10</td><td>625000</td><td>527.87</td><td>&quot;75 - 79&quot;</td><td>0</td><td>0</td></tr></tbody></table></div>"
      ],
      "text/plain": [
       "shape: (1, 18)\n",
       "┌─────────┬─────────────┬─────────────┬─────────────┬───┬────────┬───────────┬─────────────┬───────┐\n",
       "│ address ┆ lease_remai ┆ minimum_flo ┆ maximum_flo ┆ … ┆ psf    ┆ band_name ┆ price_is_ge ┆ ge_1M │\n",
       "│ ---     ┆ ning        ┆ or          ┆ or          ┆   ┆ ---    ┆ ---       ┆ q_one_milli ┆ ---   │\n",
       "│ str     ┆ ---         ┆ ---         ┆ ---         ┆   ┆ f64    ┆ str       ┆ on          ┆ i64   │\n",
       "│         ┆ i64         ┆ i64         ┆ i64         ┆   ┆        ┆           ┆ ---         ┆       │\n",
       "│         ┆             ┆             ┆             ┆   ┆        ┆           ┆ i64         ┆       │\n",
       "╞═════════╪═════════════╪═════════════╪═════════════╪═══╪════════╪═══════════╪═════════════╪═══════╡\n",
       "│ 110D    ┆ 78          ┆ 13          ┆ 15          ┆ … ┆ 527.87 ┆ 75 - 79   ┆ 0           ┆ 0     │\n",
       "│ PUNGGOL ┆             ┆             ┆             ┆   ┆        ┆           ┆             ┆       │\n",
       "│ FIELD   ┆             ┆             ┆             ┆   ┆        ┆           ┆             ┆       │\n",
       "└─────────┴─────────────┴─────────────┴─────────────┴───┴────────┴───────────┴─────────────┴───────┘"
      ]
     },
     "metadata": {},
     "output_type": "display_data"
    },
    {
     "name": "stdout",
     "output_type": "stream",
     "text": [
      "['address', 'lease_remaining', 'minimum_floor', 'maximum_floor', 'built_year', 'sqft', 'sqm', 'flat_type', 'road', 'town', 'year_of_sale', 'month_of_sale', 'months_ago', 'price', 'psf', 'band_name', 'price_is_geq_one_million', 'ge_1M']\n"
     ]
    }
   ],
   "source": [
    "df = pl.read_csv(\"ingested.csv\")\n",
    "\n",
    "df_filter = df.filter(\n",
    "    (pl.col(\"year_of_sale\").is_in([2022, 2023, 2024])),\n",
    ").with_columns(\n",
    "    (pl.col(\"price\").ge(1000000).cast(pl.Int64).alias(\"ge_1M\")),\n",
    ")\n",
    "display(df_filter.sample())\n",
    "print(list(df_filter.columns))"
   ]
  },
  {
   "cell_type": "code",
   "execution_count": 3,
   "id": "3539e40e",
   "metadata": {},
   "outputs": [
    {
     "data": {
      "text/plain": [
       "1016"
      ]
     },
     "metadata": {},
     "output_type": "display_data"
    },
    {
     "name": "stdout",
     "output_type": "stream",
     "text": [
      "[[2024 2024 2024 2024 2024 2024 2024 2024 2024 2024 2024 2024]\n",
      " [   1    2    3    4    5    6    7    8    9   10   11   12]\n",
      " [  74   49   60   68   73   95  120  105  106  103   87   76]]\n"
     ]
    }
   ],
   "source": [
    "with pl.Config(tbl_rows = 20, tbl_cols = 20):\n",
    "    display(\n",
    "        df_filter\n",
    "        .filter(\n",
    "            pl.col(\"year_of_sale\").eq(2024), \n",
    "            pl.col(\"ge_1M\").eq(1)\n",
    "        ).shape[0]\n",
    "    )\n",
    "    print(\n",
    "        df_filter\n",
    "        .filter(\n",
    "            pl.col(\"year_of_sale\").eq(2024), \n",
    "            pl.col(\"ge_1M\").eq(1)\n",
    "        ).group_by(\"year_of_sale\", \"month_of_sale\")\n",
    "        .agg(pl.col(\"address\").len())\n",
    "        .sort(\"month_of_sale\")\n",
    "        .transpose().to_numpy()\n",
    "        )\n"
   ]
  },
  {
   "cell_type": "code",
   "execution_count": 4,
   "id": "d9f89fcc",
   "metadata": {},
   "outputs": [
    {
     "data": {
      "text/html": [
       "<div><style>\n",
       ".dataframe > thead > tr,\n",
       ".dataframe > tbody > tr {\n",
       "  text-align: right;\n",
       "  white-space: pre-wrap;\n",
       "}\n",
       "</style>\n",
       "<small>shape: (2, 3)</small><table border=\"1\" class=\"dataframe\"><thead><tr><th>ge_1M</th><th>count_transactions</th><th>pct_transactions</th></tr><tr><td>i64</td><td>u32</td><td>f64</td></tr></thead><tbody><tr><td>0</td><td>26410</td><td>96.295486</td></tr><tr><td>1</td><td>1016</td><td>3.704514</td></tr></tbody></table></div>"
      ],
      "text/plain": [
       "shape: (2, 3)\n",
       "┌───────┬────────────────────┬──────────────────┐\n",
       "│ ge_1M ┆ count_transactions ┆ pct_transactions │\n",
       "│ ---   ┆ ---                ┆ ---              │\n",
       "│ i64   ┆ u32                ┆ f64              │\n",
       "╞═══════╪════════════════════╪══════════════════╡\n",
       "│ 0     ┆ 26410              ┆ 96.295486        │\n",
       "│ 1     ┆ 1016               ┆ 3.704514         │\n",
       "└───────┴────────────────────┴──────────────────┘"
      ]
     },
     "metadata": {},
     "output_type": "display_data"
    }
   ],
   "source": [
    "with pl.Config(tbl_rows = 20, tbl_cols = 20):\n",
    "    display(\n",
    "        df_filter\n",
    "        .filter(\n",
    "            pl.col(\"year_of_sale\").eq(2024), \n",
    "        )\n",
    "        .group_by(\"ge_1M\")\n",
    "        .agg(pl.col(\"address\").len().alias(\"count_transactions\"))\n",
    "        .with_columns(\n",
    "            (pl.col(\"count_transactions\") / \n",
    "                 pl.col(\"count_transactions\").sum() * 100)\n",
    "            .alias(\"pct_transactions\")\n",
    "        )\n",
    "    )\n"
   ]
  },
  {
   "cell_type": "code",
   "execution_count": 5,
   "id": "48ea54f6",
   "metadata": {},
   "outputs": [
    {
     "data": {
      "text/html": [
       "<div><style>\n",
       ".dataframe > thead > tr,\n",
       ".dataframe > tbody > tr {\n",
       "  text-align: right;\n",
       "  white-space: pre-wrap;\n",
       "}\n",
       "</style>\n",
       "<small>shape: (3, 4)</small><table border=\"1\" class=\"dataframe\"><thead><tr><th>year_of_sale</th><th>ge_1M</th><th>count_transactions</th><th>pct_transactions</th></tr><tr><td>i64</td><td>i64</td><td>u32</td><td>f64</td></tr></thead><tbody><tr><td>2022</td><td>1</td><td>369</td><td>100.0</td></tr><tr><td>2023</td><td>1</td><td>469</td><td>127.100271</td></tr><tr><td>2024</td><td>1</td><td>1016</td><td>275.338753</td></tr></tbody></table></div>"
      ],
      "text/plain": [
       "shape: (3, 4)\n",
       "┌──────────────┬───────┬────────────────────┬──────────────────┐\n",
       "│ year_of_sale ┆ ge_1M ┆ count_transactions ┆ pct_transactions │\n",
       "│ ---          ┆ ---   ┆ ---                ┆ ---              │\n",
       "│ i64          ┆ i64   ┆ u32                ┆ f64              │\n",
       "╞══════════════╪═══════╪════════════════════╪══════════════════╡\n",
       "│ 2022         ┆ 1     ┆ 369                ┆ 100.0            │\n",
       "│ 2023         ┆ 1     ┆ 469                ┆ 127.100271       │\n",
       "│ 2024         ┆ 1     ┆ 1016               ┆ 275.338753       │\n",
       "└──────────────┴───────┴────────────────────┴──────────────────┘"
      ]
     },
     "metadata": {},
     "output_type": "display_data"
    }
   ],
   "source": [
    "with pl.Config(tbl_rows = 20, tbl_cols = 20):\n",
    "    display(\n",
    "        df_filter\n",
    "        .filter(\n",
    "            pl.col(\"ge_1M\").eq(1)\n",
    "        )\n",
    "        .group_by(\"year_of_sale\", \"ge_1M\")\n",
    "        .agg(pl.col(\"address\").len().alias(\"count_transactions\"))\n",
    "        .with_columns(\n",
    "            (pl.col(\"count_transactions\") / \n",
    "                 pl.col(\"count_transactions\").min() * 100)\n",
    "            .alias(\"pct_transactions\")\n",
    "        )\n",
    "        .sort(\"year_of_sale\")\n",
    "    )\n"
   ]
  },
  {
   "cell_type": "code",
   "execution_count": 14,
   "id": "5e3b9fbf",
   "metadata": {},
   "outputs": [
    {
     "data": {
      "text/html": [
       "<div><style>\n",
       ".dataframe > thead > tr,\n",
       ".dataframe > tbody > tr {\n",
       "  text-align: right;\n",
       "  white-space: pre-wrap;\n",
       "}\n",
       "</style>\n",
       "<small>shape: (22, 8)</small><table border=\"1\" class=\"dataframe\"><thead><tr><th>town</th><th>flat_type</th><th>road</th><th>address</th><th>min_floor</th><th>max_floor</th><th>price</th><th>lease_remaining_during_sale</th></tr><tr><td>str</td><td>str</td><td>str</td><td>str</td><td>i64</td><td>i64</td><td>i64</td><td>i64</td></tr></thead><tbody><tr><td>&quot;BUKIT MERAH&quot;</td><td>&quot;5 ROOM&quot;</td><td>&quot;BOON TIONG ROAD&quot;</td><td>&quot;9B BOON TIONG ROAD&quot;</td><td>34</td><td>36</td><td>1588000</td><td>91</td></tr><tr><td>&quot;BUKIT MERAH&quot;</td><td>&quot;5 ROOM&quot;</td><td>&quot;HENDERSON ROAD&quot;</td><td>&quot;96A HENDERSON ROAD&quot;</td><td>46</td><td>48</td><td>1588000</td><td>94</td></tr><tr><td>&quot;BUKIT MERAH&quot;</td><td>&quot;5 ROOM&quot;</td><td>&quot;KIM TIAN ROAD&quot;</td><td>&quot;126A KIM TIAN ROAD&quot;</td><td>40</td><td>42</td><td>1580000</td><td>88</td></tr><tr><td>&quot;TOA PAYOH&quot;</td><td>&quot;5 ROOM&quot;</td><td>&quot;LORONG 1A TOA PAYOH&quot;</td><td>&quot;139A LORONG 1A TOA PAYOH&quot;</td><td>40</td><td>42</td><td>1568888</td><td>87</td></tr><tr><td>&quot;BISHAN&quot;</td><td>&quot;5 ROOM&quot;</td><td>&quot;BISHAN STREET 24&quot;</td><td>&quot;275A BISHAN STREET 24&quot;</td><td>37</td><td>39</td><td>1568000</td><td>86</td></tr><tr><td>&quot;KALLANG/WHAMPOA&quot;</td><td>&quot;3 ROOM&quot;</td><td>&quot;JALAN MA&#x27;MOR&quot;</td><td>&quot;53 JALAN MA&#x27;MOR&quot;</td><td>1</td><td>3</td><td>1568000</td><td>47</td></tr><tr><td>&quot;QUEENSTOWN&quot;</td><td>&quot;5 ROOM&quot;</td><td>&quot;DOVER CRESCENT&quot;</td><td>&quot;28A DOVER CRESCENT&quot;</td><td>37</td><td>39</td><td>1550000</td><td>87</td></tr><tr><td>&quot;CENTRAL AREA&quot;</td><td>&quot;5 ROOM&quot;</td><td>&quot;CANTONMENT ROAD&quot;</td><td>&quot;1D CANTONMENT ROAD&quot;</td><td>43</td><td>45</td><td>1542880</td><td>86</td></tr><tr><td>&quot;CENTRAL AREA&quot;</td><td>&quot;5 ROOM&quot;</td><td>&quot;CANTONMENT ROAD&quot;</td><td>&quot;1F CANTONMENT ROAD&quot;</td><td>43</td><td>45</td><td>1540000</td><td>86</td></tr><tr><td>&quot;TOA PAYOH&quot;</td><td>&quot;5 ROOM&quot;</td><td>&quot;LORONG 1A TOA PAYOH&quot;</td><td>&quot;138C LORONG 1A TOA PAYOH&quot;</td><td>31</td><td>33</td><td>1540000</td><td>87</td></tr><tr><td>&quot;TOA PAYOH&quot;</td><td>&quot;5 ROOM&quot;</td><td>&quot;LORONG 1A TOA PAYOH&quot;</td><td>&quot;139A LORONG 1A TOA PAYOH&quot;</td><td>31</td><td>33</td><td>1540000</td><td>87</td></tr><tr><td>&quot;BISHAN&quot;</td><td>&quot;5 ROOM&quot;</td><td>&quot;BISHAN STREET 24&quot;</td><td>&quot;275A BISHAN STREET 24&quot;</td><td>31</td><td>33</td><td>1539000</td><td>86</td></tr><tr><td>&quot;BISHAN&quot;</td><td>&quot;5 ROOM&quot;</td><td>&quot;BISHAN STREET 24&quot;</td><td>&quot;275A BISHAN STREET 24&quot;</td><td>28</td><td>30</td><td>1538000</td><td>86</td></tr><tr><td>&quot;CENTRAL AREA&quot;</td><td>&quot;5 ROOM&quot;</td><td>&quot;CANTONMENT ROAD&quot;</td><td>&quot;1C CANTONMENT ROAD&quot;</td><td>37</td><td>39</td><td>1515000</td><td>86</td></tr><tr><td>&quot;CENTRAL AREA&quot;</td><td>&quot;5 ROOM&quot;</td><td>&quot;CANTONMENT ROAD&quot;</td><td>&quot;1D CANTONMENT ROAD&quot;</td><td>37</td><td>39</td><td>1515000</td><td>86</td></tr><tr><td>&quot;TOA PAYOH&quot;</td><td>&quot;5 ROOM&quot;</td><td>&quot;LORONG 1A TOA PAYOH&quot;</td><td>&quot;138C LORONG 1A TOA PAYOH&quot;</td><td>34</td><td>36</td><td>1503888</td><td>87</td></tr><tr><td>&quot;BUKIT MERAH&quot;</td><td>&quot;4 ROOM&quot;</td><td>&quot;MOH GUAN TERRACE&quot;</td><td>&quot;50 MOH GUAN TERRACE&quot;</td><td>4</td><td>6</td><td>1500000</td><td>49</td></tr><tr><td>&quot;BISHAN&quot;</td><td>&quot;5 ROOM&quot;</td><td>&quot;BISHAN STREET 24&quot;</td><td>&quot;275A BISHAN STREET 24&quot;</td><td>22</td><td>24</td><td>1500000</td><td>86</td></tr><tr><td>&quot;BISHAN&quot;</td><td>&quot;EXECUTIVE&quot;</td><td>&quot;BISHAN STREET 24&quot;</td><td>&quot;286 BISHAN STREET 24&quot;</td><td>22</td><td>24</td><td>1500000</td><td>67</td></tr><tr><td>&quot;BUKIT MERAH&quot;</td><td>&quot;5 ROOM&quot;</td><td>&quot;HENDERSON ROAD&quot;</td><td>&quot;95C HENDERSON ROAD&quot;</td><td>40</td><td>42</td><td>1500000</td><td>94</td></tr><tr><td>&quot;CENTRAL AREA&quot;</td><td>&quot;5 ROOM&quot;</td><td>&quot;CANTONMENT ROAD&quot;</td><td>&quot;1G CANTONMENT ROAD&quot;</td><td>40</td><td>42</td><td>1500000</td><td>86</td></tr><tr><td>&quot;TOA PAYOH&quot;</td><td>&quot;5 ROOM&quot;</td><td>&quot;LORONG 1A TOA PAYOH&quot;</td><td>&quot;138B LORONG 1A TOA PAYOH&quot;</td><td>31</td><td>33</td><td>1500000</td><td>87</td></tr></tbody></table></div>"
      ],
      "text/plain": [
       "shape: (22, 8)\n",
       "┌─────────────┬───────────┬────────────┬────────────┬───────────┬───────────┬─────────┬────────────┐\n",
       "│ town        ┆ flat_type ┆ road       ┆ address    ┆ min_floor ┆ max_floor ┆ price   ┆ lease_rema │\n",
       "│ ---         ┆ ---       ┆ ---        ┆ ---        ┆ ---       ┆ ---       ┆ ---     ┆ ining_duri │\n",
       "│ str         ┆ str       ┆ str        ┆ str        ┆ i64       ┆ i64       ┆ i64     ┆ ng_sale    │\n",
       "│             ┆           ┆            ┆            ┆           ┆           ┆         ┆ ---        │\n",
       "│             ┆           ┆            ┆            ┆           ┆           ┆         ┆ i64        │\n",
       "╞═════════════╪═══════════╪════════════╪════════════╪═══════════╪═══════════╪═════════╪════════════╡\n",
       "│ BUKIT MERAH ┆ 5 ROOM    ┆ BOON TIONG ┆ 9B BOON    ┆ 34        ┆ 36        ┆ 1588000 ┆ 91         │\n",
       "│             ┆           ┆ ROAD       ┆ TIONG ROAD ┆           ┆           ┆         ┆            │\n",
       "│ BUKIT MERAH ┆ 5 ROOM    ┆ HENDERSON  ┆ 96A        ┆ 46        ┆ 48        ┆ 1588000 ┆ 94         │\n",
       "│             ┆           ┆ ROAD       ┆ HENDERSON  ┆           ┆           ┆         ┆            │\n",
       "│             ┆           ┆            ┆ ROAD       ┆           ┆           ┆         ┆            │\n",
       "│ BUKIT MERAH ┆ 5 ROOM    ┆ KIM TIAN   ┆ 126A KIM   ┆ 40        ┆ 42        ┆ 1580000 ┆ 88         │\n",
       "│             ┆           ┆ ROAD       ┆ TIAN ROAD  ┆           ┆           ┆         ┆            │\n",
       "│ TOA PAYOH   ┆ 5 ROOM    ┆ LORONG 1A  ┆ 139A       ┆ 40        ┆ 42        ┆ 1568888 ┆ 87         │\n",
       "│             ┆           ┆ TOA PAYOH  ┆ LORONG 1A  ┆           ┆           ┆         ┆            │\n",
       "│             ┆           ┆            ┆ TOA PAYOH  ┆           ┆           ┆         ┆            │\n",
       "│ BISHAN      ┆ 5 ROOM    ┆ BISHAN     ┆ 275A       ┆ 37        ┆ 39        ┆ 1568000 ┆ 86         │\n",
       "│             ┆           ┆ STREET 24  ┆ BISHAN     ┆           ┆           ┆         ┆            │\n",
       "│             ┆           ┆            ┆ STREET 24  ┆           ┆           ┆         ┆            │\n",
       "│ KALLANG/WHA ┆ 3 ROOM    ┆ JALAN      ┆ 53 JALAN   ┆ 1         ┆ 3         ┆ 1568000 ┆ 47         │\n",
       "│ MPOA        ┆           ┆ MA'MOR     ┆ MA'MOR     ┆           ┆           ┆         ┆            │\n",
       "│ QUEENSTOWN  ┆ 5 ROOM    ┆ DOVER      ┆ 28A DOVER  ┆ 37        ┆ 39        ┆ 1550000 ┆ 87         │\n",
       "│             ┆           ┆ CRESCENT   ┆ CRESCENT   ┆           ┆           ┆         ┆            │\n",
       "│ CENTRAL     ┆ 5 ROOM    ┆ CANTONMENT ┆ 1D         ┆ 43        ┆ 45        ┆ 1542880 ┆ 86         │\n",
       "│ AREA        ┆           ┆ ROAD       ┆ CANTONMENT ┆           ┆           ┆         ┆            │\n",
       "│             ┆           ┆            ┆ ROAD       ┆           ┆           ┆         ┆            │\n",
       "│ CENTRAL     ┆ 5 ROOM    ┆ CANTONMENT ┆ 1F         ┆ 43        ┆ 45        ┆ 1540000 ┆ 86         │\n",
       "│ AREA        ┆           ┆ ROAD       ┆ CANTONMENT ┆           ┆           ┆         ┆            │\n",
       "│             ┆           ┆            ┆ ROAD       ┆           ┆           ┆         ┆            │\n",
       "│ TOA PAYOH   ┆ 5 ROOM    ┆ LORONG 1A  ┆ 138C       ┆ 31        ┆ 33        ┆ 1540000 ┆ 87         │\n",
       "│             ┆           ┆ TOA PAYOH  ┆ LORONG 1A  ┆           ┆           ┆         ┆            │\n",
       "│             ┆           ┆            ┆ TOA PAYOH  ┆           ┆           ┆         ┆            │\n",
       "│ TOA PAYOH   ┆ 5 ROOM    ┆ LORONG 1A  ┆ 139A       ┆ 31        ┆ 33        ┆ 1540000 ┆ 87         │\n",
       "│             ┆           ┆ TOA PAYOH  ┆ LORONG 1A  ┆           ┆           ┆         ┆            │\n",
       "│             ┆           ┆            ┆ TOA PAYOH  ┆           ┆           ┆         ┆            │\n",
       "│ BISHAN      ┆ 5 ROOM    ┆ BISHAN     ┆ 275A       ┆ 31        ┆ 33        ┆ 1539000 ┆ 86         │\n",
       "│             ┆           ┆ STREET 24  ┆ BISHAN     ┆           ┆           ┆         ┆            │\n",
       "│             ┆           ┆            ┆ STREET 24  ┆           ┆           ┆         ┆            │\n",
       "│ BISHAN      ┆ 5 ROOM    ┆ BISHAN     ┆ 275A       ┆ 28        ┆ 30        ┆ 1538000 ┆ 86         │\n",
       "│             ┆           ┆ STREET 24  ┆ BISHAN     ┆           ┆           ┆         ┆            │\n",
       "│             ┆           ┆            ┆ STREET 24  ┆           ┆           ┆         ┆            │\n",
       "│ CENTRAL     ┆ 5 ROOM    ┆ CANTONMENT ┆ 1C         ┆ 37        ┆ 39        ┆ 1515000 ┆ 86         │\n",
       "│ AREA        ┆           ┆ ROAD       ┆ CANTONMENT ┆           ┆           ┆         ┆            │\n",
       "│             ┆           ┆            ┆ ROAD       ┆           ┆           ┆         ┆            │\n",
       "│ CENTRAL     ┆ 5 ROOM    ┆ CANTONMENT ┆ 1D         ┆ 37        ┆ 39        ┆ 1515000 ┆ 86         │\n",
       "│ AREA        ┆           ┆ ROAD       ┆ CANTONMENT ┆           ┆           ┆         ┆            │\n",
       "│             ┆           ┆            ┆ ROAD       ┆           ┆           ┆         ┆            │\n",
       "│ TOA PAYOH   ┆ 5 ROOM    ┆ LORONG 1A  ┆ 138C       ┆ 34        ┆ 36        ┆ 1503888 ┆ 87         │\n",
       "│             ┆           ┆ TOA PAYOH  ┆ LORONG 1A  ┆           ┆           ┆         ┆            │\n",
       "│             ┆           ┆            ┆ TOA PAYOH  ┆           ┆           ┆         ┆            │\n",
       "│ BUKIT MERAH ┆ 4 ROOM    ┆ MOH GUAN   ┆ 50 MOH     ┆ 4         ┆ 6         ┆ 1500000 ┆ 49         │\n",
       "│             ┆           ┆ TERRACE    ┆ GUAN       ┆           ┆           ┆         ┆            │\n",
       "│             ┆           ┆            ┆ TERRACE    ┆           ┆           ┆         ┆            │\n",
       "│ BISHAN      ┆ 5 ROOM    ┆ BISHAN     ┆ 275A       ┆ 22        ┆ 24        ┆ 1500000 ┆ 86         │\n",
       "│             ┆           ┆ STREET 24  ┆ BISHAN     ┆           ┆           ┆         ┆            │\n",
       "│             ┆           ┆            ┆ STREET 24  ┆           ┆           ┆         ┆            │\n",
       "│ BISHAN      ┆ EXECUTIVE ┆ BISHAN     ┆ 286 BISHAN ┆ 22        ┆ 24        ┆ 1500000 ┆ 67         │\n",
       "│             ┆           ┆ STREET 24  ┆ STREET 24  ┆           ┆           ┆         ┆            │\n",
       "│ BUKIT MERAH ┆ 5 ROOM    ┆ HENDERSON  ┆ 95C        ┆ 40        ┆ 42        ┆ 1500000 ┆ 94         │\n",
       "│             ┆           ┆ ROAD       ┆ HENDERSON  ┆           ┆           ┆         ┆            │\n",
       "│             ┆           ┆            ┆ ROAD       ┆           ┆           ┆         ┆            │\n",
       "│ CENTRAL     ┆ 5 ROOM    ┆ CANTONMENT ┆ 1G         ┆ 40        ┆ 42        ┆ 1500000 ┆ 86         │\n",
       "│ AREA        ┆           ┆ ROAD       ┆ CANTONMENT ┆           ┆           ┆         ┆            │\n",
       "│             ┆           ┆            ┆ ROAD       ┆           ┆           ┆         ┆            │\n",
       "│ TOA PAYOH   ┆ 5 ROOM    ┆ LORONG 1A  ┆ 138B       ┆ 31        ┆ 33        ┆ 1500000 ┆ 87         │\n",
       "│             ┆           ┆ TOA PAYOH  ┆ LORONG 1A  ┆           ┆           ┆         ┆            │\n",
       "│             ┆           ┆            ┆ TOA PAYOH  ┆           ┆           ┆         ┆            │\n",
       "└─────────────┴───────────┴────────────┴────────────┴───────────┴───────────┴─────────┴────────────┘"
      ]
     },
     "metadata": {},
     "output_type": "display_data"
    }
   ],
   "source": [
    "with pl.Config(tbl_rows = 40, tbl_cols = 20):\n",
    "    # from source\n",
    "    df1 = pl.DataFrame(\n",
    "        [\n",
    "    {\n",
    "        \"id\": 1,\n",
    "        \"Town\": \"BUKIT MERAH\",\n",
    "        \"Flat_type\": \"Five-room\",\n",
    "        \"Street\": \"BOON TIONG RD\",\n",
    "        \"Storey_range\": \"34 to 36\",\n",
    "        \"Floor_area\": 112,\n",
    "        \"Flat_model\": \"Improved\",\n",
    "        \"Resale_price\": 1588000,\n",
    "        \"Remaining_lease\": \"90 years 8 months\"\n",
    "    },\n",
    "    {\n",
    "        \"id\": 2,\n",
    "        \"Town\": \"BUKIT MERAH\",\n",
    "        \"Flat_type\": \"Five-room\",\n",
    "        \"Street\": \"HENDERSON RD\",\n",
    "        \"Storey_range\": \"46 to 48\",\n",
    "        \"Floor_area\": 113,\n",
    "        \"Flat_model\": \"Improved\",\n",
    "        \"Resale_price\": 1588000,\n",
    "        \"Remaining_lease\": \"94 years\"\n",
    "    },\n",
    "    {\n",
    "        \"id\": 3,\n",
    "        \"Town\": \"BUKIT MERAH\",\n",
    "        \"Flat_type\": \"Five-room\",\n",
    "        \"Street\": \"KIM TIAN RD\",\n",
    "        \"Storey_range\": \"40 to 42\",\n",
    "        \"Floor_area\": 113,\n",
    "        \"Flat_model\": \"Improved\",\n",
    "        \"Resale_price\": 1580000,\n",
    "        \"Remaining_lease\": \"87 years 6 months\"\n",
    "    },\n",
    "    {\n",
    "        \"id\": 4,\n",
    "        \"Town\": \"TOA PAYOH\",\n",
    "        \"Flat_type\": \"Five-room\",\n",
    "        \"Street\": \"LOR 1A TOA PAYOH\",\n",
    "        \"Storey_range\": \"40 to 42\",\n",
    "        \"Floor_area\": 117,\n",
    "        \"Flat_model\": \"DBSS\",\n",
    "        \"Resale_price\": 1568888,\n",
    "        \"Remaining_lease\": \"87 years 4 months\"\n",
    "    },\n",
    "    {\n",
    "        \"id\": 5,\n",
    "        \"Town\": \"BISHAN\",\n",
    "        \"Flat_type\": \"Five-room\",\n",
    "        \"Street\": \"BISHAN ST 24\",\n",
    "        \"Storey_range\": \"37 to 39\",\n",
    "        \"Floor_area\": 120,\n",
    "        \"Flat_model\": \"DBSS\",\n",
    "        \"Resale_price\": 1568000,\n",
    "        \"Remaining_lease\": \"86 years 3 months\"\n",
    "    },\n",
    "    {\n",
    "        \"id\": 6,\n",
    "        \"Town\": \"KALLANG/WHAMPOA\",\n",
    "        \"Flat_type\": \"Three-room\",\n",
    "        \"Street\": \"JLN MA'MOR\",\n",
    "        \"Storey_range\": \"01 to 03\",\n",
    "        \"Floor_area\": 367,\n",
    "        \"Flat_model\": \"Terrace\",\n",
    "        \"Resale_price\": 1568000,\n",
    "        \"Remaining_lease\": \"47 years\"\n",
    "    },\n",
    "    {\n",
    "        \"id\": 7,\n",
    "        \"Town\": \"QUEENSTOWN\",\n",
    "        \"Flat_type\": \"Five-room\",\n",
    "        \"Street\": \"DOVER CRES\",\n",
    "        \"Storey_range\": \"37 to 39\",\n",
    "        \"Floor_area\": 124,\n",
    "        \"Flat_model\": \"Improved\",\n",
    "        \"Resale_price\": 1550000,\n",
    "        \"Remaining_lease\": \"86 years 5 months\"\n",
    "    },\n",
    "    {\n",
    "        \"id\": 8,\n",
    "        \"Town\": \"CENTRAL AREA\",\n",
    "        \"Flat_type\": \"Five-room\",\n",
    "        \"Street\": \"CANTONMENT RD\",\n",
    "        \"Storey_range\": \"43 to 45\",\n",
    "        \"Floor_area\": 105,\n",
    "        \"Flat_model\": \"Type S2\",\n",
    "        \"Resale_price\": 1542880,\n",
    "        \"Remaining_lease\": \"85 years 3 months\"\n",
    "    },\n",
    "    {\n",
    "        \"id\": 9,\n",
    "        \"Town\": \"TOA PAYOH\",\n",
    "        \"Flat_type\": \"Five-room\",\n",
    "        \"Street\": \"LOR 1A TOA PAYOH\",\n",
    "        \"Storey_range\": \"31 to 33\",\n",
    "        \"Floor_area\": 117,\n",
    "        \"Flat_model\": \"DBSS\",\n",
    "        \"Resale_price\": 1540000,\n",
    "        \"Remaining_lease\": \"87 years 3 months\"\n",
    "    },\n",
    "    {\n",
    "        \"id\": 10,\n",
    "        \"Town\": \"TOA PAYOH\",\n",
    "        \"Flat_type\": \"Five-room\",\n",
    "        \"Street\": \"LOR 1A TOA PAYOH\",\n",
    "        \"Storey_range\": \"31 to 33\",\n",
    "        \"Floor_area\": 117,\n",
    "        \"Flat_model\": \"DBSS\",\n",
    "        \"Resale_price\": 1540000,\n",
    "        \"Remaining_lease\": \"86 years 11 months\"\n",
    "    },\n",
    "    {\n",
    "        \"id\": 11,\n",
    "        \"Town\": \"CENTRAL AREA\",\n",
    "        \"Flat_type\": \"Five-room\",\n",
    "        \"Street\": \"CANTONMENT RD\",\n",
    "        \"Storey_range\": \"43 to 45\",\n",
    "        \"Floor_area\": 107,\n",
    "        \"Flat_model\": \"Type S2\",\n",
    "        \"Resale_price\": 1540000,\n",
    "        \"Remaining_lease\": \"85 years 4 months\"\n",
    "    )\n",
    "    df2 = pl.DataFrame(\n",
    "    \n",
    "    )\n",
    "    display(\n",
    "        df_filter\n",
    "        .filter(\n",
    "            pl.col(\"price\").ge(1500000)\n",
    "        ).with_columns(\n",
    "            pl.col(\"minimum_floor\").alias(\"min_floor\"),\n",
    "            pl.col(\"maximum_floor\").alias(\"max_floor\"),\n",
    "            (99 - (pl.col(\"year_of_sale\") - pl.col(\"built_year\"))).alias(\"lease_remaining_during_sale\")\n",
    "        )\n",
    "        .sort(pl.col(\"price\"), descending=True)\n",
    "        .select(\n",
    "            \"town\", \n",
    "            \"flat_type\", \"road\", \"address\",\n",
    "            \"min_floor\", \"max_floor\", \"price\", \n",
    "            \"lease_remaining_during_sale\"\n",
    "        )\n",
    "        \n",
    "    )"
   ]
  },
  {
   "cell_type": "code",
   "execution_count": null,
   "id": "30413fab",
   "metadata": {},
   "outputs": [],
   "source": [
    "df_million_2024 = df_filter.filter(\n",
    "    pl.col(\"year_of_sale\").eq(2024)\n",
    ").group_by(\n",
    "    pl.col(\"year_of_sale\"), pl.col(\"price_is_geq_one_million\")\n",
    ").agg(\n",
    "    pl.len().alias(\"count_transactions\")\n",
    ").sort(\n",
    "    pl.col(\"price_is_geq_one_million\"), descending=False\n",
    ").with_columns(\n",
    "    (pl.col(\"count_transactions\") / pl.col(\"count_transactions\").sum()).alias(\"pct_transactions\")\n",
    ")\n",
    "\n",
    "print(df_million_2024)"
   ]
  },
  {
   "cell_type": "code",
   "execution_count": null,
   "id": "fe3cae9a",
   "metadata": {},
   "outputs": [],
   "source": [
    "df_by_100_000 = df_filter.with_columns(\n",
    "    (pl.col(\"price\") // 100000 * 100000).alias(\"price_round_down_100k\")  \n",
    ").filter(\n",
    "    pl.col(\"price_is_geq_one_million\").eq(1)\n",
    ").group_by(\"price_round_down_100k\").agg(\n",
    "    pl.len().alias(\"count_transactions\")\n",
    ").with_columns(\n",
    "  (pl.col(\"count_transactions\") / pl.col(\"count_transactions\").sum()).alias(\"pct_transactions\")\n",
    ").sort(\"price_round_down_100k\")\n",
    "print(df_by_100_000)"
   ]
  },
  {
   "cell_type": "code",
   "execution_count": null,
   "id": "cd58bef0",
   "metadata": {},
   "outputs": [],
   "source": []
  },
  {
   "cell_type": "code",
   "execution_count": null,
   "id": "a2859d20",
   "metadata": {},
   "outputs": [],
   "source": [
    "with pl.Config(set_tbl_rows=30):\n",
    "    display(\n",
    "        df.filter(\n",
    "            (pl.col(\"year_of_sale\").eq(2024)),\n",
    "            (pl.col(\"price_is_geq_one_million\").eq(1)),\n",
    "        )\n",
    "        .group_by(\"town\")\n",
    "        .agg(pl.col(\"address\").len().alias(\"count_transactions\"))\n",
    "        .sort(\"count_transactions\", descending=True)\n",
    "    )\n"
   ]
  },
  {
   "cell_type": "code",
   "execution_count": null,
   "id": "a31d22bb",
   "metadata": {},
   "outputs": [],
   "source": [
    "df.filter(\n",
    "    (pl.col(\"year_of_sale\").eq(2024)),\n",
    "    (pl.col(\"price_is_geq_one_million\").eq(1)),\n",
    "    (pl.col(\"town\").eq(\"SENGKANG\"))\n",
    ").sort(\"month_of_sale\").select(\n",
    "    \"address\", \"sqft\", \"minimum_floor\", \"maximum_floor\", \"flat_type\",\n",
    "    \"price\", \"year_of_sale\", \"month_of_sale\"\n",
    ")"
   ]
  },
  {
   "cell_type": "code",
   "execution_count": null,
   "id": "c004c261",
   "metadata": {},
   "outputs": [],
   "source": [
    "df.filter(\n",
    "    (pl.col(\"year_of_sale\").eq(2024)),\n",
    "    (pl.col(\"price_is_geq_one_million\").eq(0)),\n",
    "    (pl.col(\"town\").eq(\"JURONG WEST\"))\n",
    ").sort(\"price\", descending=True).select(\n",
    "    \"address\", \"sqft\", \"minimum_floor\", \"maximum_floor\", \"flat_type\",\n",
    "    \"price\", \"year_of_sale\", \"month_of_sale\"\n",
    ")"
   ]
  },
  {
   "cell_type": "code",
   "execution_count": null,
   "id": "2d9348f4",
   "metadata": {},
   "outputs": [],
   "source": [
    "df.filter(\n",
    "    (pl.col(\"year_of_sale\").eq(2024)),\n",
    "    (pl.col(\"price_is_geq_one_million\").eq(1)),\n",
    ").sort(\"price\", descending=True).select(\n",
    "    \"address\", \"sqft\", \"minimum_floor\", \"maximum_floor\", \"flat_type\",\n",
    "    \"price\", \"year_of_sale\", \"month_of_sale\", \"psf\", \"band_name\"\n",
    ")"
   ]
  },
  {
   "cell_type": "code",
   "execution_count": null,
   "id": "5df69d82",
   "metadata": {},
   "outputs": [],
   "source": [
    "df.filter(\n",
    "    (pl.col(\"year_of_sale\").eq(2024)),\n",
    "    (pl.col(\"price_is_geq_one_million\").eq(1)),\n",
    ").group_by(\"band_name\").agg(\n",
    "    pl.col(\"address\").len().alias(\"count_transactions\")\n",
    ").with_columns(\n",
    "    pl.col(\"count_transactions\")/pl.col(\"count_transactions\").sum().alias(\"pct_transactions\")\n",
    ").sort(\"band_name\", descending=True)"
   ]
  },
  {
   "cell_type": "code",
   "execution_count": null,
   "id": "6b7e6242",
   "metadata": {},
   "outputs": [],
   "source": [
    "df.filter(\n",
    "    (pl.col(\"year_of_sale\").eq(2024)),\n",
    ").sort(\"psf\", descending=True).select(\n",
    "    \"address\", \"sqft\", \"minimum_floor\", \"maximum_floor\", \"flat_type\",\n",
    "    \"price\", \"year_of_sale\", \"month_of_sale\", \"psf\", \"band_name\"\n",
    ")"
   ]
  },
  {
   "cell_type": "code",
   "execution_count": null,
   "id": "f0b4b3a4",
   "metadata": {
    "scrolled": false
   },
   "outputs": [],
   "source": [
    "df_by_sale = df.group_by(\n",
    "    (pl.col(\"year_of_sale\"))\n",
    ").agg(\n",
    "    pl.col(\"address\").len().alias(\"count_transactions\")\n",
    ").sort(\n",
    "    \"year_of_sale\"\n",
    ")\n",
    "display(df_by_sale)"
   ]
  },
  {
   "cell_type": "code",
   "execution_count": null,
   "id": "58a617f1",
   "metadata": {},
   "outputs": [],
   "source": [
    "sns.barplot(\n",
    "    x=df_by_sale.select(\"year_of_sale\").to_numpy().flatten(), \n",
    "    y=df_by_sale.select(\"count_transactions\").to_numpy().flatten()\n",
    ")"
   ]
  },
  {
   "cell_type": "code",
   "execution_count": null,
   "id": "5a7ab144",
   "metadata": {},
   "outputs": [],
   "source": [
    "df_twn = df.filter(\n",
    "    pl.col(\"price_is_geq_one_million\").eq(1),\n",
    "    pl.col(\"year_of_sale\").is_in([2022, 2023, 2024])\n",
    ").group_by(\n",
    "    \"year_of_sale\", \"town\"\n",
    ").agg(\n",
    "    pl.col(\"address\").len().alias(\"count_transactions\")\n",
    ").sort(\n",
    "    \"town\", \"year_of_sale\"\n",
    ")"
   ]
  },
  {
   "cell_type": "code",
   "execution_count": null,
   "id": "5d1248e9",
   "metadata": {},
   "outputs": [],
   "source": [
    "# ... existing code ...\n",
    "\n",
    "plt.figure(figsize=(15, 8))  # Width: 15 inches, Height: 8 inches\n",
    "sns.barplot(\n",
    "    x=df_twn.select(\"town\").to_numpy().flatten(), \n",
    "    y=df_twn.select(\"count_transactions\").to_numpy().flatten(),\n",
    "    hue=df_twn.select(\"year_of_sale\").to_numpy().flatten(),\n",
    ")\n",
    "plt.xticks(rotation=45, ha='right')  # Rotate x-axis labels for better readability"
   ]
  },
  {
   "cell_type": "code",
   "execution_count": null,
   "id": "5c5c2f70",
   "metadata": {},
   "outputs": [],
   "source": []
  }
 ],
 "metadata": {
  "kernelspec": {
   "display_name": "Python 3 (ipykernel)",
   "language": "python",
   "name": "python3"
  },
  "language_info": {
   "codemirror_mode": {
    "name": "ipython",
    "version": 3
   },
   "file_extension": ".py",
   "mimetype": "text/x-python",
   "name": "python",
   "nbconvert_exporter": "python",
   "pygments_lexer": "ipython3",
   "version": "3.10.13"
  }
 },
 "nbformat": 4,
 "nbformat_minor": 5
}
