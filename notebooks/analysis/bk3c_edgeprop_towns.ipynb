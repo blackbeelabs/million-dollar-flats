{
 "cells": [
  {
   "cell_type": "code",
   "execution_count": 1,
   "id": "11db01a2",
   "metadata": {},
   "outputs": [],
   "source": [
    "import polars as pl\n",
    "\n",
    "import seaborn as sns\n",
    "import matplotlib.pyplot as plt\n",
    "\n",
    "sns.set()"
   ]
  },
  {
   "cell_type": "code",
   "execution_count": 2,
   "id": "3f3f96b1",
   "metadata": {
    "scrolled": false
   },
   "outputs": [
    {
     "data": {
      "text/html": [
       "<div><style>\n",
       ".dataframe > thead > tr,\n",
       ".dataframe > tbody > tr {\n",
       "  text-align: right;\n",
       "  white-space: pre-wrap;\n",
       "}\n",
       "</style>\n",
       "<small>shape: (1, 18)</small><table border=\"1\" class=\"dataframe\"><thead><tr><th>address</th><th>lease_remaining</th><th>minimum_floor</th><th>maximum_floor</th><th>built_year</th><th>sqft</th><th>sqm</th><th>flat_type</th><th>road</th><th>town</th><th>year_of_sale</th><th>month_of_sale</th><th>months_ago</th><th>price</th><th>psf</th><th>band_name</th><th>price_is_geq_one_million</th><th>ge_1M</th></tr><tr><td>str</td><td>i64</td><td>i64</td><td>i64</td><td>i64</td><td>i64</td><td>i64</td><td>str</td><td>str</td><td>str</td><td>i64</td><td>i64</td><td>i64</td><td>i64</td><td>f64</td><td>str</td><td>i64</td><td>i64</td></tr></thead><tbody><tr><td>&quot;494D TAMPINES STREET 43&quot;</td><td>90</td><td>1</td><td>3</td><td>2015</td><td>731</td><td>68</td><td>&quot;3 ROOM&quot;</td><td>&quot;TAMPINES STREET 43&quot;</td><td>&quot;TAMPINES&quot;</td><td>2024</td><td>4</td><td>8</td><td>435000</td><td>595.07</td><td>&quot;90 - 94&quot;</td><td>0</td><td>0</td></tr></tbody></table></div>"
      ],
      "text/plain": [
       "shape: (1, 18)\n",
       "┌─────────────┬────────────┬────────────┬────────────┬───┬────────┬───────────┬────────────┬───────┐\n",
       "│ address     ┆ lease_rema ┆ minimum_fl ┆ maximum_fl ┆ … ┆ psf    ┆ band_name ┆ price_is_g ┆ ge_1M │\n",
       "│ ---         ┆ ining      ┆ oor        ┆ oor        ┆   ┆ ---    ┆ ---       ┆ eq_one_mil ┆ ---   │\n",
       "│ str         ┆ ---        ┆ ---        ┆ ---        ┆   ┆ f64    ┆ str       ┆ lion       ┆ i64   │\n",
       "│             ┆ i64        ┆ i64        ┆ i64        ┆   ┆        ┆           ┆ ---        ┆       │\n",
       "│             ┆            ┆            ┆            ┆   ┆        ┆           ┆ i64        ┆       │\n",
       "╞═════════════╪════════════╪════════════╪════════════╪═══╪════════╪═══════════╪════════════╪═══════╡\n",
       "│ 494D        ┆ 90         ┆ 1          ┆ 3          ┆ … ┆ 595.07 ┆ 90 - 94   ┆ 0          ┆ 0     │\n",
       "│ TAMPINES    ┆            ┆            ┆            ┆   ┆        ┆           ┆            ┆       │\n",
       "│ STREET 43   ┆            ┆            ┆            ┆   ┆        ┆           ┆            ┆       │\n",
       "└─────────────┴────────────┴────────────┴────────────┴───┴────────┴───────────┴────────────┴───────┘"
      ]
     },
     "metadata": {},
     "output_type": "display_data"
    },
    {
     "name": "stdout",
     "output_type": "stream",
     "text": [
      "['address', 'lease_remaining', 'minimum_floor', 'maximum_floor', 'built_year', 'sqft', 'sqm', 'flat_type', 'road', 'town', 'year_of_sale', 'month_of_sale', 'months_ago', 'price', 'psf', 'band_name', 'price_is_geq_one_million', 'ge_1M']\n"
     ]
    }
   ],
   "source": [
    "df = pl.read_csv(\"ingested.csv\")\n",
    "\n",
    "df_filter = df.filter(\n",
    "    (pl.col(\"year_of_sale\").is_in([2023, 2024])),\n",
    ").with_columns(\n",
    "    (pl.col(\"price\").ge(1000000).cast(pl.Int64).alias(\"ge_1M\")),\n",
    ")\n",
    "display(df_filter.sample())\n",
    "print(list(df_filter.columns))"
   ]
  },
  {
   "cell_type": "code",
   "execution_count": 3,
   "id": "3539e40e",
   "metadata": {},
   "outputs": [
    {
     "data": {
      "text/html": [
       "<div><style>\n",
       ".dataframe > thead > tr,\n",
       ".dataframe > tbody > tr {\n",
       "  text-align: right;\n",
       "  white-space: pre-wrap;\n",
       "}\n",
       "</style>\n",
       "<small>shape: (23, 3)</small><table border=\"1\" class=\"dataframe\"><thead><tr><th>town_right</th><th>transactions2023</th><th>transactions2024</th></tr><tr><td>str</td><td>u32</td><td>u32</td></tr></thead><tbody><tr><td>&quot;KALLANG/WHAMPOA&quot;</td><td>54</td><td>154</td></tr><tr><td>&quot;TOA PAYOH&quot;</td><td>56</td><td>141</td></tr><tr><td>&quot;BUKIT MERAH&quot;</td><td>62</td><td>133</td></tr><tr><td>&quot;QUEENSTOWN&quot;</td><td>48</td><td>106</td></tr><tr><td>&quot;BISHAN&quot;</td><td>45</td><td>77</td></tr><tr><td>&quot;ANG MO KIO&quot;</td><td>31</td><td>67</td></tr><tr><td>&quot;CLEMENTI&quot;</td><td>31</td><td>51</td></tr><tr><td>&quot;GEYLANG&quot;</td><td>11</td><td>48</td></tr><tr><td>&quot;CENTRAL AREA&quot;</td><td>48</td><td>45</td></tr><tr><td>&quot;HOUGANG&quot;</td><td>5</td><td>31</td></tr><tr><td>&quot;SERANGOON&quot;</td><td>15</td><td>28</td></tr><tr><td>&quot;BEDOK&quot;</td><td>9</td><td>25</td></tr><tr><td>&quot;BUKIT TIMAH&quot;</td><td>14</td><td>24</td></tr><tr><td>&quot;TAMPINES&quot;</td><td>2</td><td>22</td></tr><tr><td>&quot;WOODLANDS&quot;</td><td>14</td><td>20</td></tr><tr><td>&quot;YISHUN&quot;</td><td>4</td><td>9</td></tr><tr><td>&quot;BUKIT PANJANG&quot;</td><td>1</td><td>9</td></tr><tr><td>&quot;JURONG EAST&quot;</td><td>6</td><td>6</td></tr><tr><td>&quot;MARINE PARADE&quot;</td><td>5</td><td>5</td></tr><tr><td>&quot;PASIR RIS&quot;</td><td>2</td><td>5</td></tr><tr><td>&quot;SENGKANG&quot;</td><td>null</td><td>4</td></tr><tr><td>&quot;PUNGGOL&quot;</td><td>2</td><td>3</td></tr><tr><td>&quot;BUKIT BATOK&quot;</td><td>4</td><td>3</td></tr></tbody></table></div>"
      ],
      "text/plain": [
       "shape: (23, 3)\n",
       "┌─────────────────┬──────────────────┬──────────────────┐\n",
       "│ town_right      ┆ transactions2023 ┆ transactions2024 │\n",
       "│ ---             ┆ ---              ┆ ---              │\n",
       "│ str             ┆ u32              ┆ u32              │\n",
       "╞═════════════════╪══════════════════╪══════════════════╡\n",
       "│ KALLANG/WHAMPOA ┆ 54               ┆ 154              │\n",
       "│ TOA PAYOH       ┆ 56               ┆ 141              │\n",
       "│ BUKIT MERAH     ┆ 62               ┆ 133              │\n",
       "│ QUEENSTOWN      ┆ 48               ┆ 106              │\n",
       "│ BISHAN          ┆ 45               ┆ 77               │\n",
       "│ ANG MO KIO      ┆ 31               ┆ 67               │\n",
       "│ CLEMENTI        ┆ 31               ┆ 51               │\n",
       "│ GEYLANG         ┆ 11               ┆ 48               │\n",
       "│ CENTRAL AREA    ┆ 48               ┆ 45               │\n",
       "│ HOUGANG         ┆ 5                ┆ 31               │\n",
       "│ SERANGOON       ┆ 15               ┆ 28               │\n",
       "│ BEDOK           ┆ 9                ┆ 25               │\n",
       "│ BUKIT TIMAH     ┆ 14               ┆ 24               │\n",
       "│ TAMPINES        ┆ 2                ┆ 22               │\n",
       "│ WOODLANDS       ┆ 14               ┆ 20               │\n",
       "│ YISHUN          ┆ 4                ┆ 9                │\n",
       "│ BUKIT PANJANG   ┆ 1                ┆ 9                │\n",
       "│ JURONG EAST     ┆ 6                ┆ 6                │\n",
       "│ MARINE PARADE   ┆ 5                ┆ 5                │\n",
       "│ PASIR RIS       ┆ 2                ┆ 5                │\n",
       "│ SENGKANG        ┆ null             ┆ 4                │\n",
       "│ PUNGGOL         ┆ 2                ┆ 3                │\n",
       "│ BUKIT BATOK     ┆ 4                ┆ 3                │\n",
       "└─────────────────┴──────────────────┴──────────────────┘"
      ]
     },
     "metadata": {},
     "output_type": "display_data"
    }
   ],
   "source": [
    "with pl.Config(tbl_rows=23, tbl_cols=20):\n",
    "    display(\n",
    "        df_filter.filter(pl.col(\"year_of_sale\").eq(2023), pl.col(\"ge_1M\").eq(1))\n",
    "        .group_by(\"year_of_sale\", \"town\")\n",
    "        .agg(pl.col(\"address\").len().alias(\"count_transactions\"))\n",
    "        .with_columns(\n",
    "            pl.col(\"year_of_sale\").alias(\"y2023\"),\n",
    "            pl.col(\"count_transactions\").alias(\"transactions2023\"),\n",
    "        )\n",
    "        .select(\"y2023\", \"town\", \"transactions2023\")\n",
    "        .join(\n",
    "            df_filter.filter(pl.col(\"year_of_sale\").eq(2024), pl.col(\"ge_1M\").eq(1))\n",
    "            .group_by(\"year_of_sale\", \"town\")\n",
    "            .agg(pl.col(\"address\").len().alias(\"count_transactions\"))\n",
    "            .with_columns(\n",
    "                pl.col(\"year_of_sale\").alias(\"y2024\"),\n",
    "                pl.col(\"count_transactions\").alias(\"transactions2024\"),\n",
    "            )\n",
    "            .select(\"y2024\", \"town\", \"transactions2024\"),\n",
    "            on=\"town\",\n",
    "            how=\"full\",\n",
    "        ).select(\n",
    "            \"town_right\", \"transactions2023\", \"transactions2024\"\n",
    "        ).sort(\n",
    "            \"transactions2024\", descending=True\n",
    "        )\n",
    "    )\n"
   ]
  },
  {
   "cell_type": "code",
   "execution_count": 4,
   "id": "d9f89fcc",
   "metadata": {},
   "outputs": [
    {
     "data": {
      "text/html": [
       "<div><style>\n",
       ".dataframe > thead > tr,\n",
       ".dataframe > tbody > tr {\n",
       "  text-align: right;\n",
       "  white-space: pre-wrap;\n",
       "}\n",
       "</style>\n",
       "<small>shape: (20, 4)</small><table border=\"1\" class=\"dataframe\"><thead><tr><th>town_right</th><th>transactions2023</th><th>transactions2024</th><th>yoy_growth</th></tr><tr><td>str</td><td>u32</td><td>u32</td><td>f64</td></tr></thead><tbody><tr><td>&quot;TAMPINES&quot;</td><td>2</td><td>22</td><td>11.0</td></tr><tr><td>&quot;BUKIT PANJANG&quot;</td><td>1</td><td>9</td><td>9.0</td></tr><tr><td>&quot;HOUGANG&quot;</td><td>5</td><td>31</td><td>6.2</td></tr><tr><td>&quot;GEYLANG&quot;</td><td>11</td><td>48</td><td>4.363636</td></tr><tr><td>&quot;KALLANG/WHAMPOA&quot;</td><td>54</td><td>154</td><td>2.851852</td></tr><tr><td>&quot;BEDOK&quot;</td><td>9</td><td>25</td><td>2.777778</td></tr><tr><td>&quot;TOA PAYOH&quot;</td><td>56</td><td>141</td><td>2.517857</td></tr><tr><td>&quot;PASIR RIS&quot;</td><td>2</td><td>5</td><td>2.5</td></tr><tr><td>&quot;YISHUN&quot;</td><td>4</td><td>9</td><td>2.25</td></tr><tr><td>&quot;QUEENSTOWN&quot;</td><td>48</td><td>106</td><td>2.208333</td></tr><tr><td>&quot;ANG MO KIO&quot;</td><td>31</td><td>67</td><td>2.16129</td></tr><tr><td>&quot;BUKIT MERAH&quot;</td><td>62</td><td>133</td><td>2.145161</td></tr><tr><td>&quot;SERANGOON&quot;</td><td>15</td><td>28</td><td>1.866667</td></tr><tr><td>&quot;BUKIT TIMAH&quot;</td><td>14</td><td>24</td><td>1.714286</td></tr><tr><td>&quot;BISHAN&quot;</td><td>45</td><td>77</td><td>1.711111</td></tr><tr><td>&quot;CLEMENTI&quot;</td><td>31</td><td>51</td><td>1.645161</td></tr><tr><td>&quot;PUNGGOL&quot;</td><td>2</td><td>3</td><td>1.5</td></tr><tr><td>&quot;WOODLANDS&quot;</td><td>14</td><td>20</td><td>1.428571</td></tr><tr><td>&quot;JURONG EAST&quot;</td><td>6</td><td>6</td><td>1.0</td></tr><tr><td>&quot;MARINE PARADE&quot;</td><td>5</td><td>5</td><td>1.0</td></tr></tbody></table></div>"
      ],
      "text/plain": [
       "shape: (20, 4)\n",
       "┌─────────────────┬──────────────────┬──────────────────┬────────────┐\n",
       "│ town_right      ┆ transactions2023 ┆ transactions2024 ┆ yoy_growth │\n",
       "│ ---             ┆ ---              ┆ ---              ┆ ---        │\n",
       "│ str             ┆ u32              ┆ u32              ┆ f64        │\n",
       "╞═════════════════╪══════════════════╪══════════════════╪════════════╡\n",
       "│ TAMPINES        ┆ 2                ┆ 22               ┆ 11.0       │\n",
       "│ BUKIT PANJANG   ┆ 1                ┆ 9                ┆ 9.0        │\n",
       "│ HOUGANG         ┆ 5                ┆ 31               ┆ 6.2        │\n",
       "│ GEYLANG         ┆ 11               ┆ 48               ┆ 4.363636   │\n",
       "│ KALLANG/WHAMPOA ┆ 54               ┆ 154              ┆ 2.851852   │\n",
       "│ BEDOK           ┆ 9                ┆ 25               ┆ 2.777778   │\n",
       "│ TOA PAYOH       ┆ 56               ┆ 141              ┆ 2.517857   │\n",
       "│ PASIR RIS       ┆ 2                ┆ 5                ┆ 2.5        │\n",
       "│ YISHUN          ┆ 4                ┆ 9                ┆ 2.25       │\n",
       "│ QUEENSTOWN      ┆ 48               ┆ 106              ┆ 2.208333   │\n",
       "│ ANG MO KIO      ┆ 31               ┆ 67               ┆ 2.16129    │\n",
       "│ BUKIT MERAH     ┆ 62               ┆ 133              ┆ 2.145161   │\n",
       "│ SERANGOON       ┆ 15               ┆ 28               ┆ 1.866667   │\n",
       "│ BUKIT TIMAH     ┆ 14               ┆ 24               ┆ 1.714286   │\n",
       "│ BISHAN          ┆ 45               ┆ 77               ┆ 1.711111   │\n",
       "│ CLEMENTI        ┆ 31               ┆ 51               ┆ 1.645161   │\n",
       "│ PUNGGOL         ┆ 2                ┆ 3                ┆ 1.5        │\n",
       "│ WOODLANDS       ┆ 14               ┆ 20               ┆ 1.428571   │\n",
       "│ JURONG EAST     ┆ 6                ┆ 6                ┆ 1.0        │\n",
       "│ MARINE PARADE   ┆ 5                ┆ 5                ┆ 1.0        │\n",
       "└─────────────────┴──────────────────┴──────────────────┴────────────┘"
      ]
     },
     "metadata": {},
     "output_type": "display_data"
    }
   ],
   "source": [
    "with pl.Config(tbl_rows=23, tbl_cols=20):\n",
    "    display(\n",
    "        df_filter.filter(pl.col(\"year_of_sale\").eq(2023), pl.col(\"ge_1M\").eq(1))\n",
    "        .group_by(\"year_of_sale\", \"town\")\n",
    "        .agg(pl.col(\"address\").len().alias(\"count_transactions\"))\n",
    "        .with_columns(\n",
    "            pl.col(\"year_of_sale\").alias(\"y2023\"),\n",
    "            pl.col(\"count_transactions\").alias(\"transactions2023\"),\n",
    "        )\n",
    "        .select(\"y2023\", \"town\", \"transactions2023\")\n",
    "        .join(\n",
    "            df_filter.filter(pl.col(\"year_of_sale\").eq(2024), pl.col(\"ge_1M\").eq(1))\n",
    "            .group_by(\"year_of_sale\", \"town\")\n",
    "            .agg(pl.col(\"address\").len().alias(\"count_transactions\"))\n",
    "            .with_columns(\n",
    "                pl.col(\"year_of_sale\").alias(\"y2024\"),\n",
    "                pl.col(\"count_transactions\").alias(\"transactions2024\"),\n",
    "            )\n",
    "            .select(\"y2024\", \"town\", \"transactions2024\"),\n",
    "            on=\"town\",\n",
    "            how=\"full\",\n",
    "        ).select(\n",
    "            \"town_right\", \"transactions2023\", \"transactions2024\"\n",
    "        ).sort(\n",
    "            \"transactions2024\", descending=True\n",
    "        ).filter(\n",
    "            pl.col(\"transactions2024\").ge(pl.col(\"transactions2023\"))\n",
    "        ).with_columns(\n",
    "            (pl.col(\"transactions2024\") / (pl.col(\"transactions2023\"))).alias(\"yoy_growth\")\n",
    "        ).sort(\"yoy_growth\", descending=True)\n",
    "    )\n"
   ]
  },
  {
   "cell_type": "code",
   "execution_count": 5,
   "id": "48ea54f6",
   "metadata": {},
   "outputs": [
    {
     "data": {
      "text/html": [
       "<div><style>\n",
       ".dataframe > thead > tr,\n",
       ".dataframe > tbody > tr {\n",
       "  text-align: right;\n",
       "  white-space: pre-wrap;\n",
       "}\n",
       "</style>\n",
       "<small>shape: (4, 7)</small><table border=\"1\" class=\"dataframe\"><thead><tr><th>year_of_sale</th><th>month_of_sale</th><th>address</th><th>road</th><th>minimum_floor</th><th>maximum_floor</th><th>price</th></tr><tr><td>i64</td><td>i64</td><td>str</td><td>str</td><td>i64</td><td>i64</td><td>i64</td></tr></thead><tbody><tr><td>2024</td><td>4</td><td>&quot;205B COMPASSVALE LANE&quot;</td><td>&quot;COMPASSVALE LANE&quot;</td><td>7</td><td>9</td><td>1000000</td></tr><tr><td>2024</td><td>7</td><td>&quot;216B COMPASSVALE DRIVE&quot;</td><td>&quot;COMPASSVALE DRIVE&quot;</td><td>16</td><td>18</td><td>1000000</td></tr><tr><td>2024</td><td>8</td><td>&quot;102 RIVERVALE WALK&quot;</td><td>&quot;RIVERVALE WALK&quot;</td><td>10</td><td>12</td><td>1005000</td></tr><tr><td>2024</td><td>11</td><td>&quot;216B COMPASSVALE DRIVE&quot;</td><td>&quot;COMPASSVALE DRIVE&quot;</td><td>13</td><td>15</td><td>1050000</td></tr></tbody></table></div>"
      ],
      "text/plain": [
       "shape: (4, 7)\n",
       "┌──────────────┬──────────────┬──────────────┬──────────────┬──────────────┬─────────────┬─────────┐\n",
       "│ year_of_sale ┆ month_of_sal ┆ address      ┆ road         ┆ minimum_floo ┆ maximum_flo ┆ price   │\n",
       "│ ---          ┆ e            ┆ ---          ┆ ---          ┆ r            ┆ or          ┆ ---     │\n",
       "│ i64          ┆ ---          ┆ str          ┆ str          ┆ ---          ┆ ---         ┆ i64     │\n",
       "│              ┆ i64          ┆              ┆              ┆ i64          ┆ i64         ┆         │\n",
       "╞══════════════╪══════════════╪══════════════╪══════════════╪══════════════╪═════════════╪═════════╡\n",
       "│ 2024         ┆ 4            ┆ 205B         ┆ COMPASSVALE  ┆ 7            ┆ 9           ┆ 1000000 │\n",
       "│              ┆              ┆ COMPASSVALE  ┆ LANE         ┆              ┆             ┆         │\n",
       "│              ┆              ┆ LANE         ┆              ┆              ┆             ┆         │\n",
       "│ 2024         ┆ 7            ┆ 216B         ┆ COMPASSVALE  ┆ 16           ┆ 18          ┆ 1000000 │\n",
       "│              ┆              ┆ COMPASSVALE  ┆ DRIVE        ┆              ┆             ┆         │\n",
       "│              ┆              ┆ DRIVE        ┆              ┆              ┆             ┆         │\n",
       "│ 2024         ┆ 8            ┆ 102          ┆ RIVERVALE    ┆ 10           ┆ 12          ┆ 1005000 │\n",
       "│              ┆              ┆ RIVERVALE    ┆ WALK         ┆              ┆             ┆         │\n",
       "│              ┆              ┆ WALK         ┆              ┆              ┆             ┆         │\n",
       "│ 2024         ┆ 11           ┆ 216B         ┆ COMPASSVALE  ┆ 13           ┆ 15          ┆ 1050000 │\n",
       "│              ┆              ┆ COMPASSVALE  ┆ DRIVE        ┆              ┆             ┆         │\n",
       "│              ┆              ┆ DRIVE        ┆              ┆              ┆             ┆         │\n",
       "└──────────────┴──────────────┴──────────────┴──────────────┴──────────────┴─────────────┴─────────┘"
      ]
     },
     "metadata": {},
     "output_type": "display_data"
    }
   ],
   "source": [
    "with pl.Config(tbl_rows=23, tbl_cols=20):\n",
    "    display(\n",
    "        df_filter.filter(\n",
    "            pl.col(\"year_of_sale\").eq(2024) & \n",
    "            pl.col(\"ge_1M\").eq(1) &\n",
    "            pl.col(\"town\").eq(\"SENGKANG\")\n",
    "        ).select(\n",
    "            \"year_of_sale\", \"month_of_sale\", \n",
    "            \"address\", \"road\", \"minimum_floor\", \"maximum_floor\", \"price\"\n",
    "        ).sort(\"month_of_sale\")\n",
    "    )\n"
   ]
  },
  {
   "cell_type": "code",
   "execution_count": 18,
   "id": "30413fab",
   "metadata": {},
   "outputs": [
    {
     "data": {
      "text/html": [
       "<div><style>\n",
       ".dataframe > thead > tr,\n",
       ".dataframe > tbody > tr {\n",
       "  text-align: right;\n",
       "  white-space: pre-wrap;\n",
       "}\n",
       "</style>\n",
       "<small>shape: (10, 8)</small><table border=\"1\" class=\"dataframe\"><thead><tr><th>year_of_sale</th><th>month_of_sale</th><th>town</th><th>address</th><th>road</th><th>minimum_floor</th><th>maximum_floor</th><th>price</th></tr><tr><td>i64</td><td>i64</td><td>str</td><td>str</td><td>str</td><td>i64</td><td>i64</td><td>i64</td></tr></thead><tbody><tr><td>2024</td><td>6</td><td>&quot;JURONG WEST&quot;</td><td>&quot;471 JURONG WEST STREET 41&quot;</td><td>&quot;JURONG WEST STREET 41&quot;</td><td>10</td><td>12</td><td>980000</td></tr><tr><td>2024</td><td>9</td><td>&quot;JURONG WEST&quot;</td><td>&quot;469 JURONG WEST STREET 41&quot;</td><td>&quot;JURONG WEST STREET 41&quot;</td><td>4</td><td>6</td><td>960000</td></tr><tr><td>2024</td><td>11</td><td>&quot;JURONG WEST&quot;</td><td>&quot;138D YUAN CHING ROAD&quot;</td><td>&quot;YUAN CHING ROAD&quot;</td><td>13</td><td>15</td><td>952888</td></tr><tr><td>2024</td><td>12</td><td>&quot;JURONG WEST&quot;</td><td>&quot;472 JURONG WEST STREET 41&quot;</td><td>&quot;JURONG WEST STREET 41&quot;</td><td>13</td><td>15</td><td>940000</td></tr><tr><td>2024</td><td>6</td><td>&quot;JURONG WEST&quot;</td><td>&quot;138C YUAN CHING ROAD&quot;</td><td>&quot;YUAN CHING ROAD&quot;</td><td>13</td><td>15</td><td>920000</td></tr><tr><td>2024</td><td>11</td><td>&quot;JURONG WEST&quot;</td><td>&quot;470 JURONG WEST STREET 41&quot;</td><td>&quot;JURONG WEST STREET 41&quot;</td><td>10</td><td>12</td><td>920000</td></tr><tr><td>2024</td><td>8</td><td>&quot;CHOA CHU KANG&quot;</td><td>&quot;342 CHOA CHU KANG LOOP&quot;</td><td>&quot;CHOA CHU KANG LOOP&quot;</td><td>10</td><td>12</td><td>915000</td></tr><tr><td>2024</td><td>4</td><td>&quot;JURONG WEST&quot;</td><td>&quot;138B YUAN CHING ROAD&quot;</td><td>&quot;YUAN CHING ROAD&quot;</td><td>19</td><td>21</td><td>910000</td></tr><tr><td>2024</td><td>10</td><td>&quot;CHOA CHU KANG&quot;</td><td>&quot;601 CHOA CHU KANG STREET 62&quot;</td><td>&quot;CHOA CHU KANG STREET 62&quot;</td><td>4</td><td>6</td><td>908000</td></tr><tr><td>2024</td><td>6</td><td>&quot;CHOA CHU KANG&quot;</td><td>&quot;342 CHOA CHU KANG LOOP&quot;</td><td>&quot;CHOA CHU KANG LOOP&quot;</td><td>7</td><td>9</td><td>907888</td></tr></tbody></table></div>"
      ],
      "text/plain": [
       "shape: (10, 8)\n",
       "┌────────────┬────────────┬────────────┬────────────┬────────────┬────────────┬───────────┬────────┐\n",
       "│ year_of_sa ┆ month_of_s ┆ town       ┆ address    ┆ road       ┆ minimum_fl ┆ maximum_f ┆ price  │\n",
       "│ le         ┆ ale        ┆ ---        ┆ ---        ┆ ---        ┆ oor        ┆ loor      ┆ ---    │\n",
       "│ ---        ┆ ---        ┆ str        ┆ str        ┆ str        ┆ ---        ┆ ---       ┆ i64    │\n",
       "│ i64        ┆ i64        ┆            ┆            ┆            ┆ i64        ┆ i64       ┆        │\n",
       "╞════════════╪════════════╪════════════╪════════════╪════════════╪════════════╪═══════════╪════════╡\n",
       "│ 2024       ┆ 6          ┆ JURONG     ┆ 471 JURONG ┆ JURONG     ┆ 10         ┆ 12        ┆ 980000 │\n",
       "│            ┆            ┆ WEST       ┆ WEST       ┆ WEST       ┆            ┆           ┆        │\n",
       "│            ┆            ┆            ┆ STREET 41  ┆ STREET 41  ┆            ┆           ┆        │\n",
       "│ 2024       ┆ 9          ┆ JURONG     ┆ 469 JURONG ┆ JURONG     ┆ 4          ┆ 6         ┆ 960000 │\n",
       "│            ┆            ┆ WEST       ┆ WEST       ┆ WEST       ┆            ┆           ┆        │\n",
       "│            ┆            ┆            ┆ STREET 41  ┆ STREET 41  ┆            ┆           ┆        │\n",
       "│ 2024       ┆ 11         ┆ JURONG     ┆ 138D YUAN  ┆ YUAN CHING ┆ 13         ┆ 15        ┆ 952888 │\n",
       "│            ┆            ┆ WEST       ┆ CHING ROAD ┆ ROAD       ┆            ┆           ┆        │\n",
       "│ 2024       ┆ 12         ┆ JURONG     ┆ 472 JURONG ┆ JURONG     ┆ 13         ┆ 15        ┆ 940000 │\n",
       "│            ┆            ┆ WEST       ┆ WEST       ┆ WEST       ┆            ┆           ┆        │\n",
       "│            ┆            ┆            ┆ STREET 41  ┆ STREET 41  ┆            ┆           ┆        │\n",
       "│ 2024       ┆ 6          ┆ JURONG     ┆ 138C YUAN  ┆ YUAN CHING ┆ 13         ┆ 15        ┆ 920000 │\n",
       "│            ┆            ┆ WEST       ┆ CHING ROAD ┆ ROAD       ┆            ┆           ┆        │\n",
       "│ 2024       ┆ 11         ┆ JURONG     ┆ 470 JURONG ┆ JURONG     ┆ 10         ┆ 12        ┆ 920000 │\n",
       "│            ┆            ┆ WEST       ┆ WEST       ┆ WEST       ┆            ┆           ┆        │\n",
       "│            ┆            ┆            ┆ STREET 41  ┆ STREET 41  ┆            ┆           ┆        │\n",
       "│ 2024       ┆ 8          ┆ CHOA CHU   ┆ 342 CHOA   ┆ CHOA CHU   ┆ 10         ┆ 12        ┆ 915000 │\n",
       "│            ┆            ┆ KANG       ┆ CHU KANG   ┆ KANG LOOP  ┆            ┆           ┆        │\n",
       "│            ┆            ┆            ┆ LOOP       ┆            ┆            ┆           ┆        │\n",
       "│ 2024       ┆ 4          ┆ JURONG     ┆ 138B YUAN  ┆ YUAN CHING ┆ 19         ┆ 21        ┆ 910000 │\n",
       "│            ┆            ┆ WEST       ┆ CHING ROAD ┆ ROAD       ┆            ┆           ┆        │\n",
       "│ 2024       ┆ 10         ┆ CHOA CHU   ┆ 601 CHOA   ┆ CHOA CHU   ┆ 4          ┆ 6         ┆ 908000 │\n",
       "│            ┆            ┆ KANG       ┆ CHU KANG   ┆ KANG       ┆            ┆           ┆        │\n",
       "│            ┆            ┆            ┆ STREET 62  ┆ STREET 62  ┆            ┆           ┆        │\n",
       "│ 2024       ┆ 6          ┆ CHOA CHU   ┆ 342 CHOA   ┆ CHOA CHU   ┆ 7          ┆ 9         ┆ 907888 │\n",
       "│            ┆            ┆ KANG       ┆ CHU KANG   ┆ KANG LOOP  ┆            ┆           ┆        │\n",
       "│            ┆            ┆            ┆ LOOP       ┆            ┆            ┆           ┆        │\n",
       "└────────────┴────────────┴────────────┴────────────┴────────────┴────────────┴───────────┴────────┘"
      ]
     },
     "metadata": {},
     "output_type": "display_data"
    }
   ],
   "source": [
    "with pl.Config(tbl_rows=60, tbl_cols=40):\n",
    "    display(\n",
    "        df_filter.filter(\n",
    "            pl.col(\"year_of_sale\").eq(2024) & \n",
    "            pl.col(\"ge_1M\").eq(0) &\n",
    "            pl.col(\"town\").is_in([\"JURONG WEST\", \"CHOA CHU KANG\", \"SEMBAWANG\"])\n",
    "        ).select(\n",
    "            \"year_of_sale\", \"month_of_sale\", \"town\",\n",
    "            \"address\", \"road\", \"minimum_floor\", \"maximum_floor\", \"price\"\n",
    "        ).sort(\"price\", descending=True).head(10)\n",
    "    )\n"
   ]
  },
  {
   "cell_type": "code",
   "execution_count": 38,
   "id": "5d7173ae",
   "metadata": {},
   "outputs": [
    {
     "data": {
      "text/html": [
       "<div><style>\n",
       ".dataframe > thead > tr,\n",
       ".dataframe > tbody > tr {\n",
       "  text-align: right;\n",
       "  white-space: pre-wrap;\n",
       "}\n",
       "</style>\n",
       "<small>shape: (2, 2)</small><table border=\"1\" class=\"dataframe\"><thead><tr><th>_15_yrs_or_less</th><th>count_txns</th></tr><tr><td>i64</td><td>u32</td></tr></thead><tbody><tr><td>0</td><td>503</td></tr><tr><td>1</td><td>513</td></tr></tbody></table></div>"
      ],
      "text/plain": [
       "shape: (2, 2)\n",
       "┌─────────────────┬────────────┐\n",
       "│ _15_yrs_or_less ┆ count_txns │\n",
       "│ ---             ┆ ---        │\n",
       "│ i64             ┆ u32        │\n",
       "╞═════════════════╪════════════╡\n",
       "│ 0               ┆ 503        │\n",
       "│ 1               ┆ 513        │\n",
       "└─────────────────┴────────────┘"
      ]
     },
     "metadata": {},
     "output_type": "display_data"
    }
   ],
   "source": [
    "with pl.Config(tbl_rows=50, tbl_cols=20):\n",
    "    display(\n",
    "        df_filter.filter(\n",
    "            pl.col(\"year_of_sale\").eq(2024) & \n",
    "            pl.col(\"ge_1M\").eq(1)\n",
    "        ).select(\n",
    "            \"year_of_sale\", \"month_of_sale\", \"lease_remaining\",\n",
    "            \"address\", \"road\", \"minimum_floor\", \"maximum_floor\", \"price\"\n",
    "        ).with_columns(\n",
    "            pl.col(\"lease_remaining\").ge(85).cast(pl.Int64).alias(\"_15_yrs_or_less\")\n",
    "        ).group_by(\n",
    "#             \"year_of_sale\", \"lease_remaining\", \n",
    "            \"_15_yrs_or_less\"\n",
    "        ).agg(\n",
    "            pl.col(\"_15_yrs_or_less\").len().alias(\"count_txns\")\n",
    "        )\n",
    "    )\n"
   ]
  },
  {
   "cell_type": "code",
   "execution_count": 44,
   "id": "f22b9d77",
   "metadata": {},
   "outputs": [
    {
     "data": {
      "text/html": [
       "<div><style>\n",
       ".dataframe > thead > tr,\n",
       ".dataframe > tbody > tr {\n",
       "  text-align: right;\n",
       "  white-space: pre-wrap;\n",
       "}\n",
       "</style>\n",
       "<small>shape: (20, 4)</small><table border=\"1\" class=\"dataframe\"><thead><tr><th>road</th><th>lease_remaining</th><th>count_txns</th><th>pct_txns</th></tr><tr><td>str</td><td>i64</td><td>u32</td><td>f64</td></tr></thead><tbody><tr><td>&quot;SAINT GEORGE&#x27;S LANE&quot;</td><td>95</td><td>67</td><td>0.435065</td></tr><tr><td>&quot;MCNAIR ROAD&quot;</td><td>92</td><td>23</td><td>0.149351</td></tr><tr><td>&quot;BOON KENG ROAD&quot;</td><td>86</td><td>16</td><td>0.103896</td></tr><tr><td>&quot;BENDEMEER ROAD&quot;</td><td>92</td><td>7</td><td>0.045455</td></tr><tr><td>&quot;UPPER BOON KENG ROAD&quot;</td><td>81</td><td>7</td><td>0.045455</td></tr><tr><td>&quot;UPPER BOON KENG ROAD&quot;</td><td>92</td><td>5</td><td>0.032468</td></tr><tr><td>&quot;TOWNER ROAD&quot;</td><td>58</td><td>4</td><td>0.025974</td></tr><tr><td>&quot;UPPER BOON KENG ROAD&quot;</td><td>74</td><td>3</td><td>0.019481</td></tr><tr><td>&quot;BOON KENG ROAD&quot;</td><td>71</td><td>3</td><td>0.019481</td></tr><tr><td>&quot;BENDEMEER ROAD&quot;</td><td>69</td><td>3</td><td>0.019481</td></tr><tr><td>&quot;JALAN MA&#x27;MOR&quot;</td><td>47</td><td>3</td><td>0.019481</td></tr><tr><td>&quot;JALAN RAJAH&quot;</td><td>59</td><td>3</td><td>0.019481</td></tr><tr><td>&quot;MCNAIR ROAD&quot;</td><td>62</td><td>2</td><td>0.012987</td></tr><tr><td>&quot;JELLICOE ROAD&quot;</td><td>78</td><td>2</td><td>0.012987</td></tr><tr><td>&quot;BENDEMEER ROAD&quot;</td><td>87</td><td>1</td><td>0.006494</td></tr><tr><td>&quot;JALAN BAHAGIA&quot;</td><td>47</td><td>1</td><td>0.006494</td></tr><tr><td>&quot;FARRER PARK ROAD&quot;</td><td>79</td><td>1</td><td>0.006494</td></tr><tr><td>&quot;GEYLANG BAHRU&quot;</td><td>74</td><td>1</td><td>0.006494</td></tr><tr><td>&quot;MCNAIR ROAD&quot;</td><td>79</td><td>1</td><td>0.006494</td></tr><tr><td>&quot;SAINT GEORGE&#x27;S LANE&quot;</td><td>71</td><td>1</td><td>0.006494</td></tr></tbody></table></div>"
      ],
      "text/plain": [
       "shape: (20, 4)\n",
       "┌──────────────────────┬─────────────────┬────────────┬──────────┐\n",
       "│ road                 ┆ lease_remaining ┆ count_txns ┆ pct_txns │\n",
       "│ ---                  ┆ ---             ┆ ---        ┆ ---      │\n",
       "│ str                  ┆ i64             ┆ u32        ┆ f64      │\n",
       "╞══════════════════════╪═════════════════╪════════════╪══════════╡\n",
       "│ SAINT GEORGE'S LANE  ┆ 95              ┆ 67         ┆ 0.435065 │\n",
       "│ MCNAIR ROAD          ┆ 92              ┆ 23         ┆ 0.149351 │\n",
       "│ BOON KENG ROAD       ┆ 86              ┆ 16         ┆ 0.103896 │\n",
       "│ BENDEMEER ROAD       ┆ 92              ┆ 7          ┆ 0.045455 │\n",
       "│ UPPER BOON KENG ROAD ┆ 81              ┆ 7          ┆ 0.045455 │\n",
       "│ UPPER BOON KENG ROAD ┆ 92              ┆ 5          ┆ 0.032468 │\n",
       "│ TOWNER ROAD          ┆ 58              ┆ 4          ┆ 0.025974 │\n",
       "│ UPPER BOON KENG ROAD ┆ 74              ┆ 3          ┆ 0.019481 │\n",
       "│ BOON KENG ROAD       ┆ 71              ┆ 3          ┆ 0.019481 │\n",
       "│ BENDEMEER ROAD       ┆ 69              ┆ 3          ┆ 0.019481 │\n",
       "│ JALAN MA'MOR         ┆ 47              ┆ 3          ┆ 0.019481 │\n",
       "│ JALAN RAJAH          ┆ 59              ┆ 3          ┆ 0.019481 │\n",
       "│ MCNAIR ROAD          ┆ 62              ┆ 2          ┆ 0.012987 │\n",
       "│ JELLICOE ROAD        ┆ 78              ┆ 2          ┆ 0.012987 │\n",
       "│ BENDEMEER ROAD       ┆ 87              ┆ 1          ┆ 0.006494 │\n",
       "│ JALAN BAHAGIA        ┆ 47              ┆ 1          ┆ 0.006494 │\n",
       "│ FARRER PARK ROAD     ┆ 79              ┆ 1          ┆ 0.006494 │\n",
       "│ GEYLANG BAHRU        ┆ 74              ┆ 1          ┆ 0.006494 │\n",
       "│ MCNAIR ROAD          ┆ 79              ┆ 1          ┆ 0.006494 │\n",
       "│ SAINT GEORGE'S LANE  ┆ 71              ┆ 1          ┆ 0.006494 │\n",
       "└──────────────────────┴─────────────────┴────────────┴──────────┘"
      ]
     },
     "metadata": {},
     "output_type": "display_data"
    }
   ],
   "source": [
    "with pl.Config(tbl_rows=50, tbl_cols=20):\n",
    "    display(\n",
    "        df_filter.filter(\n",
    "            pl.col(\"year_of_sale\").eq(2024) & \n",
    "            pl.col(\"ge_1M\").eq(1) &\n",
    "            pl.col(\"town\").eq(\"KALLANG/WHAMPOA\")\n",
    "        ).select(\n",
    "            \"year_of_sale\", \"month_of_sale\", \"lease_remaining\",\n",
    "            \"address\", \"road\", \"minimum_floor\", \"maximum_floor\", \"price\"\n",
    "        ).group_by(\"road\", \"lease_remaining\").agg(pl.col(\"address\").len().alias(\"count_txns\"))\n",
    "        .sort(\"count_txns\", descending=True)\n",
    "        .with_columns(\n",
    "            (pl.col(\"count_txns\") / pl.col(\"count_txns\").sum()).alias(\"pct_txns\")\n",
    "        )\n",
    "    )\n"
   ]
  },
  {
   "cell_type": "code",
   "execution_count": 54,
   "id": "7dbfb566",
   "metadata": {},
   "outputs": [
    {
     "data": {
      "text/html": [
       "<div><style>\n",
       ".dataframe > thead > tr,\n",
       ".dataframe > tbody > tr {\n",
       "  text-align: right;\n",
       "  white-space: pre-wrap;\n",
       "}\n",
       "</style>\n",
       "<small>shape: (2, 3)</small><table border=\"1\" class=\"dataframe\"><thead><tr><th>lease_commencing_2013</th><th>count_txns</th><th>pct_txns</th></tr><tr><td>i64</td><td>u32</td><td>f64</td></tr></thead><tbody><tr><td>1</td><td>376</td><td>0.370079</td></tr><tr><td>0</td><td>640</td><td>0.629921</td></tr></tbody></table></div>"
      ],
      "text/plain": [
       "shape: (2, 3)\n",
       "┌───────────────────────┬────────────┬──────────┐\n",
       "│ lease_commencing_2013 ┆ count_txns ┆ pct_txns │\n",
       "│ ---                   ┆ ---        ┆ ---      │\n",
       "│ i64                   ┆ u32        ┆ f64      │\n",
       "╞═══════════════════════╪════════════╪══════════╡\n",
       "│ 1                     ┆ 376        ┆ 0.370079 │\n",
       "│ 0                     ┆ 640        ┆ 0.629921 │\n",
       "└───────────────────────┴────────────┴──────────┘"
      ]
     },
     "metadata": {},
     "output_type": "display_data"
    }
   ],
   "source": [
    "with pl.Config(tbl_rows=50, tbl_cols=20):\n",
    "    display(\n",
    "        df_filter.filter(\n",
    "            pl.col(\"year_of_sale\").eq(2024) & \n",
    "            pl.col(\"ge_1M\").eq(1)\n",
    "        ).with_columns(\n",
    "            pl.col(\"built_year\").ge(2013).cast(pl.Int64).alias(\"lease_commencing_2013\")\n",
    "        ).select(\n",
    "            \"year_of_sale\", \"month_of_sale\", \"lease_remaining\", \"lease_commencing_2013\", \"built_year\",\n",
    "            \"address\", \"road\", \"minimum_floor\", \"maximum_floor\", \"price\"\n",
    "        ).group_by(\"lease_commencing_2013\").agg(pl.col(\"address\").len().alias(\"count_txns\"))\n",
    "        .sort(\"lease_commencing_2013\", descending=True)\n",
    "        .with_columns(\n",
    "            (pl.col(\"count_txns\") / pl.col(\"count_txns\").sum()).alias(\"pct_txns\")\n",
    "        )\n",
    "    )\n"
   ]
  },
  {
   "cell_type": "code",
   "execution_count": 57,
   "id": "fe3cae9a",
   "metadata": {},
   "outputs": [
    {
     "data": {
      "text/html": [
       "<div><style>\n",
       ".dataframe > thead > tr,\n",
       ".dataframe > tbody > tr {\n",
       "  text-align: right;\n",
       "  white-space: pre-wrap;\n",
       "}\n",
       "</style>\n",
       "<small>shape: (6, 3)</small><table border=\"1\" class=\"dataframe\"><thead><tr><th>price_round_down_100k</th><th>count_transactions</th><th>pct_transactions</th></tr><tr><td>i64</td><td>u32</td><td>f64</td></tr></thead><tbody><tr><td>1000000</td><td>846</td><td>0.569697</td></tr><tr><td>1100000</td><td>298</td><td>0.200673</td></tr><tr><td>1200000</td><td>180</td><td>0.121212</td></tr><tr><td>1300000</td><td>89</td><td>0.059933</td></tr><tr><td>1400000</td><td>50</td><td>0.03367</td></tr><tr><td>1500000</td><td>22</td><td>0.014815</td></tr></tbody></table></div>"
      ],
      "text/plain": [
       "shape: (6, 3)\n",
       "┌───────────────────────┬────────────────────┬──────────────────┐\n",
       "│ price_round_down_100k ┆ count_transactions ┆ pct_transactions │\n",
       "│ ---                   ┆ ---                ┆ ---              │\n",
       "│ i64                   ┆ u32                ┆ f64              │\n",
       "╞═══════════════════════╪════════════════════╪══════════════════╡\n",
       "│ 1000000               ┆ 846                ┆ 0.569697         │\n",
       "│ 1100000               ┆ 298                ┆ 0.200673         │\n",
       "│ 1200000               ┆ 180                ┆ 0.121212         │\n",
       "│ 1300000               ┆ 89                 ┆ 0.059933         │\n",
       "│ 1400000               ┆ 50                 ┆ 0.03367          │\n",
       "│ 1500000               ┆ 22                 ┆ 0.014815         │\n",
       "└───────────────────────┴────────────────────┴──────────────────┘"
      ]
     },
     "metadata": {},
     "output_type": "display_data"
    }
   ],
   "source": [
    "with pl.Config(tbl_rows=50, tbl_cols=20):\n",
    "    display(\n",
    "        df_filter.with_columns(\n",
    "            (pl.col(\"price\") // 100000 * 100000).alias(\"price_round_down_100k\")\n",
    "        )\n",
    "        .filter(pl.col(\"price_is_geq_one_million\").eq(1))\n",
    "        .group_by(\"price_round_down_100k\")\n",
    "        .agg(pl.len().alias(\"count_transactions\"))\n",
    "        .with_columns(\n",
    "            (pl.col(\"count_transactions\") / pl.col(\"count_transactions\").sum()).alias(\n",
    "                \"pct_transactions\"\n",
    "            )\n",
    "        )\n",
    "        .sort(\"price_round_down_100k\")\n",
    "    )\n"
   ]
  },
  {
   "cell_type": "code",
   "execution_count": null,
   "id": "cd58bef0",
   "metadata": {},
   "outputs": [],
   "source": [
    "with pl.Config(tbl_rows=50, tbl_cols=20):\n",
    "    display(\n",
    "        df_filter.with_columns(\n",
    "            (pl.col(\"price\") // 100000 * 100000).alias(\"price_round_down_100k\")\n",
    "        )\n",
    "        .filter(pl.col(\"price_is_geq_one_million\").eq(1))\n",
    "        .group_by(\"price_round_down_100k\")\n",
    "        .agg(pl.len().alias(\"count_transactions\"))\n",
    "        .with_columns(\n",
    "            (pl.col(\"count_transactions\") / pl.col(\"count_transactions\").sum()).alias(\n",
    "                \"pct_transactions\"\n",
    "            )\n",
    "        )\n",
    "        .sort(\"price_round_down_100k\")\n",
    "    )\n"
   ]
  },
  {
   "cell_type": "code",
   "execution_count": null,
   "id": "a2859d20",
   "metadata": {},
   "outputs": [],
   "source": [
    "with pl.Config(set_tbl_rows=30):\n",
    "    display(\n",
    "        df.filter(\n",
    "            (pl.col(\"year_of_sale\").eq(2024)),\n",
    "            (pl.col(\"price_is_geq_one_million\").eq(1)),\n",
    "        )\n",
    "        .group_by(\"town\")\n",
    "        .agg(pl.col(\"address\").len().alias(\"count_transactions\"))\n",
    "        .sort(\"count_transactions\", descending=True)\n",
    "    )\n"
   ]
  },
  {
   "cell_type": "code",
   "execution_count": null,
   "id": "a31d22bb",
   "metadata": {},
   "outputs": [],
   "source": [
    "df.filter(\n",
    "    (pl.col(\"year_of_sale\").eq(2024)),\n",
    "    (pl.col(\"price_is_geq_one_million\").eq(1)),\n",
    "    (pl.col(\"town\").eq(\"SENGKANG\"))\n",
    ").sort(\"month_of_sale\").select(\n",
    "    \"address\", \"sqft\", \"minimum_floor\", \"maximum_floor\", \"flat_type\",\n",
    "    \"price\", \"year_of_sale\", \"month_of_sale\"\n",
    ")"
   ]
  },
  {
   "cell_type": "code",
   "execution_count": null,
   "id": "c004c261",
   "metadata": {},
   "outputs": [],
   "source": [
    "df.filter(\n",
    "    (pl.col(\"year_of_sale\").eq(2024)),\n",
    "    (pl.col(\"price_is_geq_one_million\").eq(0)),\n",
    "    (pl.col(\"town\").eq(\"JURONG WEST\"))\n",
    ").sort(\"price\", descending=True).select(\n",
    "    \"address\", \"sqft\", \"minimum_floor\", \"maximum_floor\", \"flat_type\",\n",
    "    \"price\", \"year_of_sale\", \"month_of_sale\"\n",
    ")"
   ]
  },
  {
   "cell_type": "code",
   "execution_count": null,
   "id": "2d9348f4",
   "metadata": {},
   "outputs": [],
   "source": [
    "df.filter(\n",
    "    (pl.col(\"year_of_sale\").eq(2024)),\n",
    "    (pl.col(\"price_is_geq_one_million\").eq(1)),\n",
    ").sort(\"price\", descending=True).select(\n",
    "    \"address\", \"sqft\", \"minimum_floor\", \"maximum_floor\", \"flat_type\",\n",
    "    \"price\", \"year_of_sale\", \"month_of_sale\", \"psf\", \"band_name\"\n",
    ")"
   ]
  },
  {
   "cell_type": "code",
   "execution_count": null,
   "id": "5df69d82",
   "metadata": {},
   "outputs": [],
   "source": [
    "df.filter(\n",
    "    (pl.col(\"year_of_sale\").eq(2024)),\n",
    "    (pl.col(\"price_is_geq_one_million\").eq(1)),\n",
    ").group_by(\"band_name\").agg(\n",
    "    pl.col(\"address\").len().alias(\"count_transactions\")\n",
    ").with_columns(\n",
    "    pl.col(\"count_transactions\")/pl.col(\"count_transactions\").sum().alias(\"pct_transactions\")\n",
    ").sort(\"band_name\", descending=True)"
   ]
  },
  {
   "cell_type": "code",
   "execution_count": null,
   "id": "6b7e6242",
   "metadata": {},
   "outputs": [],
   "source": [
    "df.filter(\n",
    "    (pl.col(\"year_of_sale\").eq(2024)),\n",
    ").sort(\"psf\", descending=True).select(\n",
    "    \"address\", \"sqft\", \"minimum_floor\", \"maximum_floor\", \"flat_type\",\n",
    "    \"price\", \"year_of_sale\", \"month_of_sale\", \"psf\", \"band_name\"\n",
    ")"
   ]
  },
  {
   "cell_type": "code",
   "execution_count": null,
   "id": "f0b4b3a4",
   "metadata": {
    "scrolled": false
   },
   "outputs": [],
   "source": [
    "df_by_sale = df.group_by(\n",
    "    (pl.col(\"year_of_sale\"))\n",
    ").agg(\n",
    "    pl.col(\"address\").len().alias(\"count_transactions\")\n",
    ").sort(\n",
    "    \"year_of_sale\"\n",
    ")\n",
    "display(df_by_sale)"
   ]
  },
  {
   "cell_type": "code",
   "execution_count": null,
   "id": "58a617f1",
   "metadata": {},
   "outputs": [],
   "source": [
    "sns.barplot(\n",
    "    x=df_by_sale.select(\"year_of_sale\").to_numpy().flatten(), \n",
    "    y=df_by_sale.select(\"count_transactions\").to_numpy().flatten()\n",
    ")"
   ]
  },
  {
   "cell_type": "code",
   "execution_count": null,
   "id": "5a7ab144",
   "metadata": {},
   "outputs": [],
   "source": [
    "df_twn = df.filter(\n",
    "    pl.col(\"price_is_geq_one_million\").eq(1),\n",
    "    pl.col(\"year_of_sale\").is_in([2022, 2023, 2024])\n",
    ").group_by(\n",
    "    \"year_of_sale\", \"town\"\n",
    ").agg(\n",
    "    pl.col(\"address\").len().alias(\"count_transactions\")\n",
    ").sort(\n",
    "    \"town\", \"year_of_sale\"\n",
    ")"
   ]
  },
  {
   "cell_type": "code",
   "execution_count": null,
   "id": "5d1248e9",
   "metadata": {},
   "outputs": [],
   "source": [
    "# ... existing code ...\n",
    "\n",
    "plt.figure(figsize=(15, 8))  # Width: 15 inches, Height: 8 inches\n",
    "sns.barplot(\n",
    "    x=df_twn.select(\"town\").to_numpy().flatten(), \n",
    "    y=df_twn.select(\"count_transactions\").to_numpy().flatten(),\n",
    "    hue=df_twn.select(\"year_of_sale\").to_numpy().flatten(),\n",
    ")\n",
    "plt.xticks(rotation=45, ha='right')  # Rotate x-axis labels for better readability"
   ]
  },
  {
   "cell_type": "code",
   "execution_count": null,
   "id": "5c5c2f70",
   "metadata": {},
   "outputs": [],
   "source": []
  }
 ],
 "metadata": {
  "kernelspec": {
   "display_name": "Python 3 (ipykernel)",
   "language": "python",
   "name": "python3"
  },
  "language_info": {
   "codemirror_mode": {
    "name": "ipython",
    "version": 3
   },
   "file_extension": ".py",
   "mimetype": "text/x-python",
   "name": "python",
   "nbconvert_exporter": "python",
   "pygments_lexer": "ipython3",
   "version": "3.10.13"
  }
 },
 "nbformat": 4,
 "nbformat_minor": 5
}
