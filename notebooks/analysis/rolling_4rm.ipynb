{
 "cells": [
  {
   "cell_type": "code",
   "execution_count": 1,
   "id": "11db01a2",
   "metadata": {},
   "outputs": [
    {
     "data": {
      "text/plain": [
       "polars.config.Config"
      ]
     },
     "execution_count": 1,
     "metadata": {},
     "output_type": "execute_result"
    }
   ],
   "source": [
    "import polars as pl\n",
    "pl.Config.set_tbl_rows(50) "
   ]
  },
  {
   "cell_type": "code",
   "execution_count": 2,
   "id": "3f3f96b1",
   "metadata": {},
   "outputs": [],
   "source": [
    "df = pl.read_csv(\"ingested.csv\")"
   ]
  },
  {
   "cell_type": "code",
   "execution_count": 3,
   "id": "30413fab",
   "metadata": {},
   "outputs": [
    {
     "data": {
      "text/html": [
       "<div><style>\n",
       ".dataframe > thead > tr,\n",
       ".dataframe > tbody > tr {\n",
       "  text-align: right;\n",
       "  white-space: pre-wrap;\n",
       "}\n",
       "</style>\n",
       "<small>shape: (20, 17)</small><table border=\"1\" class=\"dataframe\"><thead><tr><th>address</th><th>lease_remaining</th><th>minimum_floor</th><th>maximum_floor</th><th>built_year</th><th>sqft</th><th>sqm</th><th>flat_type</th><th>road</th><th>town</th><th>year_of_sale</th><th>month_of_sale</th><th>months_ago</th><th>price</th><th>psf</th><th>band_name</th><th>price_is_geq_one_million</th></tr><tr><td>str</td><td>i64</td><td>i64</td><td>i64</td><td>i64</td><td>i64</td><td>i64</td><td>str</td><td>str</td><td>str</td><td>i64</td><td>i64</td><td>i64</td><td>i64</td><td>f64</td><td>str</td><td>i64</td></tr></thead><tbody><tr><td>&quot;783B WOODLANDS RISE&quot;</td><td>93</td><td>13</td><td>15</td><td>2018</td><td>1001</td><td>93</td><td>&quot;4 ROOM&quot;</td><td>&quot;WOODLANDS RISE&quot;</td><td>&quot;WOODLANDS&quot;</td><td>2022</td><td>12</td><td>23</td><td>550000</td><td>54945.05</td><td>&quot;90 - 94&quot;</td><td>0</td></tr><tr><td>&quot;403 SIN MING AVENUE&quot;</td><td>61</td><td>10</td><td>12</td><td>1986</td><td>688</td><td>64</td><td>&quot;3 ROOM&quot;</td><td>&quot;SIN MING AVENUE&quot;</td><td>&quot;BISHAN&quot;</td><td>2024</td><td>8</td><td>3</td><td>540000</td><td>78488.37</td><td>&quot;60 - 64&quot;</td><td>0</td></tr><tr><td>&quot;131B KIM TIAN ROAD&quot;</td><td>77</td><td>13</td><td>15</td><td>2002</td><td>968</td><td>90</td><td>&quot;4 ROOM&quot;</td><td>&quot;KIM TIAN ROAD&quot;</td><td>&quot;BUKIT MERAH&quot;</td><td>2024</td><td>8</td><td>3</td><td>895000</td><td>92458.68</td><td>&quot;75 - 79&quot;</td><td>0</td></tr><tr><td>&quot;113A MCNAIR ROAD&quot;</td><td>92</td><td>28</td><td>30</td><td>2017</td><td>1001</td><td>93</td><td>&quot;4 ROOM&quot;</td><td>&quot;MCNAIR ROAD&quot;</td><td>&quot;KALLANG/WHAMPOA&quot;</td><td>2023</td><td>4</td><td>19</td><td>980888</td><td>97990.81</td><td>&quot;90 - 94&quot;</td><td>0</td></tr><tr><td>&quot;103 LENGKONG TIGA&quot;</td><td>64</td><td>1</td><td>3</td><td>1989</td><td>1302</td><td>121</td><td>&quot;5 ROOM&quot;</td><td>&quot;LENGKONG TIGA&quot;</td><td>&quot;BEDOK&quot;</td><td>2023</td><td>2</td><td>21</td><td>735000</td><td>56451.61</td><td>&quot;60 - 64&quot;</td><td>0</td></tr><tr><td>&quot;229 PENDING ROAD&quot;</td><td>63</td><td>7</td><td>9</td><td>1988</td><td>785</td><td>73</td><td>&quot;3 ROOM&quot;</td><td>&quot;PENDING ROAD&quot;</td><td>&quot;BUKIT PANJANG&quot;</td><td>2022</td><td>4</td><td>31</td><td>348000</td><td>44331.21</td><td>&quot;60 - 64&quot;</td><td>0</td></tr><tr><td>&quot;272C JURONG WEST STREET 24&quot;</td><td>78</td><td>4</td><td>6</td><td>2003</td><td>1205</td><td>112</td><td>&quot;5 ROOM&quot;</td><td>&quot;JURONG WEST STREET 24&quot;</td><td>&quot;JURONG WEST&quot;</td><td>2024</td><td>5</td><td>6</td><td>520000</td><td>43153.53</td><td>&quot;75 - 79&quot;</td><td>0</td></tr><tr><td>&quot;154 HOUGANG STREET 11&quot;</td><td>59</td><td>7</td><td>9</td><td>1984</td><td>721</td><td>67</td><td>&quot;3 ROOM&quot;</td><td>&quot;HOUGANG STREET 11&quot;</td><td>&quot;HOUGANG&quot;</td><td>2022</td><td>10</td><td>25</td><td>380000</td><td>52704.58</td><td>&quot;55 - 59&quot;</td><td>0</td></tr><tr><td>&quot;449 BUKIT PANJANG RING ROAD&quot;</td><td>72</td><td>13</td><td>15</td><td>1997</td><td>1087</td><td>101</td><td>&quot;4 ROOM&quot;</td><td>&quot;BUKIT PANJANG RING ROAD&quot;</td><td>&quot;BUKIT PANJANG&quot;</td><td>2023</td><td>3</td><td>20</td><td>480000</td><td>44158.23</td><td>&quot;70 - 74&quot;</td><td>0</td></tr><tr><td>&quot;475D UPPER SERANGOON CRESCENT&quot;</td><td>89</td><td>10</td><td>12</td><td>2014</td><td>990</td><td>92</td><td>&quot;4 ROOM&quot;</td><td>&quot;UPPER SERANGOON CRESCENT&quot;</td><td>&quot;HOUGANG&quot;</td><td>2023</td><td>10</td><td>13</td><td>760000</td><td>76767.68</td><td>&quot;85 - 89&quot;</td><td>0</td></tr><tr><td>&quot;228A COMPASSVALE WALK&quot;</td><td>75</td><td>13</td><td>15</td><td>2000</td><td>1237</td><td>115</td><td>&quot;5 ROOM&quot;</td><td>&quot;COMPASSVALE WALK&quot;</td><td>&quot;SENGKANG&quot;</td><td>2022</td><td>9</td><td>26</td><td>580000</td><td>46887.63</td><td>&quot;75 - 79&quot;</td><td>0</td></tr><tr><td>&quot;40 SIMS DRIVE&quot;</td><td>65</td><td>10</td><td>12</td><td>1990</td><td>1173</td><td>109</td><td>&quot;4 ROOM&quot;</td><td>&quot;SIMS DRIVE&quot;</td><td>&quot;GEYLANG&quot;</td><td>2023</td><td>9</td><td>14</td><td>588000</td><td>50127.88</td><td>&quot;65 - 69&quot;</td><td>0</td></tr><tr><td>&quot;493D TAMPINES STREET 43&quot;</td><td>68</td><td>4</td><td>6</td><td>1993</td><td>1334</td><td>124</td><td>&quot;5 ROOM&quot;</td><td>&quot;TAMPINES STREET 43&quot;</td><td>&quot;TAMPINES&quot;</td><td>2023</td><td>6</td><td>17</td><td>630000</td><td>47226.39</td><td>&quot;65 - 69&quot;</td><td>0</td></tr><tr><td>&quot;364A UPPER SERANGOON ROAD&quot;</td><td>93</td><td>7</td><td>9</td><td>2018</td><td>721</td><td>67</td><td>&quot;3 ROOM&quot;</td><td>&quot;UPPER SERANGOON ROAD&quot;</td><td>&quot;HOUGANG&quot;</td><td>2022</td><td>4</td><td>31</td><td>470000</td><td>65187.24</td><td>&quot;90 - 94&quot;</td><td>0</td></tr><tr><td>&quot;262B COMPASSVALE STREET&quot;</td><td>76</td><td>7</td><td>9</td><td>2001</td><td>1399</td><td>130</td><td>&quot;EXECUTIVE&quot;</td><td>&quot;COMPASSVALE STREET&quot;</td><td>&quot;SENGKANG&quot;</td><td>2022</td><td>5</td><td>30</td><td>720000</td><td>51465.33</td><td>&quot;75 - 79&quot;</td><td>0</td></tr><tr><td>&quot;237 BUKIT PANJANG RING ROAD&quot;</td><td>63</td><td>1</td><td>3</td><td>1988</td><td>1302</td><td>121</td><td>&quot;5 ROOM&quot;</td><td>&quot;BUKIT PANJANG RING ROAD&quot;</td><td>&quot;BUKIT PANJANG&quot;</td><td>2022</td><td>5</td><td>30</td><td>525000</td><td>40322.58</td><td>&quot;60 - 64&quot;</td><td>0</td></tr><tr><td>&quot;419 CHOA CHU KANG AVENUE 4&quot;</td><td>68</td><td>10</td><td>12</td><td>1993</td><td>1614</td><td>150</td><td>&quot;EXECUTIVE&quot;</td><td>&quot;CHOA CHU KANG AVENUE 4&quot;</td><td>&quot;CHOA CHU KANG&quot;</td><td>2024</td><td>6</td><td>5</td><td>818000</td><td>50681.54</td><td>&quot;65 - 69&quot;</td><td>0</td></tr><tr><td>&quot;285C TOH GUAN ROAD&quot;</td><td>73</td><td>10</td><td>12</td><td>1998</td><td>1560</td><td>145</td><td>&quot;EXECUTIVE&quot;</td><td>&quot;TOH GUAN ROAD&quot;</td><td>&quot;JURONG EAST&quot;</td><td>2023</td><td>6</td><td>17</td><td>1018000</td><td>65256.41</td><td>&quot;70 - 74&quot;</td><td>1</td></tr><tr><td>&quot;551 BEDOK NORTH AVENUE 1&quot;</td><td>55</td><td>4</td><td>6</td><td>1980</td><td>721</td><td>67</td><td>&quot;3 ROOM&quot;</td><td>&quot;BEDOK NORTH AVENUE 1&quot;</td><td>&quot;BEDOK&quot;</td><td>2022</td><td>12</td><td>23</td><td>350000</td><td>48543.69</td><td>&quot;55 - 59&quot;</td><td>0</td></tr><tr><td>&quot;397 YISHUN AVENUE 6&quot;</td><td>64</td><td>4</td><td>6</td><td>1989</td><td>785</td><td>73</td><td>&quot;3 ROOM&quot;</td><td>&quot;YISHUN AVENUE 6&quot;</td><td>&quot;YISHUN&quot;</td><td>2023</td><td>8</td><td>15</td><td>385000</td><td>49044.59</td><td>&quot;60 - 64&quot;</td><td>0</td></tr></tbody></table></div>"
      ],
      "text/plain": [
       "shape: (20, 17)\n",
       "┌────────────┬────────────┬───────────┬───────────┬───┬─────────┬──────────┬───────────┬───────────┐\n",
       "│ address    ┆ lease_rema ┆ minimum_f ┆ maximum_f ┆ … ┆ price   ┆ psf      ┆ band_name ┆ price_is_ │\n",
       "│ ---        ┆ ining      ┆ loor      ┆ loor      ┆   ┆ ---     ┆ ---      ┆ ---       ┆ geq_one_m │\n",
       "│ str        ┆ ---        ┆ ---       ┆ ---       ┆   ┆ i64     ┆ f64      ┆ str       ┆ illion    │\n",
       "│            ┆ i64        ┆ i64       ┆ i64       ┆   ┆         ┆          ┆           ┆ ---       │\n",
       "│            ┆            ┆           ┆           ┆   ┆         ┆          ┆           ┆ i64       │\n",
       "╞════════════╪════════════╪═══════════╪═══════════╪═══╪═════════╪══════════╪═══════════╪═══════════╡\n",
       "│ 783B       ┆ 93         ┆ 13        ┆ 15        ┆ … ┆ 550000  ┆ 54945.05 ┆ 90 - 94   ┆ 0         │\n",
       "│ WOODLANDS  ┆            ┆           ┆           ┆   ┆         ┆          ┆           ┆           │\n",
       "│ RISE       ┆            ┆           ┆           ┆   ┆         ┆          ┆           ┆           │\n",
       "│ 403 SIN    ┆ 61         ┆ 10        ┆ 12        ┆ … ┆ 540000  ┆ 78488.37 ┆ 60 - 64   ┆ 0         │\n",
       "│ MING       ┆            ┆           ┆           ┆   ┆         ┆          ┆           ┆           │\n",
       "│ AVENUE     ┆            ┆           ┆           ┆   ┆         ┆          ┆           ┆           │\n",
       "│ 131B KIM   ┆ 77         ┆ 13        ┆ 15        ┆ … ┆ 895000  ┆ 92458.68 ┆ 75 - 79   ┆ 0         │\n",
       "│ TIAN ROAD  ┆            ┆           ┆           ┆   ┆         ┆          ┆           ┆           │\n",
       "│ 113A       ┆ 92         ┆ 28        ┆ 30        ┆ … ┆ 980888  ┆ 97990.81 ┆ 90 - 94   ┆ 0         │\n",
       "│ MCNAIR     ┆            ┆           ┆           ┆   ┆         ┆          ┆           ┆           │\n",
       "│ ROAD       ┆            ┆           ┆           ┆   ┆         ┆          ┆           ┆           │\n",
       "│ 103        ┆ 64         ┆ 1         ┆ 3         ┆ … ┆ 735000  ┆ 56451.61 ┆ 60 - 64   ┆ 0         │\n",
       "│ LENGKONG   ┆            ┆           ┆           ┆   ┆         ┆          ┆           ┆           │\n",
       "│ TIGA       ┆            ┆           ┆           ┆   ┆         ┆          ┆           ┆           │\n",
       "│ 229        ┆ 63         ┆ 7         ┆ 9         ┆ … ┆ 348000  ┆ 44331.21 ┆ 60 - 64   ┆ 0         │\n",
       "│ PENDING    ┆            ┆           ┆           ┆   ┆         ┆          ┆           ┆           │\n",
       "│ ROAD       ┆            ┆           ┆           ┆   ┆         ┆          ┆           ┆           │\n",
       "│ 272C       ┆ 78         ┆ 4         ┆ 6         ┆ … ┆ 520000  ┆ 43153.53 ┆ 75 - 79   ┆ 0         │\n",
       "│ JURONG     ┆            ┆           ┆           ┆   ┆         ┆          ┆           ┆           │\n",
       "│ WEST       ┆            ┆           ┆           ┆   ┆         ┆          ┆           ┆           │\n",
       "│ STREET 24  ┆            ┆           ┆           ┆   ┆         ┆          ┆           ┆           │\n",
       "│ 154        ┆ 59         ┆ 7         ┆ 9         ┆ … ┆ 380000  ┆ 52704.58 ┆ 55 - 59   ┆ 0         │\n",
       "│ HOUGANG    ┆            ┆           ┆           ┆   ┆         ┆          ┆           ┆           │\n",
       "│ STREET 11  ┆            ┆           ┆           ┆   ┆         ┆          ┆           ┆           │\n",
       "│ 449 BUKIT  ┆ 72         ┆ 13        ┆ 15        ┆ … ┆ 480000  ┆ 44158.23 ┆ 70 - 74   ┆ 0         │\n",
       "│ PANJANG    ┆            ┆           ┆           ┆   ┆         ┆          ┆           ┆           │\n",
       "│ RING ROAD  ┆            ┆           ┆           ┆   ┆         ┆          ┆           ┆           │\n",
       "│ 475D UPPER ┆ 89         ┆ 10        ┆ 12        ┆ … ┆ 760000  ┆ 76767.68 ┆ 85 - 89   ┆ 0         │\n",
       "│ SERANGOON  ┆            ┆           ┆           ┆   ┆         ┆          ┆           ┆           │\n",
       "│ CRESCENT   ┆            ┆           ┆           ┆   ┆         ┆          ┆           ┆           │\n",
       "│ 228A COMPA ┆ 75         ┆ 13        ┆ 15        ┆ … ┆ 580000  ┆ 46887.63 ┆ 75 - 79   ┆ 0         │\n",
       "│ SSVALE     ┆            ┆           ┆           ┆   ┆         ┆          ┆           ┆           │\n",
       "│ WALK       ┆            ┆           ┆           ┆   ┆         ┆          ┆           ┆           │\n",
       "│ 40 SIMS    ┆ 65         ┆ 10        ┆ 12        ┆ … ┆ 588000  ┆ 50127.88 ┆ 65 - 69   ┆ 0         │\n",
       "│ DRIVE      ┆            ┆           ┆           ┆   ┆         ┆          ┆           ┆           │\n",
       "│ 493D       ┆ 68         ┆ 4         ┆ 6         ┆ … ┆ 630000  ┆ 47226.39 ┆ 65 - 69   ┆ 0         │\n",
       "│ TAMPINES   ┆            ┆           ┆           ┆   ┆         ┆          ┆           ┆           │\n",
       "│ STREET 43  ┆            ┆           ┆           ┆   ┆         ┆          ┆           ┆           │\n",
       "│ 364A UPPER ┆ 93         ┆ 7         ┆ 9         ┆ … ┆ 470000  ┆ 65187.24 ┆ 90 - 94   ┆ 0         │\n",
       "│ SERANGOON  ┆            ┆           ┆           ┆   ┆         ┆          ┆           ┆           │\n",
       "│ ROAD       ┆            ┆           ┆           ┆   ┆         ┆          ┆           ┆           │\n",
       "│ 262B COMPA ┆ 76         ┆ 7         ┆ 9         ┆ … ┆ 720000  ┆ 51465.33 ┆ 75 - 79   ┆ 0         │\n",
       "│ SSVALE     ┆            ┆           ┆           ┆   ┆         ┆          ┆           ┆           │\n",
       "│ STREET     ┆            ┆           ┆           ┆   ┆         ┆          ┆           ┆           │\n",
       "│ 237 BUKIT  ┆ 63         ┆ 1         ┆ 3         ┆ … ┆ 525000  ┆ 40322.58 ┆ 60 - 64   ┆ 0         │\n",
       "│ PANJANG    ┆            ┆           ┆           ┆   ┆         ┆          ┆           ┆           │\n",
       "│ RING ROAD  ┆            ┆           ┆           ┆   ┆         ┆          ┆           ┆           │\n",
       "│ 419 CHOA   ┆ 68         ┆ 10        ┆ 12        ┆ … ┆ 818000  ┆ 50681.54 ┆ 65 - 69   ┆ 0         │\n",
       "│ CHU KANG   ┆            ┆           ┆           ┆   ┆         ┆          ┆           ┆           │\n",
       "│ AVENUE 4   ┆            ┆           ┆           ┆   ┆         ┆          ┆           ┆           │\n",
       "│ 285C TOH   ┆ 73         ┆ 10        ┆ 12        ┆ … ┆ 1018000 ┆ 65256.41 ┆ 70 - 74   ┆ 1         │\n",
       "│ GUAN ROAD  ┆            ┆           ┆           ┆   ┆         ┆          ┆           ┆           │\n",
       "│ 551 BEDOK  ┆ 55         ┆ 4         ┆ 6         ┆ … ┆ 350000  ┆ 48543.69 ┆ 55 - 59   ┆ 0         │\n",
       "│ NORTH      ┆            ┆           ┆           ┆   ┆         ┆          ┆           ┆           │\n",
       "│ AVENUE 1   ┆            ┆           ┆           ┆   ┆         ┆          ┆           ┆           │\n",
       "│ 397 YISHUN ┆ 64         ┆ 4         ┆ 6         ┆ … ┆ 385000  ┆ 49044.59 ┆ 60 - 64   ┆ 0         │\n",
       "│ AVENUE 6   ┆            ┆           ┆           ┆   ┆         ┆          ┆           ┆           │\n",
       "└────────────┴────────────┴───────────┴───────────┴───┴─────────┴──────────┴───────────┴───────────┘"
      ]
     },
     "metadata": {},
     "output_type": "display_data"
    }
   ],
   "source": [
    "display(df.sample(20))"
   ]
  },
  {
   "cell_type": "code",
   "execution_count": 4,
   "id": "20c4e60c",
   "metadata": {},
   "outputs": [],
   "source": [
    "df_filter = df.filter(\n",
    "    pl.col(\"flat_type\").eq(\"4 ROOM\")\n",
    ")"
   ]
  },
  {
   "cell_type": "code",
   "execution_count": 5,
   "id": "539e959a",
   "metadata": {},
   "outputs": [
    {
     "data": {
      "text/html": [
       "<div><style>\n",
       ".dataframe > thead > tr,\n",
       ".dataframe > tbody > tr {\n",
       "  text-align: right;\n",
       "  white-space: pre-wrap;\n",
       "}\n",
       "</style>\n",
       "<small>shape: (20, 17)</small><table border=\"1\" class=\"dataframe\"><thead><tr><th>address</th><th>lease_remaining</th><th>minimum_floor</th><th>maximum_floor</th><th>built_year</th><th>sqft</th><th>sqm</th><th>flat_type</th><th>road</th><th>town</th><th>year_of_sale</th><th>month_of_sale</th><th>months_ago</th><th>price</th><th>psf</th><th>band_name</th><th>price_is_geq_one_million</th></tr><tr><td>str</td><td>i64</td><td>i64</td><td>i64</td><td>i64</td><td>i64</td><td>i64</td><td>str</td><td>str</td><td>str</td><td>i64</td><td>i64</td><td>i64</td><td>i64</td><td>f64</td><td>str</td><td>i64</td></tr></thead><tbody><tr><td>&quot;508B YISHUN AVENUE 4&quot;</td><td>93</td><td>4</td><td>6</td><td>2018</td><td>1001</td><td>93</td><td>&quot;4 ROOM&quot;</td><td>&quot;YISHUN AVENUE 4&quot;</td><td>&quot;YISHUN&quot;</td><td>2023</td><td>8</td><td>15</td><td>558000</td><td>55744.26</td><td>&quot;90 - 94&quot;</td><td>0</td></tr><tr><td>&quot;127D KIM TIAN ROAD&quot;</td><td>88</td><td>19</td><td>21</td><td>2013</td><td>1001</td><td>93</td><td>&quot;4 ROOM&quot;</td><td>&quot;KIM TIAN ROAD&quot;</td><td>&quot;BUKIT MERAH&quot;</td><td>2024</td><td>3</td><td>8</td><td>938000</td><td>93706.29</td><td>&quot;85 - 89&quot;</td><td>0</td></tr><tr><td>&quot;662A EDGEDALE PLAINS&quot;</td><td>92</td><td>7</td><td>9</td><td>2017</td><td>990</td><td>92</td><td>&quot;4 ROOM&quot;</td><td>&quot;EDGEDALE PLAINS&quot;</td><td>&quot;PUNGGOL&quot;</td><td>2022</td><td>6</td><td>29</td><td>535000</td><td>54040.4</td><td>&quot;90 - 94&quot;</td><td>0</td></tr><tr><td>&quot;842B TAMPINES STREET 82&quot;</td><td>70</td><td>13</td><td>15</td><td>1995</td><td>1151</td><td>107</td><td>&quot;4 ROOM&quot;</td><td>&quot;TAMPINES STREET 82&quot;</td><td>&quot;TAMPINES&quot;</td><td>2023</td><td>2</td><td>21</td><td>630000</td><td>54735.01</td><td>&quot;70 - 74&quot;</td><td>0</td></tr><tr><td>&quot;104B CANBERRA STREET&quot;</td><td>93</td><td>10</td><td>12</td><td>2018</td><td>1001</td><td>93</td><td>&quot;4 ROOM&quot;</td><td>&quot;CANBERRA STREET&quot;</td><td>&quot;SEMBAWANG&quot;</td><td>2023</td><td>4</td><td>19</td><td>588000</td><td>58741.26</td><td>&quot;90 - 94&quot;</td><td>0</td></tr><tr><td>&quot;817B KEAT HONG LINK&quot;</td><td>92</td><td>4</td><td>6</td><td>2017</td><td>990</td><td>92</td><td>&quot;4 ROOM&quot;</td><td>&quot;KEAT HONG LINK&quot;</td><td>&quot;CHOA CHU KANG&quot;</td><td>2023</td><td>11</td><td>12</td><td>515000</td><td>52020.2</td><td>&quot;90 - 94&quot;</td><td>0</td></tr><tr><td>&quot;515 JURONG WEST STREET 52&quot;</td><td>59</td><td>1</td><td>3</td><td>1984</td><td>1151</td><td>107</td><td>&quot;4 ROOM&quot;</td><td>&quot;JURONG WEST STREET 52&quot;</td><td>&quot;JURONG WEST&quot;</td><td>2022</td><td>12</td><td>23</td><td>523000</td><td>45438.75</td><td>&quot;55 - 59&quot;</td><td>0</td></tr><tr><td>&quot;254 SIMEI STREET 1&quot;</td><td>71</td><td>4</td><td>6</td><td>1996</td><td>1054</td><td>98</td><td>&quot;4 ROOM&quot;</td><td>&quot;SIMEI STREET 1&quot;</td><td>&quot;TAMPINES&quot;</td><td>2023</td><td>11</td><td>12</td><td>630000</td><td>59772.3</td><td>&quot;70 - 74&quot;</td><td>0</td></tr><tr><td>&quot;706 CHOA CHU KANG STREET 53&quot;</td><td>70</td><td>4</td><td>6</td><td>1995</td><td>1173</td><td>109</td><td>&quot;4 ROOM&quot;</td><td>&quot;CHOA CHU KANG STREET 53&quot;</td><td>&quot;CHOA CHU KANG&quot;</td><td>2023</td><td>5</td><td>18</td><td>490000</td><td>41773.23</td><td>&quot;70 - 74&quot;</td><td>0</td></tr><tr><td>&quot;148 BEDOK RESERVOIR ROAD&quot;</td><td>62</td><td>4</td><td>6</td><td>1987</td><td>904</td><td>84</td><td>&quot;4 ROOM&quot;</td><td>&quot;BEDOK RESERVOIR ROAD&quot;</td><td>&quot;BEDOK&quot;</td><td>2023</td><td>6</td><td>17</td><td>500000</td><td>55309.73</td><td>&quot;60 - 64&quot;</td><td>0</td></tr><tr><td>&quot;574A WOODLANDS DRIVE 16&quot;</td><td>93</td><td>13</td><td>15</td><td>2018</td><td>1001</td><td>93</td><td>&quot;4 ROOM&quot;</td><td>&quot;WOODLANDS DRIVE 16&quot;</td><td>&quot;WOODLANDS&quot;</td><td>2022</td><td>8</td><td>27</td><td>565000</td><td>56443.56</td><td>&quot;90 - 94&quot;</td><td>0</td></tr><tr><td>&quot;274B COMPASSVALE BOW&quot;</td><td>92</td><td>4</td><td>6</td><td>2017</td><td>990</td><td>92</td><td>&quot;4 ROOM&quot;</td><td>&quot;COMPASSVALE BOW&quot;</td><td>&quot;SENGKANG&quot;</td><td>2023</td><td>11</td><td>12</td><td>698000</td><td>70505.05</td><td>&quot;90 - 94&quot;</td><td>0</td></tr><tr><td>&quot;143 BEDOK RESERVOIR ROAD&quot;</td><td>62</td><td>1</td><td>3</td><td>1987</td><td>1119</td><td>104</td><td>&quot;4 ROOM&quot;</td><td>&quot;BEDOK RESERVOIR ROAD&quot;</td><td>&quot;BEDOK&quot;</td><td>2024</td><td>9</td><td>2</td><td>570000</td><td>50938.34</td><td>&quot;60 - 64&quot;</td><td>0</td></tr><tr><td>&quot;410 COMMONWEALTH AVENUE WEST&quot;</td><td>53</td><td>4</td><td>6</td><td>1978</td><td>1054</td><td>98</td><td>&quot;4 ROOM&quot;</td><td>&quot;COMMONWEALTH AVENUE WEST&quot;</td><td>&quot;CLEMENTI&quot;</td><td>2023</td><td>4</td><td>19</td><td>518000</td><td>49146.11</td><td>&quot;50 - 54&quot;</td><td>0</td></tr><tr><td>&quot;541 HOUGANG AVENUE 8&quot;</td><td>64</td><td>7</td><td>9</td><td>1989</td><td>1119</td><td>104</td><td>&quot;4 ROOM&quot;</td><td>&quot;HOUGANG AVENUE 8&quot;</td><td>&quot;HOUGANG&quot;</td><td>2023</td><td>12</td><td>11</td><td>540000</td><td>48257.37</td><td>&quot;60 - 64&quot;</td><td>0</td></tr><tr><td>&quot;720 TAMPINES STREET 72&quot;</td><td>72</td><td>7</td><td>9</td><td>1997</td><td>1065</td><td>99</td><td>&quot;4 ROOM&quot;</td><td>&quot;TAMPINES STREET 72&quot;</td><td>&quot;TAMPINES&quot;</td><td>2022</td><td>6</td><td>29</td><td>480000</td><td>45070.42</td><td>&quot;70 - 74&quot;</td><td>0</td></tr><tr><td>&quot;366 CORPORATION DRIVE&quot;</td><td>72</td><td>1</td><td>3</td><td>1997</td><td>1097</td><td>102</td><td>&quot;4 ROOM&quot;</td><td>&quot;CORPORATION DRIVE&quot;</td><td>&quot;JURONG WEST&quot;</td><td>2022</td><td>9</td><td>26</td><td>460000</td><td>41932.54</td><td>&quot;70 - 74&quot;</td><td>0</td></tr><tr><td>&quot;457 HOUGANG AVENUE 10&quot;</td><td>67</td><td>10</td><td>12</td><td>1992</td><td>1130</td><td>105</td><td>&quot;4 ROOM&quot;</td><td>&quot;HOUGANG AVENUE 10&quot;</td><td>&quot;HOUGANG&quot;</td><td>2022</td><td>11</td><td>24</td><td>545000</td><td>48230.09</td><td>&quot;65 - 69&quot;</td><td>0</td></tr><tr><td>&quot;249 HOUGANG AVENUE 3&quot;</td><td>60</td><td>4</td><td>6</td><td>1985</td><td>1054</td><td>98</td><td>&quot;4 ROOM&quot;</td><td>&quot;HOUGANG AVENUE 3&quot;</td><td>&quot;HOUGANG&quot;</td><td>2022</td><td>9</td><td>26</td><td>450000</td><td>42694.5</td><td>&quot;60 - 64&quot;</td><td>0</td></tr><tr><td>&quot;272B SENGKANG CENTRAL&quot;</td><td>84</td><td>4</td><td>6</td><td>2009</td><td>968</td><td>90</td><td>&quot;4 ROOM&quot;</td><td>&quot;SENGKANG CENTRAL&quot;</td><td>&quot;SENGKANG&quot;</td><td>2022</td><td>3</td><td>32</td><td>600000</td><td>61983.47</td><td>&quot;80 - 84&quot;</td><td>0</td></tr></tbody></table></div>"
      ],
      "text/plain": [
       "shape: (20, 17)\n",
       "┌────────────┬────────────┬────────────┬───────────┬───┬────────┬──────────┬───────────┬───────────┐\n",
       "│ address    ┆ lease_rema ┆ minimum_fl ┆ maximum_f ┆ … ┆ price  ┆ psf      ┆ band_name ┆ price_is_ │\n",
       "│ ---        ┆ ining      ┆ oor        ┆ loor      ┆   ┆ ---    ┆ ---      ┆ ---       ┆ geq_one_m │\n",
       "│ str        ┆ ---        ┆ ---        ┆ ---       ┆   ┆ i64    ┆ f64      ┆ str       ┆ illion    │\n",
       "│            ┆ i64        ┆ i64        ┆ i64       ┆   ┆        ┆          ┆           ┆ ---       │\n",
       "│            ┆            ┆            ┆           ┆   ┆        ┆          ┆           ┆ i64       │\n",
       "╞════════════╪════════════╪════════════╪═══════════╪═══╪════════╪══════════╪═══════════╪═══════════╡\n",
       "│ 508B       ┆ 93         ┆ 4          ┆ 6         ┆ … ┆ 558000 ┆ 55744.26 ┆ 90 - 94   ┆ 0         │\n",
       "│ YISHUN     ┆            ┆            ┆           ┆   ┆        ┆          ┆           ┆           │\n",
       "│ AVENUE 4   ┆            ┆            ┆           ┆   ┆        ┆          ┆           ┆           │\n",
       "│ 127D KIM   ┆ 88         ┆ 19         ┆ 21        ┆ … ┆ 938000 ┆ 93706.29 ┆ 85 - 89   ┆ 0         │\n",
       "│ TIAN ROAD  ┆            ┆            ┆           ┆   ┆        ┆          ┆           ┆           │\n",
       "│ 662A       ┆ 92         ┆ 7          ┆ 9         ┆ … ┆ 535000 ┆ 54040.4  ┆ 90 - 94   ┆ 0         │\n",
       "│ EDGEDALE   ┆            ┆            ┆           ┆   ┆        ┆          ┆           ┆           │\n",
       "│ PLAINS     ┆            ┆            ┆           ┆   ┆        ┆          ┆           ┆           │\n",
       "│ 842B       ┆ 70         ┆ 13         ┆ 15        ┆ … ┆ 630000 ┆ 54735.01 ┆ 70 - 74   ┆ 0         │\n",
       "│ TAMPINES   ┆            ┆            ┆           ┆   ┆        ┆          ┆           ┆           │\n",
       "│ STREET 82  ┆            ┆            ┆           ┆   ┆        ┆          ┆           ┆           │\n",
       "│ 104B       ┆ 93         ┆ 10         ┆ 12        ┆ … ┆ 588000 ┆ 58741.26 ┆ 90 - 94   ┆ 0         │\n",
       "│ CANBERRA   ┆            ┆            ┆           ┆   ┆        ┆          ┆           ┆           │\n",
       "│ STREET     ┆            ┆            ┆           ┆   ┆        ┆          ┆           ┆           │\n",
       "│ 817B KEAT  ┆ 92         ┆ 4          ┆ 6         ┆ … ┆ 515000 ┆ 52020.2  ┆ 90 - 94   ┆ 0         │\n",
       "│ HONG LINK  ┆            ┆            ┆           ┆   ┆        ┆          ┆           ┆           │\n",
       "│ 515 JURONG ┆ 59         ┆ 1          ┆ 3         ┆ … ┆ 523000 ┆ 45438.75 ┆ 55 - 59   ┆ 0         │\n",
       "│ WEST       ┆            ┆            ┆           ┆   ┆        ┆          ┆           ┆           │\n",
       "│ STREET 52  ┆            ┆            ┆           ┆   ┆        ┆          ┆           ┆           │\n",
       "│ 254 SIMEI  ┆ 71         ┆ 4          ┆ 6         ┆ … ┆ 630000 ┆ 59772.3  ┆ 70 - 74   ┆ 0         │\n",
       "│ STREET 1   ┆            ┆            ┆           ┆   ┆        ┆          ┆           ┆           │\n",
       "│ 706 CHOA   ┆ 70         ┆ 4          ┆ 6         ┆ … ┆ 490000 ┆ 41773.23 ┆ 70 - 74   ┆ 0         │\n",
       "│ CHU KANG   ┆            ┆            ┆           ┆   ┆        ┆          ┆           ┆           │\n",
       "│ STREET 53  ┆            ┆            ┆           ┆   ┆        ┆          ┆           ┆           │\n",
       "│ 148 BEDOK  ┆ 62         ┆ 4          ┆ 6         ┆ … ┆ 500000 ┆ 55309.73 ┆ 60 - 64   ┆ 0         │\n",
       "│ RESERVOIR  ┆            ┆            ┆           ┆   ┆        ┆          ┆           ┆           │\n",
       "│ ROAD       ┆            ┆            ┆           ┆   ┆        ┆          ┆           ┆           │\n",
       "│ 574A       ┆ 93         ┆ 13         ┆ 15        ┆ … ┆ 565000 ┆ 56443.56 ┆ 90 - 94   ┆ 0         │\n",
       "│ WOODLANDS  ┆            ┆            ┆           ┆   ┆        ┆          ┆           ┆           │\n",
       "│ DRIVE 16   ┆            ┆            ┆           ┆   ┆        ┆          ┆           ┆           │\n",
       "│ 274B COMPA ┆ 92         ┆ 4          ┆ 6         ┆ … ┆ 698000 ┆ 70505.05 ┆ 90 - 94   ┆ 0         │\n",
       "│ SSVALE BOW ┆            ┆            ┆           ┆   ┆        ┆          ┆           ┆           │\n",
       "│ 143 BEDOK  ┆ 62         ┆ 1          ┆ 3         ┆ … ┆ 570000 ┆ 50938.34 ┆ 60 - 64   ┆ 0         │\n",
       "│ RESERVOIR  ┆            ┆            ┆           ┆   ┆        ┆          ┆           ┆           │\n",
       "│ ROAD       ┆            ┆            ┆           ┆   ┆        ┆          ┆           ┆           │\n",
       "│ 410 COMMON ┆ 53         ┆ 4          ┆ 6         ┆ … ┆ 518000 ┆ 49146.11 ┆ 50 - 54   ┆ 0         │\n",
       "│ WEALTH     ┆            ┆            ┆           ┆   ┆        ┆          ┆           ┆           │\n",
       "│ AVENUE     ┆            ┆            ┆           ┆   ┆        ┆          ┆           ┆           │\n",
       "│ WEST       ┆            ┆            ┆           ┆   ┆        ┆          ┆           ┆           │\n",
       "│ 541        ┆ 64         ┆ 7          ┆ 9         ┆ … ┆ 540000 ┆ 48257.37 ┆ 60 - 64   ┆ 0         │\n",
       "│ HOUGANG    ┆            ┆            ┆           ┆   ┆        ┆          ┆           ┆           │\n",
       "│ AVENUE 8   ┆            ┆            ┆           ┆   ┆        ┆          ┆           ┆           │\n",
       "│ 720        ┆ 72         ┆ 7          ┆ 9         ┆ … ┆ 480000 ┆ 45070.42 ┆ 70 - 74   ┆ 0         │\n",
       "│ TAMPINES   ┆            ┆            ┆           ┆   ┆        ┆          ┆           ┆           │\n",
       "│ STREET 72  ┆            ┆            ┆           ┆   ┆        ┆          ┆           ┆           │\n",
       "│ 366 CORPOR ┆ 72         ┆ 1          ┆ 3         ┆ … ┆ 460000 ┆ 41932.54 ┆ 70 - 74   ┆ 0         │\n",
       "│ ATION      ┆            ┆            ┆           ┆   ┆        ┆          ┆           ┆           │\n",
       "│ DRIVE      ┆            ┆            ┆           ┆   ┆        ┆          ┆           ┆           │\n",
       "│ 457        ┆ 67         ┆ 10         ┆ 12        ┆ … ┆ 545000 ┆ 48230.09 ┆ 65 - 69   ┆ 0         │\n",
       "│ HOUGANG    ┆            ┆            ┆           ┆   ┆        ┆          ┆           ┆           │\n",
       "│ AVENUE 10  ┆            ┆            ┆           ┆   ┆        ┆          ┆           ┆           │\n",
       "│ 249        ┆ 60         ┆ 4          ┆ 6         ┆ … ┆ 450000 ┆ 42694.5  ┆ 60 - 64   ┆ 0         │\n",
       "│ HOUGANG    ┆            ┆            ┆           ┆   ┆        ┆          ┆           ┆           │\n",
       "│ AVENUE 3   ┆            ┆            ┆           ┆   ┆        ┆          ┆           ┆           │\n",
       "│ 272B       ┆ 84         ┆ 4          ┆ 6         ┆ … ┆ 600000 ┆ 61983.47 ┆ 80 - 84   ┆ 0         │\n",
       "│ SENGKANG   ┆            ┆            ┆           ┆   ┆        ┆          ┆           ┆           │\n",
       "│ CENTRAL    ┆            ┆            ┆           ┆   ┆        ┆          ┆           ┆           │\n",
       "└────────────┴────────────┴────────────┴───────────┴───┴────────┴──────────┴───────────┴───────────┘"
      ]
     },
     "metadata": {},
     "output_type": "display_data"
    }
   ],
   "source": [
    "display(df_filter.sample(20))"
   ]
  },
  {
   "cell_type": "code",
   "execution_count": 6,
   "id": "a6700d72",
   "metadata": {},
   "outputs": [],
   "source": [
    "df_filter = df_filter.select(\n",
    "    (\"flat_type\", \"year_of_sale\", \"month_of_sale\", \"months_ago\", \"price_is_geq_one_million\")\n",
    ")\n"
   ]
  },
  {
   "cell_type": "code",
   "execution_count": 7,
   "id": "1931d8b0",
   "metadata": {},
   "outputs": [
    {
     "data": {
      "text/html": [
       "<div><style>\n",
       ".dataframe > thead > tr,\n",
       ".dataframe > tbody > tr {\n",
       "  text-align: right;\n",
       "  white-space: pre-wrap;\n",
       "}\n",
       "</style>\n",
       "<small>shape: (20, 5)</small><table border=\"1\" class=\"dataframe\"><thead><tr><th>flat_type</th><th>year_of_sale</th><th>month_of_sale</th><th>months_ago</th><th>price_is_geq_one_million</th></tr><tr><td>str</td><td>i64</td><td>i64</td><td>i64</td><td>i64</td></tr></thead><tbody><tr><td>&quot;4 ROOM&quot;</td><td>2022</td><td>1</td><td>34</td><td>0</td></tr><tr><td>&quot;4 ROOM&quot;</td><td>2022</td><td>1</td><td>34</td><td>0</td></tr><tr><td>&quot;4 ROOM&quot;</td><td>2022</td><td>1</td><td>34</td><td>0</td></tr><tr><td>&quot;4 ROOM&quot;</td><td>2022</td><td>1</td><td>34</td><td>0</td></tr><tr><td>&quot;4 ROOM&quot;</td><td>2022</td><td>1</td><td>34</td><td>0</td></tr><tr><td>&quot;4 ROOM&quot;</td><td>2022</td><td>1</td><td>34</td><td>0</td></tr><tr><td>&quot;4 ROOM&quot;</td><td>2022</td><td>1</td><td>34</td><td>0</td></tr><tr><td>&quot;4 ROOM&quot;</td><td>2022</td><td>1</td><td>34</td><td>0</td></tr><tr><td>&quot;4 ROOM&quot;</td><td>2022</td><td>1</td><td>34</td><td>0</td></tr><tr><td>&quot;4 ROOM&quot;</td><td>2022</td><td>1</td><td>34</td><td>0</td></tr><tr><td>&quot;4 ROOM&quot;</td><td>2022</td><td>1</td><td>34</td><td>0</td></tr><tr><td>&quot;4 ROOM&quot;</td><td>2022</td><td>1</td><td>34</td><td>0</td></tr><tr><td>&quot;4 ROOM&quot;</td><td>2022</td><td>1</td><td>34</td><td>0</td></tr><tr><td>&quot;4 ROOM&quot;</td><td>2022</td><td>1</td><td>34</td><td>0</td></tr><tr><td>&quot;4 ROOM&quot;</td><td>2022</td><td>1</td><td>34</td><td>0</td></tr><tr><td>&quot;4 ROOM&quot;</td><td>2022</td><td>1</td><td>34</td><td>0</td></tr><tr><td>&quot;4 ROOM&quot;</td><td>2022</td><td>1</td><td>34</td><td>0</td></tr><tr><td>&quot;4 ROOM&quot;</td><td>2022</td><td>1</td><td>34</td><td>0</td></tr><tr><td>&quot;4 ROOM&quot;</td><td>2022</td><td>1</td><td>34</td><td>0</td></tr><tr><td>&quot;4 ROOM&quot;</td><td>2022</td><td>1</td><td>34</td><td>0</td></tr></tbody></table></div>"
      ],
      "text/plain": [
       "shape: (20, 5)\n",
       "┌───────────┬──────────────┬───────────────┬────────────┬──────────────────────────┐\n",
       "│ flat_type ┆ year_of_sale ┆ month_of_sale ┆ months_ago ┆ price_is_geq_one_million │\n",
       "│ ---       ┆ ---          ┆ ---           ┆ ---        ┆ ---                      │\n",
       "│ str       ┆ i64          ┆ i64           ┆ i64        ┆ i64                      │\n",
       "╞═══════════╪══════════════╪═══════════════╪════════════╪══════════════════════════╡\n",
       "│ 4 ROOM    ┆ 2022         ┆ 1             ┆ 34         ┆ 0                        │\n",
       "│ 4 ROOM    ┆ 2022         ┆ 1             ┆ 34         ┆ 0                        │\n",
       "│ 4 ROOM    ┆ 2022         ┆ 1             ┆ 34         ┆ 0                        │\n",
       "│ 4 ROOM    ┆ 2022         ┆ 1             ┆ 34         ┆ 0                        │\n",
       "│ 4 ROOM    ┆ 2022         ┆ 1             ┆ 34         ┆ 0                        │\n",
       "│ 4 ROOM    ┆ 2022         ┆ 1             ┆ 34         ┆ 0                        │\n",
       "│ 4 ROOM    ┆ 2022         ┆ 1             ┆ 34         ┆ 0                        │\n",
       "│ 4 ROOM    ┆ 2022         ┆ 1             ┆ 34         ┆ 0                        │\n",
       "│ 4 ROOM    ┆ 2022         ┆ 1             ┆ 34         ┆ 0                        │\n",
       "│ 4 ROOM    ┆ 2022         ┆ 1             ┆ 34         ┆ 0                        │\n",
       "│ 4 ROOM    ┆ 2022         ┆ 1             ┆ 34         ┆ 0                        │\n",
       "│ 4 ROOM    ┆ 2022         ┆ 1             ┆ 34         ┆ 0                        │\n",
       "│ 4 ROOM    ┆ 2022         ┆ 1             ┆ 34         ┆ 0                        │\n",
       "│ 4 ROOM    ┆ 2022         ┆ 1             ┆ 34         ┆ 0                        │\n",
       "│ 4 ROOM    ┆ 2022         ┆ 1             ┆ 34         ┆ 0                        │\n",
       "│ 4 ROOM    ┆ 2022         ┆ 1             ┆ 34         ┆ 0                        │\n",
       "│ 4 ROOM    ┆ 2022         ┆ 1             ┆ 34         ┆ 0                        │\n",
       "│ 4 ROOM    ┆ 2022         ┆ 1             ┆ 34         ┆ 0                        │\n",
       "│ 4 ROOM    ┆ 2022         ┆ 1             ┆ 34         ┆ 0                        │\n",
       "│ 4 ROOM    ┆ 2022         ┆ 1             ┆ 34         ┆ 0                        │\n",
       "└───────────┴──────────────┴───────────────┴────────────┴──────────────────────────┘"
      ]
     },
     "metadata": {},
     "output_type": "display_data"
    }
   ],
   "source": [
    "display(df_filter.head(20))"
   ]
  },
  {
   "cell_type": "code",
   "execution_count": 8,
   "id": "e0d1e4b8",
   "metadata": {},
   "outputs": [],
   "source": [
    "dm = df_filter.group_by([\"year_of_sale\", \"flat_type\", \"month_of_sale\", \"months_ago\",]).agg(\n",
    "    pl.col(\"flat_type\").len().alias(\"no_of_flats_sold\"),\n",
    "    pl.col(\"price_is_geq_one_million\").sum().alias(\"no_of_million_dollar_flats_sold\"),    \n",
    ")\n",
    "dm = dm.with_columns([\n",
    "    (pl.col(\"year_of_sale\").cast(str) + \"-\" + pl.col(\"month_of_sale\").cast(str).str.zfill(2)).alias(\"year_month\")\n",
    "])"
   ]
  },
  {
   "cell_type": "code",
   "execution_count": 9,
   "id": "18eee72c",
   "metadata": {
    "scrolled": false
   },
   "outputs": [
    {
     "data": {
      "text/html": [
       "<div><style>\n",
       ".dataframe > thead > tr,\n",
       ".dataframe > tbody > tr {\n",
       "  text-align: right;\n",
       "  white-space: pre-wrap;\n",
       "}\n",
       "</style>\n",
       "<small>shape: (35, 7)</small><table border=\"1\" class=\"dataframe\"><thead><tr><th>year_of_sale</th><th>flat_type</th><th>month_of_sale</th><th>months_ago</th><th>no_of_flats_sold</th><th>no_of_million_dollar_flats_sold</th><th>year_month</th></tr><tr><td>i64</td><td>str</td><td>i64</td><td>i64</td><td>u32</td><td>i64</td><td>str</td></tr></thead><tbody><tr><td>2024</td><td>&quot;4 ROOM&quot;</td><td>11</td><td>0</td><td>79</td><td>7</td><td>&quot;2024-11&quot;</td></tr><tr><td>2024</td><td>&quot;4 ROOM&quot;</td><td>10</td><td>1</td><td>897</td><td>41</td><td>&quot;2024-10&quot;</td></tr><tr><td>2024</td><td>&quot;4 ROOM&quot;</td><td>9</td><td>2</td><td>926</td><td>42</td><td>&quot;2024-09&quot;</td></tr><tr><td>2024</td><td>&quot;4 ROOM&quot;</td><td>8</td><td>3</td><td>1093</td><td>28</td><td>&quot;2024-08&quot;</td></tr><tr><td>2024</td><td>&quot;4 ROOM&quot;</td><td>7</td><td>4</td><td>1357</td><td>56</td><td>&quot;2024-07&quot;</td></tr><tr><td>2024</td><td>&quot;4 ROOM&quot;</td><td>6</td><td>5</td><td>920</td><td>35</td><td>&quot;2024-06&quot;</td></tr><tr><td>2024</td><td>&quot;4 ROOM&quot;</td><td>5</td><td>6</td><td>1050</td><td>18</td><td>&quot;2024-05&quot;</td></tr><tr><td>2024</td><td>&quot;4 ROOM&quot;</td><td>4</td><td>7</td><td>1036</td><td>24</td><td>&quot;2024-04&quot;</td></tr><tr><td>2024</td><td>&quot;4 ROOM&quot;</td><td>3</td><td>8</td><td>864</td><td>18</td><td>&quot;2024-03&quot;</td></tr><tr><td>2024</td><td>&quot;4 ROOM&quot;</td><td>2</td><td>9</td><td>901</td><td>14</td><td>&quot;2024-02&quot;</td></tr><tr><td>2024</td><td>&quot;4 ROOM&quot;</td><td>1</td><td>10</td><td>1159</td><td>19</td><td>&quot;2024-01&quot;</td></tr><tr><td>2023</td><td>&quot;4 ROOM&quot;</td><td>12</td><td>11</td><td>862</td><td>17</td><td>&quot;2023-12&quot;</td></tr><tr><td>2023</td><td>&quot;4 ROOM&quot;</td><td>11</td><td>12</td><td>939</td><td>12</td><td>&quot;2023-11&quot;</td></tr><tr><td>2023</td><td>&quot;4 ROOM&quot;</td><td>10</td><td>13</td><td>1006</td><td>13</td><td>&quot;2023-10&quot;</td></tr><tr><td>2023</td><td>&quot;4 ROOM&quot;</td><td>9</td><td>14</td><td>870</td><td>6</td><td>&quot;2023-09&quot;</td></tr><tr><td>2023</td><td>&quot;4 ROOM&quot;</td><td>8</td><td>15</td><td>1068</td><td>16</td><td>&quot;2023-08&quot;</td></tr><tr><td>2023</td><td>&quot;4 ROOM&quot;</td><td>7</td><td>16</td><td>906</td><td>8</td><td>&quot;2023-07&quot;</td></tr><tr><td>2023</td><td>&quot;4 ROOM&quot;</td><td>6</td><td>17</td><td>848</td><td>12</td><td>&quot;2023-06&quot;</td></tr><tr><td>2023</td><td>&quot;4 ROOM&quot;</td><td>5</td><td>18</td><td>1016</td><td>10</td><td>&quot;2023-05&quot;</td></tr><tr><td>2023</td><td>&quot;4 ROOM&quot;</td><td>4</td><td>19</td><td>1002</td><td>10</td><td>&quot;2023-04&quot;</td></tr><tr><td>2023</td><td>&quot;4 ROOM&quot;</td><td>3</td><td>20</td><td>996</td><td>9</td><td>&quot;2023-03&quot;</td></tr><tr><td>2023</td><td>&quot;4 ROOM&quot;</td><td>2</td><td>21</td><td>770</td><td>5</td><td>&quot;2023-02&quot;</td></tr><tr><td>2023</td><td>&quot;4 ROOM&quot;</td><td>1</td><td>22</td><td>1074</td><td>7</td><td>&quot;2023-01&quot;</td></tr><tr><td>2022</td><td>&quot;4 ROOM&quot;</td><td>12</td><td>23</td><td>995</td><td>5</td><td>&quot;2022-12&quot;</td></tr><tr><td>2022</td><td>&quot;4 ROOM&quot;</td><td>11</td><td>24</td><td>900</td><td>2</td><td>&quot;2022-11&quot;</td></tr><tr><td>2022</td><td>&quot;4 ROOM&quot;</td><td>10</td><td>25</td><td>824</td><td>6</td><td>&quot;2022-10&quot;</td></tr><tr><td>2022</td><td>&quot;4 ROOM&quot;</td><td>9</td><td>26</td><td>1061</td><td>3</td><td>&quot;2022-09&quot;</td></tr><tr><td>2022</td><td>&quot;4 ROOM&quot;</td><td>8</td><td>27</td><td>952</td><td>2</td><td>&quot;2022-08&quot;</td></tr><tr><td>2022</td><td>&quot;4 ROOM&quot;</td><td>7</td><td>28</td><td>990</td><td>1</td><td>&quot;2022-07&quot;</td></tr><tr><td>2022</td><td>&quot;4 ROOM&quot;</td><td>6</td><td>29</td><td>893</td><td>8</td><td>&quot;2022-06&quot;</td></tr><tr><td>2022</td><td>&quot;4 ROOM&quot;</td><td>5</td><td>30</td><td>914</td><td>2</td><td>&quot;2022-05&quot;</td></tr><tr><td>2022</td><td>&quot;4 ROOM&quot;</td><td>4</td><td>31</td><td>987</td><td>2</td><td>&quot;2022-04&quot;</td></tr><tr><td>2022</td><td>&quot;4 ROOM&quot;</td><td>3</td><td>32</td><td>956</td><td>3</td><td>&quot;2022-03&quot;</td></tr><tr><td>2022</td><td>&quot;4 ROOM&quot;</td><td>2</td><td>33</td><td>814</td><td>2</td><td>&quot;2022-02&quot;</td></tr><tr><td>2022</td><td>&quot;4 ROOM&quot;</td><td>1</td><td>34</td><td>1023</td><td>2</td><td>&quot;2022-01&quot;</td></tr></tbody></table></div>"
      ],
      "text/plain": [
       "shape: (35, 7)\n",
       "┌──────────────┬───────────┬───────────────┬────────────┬──────────────┬──────────────┬────────────┐\n",
       "│ year_of_sale ┆ flat_type ┆ month_of_sale ┆ months_ago ┆ no_of_flats_ ┆ no_of_millio ┆ year_month │\n",
       "│ ---          ┆ ---       ┆ ---           ┆ ---        ┆ sold         ┆ n_dollar_fla ┆ ---        │\n",
       "│ i64          ┆ str       ┆ i64           ┆ i64        ┆ ---          ┆ ts_sol…      ┆ str        │\n",
       "│              ┆           ┆               ┆            ┆ u32          ┆ ---          ┆            │\n",
       "│              ┆           ┆               ┆            ┆              ┆ i64          ┆            │\n",
       "╞══════════════╪═══════════╪═══════════════╪════════════╪══════════════╪══════════════╪════════════╡\n",
       "│ 2024         ┆ 4 ROOM    ┆ 11            ┆ 0          ┆ 79           ┆ 7            ┆ 2024-11    │\n",
       "│ 2024         ┆ 4 ROOM    ┆ 10            ┆ 1          ┆ 897          ┆ 41           ┆ 2024-10    │\n",
       "│ 2024         ┆ 4 ROOM    ┆ 9             ┆ 2          ┆ 926          ┆ 42           ┆ 2024-09    │\n",
       "│ 2024         ┆ 4 ROOM    ┆ 8             ┆ 3          ┆ 1093         ┆ 28           ┆ 2024-08    │\n",
       "│ 2024         ┆ 4 ROOM    ┆ 7             ┆ 4          ┆ 1357         ┆ 56           ┆ 2024-07    │\n",
       "│ 2024         ┆ 4 ROOM    ┆ 6             ┆ 5          ┆ 920          ┆ 35           ┆ 2024-06    │\n",
       "│ 2024         ┆ 4 ROOM    ┆ 5             ┆ 6          ┆ 1050         ┆ 18           ┆ 2024-05    │\n",
       "│ 2024         ┆ 4 ROOM    ┆ 4             ┆ 7          ┆ 1036         ┆ 24           ┆ 2024-04    │\n",
       "│ 2024         ┆ 4 ROOM    ┆ 3             ┆ 8          ┆ 864          ┆ 18           ┆ 2024-03    │\n",
       "│ 2024         ┆ 4 ROOM    ┆ 2             ┆ 9          ┆ 901          ┆ 14           ┆ 2024-02    │\n",
       "│ 2024         ┆ 4 ROOM    ┆ 1             ┆ 10         ┆ 1159         ┆ 19           ┆ 2024-01    │\n",
       "│ 2023         ┆ 4 ROOM    ┆ 12            ┆ 11         ┆ 862          ┆ 17           ┆ 2023-12    │\n",
       "│ 2023         ┆ 4 ROOM    ┆ 11            ┆ 12         ┆ 939          ┆ 12           ┆ 2023-11    │\n",
       "│ 2023         ┆ 4 ROOM    ┆ 10            ┆ 13         ┆ 1006         ┆ 13           ┆ 2023-10    │\n",
       "│ 2023         ┆ 4 ROOM    ┆ 9             ┆ 14         ┆ 870          ┆ 6            ┆ 2023-09    │\n",
       "│ 2023         ┆ 4 ROOM    ┆ 8             ┆ 15         ┆ 1068         ┆ 16           ┆ 2023-08    │\n",
       "│ 2023         ┆ 4 ROOM    ┆ 7             ┆ 16         ┆ 906          ┆ 8            ┆ 2023-07    │\n",
       "│ 2023         ┆ 4 ROOM    ┆ 6             ┆ 17         ┆ 848          ┆ 12           ┆ 2023-06    │\n",
       "│ 2023         ┆ 4 ROOM    ┆ 5             ┆ 18         ┆ 1016         ┆ 10           ┆ 2023-05    │\n",
       "│ 2023         ┆ 4 ROOM    ┆ 4             ┆ 19         ┆ 1002         ┆ 10           ┆ 2023-04    │\n",
       "│ 2023         ┆ 4 ROOM    ┆ 3             ┆ 20         ┆ 996          ┆ 9            ┆ 2023-03    │\n",
       "│ 2023         ┆ 4 ROOM    ┆ 2             ┆ 21         ┆ 770          ┆ 5            ┆ 2023-02    │\n",
       "│ 2023         ┆ 4 ROOM    ┆ 1             ┆ 22         ┆ 1074         ┆ 7            ┆ 2023-01    │\n",
       "│ 2022         ┆ 4 ROOM    ┆ 12            ┆ 23         ┆ 995          ┆ 5            ┆ 2022-12    │\n",
       "│ 2022         ┆ 4 ROOM    ┆ 11            ┆ 24         ┆ 900          ┆ 2            ┆ 2022-11    │\n",
       "│ 2022         ┆ 4 ROOM    ┆ 10            ┆ 25         ┆ 824          ┆ 6            ┆ 2022-10    │\n",
       "│ 2022         ┆ 4 ROOM    ┆ 9             ┆ 26         ┆ 1061         ┆ 3            ┆ 2022-09    │\n",
       "│ 2022         ┆ 4 ROOM    ┆ 8             ┆ 27         ┆ 952          ┆ 2            ┆ 2022-08    │\n",
       "│ 2022         ┆ 4 ROOM    ┆ 7             ┆ 28         ┆ 990          ┆ 1            ┆ 2022-07    │\n",
       "│ 2022         ┆ 4 ROOM    ┆ 6             ┆ 29         ┆ 893          ┆ 8            ┆ 2022-06    │\n",
       "│ 2022         ┆ 4 ROOM    ┆ 5             ┆ 30         ┆ 914          ┆ 2            ┆ 2022-05    │\n",
       "│ 2022         ┆ 4 ROOM    ┆ 4             ┆ 31         ┆ 987          ┆ 2            ┆ 2022-04    │\n",
       "│ 2022         ┆ 4 ROOM    ┆ 3             ┆ 32         ┆ 956          ┆ 3            ┆ 2022-03    │\n",
       "│ 2022         ┆ 4 ROOM    ┆ 2             ┆ 33         ┆ 814          ┆ 2            ┆ 2022-02    │\n",
       "│ 2022         ┆ 4 ROOM    ┆ 1             ┆ 34         ┆ 1023         ┆ 2            ┆ 2022-01    │\n",
       "└──────────────┴───────────┴───────────────┴────────────┴──────────────┴──────────────┴────────────┘"
      ]
     },
     "metadata": {},
     "output_type": "display_data"
    }
   ],
   "source": [
    "display(\n",
    "    dm.sort(\"months_ago\", descending=False)\n",
    ")"
   ]
  },
  {
   "cell_type": "code",
   "execution_count": 10,
   "id": "6248310f",
   "metadata": {},
   "outputs": [
    {
     "name": "stdout",
     "output_type": "stream",
     "text": [
      "[30, 31, 32, 33, 34]\n",
      "0 34\n",
      "2024-11 2022-01\n"
     ]
    }
   ],
   "source": [
    "months_ago_list = dm.select(\n",
    "    pl.col(\"months_ago\").unique()\n",
    ").to_numpy().flatten().tolist()\n",
    "start_month_list = dm.with_columns(\n",
    "    pl.col(\"year_month\").unique()\n",
    ").sort(pl.col(\"year_month\"), descending=True).select(\"year_month\").to_numpy().flatten().tolist()\n",
    "start_month_list\n",
    "print(months_ago_list[-5:])\n",
    "min_months_ago, max_months_ago = months_ago_list[0], months_ago_list[-1]\n",
    "print(min_months_ago, max_months_ago)\n",
    "min_start_month, max_start_month = start_month_list[0], start_month_list[-1]\n",
    "print(min_start_month, max_start_month)"
   ]
  },
  {
   "cell_type": "code",
   "execution_count": 11,
   "id": "ac227ebc",
   "metadata": {
    "scrolled": false
   },
   "outputs": [
    {
     "name": "stdout",
     "output_type": "stream",
     "text": [
      "[0, 24, '2024-11', '2022-11']\n"
     ]
    },
    {
     "data": {
      "text/html": [
       "<div><style>\n",
       ".dataframe > thead > tr,\n",
       ".dataframe > tbody > tr {\n",
       "  text-align: right;\n",
       "  white-space: pre-wrap;\n",
       "}\n",
       "</style>\n",
       "<small>shape: (24, 7)</small><table border=\"1\" class=\"dataframe\"><thead><tr><th>year_of_sale</th><th>flat_type</th><th>month_of_sale</th><th>months_ago</th><th>no_of_flats_sold</th><th>no_of_million_dollar_flats_sold</th><th>year_month</th></tr><tr><td>i64</td><td>str</td><td>i64</td><td>i64</td><td>u32</td><td>i64</td><td>str</td></tr></thead><tbody><tr><td>2024</td><td>&quot;4 ROOM&quot;</td><td>11</td><td>0</td><td>79</td><td>7</td><td>&quot;2024-11&quot;</td></tr><tr><td>2024</td><td>&quot;4 ROOM&quot;</td><td>10</td><td>1</td><td>897</td><td>41</td><td>&quot;2024-10&quot;</td></tr><tr><td>2024</td><td>&quot;4 ROOM&quot;</td><td>9</td><td>2</td><td>926</td><td>42</td><td>&quot;2024-09&quot;</td></tr><tr><td>2024</td><td>&quot;4 ROOM&quot;</td><td>8</td><td>3</td><td>1093</td><td>28</td><td>&quot;2024-08&quot;</td></tr><tr><td>2024</td><td>&quot;4 ROOM&quot;</td><td>7</td><td>4</td><td>1357</td><td>56</td><td>&quot;2024-07&quot;</td></tr><tr><td>2024</td><td>&quot;4 ROOM&quot;</td><td>6</td><td>5</td><td>920</td><td>35</td><td>&quot;2024-06&quot;</td></tr><tr><td>2024</td><td>&quot;4 ROOM&quot;</td><td>5</td><td>6</td><td>1050</td><td>18</td><td>&quot;2024-05&quot;</td></tr><tr><td>2024</td><td>&quot;4 ROOM&quot;</td><td>4</td><td>7</td><td>1036</td><td>24</td><td>&quot;2024-04&quot;</td></tr><tr><td>2024</td><td>&quot;4 ROOM&quot;</td><td>3</td><td>8</td><td>864</td><td>18</td><td>&quot;2024-03&quot;</td></tr><tr><td>2024</td><td>&quot;4 ROOM&quot;</td><td>2</td><td>9</td><td>901</td><td>14</td><td>&quot;2024-02&quot;</td></tr><tr><td>2024</td><td>&quot;4 ROOM&quot;</td><td>1</td><td>10</td><td>1159</td><td>19</td><td>&quot;2024-01&quot;</td></tr><tr><td>2023</td><td>&quot;4 ROOM&quot;</td><td>12</td><td>11</td><td>862</td><td>17</td><td>&quot;2023-12&quot;</td></tr><tr><td>2023</td><td>&quot;4 ROOM&quot;</td><td>11</td><td>12</td><td>939</td><td>12</td><td>&quot;2023-11&quot;</td></tr><tr><td>2023</td><td>&quot;4 ROOM&quot;</td><td>10</td><td>13</td><td>1006</td><td>13</td><td>&quot;2023-10&quot;</td></tr><tr><td>2023</td><td>&quot;4 ROOM&quot;</td><td>9</td><td>14</td><td>870</td><td>6</td><td>&quot;2023-09&quot;</td></tr><tr><td>2023</td><td>&quot;4 ROOM&quot;</td><td>8</td><td>15</td><td>1068</td><td>16</td><td>&quot;2023-08&quot;</td></tr><tr><td>2023</td><td>&quot;4 ROOM&quot;</td><td>7</td><td>16</td><td>906</td><td>8</td><td>&quot;2023-07&quot;</td></tr><tr><td>2023</td><td>&quot;4 ROOM&quot;</td><td>6</td><td>17</td><td>848</td><td>12</td><td>&quot;2023-06&quot;</td></tr><tr><td>2023</td><td>&quot;4 ROOM&quot;</td><td>5</td><td>18</td><td>1016</td><td>10</td><td>&quot;2023-05&quot;</td></tr><tr><td>2023</td><td>&quot;4 ROOM&quot;</td><td>4</td><td>19</td><td>1002</td><td>10</td><td>&quot;2023-04&quot;</td></tr><tr><td>2023</td><td>&quot;4 ROOM&quot;</td><td>3</td><td>20</td><td>996</td><td>9</td><td>&quot;2023-03&quot;</td></tr><tr><td>2023</td><td>&quot;4 ROOM&quot;</td><td>2</td><td>21</td><td>770</td><td>5</td><td>&quot;2023-02&quot;</td></tr><tr><td>2023</td><td>&quot;4 ROOM&quot;</td><td>1</td><td>22</td><td>1074</td><td>7</td><td>&quot;2023-01&quot;</td></tr><tr><td>2022</td><td>&quot;4 ROOM&quot;</td><td>12</td><td>23</td><td>995</td><td>5</td><td>&quot;2022-12&quot;</td></tr></tbody></table></div>"
      ],
      "text/plain": [
       "shape: (24, 7)\n",
       "┌──────────────┬───────────┬───────────────┬────────────┬──────────────┬──────────────┬────────────┐\n",
       "│ year_of_sale ┆ flat_type ┆ month_of_sale ┆ months_ago ┆ no_of_flats_ ┆ no_of_millio ┆ year_month │\n",
       "│ ---          ┆ ---       ┆ ---           ┆ ---        ┆ sold         ┆ n_dollar_fla ┆ ---        │\n",
       "│ i64          ┆ str       ┆ i64           ┆ i64        ┆ ---          ┆ ts_sol…      ┆ str        │\n",
       "│              ┆           ┆               ┆            ┆ u32          ┆ ---          ┆            │\n",
       "│              ┆           ┆               ┆            ┆              ┆ i64          ┆            │\n",
       "╞══════════════╪═══════════╪═══════════════╪════════════╪══════════════╪══════════════╪════════════╡\n",
       "│ 2024         ┆ 4 ROOM    ┆ 11            ┆ 0          ┆ 79           ┆ 7            ┆ 2024-11    │\n",
       "│ 2024         ┆ 4 ROOM    ┆ 10            ┆ 1          ┆ 897          ┆ 41           ┆ 2024-10    │\n",
       "│ 2024         ┆ 4 ROOM    ┆ 9             ┆ 2          ┆ 926          ┆ 42           ┆ 2024-09    │\n",
       "│ 2024         ┆ 4 ROOM    ┆ 8             ┆ 3          ┆ 1093         ┆ 28           ┆ 2024-08    │\n",
       "│ 2024         ┆ 4 ROOM    ┆ 7             ┆ 4          ┆ 1357         ┆ 56           ┆ 2024-07    │\n",
       "│ 2024         ┆ 4 ROOM    ┆ 6             ┆ 5          ┆ 920          ┆ 35           ┆ 2024-06    │\n",
       "│ 2024         ┆ 4 ROOM    ┆ 5             ┆ 6          ┆ 1050         ┆ 18           ┆ 2024-05    │\n",
       "│ 2024         ┆ 4 ROOM    ┆ 4             ┆ 7          ┆ 1036         ┆ 24           ┆ 2024-04    │\n",
       "│ 2024         ┆ 4 ROOM    ┆ 3             ┆ 8          ┆ 864          ┆ 18           ┆ 2024-03    │\n",
       "│ 2024         ┆ 4 ROOM    ┆ 2             ┆ 9          ┆ 901          ┆ 14           ┆ 2024-02    │\n",
       "│ 2024         ┆ 4 ROOM    ┆ 1             ┆ 10         ┆ 1159         ┆ 19           ┆ 2024-01    │\n",
       "│ 2023         ┆ 4 ROOM    ┆ 12            ┆ 11         ┆ 862          ┆ 17           ┆ 2023-12    │\n",
       "│ 2023         ┆ 4 ROOM    ┆ 11            ┆ 12         ┆ 939          ┆ 12           ┆ 2023-11    │\n",
       "│ 2023         ┆ 4 ROOM    ┆ 10            ┆ 13         ┆ 1006         ┆ 13           ┆ 2023-10    │\n",
       "│ 2023         ┆ 4 ROOM    ┆ 9             ┆ 14         ┆ 870          ┆ 6            ┆ 2023-09    │\n",
       "│ 2023         ┆ 4 ROOM    ┆ 8             ┆ 15         ┆ 1068         ┆ 16           ┆ 2023-08    │\n",
       "│ 2023         ┆ 4 ROOM    ┆ 7             ┆ 16         ┆ 906          ┆ 8            ┆ 2023-07    │\n",
       "│ 2023         ┆ 4 ROOM    ┆ 6             ┆ 17         ┆ 848          ┆ 12           ┆ 2023-06    │\n",
       "│ 2023         ┆ 4 ROOM    ┆ 5             ┆ 18         ┆ 1016         ┆ 10           ┆ 2023-05    │\n",
       "│ 2023         ┆ 4 ROOM    ┆ 4             ┆ 19         ┆ 1002         ┆ 10           ┆ 2023-04    │\n",
       "│ 2023         ┆ 4 ROOM    ┆ 3             ┆ 20         ┆ 996          ┆ 9            ┆ 2023-03    │\n",
       "│ 2023         ┆ 4 ROOM    ┆ 2             ┆ 21         ┆ 770          ┆ 5            ┆ 2023-02    │\n",
       "│ 2023         ┆ 4 ROOM    ┆ 1             ┆ 22         ┆ 1074         ┆ 7            ┆ 2023-01    │\n",
       "│ 2022         ┆ 4 ROOM    ┆ 12            ┆ 23         ┆ 995          ┆ 5            ┆ 2022-12    │\n",
       "└──────────────┴───────────┴───────────────┴────────────┴──────────────┴──────────────┴────────────┘"
      ]
     },
     "metadata": {},
     "output_type": "display_data"
    },
    {
     "name": "stdout",
     "output_type": "stream",
     "text": [
      "shape: (1, 3)\n",
      "┌──────────────────┬─────────────────────────────────┬─────────────────────────────────┐\n",
      "│ no_of_flats_sold ┆ no_of_million_dollar_flats_sol… ┆ pctage_of_million_dollar_flats… │\n",
      "│ ---              ┆ ---                             ┆ ---                             │\n",
      "│ u32              ┆ i64                             ┆ f64                             │\n",
      "╞══════════════════╪═════════════════════════════════╪═════════════════════════════════╡\n",
      "│ 22634            ┆ 432                             ┆ 0.019086                        │\n",
      "└──────────────────┴─────────────────────────────────┴─────────────────────────────────┘\n",
      "---\n",
      "[1, 25, '2024-10', '2022-10']\n"
     ]
    },
    {
     "data": {
      "text/html": [
       "<div><style>\n",
       ".dataframe > thead > tr,\n",
       ".dataframe > tbody > tr {\n",
       "  text-align: right;\n",
       "  white-space: pre-wrap;\n",
       "}\n",
       "</style>\n",
       "<small>shape: (24, 7)</small><table border=\"1\" class=\"dataframe\"><thead><tr><th>year_of_sale</th><th>flat_type</th><th>month_of_sale</th><th>months_ago</th><th>no_of_flats_sold</th><th>no_of_million_dollar_flats_sold</th><th>year_month</th></tr><tr><td>i64</td><td>str</td><td>i64</td><td>i64</td><td>u32</td><td>i64</td><td>str</td></tr></thead><tbody><tr><td>2024</td><td>&quot;4 ROOM&quot;</td><td>10</td><td>1</td><td>897</td><td>41</td><td>&quot;2024-10&quot;</td></tr><tr><td>2024</td><td>&quot;4 ROOM&quot;</td><td>9</td><td>2</td><td>926</td><td>42</td><td>&quot;2024-09&quot;</td></tr><tr><td>2024</td><td>&quot;4 ROOM&quot;</td><td>8</td><td>3</td><td>1093</td><td>28</td><td>&quot;2024-08&quot;</td></tr><tr><td>2024</td><td>&quot;4 ROOM&quot;</td><td>7</td><td>4</td><td>1357</td><td>56</td><td>&quot;2024-07&quot;</td></tr><tr><td>2024</td><td>&quot;4 ROOM&quot;</td><td>6</td><td>5</td><td>920</td><td>35</td><td>&quot;2024-06&quot;</td></tr><tr><td>2024</td><td>&quot;4 ROOM&quot;</td><td>5</td><td>6</td><td>1050</td><td>18</td><td>&quot;2024-05&quot;</td></tr><tr><td>2024</td><td>&quot;4 ROOM&quot;</td><td>4</td><td>7</td><td>1036</td><td>24</td><td>&quot;2024-04&quot;</td></tr><tr><td>2024</td><td>&quot;4 ROOM&quot;</td><td>3</td><td>8</td><td>864</td><td>18</td><td>&quot;2024-03&quot;</td></tr><tr><td>2024</td><td>&quot;4 ROOM&quot;</td><td>2</td><td>9</td><td>901</td><td>14</td><td>&quot;2024-02&quot;</td></tr><tr><td>2024</td><td>&quot;4 ROOM&quot;</td><td>1</td><td>10</td><td>1159</td><td>19</td><td>&quot;2024-01&quot;</td></tr><tr><td>2023</td><td>&quot;4 ROOM&quot;</td><td>12</td><td>11</td><td>862</td><td>17</td><td>&quot;2023-12&quot;</td></tr><tr><td>2023</td><td>&quot;4 ROOM&quot;</td><td>11</td><td>12</td><td>939</td><td>12</td><td>&quot;2023-11&quot;</td></tr><tr><td>2023</td><td>&quot;4 ROOM&quot;</td><td>10</td><td>13</td><td>1006</td><td>13</td><td>&quot;2023-10&quot;</td></tr><tr><td>2023</td><td>&quot;4 ROOM&quot;</td><td>9</td><td>14</td><td>870</td><td>6</td><td>&quot;2023-09&quot;</td></tr><tr><td>2023</td><td>&quot;4 ROOM&quot;</td><td>8</td><td>15</td><td>1068</td><td>16</td><td>&quot;2023-08&quot;</td></tr><tr><td>2023</td><td>&quot;4 ROOM&quot;</td><td>7</td><td>16</td><td>906</td><td>8</td><td>&quot;2023-07&quot;</td></tr><tr><td>2023</td><td>&quot;4 ROOM&quot;</td><td>6</td><td>17</td><td>848</td><td>12</td><td>&quot;2023-06&quot;</td></tr><tr><td>2023</td><td>&quot;4 ROOM&quot;</td><td>5</td><td>18</td><td>1016</td><td>10</td><td>&quot;2023-05&quot;</td></tr><tr><td>2023</td><td>&quot;4 ROOM&quot;</td><td>4</td><td>19</td><td>1002</td><td>10</td><td>&quot;2023-04&quot;</td></tr><tr><td>2023</td><td>&quot;4 ROOM&quot;</td><td>3</td><td>20</td><td>996</td><td>9</td><td>&quot;2023-03&quot;</td></tr><tr><td>2023</td><td>&quot;4 ROOM&quot;</td><td>2</td><td>21</td><td>770</td><td>5</td><td>&quot;2023-02&quot;</td></tr><tr><td>2023</td><td>&quot;4 ROOM&quot;</td><td>1</td><td>22</td><td>1074</td><td>7</td><td>&quot;2023-01&quot;</td></tr><tr><td>2022</td><td>&quot;4 ROOM&quot;</td><td>12</td><td>23</td><td>995</td><td>5</td><td>&quot;2022-12&quot;</td></tr><tr><td>2022</td><td>&quot;4 ROOM&quot;</td><td>11</td><td>24</td><td>900</td><td>2</td><td>&quot;2022-11&quot;</td></tr></tbody></table></div>"
      ],
      "text/plain": [
       "shape: (24, 7)\n",
       "┌──────────────┬───────────┬───────────────┬────────────┬──────────────┬──────────────┬────────────┐\n",
       "│ year_of_sale ┆ flat_type ┆ month_of_sale ┆ months_ago ┆ no_of_flats_ ┆ no_of_millio ┆ year_month │\n",
       "│ ---          ┆ ---       ┆ ---           ┆ ---        ┆ sold         ┆ n_dollar_fla ┆ ---        │\n",
       "│ i64          ┆ str       ┆ i64           ┆ i64        ┆ ---          ┆ ts_sol…      ┆ str        │\n",
       "│              ┆           ┆               ┆            ┆ u32          ┆ ---          ┆            │\n",
       "│              ┆           ┆               ┆            ┆              ┆ i64          ┆            │\n",
       "╞══════════════╪═══════════╪═══════════════╪════════════╪══════════════╪══════════════╪════════════╡\n",
       "│ 2024         ┆ 4 ROOM    ┆ 10            ┆ 1          ┆ 897          ┆ 41           ┆ 2024-10    │\n",
       "│ 2024         ┆ 4 ROOM    ┆ 9             ┆ 2          ┆ 926          ┆ 42           ┆ 2024-09    │\n",
       "│ 2024         ┆ 4 ROOM    ┆ 8             ┆ 3          ┆ 1093         ┆ 28           ┆ 2024-08    │\n",
       "│ 2024         ┆ 4 ROOM    ┆ 7             ┆ 4          ┆ 1357         ┆ 56           ┆ 2024-07    │\n",
       "│ 2024         ┆ 4 ROOM    ┆ 6             ┆ 5          ┆ 920          ┆ 35           ┆ 2024-06    │\n",
       "│ 2024         ┆ 4 ROOM    ┆ 5             ┆ 6          ┆ 1050         ┆ 18           ┆ 2024-05    │\n",
       "│ 2024         ┆ 4 ROOM    ┆ 4             ┆ 7          ┆ 1036         ┆ 24           ┆ 2024-04    │\n",
       "│ 2024         ┆ 4 ROOM    ┆ 3             ┆ 8          ┆ 864          ┆ 18           ┆ 2024-03    │\n",
       "│ 2024         ┆ 4 ROOM    ┆ 2             ┆ 9          ┆ 901          ┆ 14           ┆ 2024-02    │\n",
       "│ 2024         ┆ 4 ROOM    ┆ 1             ┆ 10         ┆ 1159         ┆ 19           ┆ 2024-01    │\n",
       "│ 2023         ┆ 4 ROOM    ┆ 12            ┆ 11         ┆ 862          ┆ 17           ┆ 2023-12    │\n",
       "│ 2023         ┆ 4 ROOM    ┆ 11            ┆ 12         ┆ 939          ┆ 12           ┆ 2023-11    │\n",
       "│ 2023         ┆ 4 ROOM    ┆ 10            ┆ 13         ┆ 1006         ┆ 13           ┆ 2023-10    │\n",
       "│ 2023         ┆ 4 ROOM    ┆ 9             ┆ 14         ┆ 870          ┆ 6            ┆ 2023-09    │\n",
       "│ 2023         ┆ 4 ROOM    ┆ 8             ┆ 15         ┆ 1068         ┆ 16           ┆ 2023-08    │\n",
       "│ 2023         ┆ 4 ROOM    ┆ 7             ┆ 16         ┆ 906          ┆ 8            ┆ 2023-07    │\n",
       "│ 2023         ┆ 4 ROOM    ┆ 6             ┆ 17         ┆ 848          ┆ 12           ┆ 2023-06    │\n",
       "│ 2023         ┆ 4 ROOM    ┆ 5             ┆ 18         ┆ 1016         ┆ 10           ┆ 2023-05    │\n",
       "│ 2023         ┆ 4 ROOM    ┆ 4             ┆ 19         ┆ 1002         ┆ 10           ┆ 2023-04    │\n",
       "│ 2023         ┆ 4 ROOM    ┆ 3             ┆ 20         ┆ 996          ┆ 9            ┆ 2023-03    │\n",
       "│ 2023         ┆ 4 ROOM    ┆ 2             ┆ 21         ┆ 770          ┆ 5            ┆ 2023-02    │\n",
       "│ 2023         ┆ 4 ROOM    ┆ 1             ┆ 22         ┆ 1074         ┆ 7            ┆ 2023-01    │\n",
       "│ 2022         ┆ 4 ROOM    ┆ 12            ┆ 23         ┆ 995          ┆ 5            ┆ 2022-12    │\n",
       "│ 2022         ┆ 4 ROOM    ┆ 11            ┆ 24         ┆ 900          ┆ 2            ┆ 2022-11    │\n",
       "└──────────────┴───────────┴───────────────┴────────────┴──────────────┴──────────────┴────────────┘"
      ]
     },
     "metadata": {},
     "output_type": "display_data"
    },
    {
     "name": "stdout",
     "output_type": "stream",
     "text": [
      "shape: (1, 3)\n",
      "┌──────────────────┬─────────────────────────────────┬─────────────────────────────────┐\n",
      "│ no_of_flats_sold ┆ no_of_million_dollar_flats_sol… ┆ pctage_of_million_dollar_flats… │\n",
      "│ ---              ┆ ---                             ┆ ---                             │\n",
      "│ u32              ┆ i64                             ┆ f64                             │\n",
      "╞══════════════════╪═════════════════════════════════╪═════════════════════════════════╡\n",
      "│ 23455            ┆ 427                             ┆ 0.018205                        │\n",
      "└──────────────────┴─────────────────────────────────┴─────────────────────────────────┘\n",
      "---\n",
      "[2, 26, '2024-09', '2022-09']\n"
     ]
    },
    {
     "data": {
      "text/html": [
       "<div><style>\n",
       ".dataframe > thead > tr,\n",
       ".dataframe > tbody > tr {\n",
       "  text-align: right;\n",
       "  white-space: pre-wrap;\n",
       "}\n",
       "</style>\n",
       "<small>shape: (24, 7)</small><table border=\"1\" class=\"dataframe\"><thead><tr><th>year_of_sale</th><th>flat_type</th><th>month_of_sale</th><th>months_ago</th><th>no_of_flats_sold</th><th>no_of_million_dollar_flats_sold</th><th>year_month</th></tr><tr><td>i64</td><td>str</td><td>i64</td><td>i64</td><td>u32</td><td>i64</td><td>str</td></tr></thead><tbody><tr><td>2024</td><td>&quot;4 ROOM&quot;</td><td>9</td><td>2</td><td>926</td><td>42</td><td>&quot;2024-09&quot;</td></tr><tr><td>2024</td><td>&quot;4 ROOM&quot;</td><td>8</td><td>3</td><td>1093</td><td>28</td><td>&quot;2024-08&quot;</td></tr><tr><td>2024</td><td>&quot;4 ROOM&quot;</td><td>7</td><td>4</td><td>1357</td><td>56</td><td>&quot;2024-07&quot;</td></tr><tr><td>2024</td><td>&quot;4 ROOM&quot;</td><td>6</td><td>5</td><td>920</td><td>35</td><td>&quot;2024-06&quot;</td></tr><tr><td>2024</td><td>&quot;4 ROOM&quot;</td><td>5</td><td>6</td><td>1050</td><td>18</td><td>&quot;2024-05&quot;</td></tr><tr><td>2024</td><td>&quot;4 ROOM&quot;</td><td>4</td><td>7</td><td>1036</td><td>24</td><td>&quot;2024-04&quot;</td></tr><tr><td>2024</td><td>&quot;4 ROOM&quot;</td><td>3</td><td>8</td><td>864</td><td>18</td><td>&quot;2024-03&quot;</td></tr><tr><td>2024</td><td>&quot;4 ROOM&quot;</td><td>2</td><td>9</td><td>901</td><td>14</td><td>&quot;2024-02&quot;</td></tr><tr><td>2024</td><td>&quot;4 ROOM&quot;</td><td>1</td><td>10</td><td>1159</td><td>19</td><td>&quot;2024-01&quot;</td></tr><tr><td>2023</td><td>&quot;4 ROOM&quot;</td><td>12</td><td>11</td><td>862</td><td>17</td><td>&quot;2023-12&quot;</td></tr><tr><td>2023</td><td>&quot;4 ROOM&quot;</td><td>11</td><td>12</td><td>939</td><td>12</td><td>&quot;2023-11&quot;</td></tr><tr><td>2023</td><td>&quot;4 ROOM&quot;</td><td>10</td><td>13</td><td>1006</td><td>13</td><td>&quot;2023-10&quot;</td></tr><tr><td>2023</td><td>&quot;4 ROOM&quot;</td><td>9</td><td>14</td><td>870</td><td>6</td><td>&quot;2023-09&quot;</td></tr><tr><td>2023</td><td>&quot;4 ROOM&quot;</td><td>8</td><td>15</td><td>1068</td><td>16</td><td>&quot;2023-08&quot;</td></tr><tr><td>2023</td><td>&quot;4 ROOM&quot;</td><td>7</td><td>16</td><td>906</td><td>8</td><td>&quot;2023-07&quot;</td></tr><tr><td>2023</td><td>&quot;4 ROOM&quot;</td><td>6</td><td>17</td><td>848</td><td>12</td><td>&quot;2023-06&quot;</td></tr><tr><td>2023</td><td>&quot;4 ROOM&quot;</td><td>5</td><td>18</td><td>1016</td><td>10</td><td>&quot;2023-05&quot;</td></tr><tr><td>2023</td><td>&quot;4 ROOM&quot;</td><td>4</td><td>19</td><td>1002</td><td>10</td><td>&quot;2023-04&quot;</td></tr><tr><td>2023</td><td>&quot;4 ROOM&quot;</td><td>3</td><td>20</td><td>996</td><td>9</td><td>&quot;2023-03&quot;</td></tr><tr><td>2023</td><td>&quot;4 ROOM&quot;</td><td>2</td><td>21</td><td>770</td><td>5</td><td>&quot;2023-02&quot;</td></tr><tr><td>2023</td><td>&quot;4 ROOM&quot;</td><td>1</td><td>22</td><td>1074</td><td>7</td><td>&quot;2023-01&quot;</td></tr><tr><td>2022</td><td>&quot;4 ROOM&quot;</td><td>12</td><td>23</td><td>995</td><td>5</td><td>&quot;2022-12&quot;</td></tr><tr><td>2022</td><td>&quot;4 ROOM&quot;</td><td>11</td><td>24</td><td>900</td><td>2</td><td>&quot;2022-11&quot;</td></tr><tr><td>2022</td><td>&quot;4 ROOM&quot;</td><td>10</td><td>25</td><td>824</td><td>6</td><td>&quot;2022-10&quot;</td></tr></tbody></table></div>"
      ],
      "text/plain": [
       "shape: (24, 7)\n",
       "┌──────────────┬───────────┬───────────────┬────────────┬──────────────┬──────────────┬────────────┐\n",
       "│ year_of_sale ┆ flat_type ┆ month_of_sale ┆ months_ago ┆ no_of_flats_ ┆ no_of_millio ┆ year_month │\n",
       "│ ---          ┆ ---       ┆ ---           ┆ ---        ┆ sold         ┆ n_dollar_fla ┆ ---        │\n",
       "│ i64          ┆ str       ┆ i64           ┆ i64        ┆ ---          ┆ ts_sol…      ┆ str        │\n",
       "│              ┆           ┆               ┆            ┆ u32          ┆ ---          ┆            │\n",
       "│              ┆           ┆               ┆            ┆              ┆ i64          ┆            │\n",
       "╞══════════════╪═══════════╪═══════════════╪════════════╪══════════════╪══════════════╪════════════╡\n",
       "│ 2024         ┆ 4 ROOM    ┆ 9             ┆ 2          ┆ 926          ┆ 42           ┆ 2024-09    │\n",
       "│ 2024         ┆ 4 ROOM    ┆ 8             ┆ 3          ┆ 1093         ┆ 28           ┆ 2024-08    │\n",
       "│ 2024         ┆ 4 ROOM    ┆ 7             ┆ 4          ┆ 1357         ┆ 56           ┆ 2024-07    │\n",
       "│ 2024         ┆ 4 ROOM    ┆ 6             ┆ 5          ┆ 920          ┆ 35           ┆ 2024-06    │\n",
       "│ 2024         ┆ 4 ROOM    ┆ 5             ┆ 6          ┆ 1050         ┆ 18           ┆ 2024-05    │\n",
       "│ 2024         ┆ 4 ROOM    ┆ 4             ┆ 7          ┆ 1036         ┆ 24           ┆ 2024-04    │\n",
       "│ 2024         ┆ 4 ROOM    ┆ 3             ┆ 8          ┆ 864          ┆ 18           ┆ 2024-03    │\n",
       "│ 2024         ┆ 4 ROOM    ┆ 2             ┆ 9          ┆ 901          ┆ 14           ┆ 2024-02    │\n",
       "│ 2024         ┆ 4 ROOM    ┆ 1             ┆ 10         ┆ 1159         ┆ 19           ┆ 2024-01    │\n",
       "│ 2023         ┆ 4 ROOM    ┆ 12            ┆ 11         ┆ 862          ┆ 17           ┆ 2023-12    │\n",
       "│ 2023         ┆ 4 ROOM    ┆ 11            ┆ 12         ┆ 939          ┆ 12           ┆ 2023-11    │\n",
       "│ 2023         ┆ 4 ROOM    ┆ 10            ┆ 13         ┆ 1006         ┆ 13           ┆ 2023-10    │\n",
       "│ 2023         ┆ 4 ROOM    ┆ 9             ┆ 14         ┆ 870          ┆ 6            ┆ 2023-09    │\n",
       "│ 2023         ┆ 4 ROOM    ┆ 8             ┆ 15         ┆ 1068         ┆ 16           ┆ 2023-08    │\n",
       "│ 2023         ┆ 4 ROOM    ┆ 7             ┆ 16         ┆ 906          ┆ 8            ┆ 2023-07    │\n",
       "│ 2023         ┆ 4 ROOM    ┆ 6             ┆ 17         ┆ 848          ┆ 12           ┆ 2023-06    │\n",
       "│ 2023         ┆ 4 ROOM    ┆ 5             ┆ 18         ┆ 1016         ┆ 10           ┆ 2023-05    │\n",
       "│ 2023         ┆ 4 ROOM    ┆ 4             ┆ 19         ┆ 1002         ┆ 10           ┆ 2023-04    │\n",
       "│ 2023         ┆ 4 ROOM    ┆ 3             ┆ 20         ┆ 996          ┆ 9            ┆ 2023-03    │\n",
       "│ 2023         ┆ 4 ROOM    ┆ 2             ┆ 21         ┆ 770          ┆ 5            ┆ 2023-02    │\n",
       "│ 2023         ┆ 4 ROOM    ┆ 1             ┆ 22         ┆ 1074         ┆ 7            ┆ 2023-01    │\n",
       "│ 2022         ┆ 4 ROOM    ┆ 12            ┆ 23         ┆ 995          ┆ 5            ┆ 2022-12    │\n",
       "│ 2022         ┆ 4 ROOM    ┆ 11            ┆ 24         ┆ 900          ┆ 2            ┆ 2022-11    │\n",
       "│ 2022         ┆ 4 ROOM    ┆ 10            ┆ 25         ┆ 824          ┆ 6            ┆ 2022-10    │\n",
       "└──────────────┴───────────┴───────────────┴────────────┴──────────────┴──────────────┴────────────┘"
      ]
     },
     "metadata": {},
     "output_type": "display_data"
    },
    {
     "name": "stdout",
     "output_type": "stream",
     "text": [
      "shape: (1, 3)\n",
      "┌──────────────────┬─────────────────────────────────┬─────────────────────────────────┐\n",
      "│ no_of_flats_sold ┆ no_of_million_dollar_flats_sol… ┆ pctage_of_million_dollar_flats… │\n",
      "│ ---              ┆ ---                             ┆ ---                             │\n",
      "│ u32              ┆ i64                             ┆ f64                             │\n",
      "╞══════════════════╪═════════════════════════════════╪═════════════════════════════════╡\n",
      "│ 23382            ┆ 392                             ┆ 0.016765                        │\n",
      "└──────────────────┴─────────────────────────────────┴─────────────────────────────────┘\n",
      "---\n",
      "[3, 27, '2024-08', '2022-08']\n"
     ]
    },
    {
     "data": {
      "text/html": [
       "<div><style>\n",
       ".dataframe > thead > tr,\n",
       ".dataframe > tbody > tr {\n",
       "  text-align: right;\n",
       "  white-space: pre-wrap;\n",
       "}\n",
       "</style>\n",
       "<small>shape: (24, 7)</small><table border=\"1\" class=\"dataframe\"><thead><tr><th>year_of_sale</th><th>flat_type</th><th>month_of_sale</th><th>months_ago</th><th>no_of_flats_sold</th><th>no_of_million_dollar_flats_sold</th><th>year_month</th></tr><tr><td>i64</td><td>str</td><td>i64</td><td>i64</td><td>u32</td><td>i64</td><td>str</td></tr></thead><tbody><tr><td>2024</td><td>&quot;4 ROOM&quot;</td><td>8</td><td>3</td><td>1093</td><td>28</td><td>&quot;2024-08&quot;</td></tr><tr><td>2024</td><td>&quot;4 ROOM&quot;</td><td>7</td><td>4</td><td>1357</td><td>56</td><td>&quot;2024-07&quot;</td></tr><tr><td>2024</td><td>&quot;4 ROOM&quot;</td><td>6</td><td>5</td><td>920</td><td>35</td><td>&quot;2024-06&quot;</td></tr><tr><td>2024</td><td>&quot;4 ROOM&quot;</td><td>5</td><td>6</td><td>1050</td><td>18</td><td>&quot;2024-05&quot;</td></tr><tr><td>2024</td><td>&quot;4 ROOM&quot;</td><td>4</td><td>7</td><td>1036</td><td>24</td><td>&quot;2024-04&quot;</td></tr><tr><td>2024</td><td>&quot;4 ROOM&quot;</td><td>3</td><td>8</td><td>864</td><td>18</td><td>&quot;2024-03&quot;</td></tr><tr><td>2024</td><td>&quot;4 ROOM&quot;</td><td>2</td><td>9</td><td>901</td><td>14</td><td>&quot;2024-02&quot;</td></tr><tr><td>2024</td><td>&quot;4 ROOM&quot;</td><td>1</td><td>10</td><td>1159</td><td>19</td><td>&quot;2024-01&quot;</td></tr><tr><td>2023</td><td>&quot;4 ROOM&quot;</td><td>12</td><td>11</td><td>862</td><td>17</td><td>&quot;2023-12&quot;</td></tr><tr><td>2023</td><td>&quot;4 ROOM&quot;</td><td>11</td><td>12</td><td>939</td><td>12</td><td>&quot;2023-11&quot;</td></tr><tr><td>2023</td><td>&quot;4 ROOM&quot;</td><td>10</td><td>13</td><td>1006</td><td>13</td><td>&quot;2023-10&quot;</td></tr><tr><td>2023</td><td>&quot;4 ROOM&quot;</td><td>9</td><td>14</td><td>870</td><td>6</td><td>&quot;2023-09&quot;</td></tr><tr><td>2023</td><td>&quot;4 ROOM&quot;</td><td>8</td><td>15</td><td>1068</td><td>16</td><td>&quot;2023-08&quot;</td></tr><tr><td>2023</td><td>&quot;4 ROOM&quot;</td><td>7</td><td>16</td><td>906</td><td>8</td><td>&quot;2023-07&quot;</td></tr><tr><td>2023</td><td>&quot;4 ROOM&quot;</td><td>6</td><td>17</td><td>848</td><td>12</td><td>&quot;2023-06&quot;</td></tr><tr><td>2023</td><td>&quot;4 ROOM&quot;</td><td>5</td><td>18</td><td>1016</td><td>10</td><td>&quot;2023-05&quot;</td></tr><tr><td>2023</td><td>&quot;4 ROOM&quot;</td><td>4</td><td>19</td><td>1002</td><td>10</td><td>&quot;2023-04&quot;</td></tr><tr><td>2023</td><td>&quot;4 ROOM&quot;</td><td>3</td><td>20</td><td>996</td><td>9</td><td>&quot;2023-03&quot;</td></tr><tr><td>2023</td><td>&quot;4 ROOM&quot;</td><td>2</td><td>21</td><td>770</td><td>5</td><td>&quot;2023-02&quot;</td></tr><tr><td>2023</td><td>&quot;4 ROOM&quot;</td><td>1</td><td>22</td><td>1074</td><td>7</td><td>&quot;2023-01&quot;</td></tr><tr><td>2022</td><td>&quot;4 ROOM&quot;</td><td>12</td><td>23</td><td>995</td><td>5</td><td>&quot;2022-12&quot;</td></tr><tr><td>2022</td><td>&quot;4 ROOM&quot;</td><td>11</td><td>24</td><td>900</td><td>2</td><td>&quot;2022-11&quot;</td></tr><tr><td>2022</td><td>&quot;4 ROOM&quot;</td><td>10</td><td>25</td><td>824</td><td>6</td><td>&quot;2022-10&quot;</td></tr><tr><td>2022</td><td>&quot;4 ROOM&quot;</td><td>9</td><td>26</td><td>1061</td><td>3</td><td>&quot;2022-09&quot;</td></tr></tbody></table></div>"
      ],
      "text/plain": [
       "shape: (24, 7)\n",
       "┌──────────────┬───────────┬───────────────┬────────────┬──────────────┬──────────────┬────────────┐\n",
       "│ year_of_sale ┆ flat_type ┆ month_of_sale ┆ months_ago ┆ no_of_flats_ ┆ no_of_millio ┆ year_month │\n",
       "│ ---          ┆ ---       ┆ ---           ┆ ---        ┆ sold         ┆ n_dollar_fla ┆ ---        │\n",
       "│ i64          ┆ str       ┆ i64           ┆ i64        ┆ ---          ┆ ts_sol…      ┆ str        │\n",
       "│              ┆           ┆               ┆            ┆ u32          ┆ ---          ┆            │\n",
       "│              ┆           ┆               ┆            ┆              ┆ i64          ┆            │\n",
       "╞══════════════╪═══════════╪═══════════════╪════════════╪══════════════╪══════════════╪════════════╡\n",
       "│ 2024         ┆ 4 ROOM    ┆ 8             ┆ 3          ┆ 1093         ┆ 28           ┆ 2024-08    │\n",
       "│ 2024         ┆ 4 ROOM    ┆ 7             ┆ 4          ┆ 1357         ┆ 56           ┆ 2024-07    │\n",
       "│ 2024         ┆ 4 ROOM    ┆ 6             ┆ 5          ┆ 920          ┆ 35           ┆ 2024-06    │\n",
       "│ 2024         ┆ 4 ROOM    ┆ 5             ┆ 6          ┆ 1050         ┆ 18           ┆ 2024-05    │\n",
       "│ 2024         ┆ 4 ROOM    ┆ 4             ┆ 7          ┆ 1036         ┆ 24           ┆ 2024-04    │\n",
       "│ 2024         ┆ 4 ROOM    ┆ 3             ┆ 8          ┆ 864          ┆ 18           ┆ 2024-03    │\n",
       "│ 2024         ┆ 4 ROOM    ┆ 2             ┆ 9          ┆ 901          ┆ 14           ┆ 2024-02    │\n",
       "│ 2024         ┆ 4 ROOM    ┆ 1             ┆ 10         ┆ 1159         ┆ 19           ┆ 2024-01    │\n",
       "│ 2023         ┆ 4 ROOM    ┆ 12            ┆ 11         ┆ 862          ┆ 17           ┆ 2023-12    │\n",
       "│ 2023         ┆ 4 ROOM    ┆ 11            ┆ 12         ┆ 939          ┆ 12           ┆ 2023-11    │\n",
       "│ 2023         ┆ 4 ROOM    ┆ 10            ┆ 13         ┆ 1006         ┆ 13           ┆ 2023-10    │\n",
       "│ 2023         ┆ 4 ROOM    ┆ 9             ┆ 14         ┆ 870          ┆ 6            ┆ 2023-09    │\n",
       "│ 2023         ┆ 4 ROOM    ┆ 8             ┆ 15         ┆ 1068         ┆ 16           ┆ 2023-08    │\n",
       "│ 2023         ┆ 4 ROOM    ┆ 7             ┆ 16         ┆ 906          ┆ 8            ┆ 2023-07    │\n",
       "│ 2023         ┆ 4 ROOM    ┆ 6             ┆ 17         ┆ 848          ┆ 12           ┆ 2023-06    │\n",
       "│ 2023         ┆ 4 ROOM    ┆ 5             ┆ 18         ┆ 1016         ┆ 10           ┆ 2023-05    │\n",
       "│ 2023         ┆ 4 ROOM    ┆ 4             ┆ 19         ┆ 1002         ┆ 10           ┆ 2023-04    │\n",
       "│ 2023         ┆ 4 ROOM    ┆ 3             ┆ 20         ┆ 996          ┆ 9            ┆ 2023-03    │\n",
       "│ 2023         ┆ 4 ROOM    ┆ 2             ┆ 21         ┆ 770          ┆ 5            ┆ 2023-02    │\n",
       "│ 2023         ┆ 4 ROOM    ┆ 1             ┆ 22         ┆ 1074         ┆ 7            ┆ 2023-01    │\n",
       "│ 2022         ┆ 4 ROOM    ┆ 12            ┆ 23         ┆ 995          ┆ 5            ┆ 2022-12    │\n",
       "│ 2022         ┆ 4 ROOM    ┆ 11            ┆ 24         ┆ 900          ┆ 2            ┆ 2022-11    │\n",
       "│ 2022         ┆ 4 ROOM    ┆ 10            ┆ 25         ┆ 824          ┆ 6            ┆ 2022-10    │\n",
       "│ 2022         ┆ 4 ROOM    ┆ 9             ┆ 26         ┆ 1061         ┆ 3            ┆ 2022-09    │\n",
       "└──────────────┴───────────┴───────────────┴────────────┴──────────────┴──────────────┴────────────┘"
      ]
     },
     "metadata": {},
     "output_type": "display_data"
    },
    {
     "name": "stdout",
     "output_type": "stream",
     "text": [
      "shape: (1, 3)\n",
      "┌──────────────────┬─────────────────────────────────┬─────────────────────────────────┐\n",
      "│ no_of_flats_sold ┆ no_of_million_dollar_flats_sol… ┆ pctage_of_million_dollar_flats… │\n",
      "│ ---              ┆ ---                             ┆ ---                             │\n",
      "│ u32              ┆ i64                             ┆ f64                             │\n",
      "╞══════════════════╪═════════════════════════════════╪═════════════════════════════════╡\n",
      "│ 23517            ┆ 353                             ┆ 0.01501                         │\n",
      "└──────────────────┴─────────────────────────────────┴─────────────────────────────────┘\n",
      "---\n",
      "[4, 28, '2024-07', '2022-07']\n"
     ]
    },
    {
     "data": {
      "text/html": [
       "<div><style>\n",
       ".dataframe > thead > tr,\n",
       ".dataframe > tbody > tr {\n",
       "  text-align: right;\n",
       "  white-space: pre-wrap;\n",
       "}\n",
       "</style>\n",
       "<small>shape: (24, 7)</small><table border=\"1\" class=\"dataframe\"><thead><tr><th>year_of_sale</th><th>flat_type</th><th>month_of_sale</th><th>months_ago</th><th>no_of_flats_sold</th><th>no_of_million_dollar_flats_sold</th><th>year_month</th></tr><tr><td>i64</td><td>str</td><td>i64</td><td>i64</td><td>u32</td><td>i64</td><td>str</td></tr></thead><tbody><tr><td>2024</td><td>&quot;4 ROOM&quot;</td><td>7</td><td>4</td><td>1357</td><td>56</td><td>&quot;2024-07&quot;</td></tr><tr><td>2024</td><td>&quot;4 ROOM&quot;</td><td>6</td><td>5</td><td>920</td><td>35</td><td>&quot;2024-06&quot;</td></tr><tr><td>2024</td><td>&quot;4 ROOM&quot;</td><td>5</td><td>6</td><td>1050</td><td>18</td><td>&quot;2024-05&quot;</td></tr><tr><td>2024</td><td>&quot;4 ROOM&quot;</td><td>4</td><td>7</td><td>1036</td><td>24</td><td>&quot;2024-04&quot;</td></tr><tr><td>2024</td><td>&quot;4 ROOM&quot;</td><td>3</td><td>8</td><td>864</td><td>18</td><td>&quot;2024-03&quot;</td></tr><tr><td>2024</td><td>&quot;4 ROOM&quot;</td><td>2</td><td>9</td><td>901</td><td>14</td><td>&quot;2024-02&quot;</td></tr><tr><td>2024</td><td>&quot;4 ROOM&quot;</td><td>1</td><td>10</td><td>1159</td><td>19</td><td>&quot;2024-01&quot;</td></tr><tr><td>2023</td><td>&quot;4 ROOM&quot;</td><td>12</td><td>11</td><td>862</td><td>17</td><td>&quot;2023-12&quot;</td></tr><tr><td>2023</td><td>&quot;4 ROOM&quot;</td><td>11</td><td>12</td><td>939</td><td>12</td><td>&quot;2023-11&quot;</td></tr><tr><td>2023</td><td>&quot;4 ROOM&quot;</td><td>10</td><td>13</td><td>1006</td><td>13</td><td>&quot;2023-10&quot;</td></tr><tr><td>2023</td><td>&quot;4 ROOM&quot;</td><td>9</td><td>14</td><td>870</td><td>6</td><td>&quot;2023-09&quot;</td></tr><tr><td>2023</td><td>&quot;4 ROOM&quot;</td><td>8</td><td>15</td><td>1068</td><td>16</td><td>&quot;2023-08&quot;</td></tr><tr><td>2023</td><td>&quot;4 ROOM&quot;</td><td>7</td><td>16</td><td>906</td><td>8</td><td>&quot;2023-07&quot;</td></tr><tr><td>2023</td><td>&quot;4 ROOM&quot;</td><td>6</td><td>17</td><td>848</td><td>12</td><td>&quot;2023-06&quot;</td></tr><tr><td>2023</td><td>&quot;4 ROOM&quot;</td><td>5</td><td>18</td><td>1016</td><td>10</td><td>&quot;2023-05&quot;</td></tr><tr><td>2023</td><td>&quot;4 ROOM&quot;</td><td>4</td><td>19</td><td>1002</td><td>10</td><td>&quot;2023-04&quot;</td></tr><tr><td>2023</td><td>&quot;4 ROOM&quot;</td><td>3</td><td>20</td><td>996</td><td>9</td><td>&quot;2023-03&quot;</td></tr><tr><td>2023</td><td>&quot;4 ROOM&quot;</td><td>2</td><td>21</td><td>770</td><td>5</td><td>&quot;2023-02&quot;</td></tr><tr><td>2023</td><td>&quot;4 ROOM&quot;</td><td>1</td><td>22</td><td>1074</td><td>7</td><td>&quot;2023-01&quot;</td></tr><tr><td>2022</td><td>&quot;4 ROOM&quot;</td><td>12</td><td>23</td><td>995</td><td>5</td><td>&quot;2022-12&quot;</td></tr><tr><td>2022</td><td>&quot;4 ROOM&quot;</td><td>11</td><td>24</td><td>900</td><td>2</td><td>&quot;2022-11&quot;</td></tr><tr><td>2022</td><td>&quot;4 ROOM&quot;</td><td>10</td><td>25</td><td>824</td><td>6</td><td>&quot;2022-10&quot;</td></tr><tr><td>2022</td><td>&quot;4 ROOM&quot;</td><td>9</td><td>26</td><td>1061</td><td>3</td><td>&quot;2022-09&quot;</td></tr><tr><td>2022</td><td>&quot;4 ROOM&quot;</td><td>8</td><td>27</td><td>952</td><td>2</td><td>&quot;2022-08&quot;</td></tr></tbody></table></div>"
      ],
      "text/plain": [
       "shape: (24, 7)\n",
       "┌──────────────┬───────────┬───────────────┬────────────┬──────────────┬──────────────┬────────────┐\n",
       "│ year_of_sale ┆ flat_type ┆ month_of_sale ┆ months_ago ┆ no_of_flats_ ┆ no_of_millio ┆ year_month │\n",
       "│ ---          ┆ ---       ┆ ---           ┆ ---        ┆ sold         ┆ n_dollar_fla ┆ ---        │\n",
       "│ i64          ┆ str       ┆ i64           ┆ i64        ┆ ---          ┆ ts_sol…      ┆ str        │\n",
       "│              ┆           ┆               ┆            ┆ u32          ┆ ---          ┆            │\n",
       "│              ┆           ┆               ┆            ┆              ┆ i64          ┆            │\n",
       "╞══════════════╪═══════════╪═══════════════╪════════════╪══════════════╪══════════════╪════════════╡\n",
       "│ 2024         ┆ 4 ROOM    ┆ 7             ┆ 4          ┆ 1357         ┆ 56           ┆ 2024-07    │\n",
       "│ 2024         ┆ 4 ROOM    ┆ 6             ┆ 5          ┆ 920          ┆ 35           ┆ 2024-06    │\n",
       "│ 2024         ┆ 4 ROOM    ┆ 5             ┆ 6          ┆ 1050         ┆ 18           ┆ 2024-05    │\n",
       "│ 2024         ┆ 4 ROOM    ┆ 4             ┆ 7          ┆ 1036         ┆ 24           ┆ 2024-04    │\n",
       "│ 2024         ┆ 4 ROOM    ┆ 3             ┆ 8          ┆ 864          ┆ 18           ┆ 2024-03    │\n",
       "│ 2024         ┆ 4 ROOM    ┆ 2             ┆ 9          ┆ 901          ┆ 14           ┆ 2024-02    │\n",
       "│ 2024         ┆ 4 ROOM    ┆ 1             ┆ 10         ┆ 1159         ┆ 19           ┆ 2024-01    │\n",
       "│ 2023         ┆ 4 ROOM    ┆ 12            ┆ 11         ┆ 862          ┆ 17           ┆ 2023-12    │\n",
       "│ 2023         ┆ 4 ROOM    ┆ 11            ┆ 12         ┆ 939          ┆ 12           ┆ 2023-11    │\n",
       "│ 2023         ┆ 4 ROOM    ┆ 10            ┆ 13         ┆ 1006         ┆ 13           ┆ 2023-10    │\n",
       "│ 2023         ┆ 4 ROOM    ┆ 9             ┆ 14         ┆ 870          ┆ 6            ┆ 2023-09    │\n",
       "│ 2023         ┆ 4 ROOM    ┆ 8             ┆ 15         ┆ 1068         ┆ 16           ┆ 2023-08    │\n",
       "│ 2023         ┆ 4 ROOM    ┆ 7             ┆ 16         ┆ 906          ┆ 8            ┆ 2023-07    │\n",
       "│ 2023         ┆ 4 ROOM    ┆ 6             ┆ 17         ┆ 848          ┆ 12           ┆ 2023-06    │\n",
       "│ 2023         ┆ 4 ROOM    ┆ 5             ┆ 18         ┆ 1016         ┆ 10           ┆ 2023-05    │\n",
       "│ 2023         ┆ 4 ROOM    ┆ 4             ┆ 19         ┆ 1002         ┆ 10           ┆ 2023-04    │\n",
       "│ 2023         ┆ 4 ROOM    ┆ 3             ┆ 20         ┆ 996          ┆ 9            ┆ 2023-03    │\n",
       "│ 2023         ┆ 4 ROOM    ┆ 2             ┆ 21         ┆ 770          ┆ 5            ┆ 2023-02    │\n",
       "│ 2023         ┆ 4 ROOM    ┆ 1             ┆ 22         ┆ 1074         ┆ 7            ┆ 2023-01    │\n",
       "│ 2022         ┆ 4 ROOM    ┆ 12            ┆ 23         ┆ 995          ┆ 5            ┆ 2022-12    │\n",
       "│ 2022         ┆ 4 ROOM    ┆ 11            ┆ 24         ┆ 900          ┆ 2            ┆ 2022-11    │\n",
       "│ 2022         ┆ 4 ROOM    ┆ 10            ┆ 25         ┆ 824          ┆ 6            ┆ 2022-10    │\n",
       "│ 2022         ┆ 4 ROOM    ┆ 9             ┆ 26         ┆ 1061         ┆ 3            ┆ 2022-09    │\n",
       "│ 2022         ┆ 4 ROOM    ┆ 8             ┆ 27         ┆ 952          ┆ 2            ┆ 2022-08    │\n",
       "└──────────────┴───────────┴───────────────┴────────────┴──────────────┴──────────────┴────────────┘"
      ]
     },
     "metadata": {},
     "output_type": "display_data"
    },
    {
     "name": "stdout",
     "output_type": "stream",
     "text": [
      "shape: (1, 3)\n",
      "┌──────────────────┬─────────────────────────────────┬─────────────────────────────────┐\n",
      "│ no_of_flats_sold ┆ no_of_million_dollar_flats_sol… ┆ pctage_of_million_dollar_flats… │\n",
      "│ ---              ┆ ---                             ┆ ---                             │\n",
      "│ u32              ┆ i64                             ┆ f64                             │\n",
      "╞══════════════════╪═════════════════════════════════╪═════════════════════════════════╡\n",
      "│ 23376            ┆ 327                             ┆ 0.013989                        │\n",
      "└──────────────────┴─────────────────────────────────┴─────────────────────────────────┘\n",
      "---\n",
      "[5, 29, '2024-06', '2022-06']\n"
     ]
    },
    {
     "data": {
      "text/html": [
       "<div><style>\n",
       ".dataframe > thead > tr,\n",
       ".dataframe > tbody > tr {\n",
       "  text-align: right;\n",
       "  white-space: pre-wrap;\n",
       "}\n",
       "</style>\n",
       "<small>shape: (24, 7)</small><table border=\"1\" class=\"dataframe\"><thead><tr><th>year_of_sale</th><th>flat_type</th><th>month_of_sale</th><th>months_ago</th><th>no_of_flats_sold</th><th>no_of_million_dollar_flats_sold</th><th>year_month</th></tr><tr><td>i64</td><td>str</td><td>i64</td><td>i64</td><td>u32</td><td>i64</td><td>str</td></tr></thead><tbody><tr><td>2024</td><td>&quot;4 ROOM&quot;</td><td>6</td><td>5</td><td>920</td><td>35</td><td>&quot;2024-06&quot;</td></tr><tr><td>2024</td><td>&quot;4 ROOM&quot;</td><td>5</td><td>6</td><td>1050</td><td>18</td><td>&quot;2024-05&quot;</td></tr><tr><td>2024</td><td>&quot;4 ROOM&quot;</td><td>4</td><td>7</td><td>1036</td><td>24</td><td>&quot;2024-04&quot;</td></tr><tr><td>2024</td><td>&quot;4 ROOM&quot;</td><td>3</td><td>8</td><td>864</td><td>18</td><td>&quot;2024-03&quot;</td></tr><tr><td>2024</td><td>&quot;4 ROOM&quot;</td><td>2</td><td>9</td><td>901</td><td>14</td><td>&quot;2024-02&quot;</td></tr><tr><td>2024</td><td>&quot;4 ROOM&quot;</td><td>1</td><td>10</td><td>1159</td><td>19</td><td>&quot;2024-01&quot;</td></tr><tr><td>2023</td><td>&quot;4 ROOM&quot;</td><td>12</td><td>11</td><td>862</td><td>17</td><td>&quot;2023-12&quot;</td></tr><tr><td>2023</td><td>&quot;4 ROOM&quot;</td><td>11</td><td>12</td><td>939</td><td>12</td><td>&quot;2023-11&quot;</td></tr><tr><td>2023</td><td>&quot;4 ROOM&quot;</td><td>10</td><td>13</td><td>1006</td><td>13</td><td>&quot;2023-10&quot;</td></tr><tr><td>2023</td><td>&quot;4 ROOM&quot;</td><td>9</td><td>14</td><td>870</td><td>6</td><td>&quot;2023-09&quot;</td></tr><tr><td>2023</td><td>&quot;4 ROOM&quot;</td><td>8</td><td>15</td><td>1068</td><td>16</td><td>&quot;2023-08&quot;</td></tr><tr><td>2023</td><td>&quot;4 ROOM&quot;</td><td>7</td><td>16</td><td>906</td><td>8</td><td>&quot;2023-07&quot;</td></tr><tr><td>2023</td><td>&quot;4 ROOM&quot;</td><td>6</td><td>17</td><td>848</td><td>12</td><td>&quot;2023-06&quot;</td></tr><tr><td>2023</td><td>&quot;4 ROOM&quot;</td><td>5</td><td>18</td><td>1016</td><td>10</td><td>&quot;2023-05&quot;</td></tr><tr><td>2023</td><td>&quot;4 ROOM&quot;</td><td>4</td><td>19</td><td>1002</td><td>10</td><td>&quot;2023-04&quot;</td></tr><tr><td>2023</td><td>&quot;4 ROOM&quot;</td><td>3</td><td>20</td><td>996</td><td>9</td><td>&quot;2023-03&quot;</td></tr><tr><td>2023</td><td>&quot;4 ROOM&quot;</td><td>2</td><td>21</td><td>770</td><td>5</td><td>&quot;2023-02&quot;</td></tr><tr><td>2023</td><td>&quot;4 ROOM&quot;</td><td>1</td><td>22</td><td>1074</td><td>7</td><td>&quot;2023-01&quot;</td></tr><tr><td>2022</td><td>&quot;4 ROOM&quot;</td><td>12</td><td>23</td><td>995</td><td>5</td><td>&quot;2022-12&quot;</td></tr><tr><td>2022</td><td>&quot;4 ROOM&quot;</td><td>11</td><td>24</td><td>900</td><td>2</td><td>&quot;2022-11&quot;</td></tr><tr><td>2022</td><td>&quot;4 ROOM&quot;</td><td>10</td><td>25</td><td>824</td><td>6</td><td>&quot;2022-10&quot;</td></tr><tr><td>2022</td><td>&quot;4 ROOM&quot;</td><td>9</td><td>26</td><td>1061</td><td>3</td><td>&quot;2022-09&quot;</td></tr><tr><td>2022</td><td>&quot;4 ROOM&quot;</td><td>8</td><td>27</td><td>952</td><td>2</td><td>&quot;2022-08&quot;</td></tr><tr><td>2022</td><td>&quot;4 ROOM&quot;</td><td>7</td><td>28</td><td>990</td><td>1</td><td>&quot;2022-07&quot;</td></tr></tbody></table></div>"
      ],
      "text/plain": [
       "shape: (24, 7)\n",
       "┌──────────────┬───────────┬───────────────┬────────────┬──────────────┬──────────────┬────────────┐\n",
       "│ year_of_sale ┆ flat_type ┆ month_of_sale ┆ months_ago ┆ no_of_flats_ ┆ no_of_millio ┆ year_month │\n",
       "│ ---          ┆ ---       ┆ ---           ┆ ---        ┆ sold         ┆ n_dollar_fla ┆ ---        │\n",
       "│ i64          ┆ str       ┆ i64           ┆ i64        ┆ ---          ┆ ts_sol…      ┆ str        │\n",
       "│              ┆           ┆               ┆            ┆ u32          ┆ ---          ┆            │\n",
       "│              ┆           ┆               ┆            ┆              ┆ i64          ┆            │\n",
       "╞══════════════╪═══════════╪═══════════════╪════════════╪══════════════╪══════════════╪════════════╡\n",
       "│ 2024         ┆ 4 ROOM    ┆ 6             ┆ 5          ┆ 920          ┆ 35           ┆ 2024-06    │\n",
       "│ 2024         ┆ 4 ROOM    ┆ 5             ┆ 6          ┆ 1050         ┆ 18           ┆ 2024-05    │\n",
       "│ 2024         ┆ 4 ROOM    ┆ 4             ┆ 7          ┆ 1036         ┆ 24           ┆ 2024-04    │\n",
       "│ 2024         ┆ 4 ROOM    ┆ 3             ┆ 8          ┆ 864          ┆ 18           ┆ 2024-03    │\n",
       "│ 2024         ┆ 4 ROOM    ┆ 2             ┆ 9          ┆ 901          ┆ 14           ┆ 2024-02    │\n",
       "│ 2024         ┆ 4 ROOM    ┆ 1             ┆ 10         ┆ 1159         ┆ 19           ┆ 2024-01    │\n",
       "│ 2023         ┆ 4 ROOM    ┆ 12            ┆ 11         ┆ 862          ┆ 17           ┆ 2023-12    │\n",
       "│ 2023         ┆ 4 ROOM    ┆ 11            ┆ 12         ┆ 939          ┆ 12           ┆ 2023-11    │\n",
       "│ 2023         ┆ 4 ROOM    ┆ 10            ┆ 13         ┆ 1006         ┆ 13           ┆ 2023-10    │\n",
       "│ 2023         ┆ 4 ROOM    ┆ 9             ┆ 14         ┆ 870          ┆ 6            ┆ 2023-09    │\n",
       "│ 2023         ┆ 4 ROOM    ┆ 8             ┆ 15         ┆ 1068         ┆ 16           ┆ 2023-08    │\n",
       "│ 2023         ┆ 4 ROOM    ┆ 7             ┆ 16         ┆ 906          ┆ 8            ┆ 2023-07    │\n",
       "│ 2023         ┆ 4 ROOM    ┆ 6             ┆ 17         ┆ 848          ┆ 12           ┆ 2023-06    │\n",
       "│ 2023         ┆ 4 ROOM    ┆ 5             ┆ 18         ┆ 1016         ┆ 10           ┆ 2023-05    │\n",
       "│ 2023         ┆ 4 ROOM    ┆ 4             ┆ 19         ┆ 1002         ┆ 10           ┆ 2023-04    │\n",
       "│ 2023         ┆ 4 ROOM    ┆ 3             ┆ 20         ┆ 996          ┆ 9            ┆ 2023-03    │\n",
       "│ 2023         ┆ 4 ROOM    ┆ 2             ┆ 21         ┆ 770          ┆ 5            ┆ 2023-02    │\n",
       "│ 2023         ┆ 4 ROOM    ┆ 1             ┆ 22         ┆ 1074         ┆ 7            ┆ 2023-01    │\n",
       "│ 2022         ┆ 4 ROOM    ┆ 12            ┆ 23         ┆ 995          ┆ 5            ┆ 2022-12    │\n",
       "│ 2022         ┆ 4 ROOM    ┆ 11            ┆ 24         ┆ 900          ┆ 2            ┆ 2022-11    │\n",
       "│ 2022         ┆ 4 ROOM    ┆ 10            ┆ 25         ┆ 824          ┆ 6            ┆ 2022-10    │\n",
       "│ 2022         ┆ 4 ROOM    ┆ 9             ┆ 26         ┆ 1061         ┆ 3            ┆ 2022-09    │\n",
       "│ 2022         ┆ 4 ROOM    ┆ 8             ┆ 27         ┆ 952          ┆ 2            ┆ 2022-08    │\n",
       "│ 2022         ┆ 4 ROOM    ┆ 7             ┆ 28         ┆ 990          ┆ 1            ┆ 2022-07    │\n",
       "└──────────────┴───────────┴───────────────┴────────────┴──────────────┴──────────────┴────────────┘"
      ]
     },
     "metadata": {},
     "output_type": "display_data"
    },
    {
     "name": "stdout",
     "output_type": "stream",
     "text": [
      "shape: (1, 3)\n",
      "┌──────────────────┬─────────────────────────────────┬─────────────────────────────────┐\n",
      "│ no_of_flats_sold ┆ no_of_million_dollar_flats_sol… ┆ pctage_of_million_dollar_flats… │\n",
      "│ ---              ┆ ---                             ┆ ---                             │\n",
      "│ u32              ┆ i64                             ┆ f64                             │\n",
      "╞══════════════════╪═════════════════════════════════╪═════════════════════════════════╡\n",
      "│ 23009            ┆ 272                             ┆ 0.011821                        │\n",
      "└──────────────────┴─────────────────────────────────┴─────────────────────────────────┘\n",
      "---\n",
      "[6, 30, '2024-05', '2022-05']\n"
     ]
    },
    {
     "data": {
      "text/html": [
       "<div><style>\n",
       ".dataframe > thead > tr,\n",
       ".dataframe > tbody > tr {\n",
       "  text-align: right;\n",
       "  white-space: pre-wrap;\n",
       "}\n",
       "</style>\n",
       "<small>shape: (24, 7)</small><table border=\"1\" class=\"dataframe\"><thead><tr><th>year_of_sale</th><th>flat_type</th><th>month_of_sale</th><th>months_ago</th><th>no_of_flats_sold</th><th>no_of_million_dollar_flats_sold</th><th>year_month</th></tr><tr><td>i64</td><td>str</td><td>i64</td><td>i64</td><td>u32</td><td>i64</td><td>str</td></tr></thead><tbody><tr><td>2024</td><td>&quot;4 ROOM&quot;</td><td>5</td><td>6</td><td>1050</td><td>18</td><td>&quot;2024-05&quot;</td></tr><tr><td>2024</td><td>&quot;4 ROOM&quot;</td><td>4</td><td>7</td><td>1036</td><td>24</td><td>&quot;2024-04&quot;</td></tr><tr><td>2024</td><td>&quot;4 ROOM&quot;</td><td>3</td><td>8</td><td>864</td><td>18</td><td>&quot;2024-03&quot;</td></tr><tr><td>2024</td><td>&quot;4 ROOM&quot;</td><td>2</td><td>9</td><td>901</td><td>14</td><td>&quot;2024-02&quot;</td></tr><tr><td>2024</td><td>&quot;4 ROOM&quot;</td><td>1</td><td>10</td><td>1159</td><td>19</td><td>&quot;2024-01&quot;</td></tr><tr><td>2023</td><td>&quot;4 ROOM&quot;</td><td>12</td><td>11</td><td>862</td><td>17</td><td>&quot;2023-12&quot;</td></tr><tr><td>2023</td><td>&quot;4 ROOM&quot;</td><td>11</td><td>12</td><td>939</td><td>12</td><td>&quot;2023-11&quot;</td></tr><tr><td>2023</td><td>&quot;4 ROOM&quot;</td><td>10</td><td>13</td><td>1006</td><td>13</td><td>&quot;2023-10&quot;</td></tr><tr><td>2023</td><td>&quot;4 ROOM&quot;</td><td>9</td><td>14</td><td>870</td><td>6</td><td>&quot;2023-09&quot;</td></tr><tr><td>2023</td><td>&quot;4 ROOM&quot;</td><td>8</td><td>15</td><td>1068</td><td>16</td><td>&quot;2023-08&quot;</td></tr><tr><td>2023</td><td>&quot;4 ROOM&quot;</td><td>7</td><td>16</td><td>906</td><td>8</td><td>&quot;2023-07&quot;</td></tr><tr><td>2023</td><td>&quot;4 ROOM&quot;</td><td>6</td><td>17</td><td>848</td><td>12</td><td>&quot;2023-06&quot;</td></tr><tr><td>2023</td><td>&quot;4 ROOM&quot;</td><td>5</td><td>18</td><td>1016</td><td>10</td><td>&quot;2023-05&quot;</td></tr><tr><td>2023</td><td>&quot;4 ROOM&quot;</td><td>4</td><td>19</td><td>1002</td><td>10</td><td>&quot;2023-04&quot;</td></tr><tr><td>2023</td><td>&quot;4 ROOM&quot;</td><td>3</td><td>20</td><td>996</td><td>9</td><td>&quot;2023-03&quot;</td></tr><tr><td>2023</td><td>&quot;4 ROOM&quot;</td><td>2</td><td>21</td><td>770</td><td>5</td><td>&quot;2023-02&quot;</td></tr><tr><td>2023</td><td>&quot;4 ROOM&quot;</td><td>1</td><td>22</td><td>1074</td><td>7</td><td>&quot;2023-01&quot;</td></tr><tr><td>2022</td><td>&quot;4 ROOM&quot;</td><td>12</td><td>23</td><td>995</td><td>5</td><td>&quot;2022-12&quot;</td></tr><tr><td>2022</td><td>&quot;4 ROOM&quot;</td><td>11</td><td>24</td><td>900</td><td>2</td><td>&quot;2022-11&quot;</td></tr><tr><td>2022</td><td>&quot;4 ROOM&quot;</td><td>10</td><td>25</td><td>824</td><td>6</td><td>&quot;2022-10&quot;</td></tr><tr><td>2022</td><td>&quot;4 ROOM&quot;</td><td>9</td><td>26</td><td>1061</td><td>3</td><td>&quot;2022-09&quot;</td></tr><tr><td>2022</td><td>&quot;4 ROOM&quot;</td><td>8</td><td>27</td><td>952</td><td>2</td><td>&quot;2022-08&quot;</td></tr><tr><td>2022</td><td>&quot;4 ROOM&quot;</td><td>7</td><td>28</td><td>990</td><td>1</td><td>&quot;2022-07&quot;</td></tr><tr><td>2022</td><td>&quot;4 ROOM&quot;</td><td>6</td><td>29</td><td>893</td><td>8</td><td>&quot;2022-06&quot;</td></tr></tbody></table></div>"
      ],
      "text/plain": [
       "shape: (24, 7)\n",
       "┌──────────────┬───────────┬───────────────┬────────────┬──────────────┬──────────────┬────────────┐\n",
       "│ year_of_sale ┆ flat_type ┆ month_of_sale ┆ months_ago ┆ no_of_flats_ ┆ no_of_millio ┆ year_month │\n",
       "│ ---          ┆ ---       ┆ ---           ┆ ---        ┆ sold         ┆ n_dollar_fla ┆ ---        │\n",
       "│ i64          ┆ str       ┆ i64           ┆ i64        ┆ ---          ┆ ts_sol…      ┆ str        │\n",
       "│              ┆           ┆               ┆            ┆ u32          ┆ ---          ┆            │\n",
       "│              ┆           ┆               ┆            ┆              ┆ i64          ┆            │\n",
       "╞══════════════╪═══════════╪═══════════════╪════════════╪══════════════╪══════════════╪════════════╡\n",
       "│ 2024         ┆ 4 ROOM    ┆ 5             ┆ 6          ┆ 1050         ┆ 18           ┆ 2024-05    │\n",
       "│ 2024         ┆ 4 ROOM    ┆ 4             ┆ 7          ┆ 1036         ┆ 24           ┆ 2024-04    │\n",
       "│ 2024         ┆ 4 ROOM    ┆ 3             ┆ 8          ┆ 864          ┆ 18           ┆ 2024-03    │\n",
       "│ 2024         ┆ 4 ROOM    ┆ 2             ┆ 9          ┆ 901          ┆ 14           ┆ 2024-02    │\n",
       "│ 2024         ┆ 4 ROOM    ┆ 1             ┆ 10         ┆ 1159         ┆ 19           ┆ 2024-01    │\n",
       "│ 2023         ┆ 4 ROOM    ┆ 12            ┆ 11         ┆ 862          ┆ 17           ┆ 2023-12    │\n",
       "│ 2023         ┆ 4 ROOM    ┆ 11            ┆ 12         ┆ 939          ┆ 12           ┆ 2023-11    │\n",
       "│ 2023         ┆ 4 ROOM    ┆ 10            ┆ 13         ┆ 1006         ┆ 13           ┆ 2023-10    │\n",
       "│ 2023         ┆ 4 ROOM    ┆ 9             ┆ 14         ┆ 870          ┆ 6            ┆ 2023-09    │\n",
       "│ 2023         ┆ 4 ROOM    ┆ 8             ┆ 15         ┆ 1068         ┆ 16           ┆ 2023-08    │\n",
       "│ 2023         ┆ 4 ROOM    ┆ 7             ┆ 16         ┆ 906          ┆ 8            ┆ 2023-07    │\n",
       "│ 2023         ┆ 4 ROOM    ┆ 6             ┆ 17         ┆ 848          ┆ 12           ┆ 2023-06    │\n",
       "│ 2023         ┆ 4 ROOM    ┆ 5             ┆ 18         ┆ 1016         ┆ 10           ┆ 2023-05    │\n",
       "│ 2023         ┆ 4 ROOM    ┆ 4             ┆ 19         ┆ 1002         ┆ 10           ┆ 2023-04    │\n",
       "│ 2023         ┆ 4 ROOM    ┆ 3             ┆ 20         ┆ 996          ┆ 9            ┆ 2023-03    │\n",
       "│ 2023         ┆ 4 ROOM    ┆ 2             ┆ 21         ┆ 770          ┆ 5            ┆ 2023-02    │\n",
       "│ 2023         ┆ 4 ROOM    ┆ 1             ┆ 22         ┆ 1074         ┆ 7            ┆ 2023-01    │\n",
       "│ 2022         ┆ 4 ROOM    ┆ 12            ┆ 23         ┆ 995          ┆ 5            ┆ 2022-12    │\n",
       "│ 2022         ┆ 4 ROOM    ┆ 11            ┆ 24         ┆ 900          ┆ 2            ┆ 2022-11    │\n",
       "│ 2022         ┆ 4 ROOM    ┆ 10            ┆ 25         ┆ 824          ┆ 6            ┆ 2022-10    │\n",
       "│ 2022         ┆ 4 ROOM    ┆ 9             ┆ 26         ┆ 1061         ┆ 3            ┆ 2022-09    │\n",
       "│ 2022         ┆ 4 ROOM    ┆ 8             ┆ 27         ┆ 952          ┆ 2            ┆ 2022-08    │\n",
       "│ 2022         ┆ 4 ROOM    ┆ 7             ┆ 28         ┆ 990          ┆ 1            ┆ 2022-07    │\n",
       "│ 2022         ┆ 4 ROOM    ┆ 6             ┆ 29         ┆ 893          ┆ 8            ┆ 2022-06    │\n",
       "└──────────────┴───────────┴───────────────┴────────────┴──────────────┴──────────────┴────────────┘"
      ]
     },
     "metadata": {},
     "output_type": "display_data"
    },
    {
     "name": "stdout",
     "output_type": "stream",
     "text": [
      "shape: (1, 3)\n",
      "┌──────────────────┬─────────────────────────────────┬─────────────────────────────────┐\n",
      "│ no_of_flats_sold ┆ no_of_million_dollar_flats_sol… ┆ pctage_of_million_dollar_flats… │\n",
      "│ ---              ┆ ---                             ┆ ---                             │\n",
      "│ u32              ┆ i64                             ┆ f64                             │\n",
      "╞══════════════════╪═════════════════════════════════╪═════════════════════════════════╡\n",
      "│ 22982            ┆ 245                             ┆ 0.010661                        │\n",
      "└──────────────────┴─────────────────────────────────┴─────────────────────────────────┘\n",
      "---\n",
      "[7, 31, '2024-04', '2022-04']\n"
     ]
    },
    {
     "data": {
      "text/html": [
       "<div><style>\n",
       ".dataframe > thead > tr,\n",
       ".dataframe > tbody > tr {\n",
       "  text-align: right;\n",
       "  white-space: pre-wrap;\n",
       "}\n",
       "</style>\n",
       "<small>shape: (24, 7)</small><table border=\"1\" class=\"dataframe\"><thead><tr><th>year_of_sale</th><th>flat_type</th><th>month_of_sale</th><th>months_ago</th><th>no_of_flats_sold</th><th>no_of_million_dollar_flats_sold</th><th>year_month</th></tr><tr><td>i64</td><td>str</td><td>i64</td><td>i64</td><td>u32</td><td>i64</td><td>str</td></tr></thead><tbody><tr><td>2024</td><td>&quot;4 ROOM&quot;</td><td>4</td><td>7</td><td>1036</td><td>24</td><td>&quot;2024-04&quot;</td></tr><tr><td>2024</td><td>&quot;4 ROOM&quot;</td><td>3</td><td>8</td><td>864</td><td>18</td><td>&quot;2024-03&quot;</td></tr><tr><td>2024</td><td>&quot;4 ROOM&quot;</td><td>2</td><td>9</td><td>901</td><td>14</td><td>&quot;2024-02&quot;</td></tr><tr><td>2024</td><td>&quot;4 ROOM&quot;</td><td>1</td><td>10</td><td>1159</td><td>19</td><td>&quot;2024-01&quot;</td></tr><tr><td>2023</td><td>&quot;4 ROOM&quot;</td><td>12</td><td>11</td><td>862</td><td>17</td><td>&quot;2023-12&quot;</td></tr><tr><td>2023</td><td>&quot;4 ROOM&quot;</td><td>11</td><td>12</td><td>939</td><td>12</td><td>&quot;2023-11&quot;</td></tr><tr><td>2023</td><td>&quot;4 ROOM&quot;</td><td>10</td><td>13</td><td>1006</td><td>13</td><td>&quot;2023-10&quot;</td></tr><tr><td>2023</td><td>&quot;4 ROOM&quot;</td><td>9</td><td>14</td><td>870</td><td>6</td><td>&quot;2023-09&quot;</td></tr><tr><td>2023</td><td>&quot;4 ROOM&quot;</td><td>8</td><td>15</td><td>1068</td><td>16</td><td>&quot;2023-08&quot;</td></tr><tr><td>2023</td><td>&quot;4 ROOM&quot;</td><td>7</td><td>16</td><td>906</td><td>8</td><td>&quot;2023-07&quot;</td></tr><tr><td>2023</td><td>&quot;4 ROOM&quot;</td><td>6</td><td>17</td><td>848</td><td>12</td><td>&quot;2023-06&quot;</td></tr><tr><td>2023</td><td>&quot;4 ROOM&quot;</td><td>5</td><td>18</td><td>1016</td><td>10</td><td>&quot;2023-05&quot;</td></tr><tr><td>2023</td><td>&quot;4 ROOM&quot;</td><td>4</td><td>19</td><td>1002</td><td>10</td><td>&quot;2023-04&quot;</td></tr><tr><td>2023</td><td>&quot;4 ROOM&quot;</td><td>3</td><td>20</td><td>996</td><td>9</td><td>&quot;2023-03&quot;</td></tr><tr><td>2023</td><td>&quot;4 ROOM&quot;</td><td>2</td><td>21</td><td>770</td><td>5</td><td>&quot;2023-02&quot;</td></tr><tr><td>2023</td><td>&quot;4 ROOM&quot;</td><td>1</td><td>22</td><td>1074</td><td>7</td><td>&quot;2023-01&quot;</td></tr><tr><td>2022</td><td>&quot;4 ROOM&quot;</td><td>12</td><td>23</td><td>995</td><td>5</td><td>&quot;2022-12&quot;</td></tr><tr><td>2022</td><td>&quot;4 ROOM&quot;</td><td>11</td><td>24</td><td>900</td><td>2</td><td>&quot;2022-11&quot;</td></tr><tr><td>2022</td><td>&quot;4 ROOM&quot;</td><td>10</td><td>25</td><td>824</td><td>6</td><td>&quot;2022-10&quot;</td></tr><tr><td>2022</td><td>&quot;4 ROOM&quot;</td><td>9</td><td>26</td><td>1061</td><td>3</td><td>&quot;2022-09&quot;</td></tr><tr><td>2022</td><td>&quot;4 ROOM&quot;</td><td>8</td><td>27</td><td>952</td><td>2</td><td>&quot;2022-08&quot;</td></tr><tr><td>2022</td><td>&quot;4 ROOM&quot;</td><td>7</td><td>28</td><td>990</td><td>1</td><td>&quot;2022-07&quot;</td></tr><tr><td>2022</td><td>&quot;4 ROOM&quot;</td><td>6</td><td>29</td><td>893</td><td>8</td><td>&quot;2022-06&quot;</td></tr><tr><td>2022</td><td>&quot;4 ROOM&quot;</td><td>5</td><td>30</td><td>914</td><td>2</td><td>&quot;2022-05&quot;</td></tr></tbody></table></div>"
      ],
      "text/plain": [
       "shape: (24, 7)\n",
       "┌──────────────┬───────────┬───────────────┬────────────┬──────────────┬──────────────┬────────────┐\n",
       "│ year_of_sale ┆ flat_type ┆ month_of_sale ┆ months_ago ┆ no_of_flats_ ┆ no_of_millio ┆ year_month │\n",
       "│ ---          ┆ ---       ┆ ---           ┆ ---        ┆ sold         ┆ n_dollar_fla ┆ ---        │\n",
       "│ i64          ┆ str       ┆ i64           ┆ i64        ┆ ---          ┆ ts_sol…      ┆ str        │\n",
       "│              ┆           ┆               ┆            ┆ u32          ┆ ---          ┆            │\n",
       "│              ┆           ┆               ┆            ┆              ┆ i64          ┆            │\n",
       "╞══════════════╪═══════════╪═══════════════╪════════════╪══════════════╪══════════════╪════════════╡\n",
       "│ 2024         ┆ 4 ROOM    ┆ 4             ┆ 7          ┆ 1036         ┆ 24           ┆ 2024-04    │\n",
       "│ 2024         ┆ 4 ROOM    ┆ 3             ┆ 8          ┆ 864          ┆ 18           ┆ 2024-03    │\n",
       "│ 2024         ┆ 4 ROOM    ┆ 2             ┆ 9          ┆ 901          ┆ 14           ┆ 2024-02    │\n",
       "│ 2024         ┆ 4 ROOM    ┆ 1             ┆ 10         ┆ 1159         ┆ 19           ┆ 2024-01    │\n",
       "│ 2023         ┆ 4 ROOM    ┆ 12            ┆ 11         ┆ 862          ┆ 17           ┆ 2023-12    │\n",
       "│ 2023         ┆ 4 ROOM    ┆ 11            ┆ 12         ┆ 939          ┆ 12           ┆ 2023-11    │\n",
       "│ 2023         ┆ 4 ROOM    ┆ 10            ┆ 13         ┆ 1006         ┆ 13           ┆ 2023-10    │\n",
       "│ 2023         ┆ 4 ROOM    ┆ 9             ┆ 14         ┆ 870          ┆ 6            ┆ 2023-09    │\n",
       "│ 2023         ┆ 4 ROOM    ┆ 8             ┆ 15         ┆ 1068         ┆ 16           ┆ 2023-08    │\n",
       "│ 2023         ┆ 4 ROOM    ┆ 7             ┆ 16         ┆ 906          ┆ 8            ┆ 2023-07    │\n",
       "│ 2023         ┆ 4 ROOM    ┆ 6             ┆ 17         ┆ 848          ┆ 12           ┆ 2023-06    │\n",
       "│ 2023         ┆ 4 ROOM    ┆ 5             ┆ 18         ┆ 1016         ┆ 10           ┆ 2023-05    │\n",
       "│ 2023         ┆ 4 ROOM    ┆ 4             ┆ 19         ┆ 1002         ┆ 10           ┆ 2023-04    │\n",
       "│ 2023         ┆ 4 ROOM    ┆ 3             ┆ 20         ┆ 996          ┆ 9            ┆ 2023-03    │\n",
       "│ 2023         ┆ 4 ROOM    ┆ 2             ┆ 21         ┆ 770          ┆ 5            ┆ 2023-02    │\n",
       "│ 2023         ┆ 4 ROOM    ┆ 1             ┆ 22         ┆ 1074         ┆ 7            ┆ 2023-01    │\n",
       "│ 2022         ┆ 4 ROOM    ┆ 12            ┆ 23         ┆ 995          ┆ 5            ┆ 2022-12    │\n",
       "│ 2022         ┆ 4 ROOM    ┆ 11            ┆ 24         ┆ 900          ┆ 2            ┆ 2022-11    │\n",
       "│ 2022         ┆ 4 ROOM    ┆ 10            ┆ 25         ┆ 824          ┆ 6            ┆ 2022-10    │\n",
       "│ 2022         ┆ 4 ROOM    ┆ 9             ┆ 26         ┆ 1061         ┆ 3            ┆ 2022-09    │\n",
       "│ 2022         ┆ 4 ROOM    ┆ 8             ┆ 27         ┆ 952          ┆ 2            ┆ 2022-08    │\n",
       "│ 2022         ┆ 4 ROOM    ┆ 7             ┆ 28         ┆ 990          ┆ 1            ┆ 2022-07    │\n",
       "│ 2022         ┆ 4 ROOM    ┆ 6             ┆ 29         ┆ 893          ┆ 8            ┆ 2022-06    │\n",
       "│ 2022         ┆ 4 ROOM    ┆ 5             ┆ 30         ┆ 914          ┆ 2            ┆ 2022-05    │\n",
       "└──────────────┴───────────┴───────────────┴────────────┴──────────────┴──────────────┴────────────┘"
      ]
     },
     "metadata": {},
     "output_type": "display_data"
    },
    {
     "name": "stdout",
     "output_type": "stream",
     "text": [
      "shape: (1, 3)\n",
      "┌──────────────────┬─────────────────────────────────┬─────────────────────────────────┐\n",
      "│ no_of_flats_sold ┆ no_of_million_dollar_flats_sol… ┆ pctage_of_million_dollar_flats… │\n",
      "│ ---              ┆ ---                             ┆ ---                             │\n",
      "│ u32              ┆ i64                             ┆ f64                             │\n",
      "╞══════════════════╪═════════════════════════════════╪═════════════════════════════════╡\n",
      "│ 22846            ┆ 229                             ┆ 0.010024                        │\n",
      "└──────────────────┴─────────────────────────────────┴─────────────────────────────────┘\n",
      "---\n",
      "[8, 32, '2024-03', '2022-03']\n"
     ]
    },
    {
     "data": {
      "text/html": [
       "<div><style>\n",
       ".dataframe > thead > tr,\n",
       ".dataframe > tbody > tr {\n",
       "  text-align: right;\n",
       "  white-space: pre-wrap;\n",
       "}\n",
       "</style>\n",
       "<small>shape: (24, 7)</small><table border=\"1\" class=\"dataframe\"><thead><tr><th>year_of_sale</th><th>flat_type</th><th>month_of_sale</th><th>months_ago</th><th>no_of_flats_sold</th><th>no_of_million_dollar_flats_sold</th><th>year_month</th></tr><tr><td>i64</td><td>str</td><td>i64</td><td>i64</td><td>u32</td><td>i64</td><td>str</td></tr></thead><tbody><tr><td>2024</td><td>&quot;4 ROOM&quot;</td><td>3</td><td>8</td><td>864</td><td>18</td><td>&quot;2024-03&quot;</td></tr><tr><td>2024</td><td>&quot;4 ROOM&quot;</td><td>2</td><td>9</td><td>901</td><td>14</td><td>&quot;2024-02&quot;</td></tr><tr><td>2024</td><td>&quot;4 ROOM&quot;</td><td>1</td><td>10</td><td>1159</td><td>19</td><td>&quot;2024-01&quot;</td></tr><tr><td>2023</td><td>&quot;4 ROOM&quot;</td><td>12</td><td>11</td><td>862</td><td>17</td><td>&quot;2023-12&quot;</td></tr><tr><td>2023</td><td>&quot;4 ROOM&quot;</td><td>11</td><td>12</td><td>939</td><td>12</td><td>&quot;2023-11&quot;</td></tr><tr><td>2023</td><td>&quot;4 ROOM&quot;</td><td>10</td><td>13</td><td>1006</td><td>13</td><td>&quot;2023-10&quot;</td></tr><tr><td>2023</td><td>&quot;4 ROOM&quot;</td><td>9</td><td>14</td><td>870</td><td>6</td><td>&quot;2023-09&quot;</td></tr><tr><td>2023</td><td>&quot;4 ROOM&quot;</td><td>8</td><td>15</td><td>1068</td><td>16</td><td>&quot;2023-08&quot;</td></tr><tr><td>2023</td><td>&quot;4 ROOM&quot;</td><td>7</td><td>16</td><td>906</td><td>8</td><td>&quot;2023-07&quot;</td></tr><tr><td>2023</td><td>&quot;4 ROOM&quot;</td><td>6</td><td>17</td><td>848</td><td>12</td><td>&quot;2023-06&quot;</td></tr><tr><td>2023</td><td>&quot;4 ROOM&quot;</td><td>5</td><td>18</td><td>1016</td><td>10</td><td>&quot;2023-05&quot;</td></tr><tr><td>2023</td><td>&quot;4 ROOM&quot;</td><td>4</td><td>19</td><td>1002</td><td>10</td><td>&quot;2023-04&quot;</td></tr><tr><td>2023</td><td>&quot;4 ROOM&quot;</td><td>3</td><td>20</td><td>996</td><td>9</td><td>&quot;2023-03&quot;</td></tr><tr><td>2023</td><td>&quot;4 ROOM&quot;</td><td>2</td><td>21</td><td>770</td><td>5</td><td>&quot;2023-02&quot;</td></tr><tr><td>2023</td><td>&quot;4 ROOM&quot;</td><td>1</td><td>22</td><td>1074</td><td>7</td><td>&quot;2023-01&quot;</td></tr><tr><td>2022</td><td>&quot;4 ROOM&quot;</td><td>12</td><td>23</td><td>995</td><td>5</td><td>&quot;2022-12&quot;</td></tr><tr><td>2022</td><td>&quot;4 ROOM&quot;</td><td>11</td><td>24</td><td>900</td><td>2</td><td>&quot;2022-11&quot;</td></tr><tr><td>2022</td><td>&quot;4 ROOM&quot;</td><td>10</td><td>25</td><td>824</td><td>6</td><td>&quot;2022-10&quot;</td></tr><tr><td>2022</td><td>&quot;4 ROOM&quot;</td><td>9</td><td>26</td><td>1061</td><td>3</td><td>&quot;2022-09&quot;</td></tr><tr><td>2022</td><td>&quot;4 ROOM&quot;</td><td>8</td><td>27</td><td>952</td><td>2</td><td>&quot;2022-08&quot;</td></tr><tr><td>2022</td><td>&quot;4 ROOM&quot;</td><td>7</td><td>28</td><td>990</td><td>1</td><td>&quot;2022-07&quot;</td></tr><tr><td>2022</td><td>&quot;4 ROOM&quot;</td><td>6</td><td>29</td><td>893</td><td>8</td><td>&quot;2022-06&quot;</td></tr><tr><td>2022</td><td>&quot;4 ROOM&quot;</td><td>5</td><td>30</td><td>914</td><td>2</td><td>&quot;2022-05&quot;</td></tr><tr><td>2022</td><td>&quot;4 ROOM&quot;</td><td>4</td><td>31</td><td>987</td><td>2</td><td>&quot;2022-04&quot;</td></tr></tbody></table></div>"
      ],
      "text/plain": [
       "shape: (24, 7)\n",
       "┌──────────────┬───────────┬───────────────┬────────────┬──────────────┬──────────────┬────────────┐\n",
       "│ year_of_sale ┆ flat_type ┆ month_of_sale ┆ months_ago ┆ no_of_flats_ ┆ no_of_millio ┆ year_month │\n",
       "│ ---          ┆ ---       ┆ ---           ┆ ---        ┆ sold         ┆ n_dollar_fla ┆ ---        │\n",
       "│ i64          ┆ str       ┆ i64           ┆ i64        ┆ ---          ┆ ts_sol…      ┆ str        │\n",
       "│              ┆           ┆               ┆            ┆ u32          ┆ ---          ┆            │\n",
       "│              ┆           ┆               ┆            ┆              ┆ i64          ┆            │\n",
       "╞══════════════╪═══════════╪═══════════════╪════════════╪══════════════╪══════════════╪════════════╡\n",
       "│ 2024         ┆ 4 ROOM    ┆ 3             ┆ 8          ┆ 864          ┆ 18           ┆ 2024-03    │\n",
       "│ 2024         ┆ 4 ROOM    ┆ 2             ┆ 9          ┆ 901          ┆ 14           ┆ 2024-02    │\n",
       "│ 2024         ┆ 4 ROOM    ┆ 1             ┆ 10         ┆ 1159         ┆ 19           ┆ 2024-01    │\n",
       "│ 2023         ┆ 4 ROOM    ┆ 12            ┆ 11         ┆ 862          ┆ 17           ┆ 2023-12    │\n",
       "│ 2023         ┆ 4 ROOM    ┆ 11            ┆ 12         ┆ 939          ┆ 12           ┆ 2023-11    │\n",
       "│ 2023         ┆ 4 ROOM    ┆ 10            ┆ 13         ┆ 1006         ┆ 13           ┆ 2023-10    │\n",
       "│ 2023         ┆ 4 ROOM    ┆ 9             ┆ 14         ┆ 870          ┆ 6            ┆ 2023-09    │\n",
       "│ 2023         ┆ 4 ROOM    ┆ 8             ┆ 15         ┆ 1068         ┆ 16           ┆ 2023-08    │\n",
       "│ 2023         ┆ 4 ROOM    ┆ 7             ┆ 16         ┆ 906          ┆ 8            ┆ 2023-07    │\n",
       "│ 2023         ┆ 4 ROOM    ┆ 6             ┆ 17         ┆ 848          ┆ 12           ┆ 2023-06    │\n",
       "│ 2023         ┆ 4 ROOM    ┆ 5             ┆ 18         ┆ 1016         ┆ 10           ┆ 2023-05    │\n",
       "│ 2023         ┆ 4 ROOM    ┆ 4             ┆ 19         ┆ 1002         ┆ 10           ┆ 2023-04    │\n",
       "│ 2023         ┆ 4 ROOM    ┆ 3             ┆ 20         ┆ 996          ┆ 9            ┆ 2023-03    │\n",
       "│ 2023         ┆ 4 ROOM    ┆ 2             ┆ 21         ┆ 770          ┆ 5            ┆ 2023-02    │\n",
       "│ 2023         ┆ 4 ROOM    ┆ 1             ┆ 22         ┆ 1074         ┆ 7            ┆ 2023-01    │\n",
       "│ 2022         ┆ 4 ROOM    ┆ 12            ┆ 23         ┆ 995          ┆ 5            ┆ 2022-12    │\n",
       "│ 2022         ┆ 4 ROOM    ┆ 11            ┆ 24         ┆ 900          ┆ 2            ┆ 2022-11    │\n",
       "│ 2022         ┆ 4 ROOM    ┆ 10            ┆ 25         ┆ 824          ┆ 6            ┆ 2022-10    │\n",
       "│ 2022         ┆ 4 ROOM    ┆ 9             ┆ 26         ┆ 1061         ┆ 3            ┆ 2022-09    │\n",
       "│ 2022         ┆ 4 ROOM    ┆ 8             ┆ 27         ┆ 952          ┆ 2            ┆ 2022-08    │\n",
       "│ 2022         ┆ 4 ROOM    ┆ 7             ┆ 28         ┆ 990          ┆ 1            ┆ 2022-07    │\n",
       "│ 2022         ┆ 4 ROOM    ┆ 6             ┆ 29         ┆ 893          ┆ 8            ┆ 2022-06    │\n",
       "│ 2022         ┆ 4 ROOM    ┆ 5             ┆ 30         ┆ 914          ┆ 2            ┆ 2022-05    │\n",
       "│ 2022         ┆ 4 ROOM    ┆ 4             ┆ 31         ┆ 987          ┆ 2            ┆ 2022-04    │\n",
       "└──────────────┴───────────┴───────────────┴────────────┴──────────────┴──────────────┴────────────┘"
      ]
     },
     "metadata": {},
     "output_type": "display_data"
    },
    {
     "name": "stdout",
     "output_type": "stream",
     "text": [
      "shape: (1, 3)\n",
      "┌──────────────────┬─────────────────────────────────┬─────────────────────────────────┐\n",
      "│ no_of_flats_sold ┆ no_of_million_dollar_flats_sol… ┆ pctage_of_million_dollar_flats… │\n",
      "│ ---              ┆ ---                             ┆ ---                             │\n",
      "│ u32              ┆ i64                             ┆ f64                             │\n",
      "╞══════════════════╪═════════════════════════════════╪═════════════════════════════════╡\n",
      "│ 22797            ┆ 207                             ┆ 0.00908                         │\n",
      "└──────────────────┴─────────────────────────────────┴─────────────────────────────────┘\n",
      "---\n",
      "[9, 33, '2024-02', '2022-02']\n"
     ]
    },
    {
     "data": {
      "text/html": [
       "<div><style>\n",
       ".dataframe > thead > tr,\n",
       ".dataframe > tbody > tr {\n",
       "  text-align: right;\n",
       "  white-space: pre-wrap;\n",
       "}\n",
       "</style>\n",
       "<small>shape: (24, 7)</small><table border=\"1\" class=\"dataframe\"><thead><tr><th>year_of_sale</th><th>flat_type</th><th>month_of_sale</th><th>months_ago</th><th>no_of_flats_sold</th><th>no_of_million_dollar_flats_sold</th><th>year_month</th></tr><tr><td>i64</td><td>str</td><td>i64</td><td>i64</td><td>u32</td><td>i64</td><td>str</td></tr></thead><tbody><tr><td>2024</td><td>&quot;4 ROOM&quot;</td><td>2</td><td>9</td><td>901</td><td>14</td><td>&quot;2024-02&quot;</td></tr><tr><td>2024</td><td>&quot;4 ROOM&quot;</td><td>1</td><td>10</td><td>1159</td><td>19</td><td>&quot;2024-01&quot;</td></tr><tr><td>2023</td><td>&quot;4 ROOM&quot;</td><td>12</td><td>11</td><td>862</td><td>17</td><td>&quot;2023-12&quot;</td></tr><tr><td>2023</td><td>&quot;4 ROOM&quot;</td><td>11</td><td>12</td><td>939</td><td>12</td><td>&quot;2023-11&quot;</td></tr><tr><td>2023</td><td>&quot;4 ROOM&quot;</td><td>10</td><td>13</td><td>1006</td><td>13</td><td>&quot;2023-10&quot;</td></tr><tr><td>2023</td><td>&quot;4 ROOM&quot;</td><td>9</td><td>14</td><td>870</td><td>6</td><td>&quot;2023-09&quot;</td></tr><tr><td>2023</td><td>&quot;4 ROOM&quot;</td><td>8</td><td>15</td><td>1068</td><td>16</td><td>&quot;2023-08&quot;</td></tr><tr><td>2023</td><td>&quot;4 ROOM&quot;</td><td>7</td><td>16</td><td>906</td><td>8</td><td>&quot;2023-07&quot;</td></tr><tr><td>2023</td><td>&quot;4 ROOM&quot;</td><td>6</td><td>17</td><td>848</td><td>12</td><td>&quot;2023-06&quot;</td></tr><tr><td>2023</td><td>&quot;4 ROOM&quot;</td><td>5</td><td>18</td><td>1016</td><td>10</td><td>&quot;2023-05&quot;</td></tr><tr><td>2023</td><td>&quot;4 ROOM&quot;</td><td>4</td><td>19</td><td>1002</td><td>10</td><td>&quot;2023-04&quot;</td></tr><tr><td>2023</td><td>&quot;4 ROOM&quot;</td><td>3</td><td>20</td><td>996</td><td>9</td><td>&quot;2023-03&quot;</td></tr><tr><td>2023</td><td>&quot;4 ROOM&quot;</td><td>2</td><td>21</td><td>770</td><td>5</td><td>&quot;2023-02&quot;</td></tr><tr><td>2023</td><td>&quot;4 ROOM&quot;</td><td>1</td><td>22</td><td>1074</td><td>7</td><td>&quot;2023-01&quot;</td></tr><tr><td>2022</td><td>&quot;4 ROOM&quot;</td><td>12</td><td>23</td><td>995</td><td>5</td><td>&quot;2022-12&quot;</td></tr><tr><td>2022</td><td>&quot;4 ROOM&quot;</td><td>11</td><td>24</td><td>900</td><td>2</td><td>&quot;2022-11&quot;</td></tr><tr><td>2022</td><td>&quot;4 ROOM&quot;</td><td>10</td><td>25</td><td>824</td><td>6</td><td>&quot;2022-10&quot;</td></tr><tr><td>2022</td><td>&quot;4 ROOM&quot;</td><td>9</td><td>26</td><td>1061</td><td>3</td><td>&quot;2022-09&quot;</td></tr><tr><td>2022</td><td>&quot;4 ROOM&quot;</td><td>8</td><td>27</td><td>952</td><td>2</td><td>&quot;2022-08&quot;</td></tr><tr><td>2022</td><td>&quot;4 ROOM&quot;</td><td>7</td><td>28</td><td>990</td><td>1</td><td>&quot;2022-07&quot;</td></tr><tr><td>2022</td><td>&quot;4 ROOM&quot;</td><td>6</td><td>29</td><td>893</td><td>8</td><td>&quot;2022-06&quot;</td></tr><tr><td>2022</td><td>&quot;4 ROOM&quot;</td><td>5</td><td>30</td><td>914</td><td>2</td><td>&quot;2022-05&quot;</td></tr><tr><td>2022</td><td>&quot;4 ROOM&quot;</td><td>4</td><td>31</td><td>987</td><td>2</td><td>&quot;2022-04&quot;</td></tr><tr><td>2022</td><td>&quot;4 ROOM&quot;</td><td>3</td><td>32</td><td>956</td><td>3</td><td>&quot;2022-03&quot;</td></tr></tbody></table></div>"
      ],
      "text/plain": [
       "shape: (24, 7)\n",
       "┌──────────────┬───────────┬───────────────┬────────────┬──────────────┬──────────────┬────────────┐\n",
       "│ year_of_sale ┆ flat_type ┆ month_of_sale ┆ months_ago ┆ no_of_flats_ ┆ no_of_millio ┆ year_month │\n",
       "│ ---          ┆ ---       ┆ ---           ┆ ---        ┆ sold         ┆ n_dollar_fla ┆ ---        │\n",
       "│ i64          ┆ str       ┆ i64           ┆ i64        ┆ ---          ┆ ts_sol…      ┆ str        │\n",
       "│              ┆           ┆               ┆            ┆ u32          ┆ ---          ┆            │\n",
       "│              ┆           ┆               ┆            ┆              ┆ i64          ┆            │\n",
       "╞══════════════╪═══════════╪═══════════════╪════════════╪══════════════╪══════════════╪════════════╡\n",
       "│ 2024         ┆ 4 ROOM    ┆ 2             ┆ 9          ┆ 901          ┆ 14           ┆ 2024-02    │\n",
       "│ 2024         ┆ 4 ROOM    ┆ 1             ┆ 10         ┆ 1159         ┆ 19           ┆ 2024-01    │\n",
       "│ 2023         ┆ 4 ROOM    ┆ 12            ┆ 11         ┆ 862          ┆ 17           ┆ 2023-12    │\n",
       "│ 2023         ┆ 4 ROOM    ┆ 11            ┆ 12         ┆ 939          ┆ 12           ┆ 2023-11    │\n",
       "│ 2023         ┆ 4 ROOM    ┆ 10            ┆ 13         ┆ 1006         ┆ 13           ┆ 2023-10    │\n",
       "│ 2023         ┆ 4 ROOM    ┆ 9             ┆ 14         ┆ 870          ┆ 6            ┆ 2023-09    │\n",
       "│ 2023         ┆ 4 ROOM    ┆ 8             ┆ 15         ┆ 1068         ┆ 16           ┆ 2023-08    │\n",
       "│ 2023         ┆ 4 ROOM    ┆ 7             ┆ 16         ┆ 906          ┆ 8            ┆ 2023-07    │\n",
       "│ 2023         ┆ 4 ROOM    ┆ 6             ┆ 17         ┆ 848          ┆ 12           ┆ 2023-06    │\n",
       "│ 2023         ┆ 4 ROOM    ┆ 5             ┆ 18         ┆ 1016         ┆ 10           ┆ 2023-05    │\n",
       "│ 2023         ┆ 4 ROOM    ┆ 4             ┆ 19         ┆ 1002         ┆ 10           ┆ 2023-04    │\n",
       "│ 2023         ┆ 4 ROOM    ┆ 3             ┆ 20         ┆ 996          ┆ 9            ┆ 2023-03    │\n",
       "│ 2023         ┆ 4 ROOM    ┆ 2             ┆ 21         ┆ 770          ┆ 5            ┆ 2023-02    │\n",
       "│ 2023         ┆ 4 ROOM    ┆ 1             ┆ 22         ┆ 1074         ┆ 7            ┆ 2023-01    │\n",
       "│ 2022         ┆ 4 ROOM    ┆ 12            ┆ 23         ┆ 995          ┆ 5            ┆ 2022-12    │\n",
       "│ 2022         ┆ 4 ROOM    ┆ 11            ┆ 24         ┆ 900          ┆ 2            ┆ 2022-11    │\n",
       "│ 2022         ┆ 4 ROOM    ┆ 10            ┆ 25         ┆ 824          ┆ 6            ┆ 2022-10    │\n",
       "│ 2022         ┆ 4 ROOM    ┆ 9             ┆ 26         ┆ 1061         ┆ 3            ┆ 2022-09    │\n",
       "│ 2022         ┆ 4 ROOM    ┆ 8             ┆ 27         ┆ 952          ┆ 2            ┆ 2022-08    │\n",
       "│ 2022         ┆ 4 ROOM    ┆ 7             ┆ 28         ┆ 990          ┆ 1            ┆ 2022-07    │\n",
       "│ 2022         ┆ 4 ROOM    ┆ 6             ┆ 29         ┆ 893          ┆ 8            ┆ 2022-06    │\n",
       "│ 2022         ┆ 4 ROOM    ┆ 5             ┆ 30         ┆ 914          ┆ 2            ┆ 2022-05    │\n",
       "│ 2022         ┆ 4 ROOM    ┆ 4             ┆ 31         ┆ 987          ┆ 2            ┆ 2022-04    │\n",
       "│ 2022         ┆ 4 ROOM    ┆ 3             ┆ 32         ┆ 956          ┆ 3            ┆ 2022-03    │\n",
       "└──────────────┴───────────┴───────────────┴────────────┴──────────────┴──────────────┴────────────┘"
      ]
     },
     "metadata": {},
     "output_type": "display_data"
    },
    {
     "name": "stdout",
     "output_type": "stream",
     "text": [
      "shape: (1, 3)\n",
      "┌──────────────────┬─────────────────────────────────┬─────────────────────────────────┐\n",
      "│ no_of_flats_sold ┆ no_of_million_dollar_flats_sol… ┆ pctage_of_million_dollar_flats… │\n",
      "│ ---              ┆ ---                             ┆ ---                             │\n",
      "│ u32              ┆ i64                             ┆ f64                             │\n",
      "╞══════════════════╪═════════════════════════════════╪═════════════════════════════════╡\n",
      "│ 22889            ┆ 192                             ┆ 0.008388                        │\n",
      "└──────────────────┴─────────────────────────────────┴─────────────────────────────────┘\n",
      "---\n",
      "[10, 34, '2024-01', '2022-01']\n"
     ]
    },
    {
     "data": {
      "text/html": [
       "<div><style>\n",
       ".dataframe > thead > tr,\n",
       ".dataframe > tbody > tr {\n",
       "  text-align: right;\n",
       "  white-space: pre-wrap;\n",
       "}\n",
       "</style>\n",
       "<small>shape: (24, 7)</small><table border=\"1\" class=\"dataframe\"><thead><tr><th>year_of_sale</th><th>flat_type</th><th>month_of_sale</th><th>months_ago</th><th>no_of_flats_sold</th><th>no_of_million_dollar_flats_sold</th><th>year_month</th></tr><tr><td>i64</td><td>str</td><td>i64</td><td>i64</td><td>u32</td><td>i64</td><td>str</td></tr></thead><tbody><tr><td>2024</td><td>&quot;4 ROOM&quot;</td><td>1</td><td>10</td><td>1159</td><td>19</td><td>&quot;2024-01&quot;</td></tr><tr><td>2023</td><td>&quot;4 ROOM&quot;</td><td>12</td><td>11</td><td>862</td><td>17</td><td>&quot;2023-12&quot;</td></tr><tr><td>2023</td><td>&quot;4 ROOM&quot;</td><td>11</td><td>12</td><td>939</td><td>12</td><td>&quot;2023-11&quot;</td></tr><tr><td>2023</td><td>&quot;4 ROOM&quot;</td><td>10</td><td>13</td><td>1006</td><td>13</td><td>&quot;2023-10&quot;</td></tr><tr><td>2023</td><td>&quot;4 ROOM&quot;</td><td>9</td><td>14</td><td>870</td><td>6</td><td>&quot;2023-09&quot;</td></tr><tr><td>2023</td><td>&quot;4 ROOM&quot;</td><td>8</td><td>15</td><td>1068</td><td>16</td><td>&quot;2023-08&quot;</td></tr><tr><td>2023</td><td>&quot;4 ROOM&quot;</td><td>7</td><td>16</td><td>906</td><td>8</td><td>&quot;2023-07&quot;</td></tr><tr><td>2023</td><td>&quot;4 ROOM&quot;</td><td>6</td><td>17</td><td>848</td><td>12</td><td>&quot;2023-06&quot;</td></tr><tr><td>2023</td><td>&quot;4 ROOM&quot;</td><td>5</td><td>18</td><td>1016</td><td>10</td><td>&quot;2023-05&quot;</td></tr><tr><td>2023</td><td>&quot;4 ROOM&quot;</td><td>4</td><td>19</td><td>1002</td><td>10</td><td>&quot;2023-04&quot;</td></tr><tr><td>2023</td><td>&quot;4 ROOM&quot;</td><td>3</td><td>20</td><td>996</td><td>9</td><td>&quot;2023-03&quot;</td></tr><tr><td>2023</td><td>&quot;4 ROOM&quot;</td><td>2</td><td>21</td><td>770</td><td>5</td><td>&quot;2023-02&quot;</td></tr><tr><td>2023</td><td>&quot;4 ROOM&quot;</td><td>1</td><td>22</td><td>1074</td><td>7</td><td>&quot;2023-01&quot;</td></tr><tr><td>2022</td><td>&quot;4 ROOM&quot;</td><td>12</td><td>23</td><td>995</td><td>5</td><td>&quot;2022-12&quot;</td></tr><tr><td>2022</td><td>&quot;4 ROOM&quot;</td><td>11</td><td>24</td><td>900</td><td>2</td><td>&quot;2022-11&quot;</td></tr><tr><td>2022</td><td>&quot;4 ROOM&quot;</td><td>10</td><td>25</td><td>824</td><td>6</td><td>&quot;2022-10&quot;</td></tr><tr><td>2022</td><td>&quot;4 ROOM&quot;</td><td>9</td><td>26</td><td>1061</td><td>3</td><td>&quot;2022-09&quot;</td></tr><tr><td>2022</td><td>&quot;4 ROOM&quot;</td><td>8</td><td>27</td><td>952</td><td>2</td><td>&quot;2022-08&quot;</td></tr><tr><td>2022</td><td>&quot;4 ROOM&quot;</td><td>7</td><td>28</td><td>990</td><td>1</td><td>&quot;2022-07&quot;</td></tr><tr><td>2022</td><td>&quot;4 ROOM&quot;</td><td>6</td><td>29</td><td>893</td><td>8</td><td>&quot;2022-06&quot;</td></tr><tr><td>2022</td><td>&quot;4 ROOM&quot;</td><td>5</td><td>30</td><td>914</td><td>2</td><td>&quot;2022-05&quot;</td></tr><tr><td>2022</td><td>&quot;4 ROOM&quot;</td><td>4</td><td>31</td><td>987</td><td>2</td><td>&quot;2022-04&quot;</td></tr><tr><td>2022</td><td>&quot;4 ROOM&quot;</td><td>3</td><td>32</td><td>956</td><td>3</td><td>&quot;2022-03&quot;</td></tr><tr><td>2022</td><td>&quot;4 ROOM&quot;</td><td>2</td><td>33</td><td>814</td><td>2</td><td>&quot;2022-02&quot;</td></tr></tbody></table></div>"
      ],
      "text/plain": [
       "shape: (24, 7)\n",
       "┌──────────────┬───────────┬───────────────┬────────────┬──────────────┬──────────────┬────────────┐\n",
       "│ year_of_sale ┆ flat_type ┆ month_of_sale ┆ months_ago ┆ no_of_flats_ ┆ no_of_millio ┆ year_month │\n",
       "│ ---          ┆ ---       ┆ ---           ┆ ---        ┆ sold         ┆ n_dollar_fla ┆ ---        │\n",
       "│ i64          ┆ str       ┆ i64           ┆ i64        ┆ ---          ┆ ts_sol…      ┆ str        │\n",
       "│              ┆           ┆               ┆            ┆ u32          ┆ ---          ┆            │\n",
       "│              ┆           ┆               ┆            ┆              ┆ i64          ┆            │\n",
       "╞══════════════╪═══════════╪═══════════════╪════════════╪══════════════╪══════════════╪════════════╡\n",
       "│ 2024         ┆ 4 ROOM    ┆ 1             ┆ 10         ┆ 1159         ┆ 19           ┆ 2024-01    │\n",
       "│ 2023         ┆ 4 ROOM    ┆ 12            ┆ 11         ┆ 862          ┆ 17           ┆ 2023-12    │\n",
       "│ 2023         ┆ 4 ROOM    ┆ 11            ┆ 12         ┆ 939          ┆ 12           ┆ 2023-11    │\n",
       "│ 2023         ┆ 4 ROOM    ┆ 10            ┆ 13         ┆ 1006         ┆ 13           ┆ 2023-10    │\n",
       "│ 2023         ┆ 4 ROOM    ┆ 9             ┆ 14         ┆ 870          ┆ 6            ┆ 2023-09    │\n",
       "│ 2023         ┆ 4 ROOM    ┆ 8             ┆ 15         ┆ 1068         ┆ 16           ┆ 2023-08    │\n",
       "│ 2023         ┆ 4 ROOM    ┆ 7             ┆ 16         ┆ 906          ┆ 8            ┆ 2023-07    │\n",
       "│ 2023         ┆ 4 ROOM    ┆ 6             ┆ 17         ┆ 848          ┆ 12           ┆ 2023-06    │\n",
       "│ 2023         ┆ 4 ROOM    ┆ 5             ┆ 18         ┆ 1016         ┆ 10           ┆ 2023-05    │\n",
       "│ 2023         ┆ 4 ROOM    ┆ 4             ┆ 19         ┆ 1002         ┆ 10           ┆ 2023-04    │\n",
       "│ 2023         ┆ 4 ROOM    ┆ 3             ┆ 20         ┆ 996          ┆ 9            ┆ 2023-03    │\n",
       "│ 2023         ┆ 4 ROOM    ┆ 2             ┆ 21         ┆ 770          ┆ 5            ┆ 2023-02    │\n",
       "│ 2023         ┆ 4 ROOM    ┆ 1             ┆ 22         ┆ 1074         ┆ 7            ┆ 2023-01    │\n",
       "│ 2022         ┆ 4 ROOM    ┆ 12            ┆ 23         ┆ 995          ┆ 5            ┆ 2022-12    │\n",
       "│ 2022         ┆ 4 ROOM    ┆ 11            ┆ 24         ┆ 900          ┆ 2            ┆ 2022-11    │\n",
       "│ 2022         ┆ 4 ROOM    ┆ 10            ┆ 25         ┆ 824          ┆ 6            ┆ 2022-10    │\n",
       "│ 2022         ┆ 4 ROOM    ┆ 9             ┆ 26         ┆ 1061         ┆ 3            ┆ 2022-09    │\n",
       "│ 2022         ┆ 4 ROOM    ┆ 8             ┆ 27         ┆ 952          ┆ 2            ┆ 2022-08    │\n",
       "│ 2022         ┆ 4 ROOM    ┆ 7             ┆ 28         ┆ 990          ┆ 1            ┆ 2022-07    │\n",
       "│ 2022         ┆ 4 ROOM    ┆ 6             ┆ 29         ┆ 893          ┆ 8            ┆ 2022-06    │\n",
       "│ 2022         ┆ 4 ROOM    ┆ 5             ┆ 30         ┆ 914          ┆ 2            ┆ 2022-05    │\n",
       "│ 2022         ┆ 4 ROOM    ┆ 4             ┆ 31         ┆ 987          ┆ 2            ┆ 2022-04    │\n",
       "│ 2022         ┆ 4 ROOM    ┆ 3             ┆ 32         ┆ 956          ┆ 3            ┆ 2022-03    │\n",
       "│ 2022         ┆ 4 ROOM    ┆ 2             ┆ 33         ┆ 814          ┆ 2            ┆ 2022-02    │\n",
       "└──────────────┴───────────┴───────────────┴────────────┴──────────────┴──────────────┴────────────┘"
      ]
     },
     "metadata": {},
     "output_type": "display_data"
    },
    {
     "name": "stdout",
     "output_type": "stream",
     "text": [
      "shape: (1, 3)\n",
      "┌──────────────────┬─────────────────────────────────┬─────────────────────────────────┐\n",
      "│ no_of_flats_sold ┆ no_of_million_dollar_flats_sol… ┆ pctage_of_million_dollar_flats… │\n",
      "│ ---              ┆ ---                             ┆ ---                             │\n",
      "│ u32              ┆ i64                             ┆ f64                             │\n",
      "╞══════════════════╪═════════════════════════════════╪═════════════════════════════════╡\n",
      "│ 22802            ┆ 180                             ┆ 0.007894                        │\n",
      "└──────────────────┴─────────────────────────────────┴─────────────────────────────────┘\n",
      "---\n"
     ]
    }
   ],
   "source": [
    "for mstart, mend, ymstart, ymend in zip(\n",
    "    months_ago_list[:-24], months_ago_list[-(max_months_ago-24+1):],\n",
    "    start_month_list[:-24], start_month_list[-(max_months_ago-24+1):]\n",
    "):\n",
    "    print([mstart, mend, ymstart, ymend])\n",
    "    dm_filtered = dm.filter(\n",
    "        (mstart <= pl.col(\"months_ago\")) &\n",
    "        (pl.col(\"months_ago\") < mend)\n",
    "    ).sort(\"months_ago\")\n",
    "    display(dm_filtered)\n",
    "    flats_sold = pl.DataFrame(\n",
    "        {\n",
    "            \"no_of_flats_sold\" : dm_filtered.select(pl.col(\"no_of_flats_sold\").sum()),\n",
    "            \"one\" : 1\n",
    "        }\n",
    "    )\n",
    "    million_dollar_flats_sold = pl.DataFrame(\n",
    "        {\n",
    "            \"no_of_million_dollar_flats_sold\" : dm_filtered.select(pl.col(\"no_of_million_dollar_flats_sold\").sum()),\n",
    "            \"one\" : 1\n",
    "        }\n",
    "    )\n",
    "    metric_df = flats_sold.join(million_dollar_flats_sold, on=\"one\")\n",
    "    metric_df = metric_df.with_columns(\n",
    "        (pl.col(\"no_of_million_dollar_flats_sold\") / pl.col(\"no_of_flats_sold\")).alias(\"pctage_of_million_dollar_flats_sold\")\n",
    "    ).select([\"no_of_flats_sold\", \"no_of_million_dollar_flats_sold\", \"pctage_of_million_dollar_flats_sold\"])\n",
    "    print(metric_df)\n",
    "    print(\"---\")"
   ]
  }
 ],
 "metadata": {
  "kernelspec": {
   "display_name": "Python 3 (ipykernel)",
   "language": "python",
   "name": "python3"
  },
  "language_info": {
   "codemirror_mode": {
    "name": "ipython",
    "version": 3
   },
   "file_extension": ".py",
   "mimetype": "text/x-python",
   "name": "python",
   "nbconvert_exporter": "python",
   "pygments_lexer": "ipython3",
   "version": "3.10.13"
  }
 },
 "nbformat": 4,
 "nbformat_minor": 5
}
