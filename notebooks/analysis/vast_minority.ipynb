{
 "cells": [
  {
   "cell_type": "code",
   "execution_count": 1,
   "id": "11db01a2",
   "metadata": {},
   "outputs": [],
   "source": [
    "import polars as pl"
   ]
  },
  {
   "cell_type": "code",
   "execution_count": 2,
   "id": "3f3f96b1",
   "metadata": {},
   "outputs": [
    {
     "data": {
      "text/html": [
       "<div><style>\n",
       ".dataframe > thead > tr,\n",
       ".dataframe > tbody > tr {\n",
       "  text-align: right;\n",
       "  white-space: pre-wrap;\n",
       "}\n",
       "</style>\n",
       "<small>shape: (1, 18)</small><table border=\"1\" class=\"dataframe\"><thead><tr><th>address</th><th>lease_remaining</th><th>minimum_floor</th><th>maximum_floor</th><th>built_year</th><th>sqft</th><th>sqm</th><th>flat_type</th><th>road</th><th>town</th><th>year_of_sale</th><th>month_of_sale</th><th>months_ago</th><th>price</th><th>psf</th><th>band_name</th><th>price_is_geq_one_million</th><th>ge_1M</th></tr><tr><td>str</td><td>i64</td><td>i64</td><td>i64</td><td>i64</td><td>i64</td><td>i64</td><td>str</td><td>str</td><td>str</td><td>i64</td><td>i64</td><td>i64</td><td>i64</td><td>f64</td><td>str</td><td>i64</td><td>i64</td></tr></thead><tbody><tr><td>&quot;627 JURONG WEST STREET 65&quot;</td><td>76</td><td>10</td><td>12</td><td>2001</td><td>1399</td><td>130</td><td>&quot;EXECUTIVE&quot;</td><td>&quot;JURONG WEST STREET 65&quot;</td><td>&quot;JURONG WEST&quot;</td><td>2018</td><td>9</td><td>75</td><td>565000</td><td>403.85</td><td>&quot;75 - 79&quot;</td><td>0</td><td>0</td></tr></tbody></table></div>"
      ],
      "text/plain": [
       "shape: (1, 18)\n",
       "┌─────────────┬────────────┬────────────┬────────────┬───┬────────┬───────────┬────────────┬───────┐\n",
       "│ address     ┆ lease_rema ┆ minimum_fl ┆ maximum_fl ┆ … ┆ psf    ┆ band_name ┆ price_is_g ┆ ge_1M │\n",
       "│ ---         ┆ ining      ┆ oor        ┆ oor        ┆   ┆ ---    ┆ ---       ┆ eq_one_mil ┆ ---   │\n",
       "│ str         ┆ ---        ┆ ---        ┆ ---        ┆   ┆ f64    ┆ str       ┆ lion       ┆ i64   │\n",
       "│             ┆ i64        ┆ i64        ┆ i64        ┆   ┆        ┆           ┆ ---        ┆       │\n",
       "│             ┆            ┆            ┆            ┆   ┆        ┆           ┆ i64        ┆       │\n",
       "╞═════════════╪════════════╪════════════╪════════════╪═══╪════════╪═══════════╪════════════╪═══════╡\n",
       "│ 627 JURONG  ┆ 76         ┆ 10         ┆ 12         ┆ … ┆ 403.85 ┆ 75 - 79   ┆ 0          ┆ 0     │\n",
       "│ WEST STREET ┆            ┆            ┆            ┆   ┆        ┆           ┆            ┆       │\n",
       "│ 65          ┆            ┆            ┆            ┆   ┆        ┆           ┆            ┆       │\n",
       "└─────────────┴────────────┴────────────┴────────────┴───┴────────┴───────────┴────────────┴───────┘"
      ]
     },
     "metadata": {},
     "output_type": "display_data"
    },
    {
     "name": "stdout",
     "output_type": "stream",
     "text": [
      "['address', 'lease_remaining', 'minimum_floor', 'maximum_floor', 'built_year', 'sqft', 'sqm', 'flat_type', 'road', 'town', 'year_of_sale', 'month_of_sale', 'months_ago', 'price', 'psf', 'band_name', 'price_is_geq_one_million', 'ge_1M']\n"
     ]
    }
   ],
   "source": [
    "df = pl.read_csv(\"ingested.csv\")\n",
    "df = df.with_columns(\n",
    "    (pl.col(\"price\").ge(1000000).cast(pl.Int64).alias(\"ge_1M\"))\n",
    ")\n",
    "display(df.sample())\n",
    "print(list(df.columns))"
   ]
  },
  {
   "cell_type": "code",
   "execution_count": 3,
   "id": "20c4e60c",
   "metadata": {},
   "outputs": [
    {
     "data": {
      "text/html": [
       "<div><style>\n",
       ".dataframe > thead > tr,\n",
       ".dataframe > tbody > tr {\n",
       "  text-align: right;\n",
       "  white-space: pre-wrap;\n",
       "}\n",
       "</style>\n",
       "<small>shape: (2, 3)</small><table border=\"1\" class=\"dataframe\"><thead><tr><th>ge_1M</th><th>count_transactions</th><th>pct_transactions</th></tr><tr><td>i64</td><td>u32</td><td>f64</td></tr></thead><tbody><tr><td>0</td><td>52292</td><td>97.325467</td></tr><tr><td>1</td><td>1437</td><td>2.674533</td></tr></tbody></table></div>"
      ],
      "text/plain": [
       "shape: (2, 3)\n",
       "┌───────┬────────────────────┬──────────────────┐\n",
       "│ ge_1M ┆ count_transactions ┆ pct_transactions │\n",
       "│ ---   ┆ ---                ┆ ---              │\n",
       "│ i64   ┆ u32                ┆ f64              │\n",
       "╞═══════╪════════════════════╪══════════════════╡\n",
       "│ 0     ┆ 52292              ┆ 97.325467        │\n",
       "│ 1     ┆ 1437               ┆ 2.674533         │\n",
       "└───────┴────────────────────┴──────────────────┘"
      ]
     },
     "metadata": {},
     "output_type": "display_data"
    },
    {
     "data": {
      "text/html": [
       "<div><style>\n",
       ".dataframe > thead > tr,\n",
       ".dataframe > tbody > tr {\n",
       "  text-align: right;\n",
       "  white-space: pre-wrap;\n",
       "}\n",
       "</style>\n",
       "<small>shape: (3, 2)</small><table border=\"1\" class=\"dataframe\"><thead><tr><th>year_of_sale</th><th>count_transactions</th></tr><tr><td>i64</td><td>u32</td></tr></thead><tbody><tr><td>2022</td><td>2234</td></tr><tr><td>2023</td><td>25755</td></tr><tr><td>2024</td><td>25740</td></tr></tbody></table></div>"
      ],
      "text/plain": [
       "shape: (3, 2)\n",
       "┌──────────────┬────────────────────┐\n",
       "│ year_of_sale ┆ count_transactions │\n",
       "│ ---          ┆ ---                │\n",
       "│ i64          ┆ u32                │\n",
       "╞══════════════╪════════════════════╡\n",
       "│ 2022         ┆ 2234               │\n",
       "│ 2023         ┆ 25755              │\n",
       "│ 2024         ┆ 25740              │\n",
       "└──────────────┴────────────────────┘"
      ]
     },
     "metadata": {},
     "output_type": "display_data"
    }
   ],
   "source": [
    "df_filter = df.filter(\n",
    "    (pl.col(\"year_of_sale\").eq(2024) & pl.col(\"month_of_sale\").le(11)) | \n",
    "    (pl.col(\"year_of_sale\").eq(2023)) |\n",
    "    (pl.col(\"year_of_sale\").eq(2022) & pl.col(\"month_of_sale\").ge(12))\n",
    ")\n",
    "display(\n",
    "    df_filter\n",
    "    .group_by(\"ge_1M\")\n",
    "    .agg(pl.col(\"address\").len().alias(\"count_transactions\"))\n",
    "    .with_columns(\n",
    "        (pl.col(\"count_transactions\")/pl.col(\"count_transactions\").sum()*100).alias(\"pct_transactions\")\n",
    "    ).sort(\"ge_1M\")\n",
    ")\n",
    "display(\n",
    "    df_filter\n",
    "    .group_by(\"year_of_sale\",)\n",
    "    .agg(pl.col(\"address\").len().alias(\"count_transactions\"))\n",
    "    .sort(\"year_of_sale\",)\n",
    ")"
   ]
  },
  {
   "cell_type": "code",
   "execution_count": 4,
   "id": "a6700d72",
   "metadata": {},
   "outputs": [
    {
     "data": {
      "text/html": [
       "<div><style>\n",
       ".dataframe > thead > tr,\n",
       ".dataframe > tbody > tr {\n",
       "  text-align: right;\n",
       "  white-space: pre-wrap;\n",
       "}\n",
       "</style>\n",
       "<small>shape: (2, 3)</small><table border=\"1\" class=\"dataframe\"><thead><tr><th>ge_1M</th><th>count_transactions</th><th>pct_transactions</th></tr><tr><td>i64</td><td>u32</td><td>f64</td></tr></thead><tbody><tr><td>0</td><td>24800</td><td>96.348096</td></tr><tr><td>1</td><td>940</td><td>3.651904</td></tr></tbody></table></div>"
      ],
      "text/plain": [
       "shape: (2, 3)\n",
       "┌───────┬────────────────────┬──────────────────┐\n",
       "│ ge_1M ┆ count_transactions ┆ pct_transactions │\n",
       "│ ---   ┆ ---                ┆ ---              │\n",
       "│ i64   ┆ u32                ┆ f64              │\n",
       "╞═══════╪════════════════════╪══════════════════╡\n",
       "│ 0     ┆ 24800              ┆ 96.348096        │\n",
       "│ 1     ┆ 940                ┆ 3.651904         │\n",
       "└───────┴────────────────────┴──────────────────┘"
      ]
     },
     "metadata": {},
     "output_type": "display_data"
    }
   ],
   "source": [
    "df_filter = df.filter(\n",
    "    (pl.col(\"year_of_sale\").eq(2024) & pl.col(\"month_of_sale\").le(11))\n",
    ")\n",
    "display(\n",
    "    df_filter\n",
    "    .group_by(\"ge_1M\")\n",
    "    .agg(pl.col(\"address\").len().alias(\"count_transactions\"))\n",
    "    .with_columns(\n",
    "        (pl.col(\"count_transactions\")/pl.col(\"count_transactions\").sum()*100).alias(\"pct_transactions\")\n",
    "    )\n",
    ")"
   ]
  },
  {
   "cell_type": "code",
   "execution_count": 5,
   "id": "1931d8b0",
   "metadata": {},
   "outputs": [
    {
     "data": {
      "text/html": [
       "<div><style>\n",
       ".dataframe > thead > tr,\n",
       ".dataframe > tbody > tr {\n",
       "  text-align: right;\n",
       "  white-space: pre-wrap;\n",
       "}\n",
       "</style>\n",
       "<small>shape: (2, 3)</small><table border=\"1\" class=\"dataframe\"><thead><tr><th>ge_1M</th><th>count_transactions</th><th>pct_transactions</th></tr><tr><td>i64</td><td>u32</td><td>f64</td></tr></thead><tbody><tr><td>1</td><td>469</td><td>1.821006</td></tr><tr><td>0</td><td>25286</td><td>98.178994</td></tr></tbody></table></div>"
      ],
      "text/plain": [
       "shape: (2, 3)\n",
       "┌───────┬────────────────────┬──────────────────┐\n",
       "│ ge_1M ┆ count_transactions ┆ pct_transactions │\n",
       "│ ---   ┆ ---                ┆ ---              │\n",
       "│ i64   ┆ u32                ┆ f64              │\n",
       "╞═══════╪════════════════════╪══════════════════╡\n",
       "│ 1     ┆ 469                ┆ 1.821006         │\n",
       "│ 0     ┆ 25286              ┆ 98.178994        │\n",
       "└───────┴────────────────────┴──────────────────┘"
      ]
     },
     "metadata": {},
     "output_type": "display_data"
    }
   ],
   "source": [
    "df_filter = df.filter(\n",
    "    (pl.col(\"year_of_sale\").eq(2023))\n",
    ")\n",
    "display(\n",
    "    df_filter\n",
    "    .group_by(\"ge_1M\")\n",
    "    .agg(pl.col(\"address\").len().alias(\"count_transactions\"))\n",
    "    .with_columns(\n",
    "        (pl.col(\"count_transactions\")/pl.col(\"count_transactions\").sum()*100).alias(\"pct_transactions\")\n",
    "    )\n",
    ")"
   ]
  },
  {
   "cell_type": "code",
   "execution_count": 6,
   "id": "e0d1e4b8",
   "metadata": {},
   "outputs": [
    {
     "data": {
      "text/html": [
       "<div><style>\n",
       ".dataframe > thead > tr,\n",
       ".dataframe > tbody > tr {\n",
       "  text-align: right;\n",
       "  white-space: pre-wrap;\n",
       "}\n",
       "</style>\n",
       "<small>shape: (2, 3)</small><table border=\"1\" class=\"dataframe\"><thead><tr><th>4rm_and_ge_1M</th><th>count_transactions</th><th>pct_transactions</th></tr><tr><td>i64</td><td>u32</td><td>f64</td></tr></thead><tbody><tr><td>0</td><td>53269</td><td>99.143852</td></tr><tr><td>1</td><td>460</td><td>0.856148</td></tr></tbody></table></div>"
      ],
      "text/plain": [
       "shape: (2, 3)\n",
       "┌───────────────┬────────────────────┬──────────────────┐\n",
       "│ 4rm_and_ge_1M ┆ count_transactions ┆ pct_transactions │\n",
       "│ ---           ┆ ---                ┆ ---              │\n",
       "│ i64           ┆ u32                ┆ f64              │\n",
       "╞═══════════════╪════════════════════╪══════════════════╡\n",
       "│ 0             ┆ 53269              ┆ 99.143852        │\n",
       "│ 1             ┆ 460                ┆ 0.856148         │\n",
       "└───────────────┴────────────────────┴──────────────────┘"
      ]
     },
     "metadata": {},
     "output_type": "display_data"
    }
   ],
   "source": [
    "df_filter = (\n",
    "    df.filter(\n",
    "        (pl.col(\"year_of_sale\").eq(2024) & pl.col(\"month_of_sale\").le(11)) | \n",
    "        (pl.col(\"year_of_sale\").eq(2023)) |\n",
    "        (pl.col(\"year_of_sale\").eq(2022) & pl.col(\"month_of_sale\").ge(12))\n",
    "    ).with_columns(\n",
    "        (pl.col(\"flat_type\").eq(\"4 ROOM\") & pl.col(\"ge_1M\")).cast(pl.Int64).alias(\"4rm_and_ge_1M\")\n",
    "    )\n",
    ")\n",
    "display(\n",
    "    df_filter\n",
    "    .group_by(\"4rm_and_ge_1M\")\n",
    "    .agg(pl.col(\"address\").len().alias(\"count_transactions\"))\n",
    "    .with_columns(\n",
    "        (pl.col(\"count_transactions\")/pl.col(\"count_transactions\").sum()*100).alias(\"pct_transactions\")\n",
    "    ).sort(\"4rm_and_ge_1M\")\n",
    ")"
   ]
  }
 ],
 "metadata": {
  "kernelspec": {
   "display_name": "Python 3 (ipykernel)",
   "language": "python",
   "name": "python3"
  },
  "language_info": {
   "codemirror_mode": {
    "name": "ipython",
    "version": 3
   },
   "file_extension": ".py",
   "mimetype": "text/x-python",
   "name": "python",
   "nbconvert_exporter": "python",
   "pygments_lexer": "ipython3",
   "version": "3.10.13"
  }
 },
 "nbformat": 4,
 "nbformat_minor": 5
}
