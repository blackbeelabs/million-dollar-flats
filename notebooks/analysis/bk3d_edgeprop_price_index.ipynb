{
 "cells": [
  {
   "cell_type": "code",
   "execution_count": 1,
   "id": "11db01a2",
   "metadata": {},
   "outputs": [],
   "source": [
    "import polars as pl\n",
    "\n",
    "import seaborn as sns\n",
    "import matplotlib.pyplot as plt\n",
    "\n",
    "sns.set()"
   ]
  },
  {
   "cell_type": "code",
   "execution_count": 2,
   "id": "3f3f96b1",
   "metadata": {
    "scrolled": false
   },
   "outputs": [
    {
     "data": {
      "text/html": [
       "<div><style>\n",
       ".dataframe > thead > tr,\n",
       ".dataframe > tbody > tr {\n",
       "  text-align: right;\n",
       "  white-space: pre-wrap;\n",
       "}\n",
       "</style>\n",
       "<small>shape: (1, 17)</small><table border=\"1\" class=\"dataframe\"><thead><tr><th>address</th><th>lease_remaining</th><th>minimum_floor</th><th>maximum_floor</th><th>built_year</th><th>sqft</th><th>sqm</th><th>flat_type</th><th>road</th><th>town</th><th>year_of_sale</th><th>month_of_sale</th><th>months_ago</th><th>price</th><th>psf</th><th>band_name</th><th>price_is_geq_one_million</th></tr><tr><td>str</td><td>i64</td><td>i64</td><td>i64</td><td>i64</td><td>i64</td><td>i64</td><td>str</td><td>str</td><td>str</td><td>i64</td><td>i64</td><td>i64</td><td>i64</td><td>f64</td><td>str</td><td>i64</td></tr></thead><tbody><tr><td>&quot;332 SERANGOON AVENUE 3&quot;</td><td>61</td><td>10</td><td>12</td><td>1986</td><td>904</td><td>84</td><td>&quot;4 ROOM&quot;</td><td>&quot;SERANGOON AVENUE 3&quot;</td><td>&quot;SERANGOON&quot;</td><td>2023</td><td>1</td><td>23</td><td>645000</td><td>713.49</td><td>&quot;60 - 64&quot;</td><td>0</td></tr></tbody></table></div>"
      ],
      "text/plain": [
       "shape: (1, 17)\n",
       "┌────────────┬────────────┬────────────┬────────────┬───┬────────┬────────┬───────────┬────────────┐\n",
       "│ address    ┆ lease_rema ┆ minimum_fl ┆ maximum_fl ┆ … ┆ price  ┆ psf    ┆ band_name ┆ price_is_g │\n",
       "│ ---        ┆ ining      ┆ oor        ┆ oor        ┆   ┆ ---    ┆ ---    ┆ ---       ┆ eq_one_mil │\n",
       "│ str        ┆ ---        ┆ ---        ┆ ---        ┆   ┆ i64    ┆ f64    ┆ str       ┆ lion       │\n",
       "│            ┆ i64        ┆ i64        ┆ i64        ┆   ┆        ┆        ┆           ┆ ---        │\n",
       "│            ┆            ┆            ┆            ┆   ┆        ┆        ┆           ┆ i64        │\n",
       "╞════════════╪════════════╪════════════╪════════════╪═══╪════════╪════════╪═══════════╪════════════╡\n",
       "│ 332        ┆ 61         ┆ 10         ┆ 12         ┆ … ┆ 645000 ┆ 713.49 ┆ 60 - 64   ┆ 0          │\n",
       "│ SERANGOON  ┆            ┆            ┆            ┆   ┆        ┆        ┆           ┆            │\n",
       "│ AVENUE 3   ┆            ┆            ┆            ┆   ┆        ┆        ┆           ┆            │\n",
       "└────────────┴────────────┴────────────┴────────────┴───┴────────┴────────┴───────────┴────────────┘"
      ]
     },
     "metadata": {},
     "output_type": "display_data"
    },
    {
     "name": "stdout",
     "output_type": "stream",
     "text": [
      "['address', 'lease_remaining', 'minimum_floor', 'maximum_floor', 'built_year', 'sqft', 'sqm', 'flat_type', 'road', 'town', 'year_of_sale', 'month_of_sale', 'months_ago', 'price', 'psf', 'band_name', 'price_is_geq_one_million']\n"
     ]
    }
   ],
   "source": [
    "df1 = pl.read_csv(\"ingested.csv\")\n",
    "df2 = pl.read_csv(\"ingested_2015.csv\")\n",
    "df = df1.vstack(df2)\n",
    "\n",
    "df_filter = df.filter(\n",
    "    pl.col(\"year_of_sale\").ge(2015)\n",
    ")\n",
    "display(df_filter.sample())\n",
    "print(list(df_filter.columns))\n",
    "df_vol =   df_filter.group_by(\"year_of_sale\").agg(pl.col(\"address\").len().alias(\"count_txns\")).sort(\"year_of_sale\")"
   ]
  },
  {
   "cell_type": "code",
   "execution_count": 3,
   "id": "99b20819",
   "metadata": {},
   "outputs": [],
   "source": [
    "idx = pl.DataFrame([\n",
    "    {'quarter': '2015', 'index': 135.6},\n",
    "    {'quarter': '2015', 'index': 135.0},\n",
    "    {'quarter': '2015', 'index': 134.6},\n",
    "    {'quarter': '2015', 'index': 134.8},\n",
    "    {'quarter': '2016', 'index': 134.7},\n",
    "    {'quarter': '2016', 'index': 134.7},\n",
    "    {'quarter': '2016', 'index': 134.7},\n",
    "    {'quarter': '2016', 'index': 134.6},\n",
    "    {'quarter': '2017', 'index': 133.9},\n",
    "    {'quarter': '2017', 'index': 133.7},\n",
    "    {'quarter': '2017', 'index': 132.8},\n",
    "    {'quarter': '2017', 'index': 132.6},\n",
    "    {'quarter': '2018', 'index': 131.6},\n",
    "    {'quarter': '2018', 'index': 131.7},\n",
    "    {'quarter': '2018', 'index': 131.6},\n",
    "    {'quarter': '2018', 'index': 131.4},\n",
    "    {'quarter': '2019', 'index': 131.0},\n",
    "    {'quarter': '2019', 'index': 130.8},\n",
    "    {'quarter': '2019', 'index': 130.9},\n",
    "    {'quarter': '2019', 'index': 131.5},\n",
    "    {'quarter': '2020', 'index': 131.5},\n",
    "    {'quarter': '2020', 'index': 131.9},\n",
    "    {'quarter': '2020', 'index': 133.9},\n",
    "    {'quarter': '2020', 'index': 138.1},\n",
    "    {'quarter': '2021', 'index': 142.2},\n",
    "    {'quarter': '2021', 'index': 146.4},\n",
    "    {'quarter': '2021', 'index': 150.6},\n",
    "    {'quarter': '2021', 'index': 155.7},\n",
    "    {'quarter': '2022', 'index': 159.5},\n",
    "    {'quarter': '2022', 'index': 163.9},\n",
    "    {'quarter': '2022', 'index': 168.1},\n",
    "    {'quarter': '2022', 'index': 171.9},\n",
    "    {'quarter': '2023', 'index': 173.6},\n",
    "    {'quarter': '2023', 'index': 176.2},\n",
    "    {'quarter': '2023', 'index': 178.5},\n",
    "    {'quarter': '2023', 'index': 180.4},\n",
    "    {'quarter': '2024', 'index': 183.7},\n",
    "    {'quarter': '2024', 'index': 187.9},\n",
    "    {'quarter': '2024', 'index': 192.9}\n",
    "])\n",
    "idx = (\n",
    "    idx\n",
    "    .group_by(pl.col(\"quarter\"))\n",
    "    .agg(pl.col(\"index\").mean().alias(\"price_index\"))\n",
    "    .with_columns(pl.col(\"quarter\").cast(pl.Int64).alias(\"year_of_sale\")\n",
    "))"
   ]
  },
  {
   "cell_type": "code",
   "execution_count": 4,
   "id": "f87c46e2",
   "metadata": {},
   "outputs": [],
   "source": [
    "df_g = df_vol.join(idx, on=\"year_of_sale\")"
   ]
  },
  {
   "cell_type": "code",
   "execution_count": 5,
   "id": "0f671b33",
   "metadata": {},
   "outputs": [
    {
     "data": {
      "text/html": [
       "<div><style>\n",
       ".dataframe > thead > tr,\n",
       ".dataframe > tbody > tr {\n",
       "  text-align: right;\n",
       "  white-space: pre-wrap;\n",
       "}\n",
       "</style>\n",
       "<small>shape: (10, 4)</small><table border=\"1\" class=\"dataframe\"><thead><tr><th>year_of_sale</th><th>count_txns</th><th>quarter</th><th>price_index</th></tr><tr><td>i64</td><td>u32</td><td>str</td><td>f64</td></tr></thead><tbody><tr><td>2017</td><td>20509</td><td>&quot;2017&quot;</td><td>133.25</td></tr><tr><td>2022</td><td>26720</td><td>&quot;2022&quot;</td><td>165.85</td></tr><tr><td>2019</td><td>22186</td><td>&quot;2019&quot;</td><td>131.05</td></tr><tr><td>2020</td><td>23333</td><td>&quot;2020&quot;</td><td>133.85</td></tr><tr><td>2018</td><td>21561</td><td>&quot;2018&quot;</td><td>131.575</td></tr><tr><td>2015</td><td>17780</td><td>&quot;2015&quot;</td><td>135.0</td></tr><tr><td>2024</td><td>27426</td><td>&quot;2024&quot;</td><td>188.166667</td></tr><tr><td>2021</td><td>29087</td><td>&quot;2021&quot;</td><td>148.725</td></tr><tr><td>2023</td><td>25755</td><td>&quot;2023&quot;</td><td>177.175</td></tr><tr><td>2016</td><td>19373</td><td>&quot;2016&quot;</td><td>134.675</td></tr></tbody></table></div>"
      ],
      "text/plain": [
       "shape: (10, 4)\n",
       "┌──────────────┬────────────┬─────────┬─────────────┐\n",
       "│ year_of_sale ┆ count_txns ┆ quarter ┆ price_index │\n",
       "│ ---          ┆ ---        ┆ ---     ┆ ---         │\n",
       "│ i64          ┆ u32        ┆ str     ┆ f64         │\n",
       "╞══════════════╪════════════╪═════════╪═════════════╡\n",
       "│ 2017         ┆ 20509      ┆ 2017    ┆ 133.25      │\n",
       "│ 2022         ┆ 26720      ┆ 2022    ┆ 165.85      │\n",
       "│ 2019         ┆ 22186      ┆ 2019    ┆ 131.05      │\n",
       "│ 2020         ┆ 23333      ┆ 2020    ┆ 133.85      │\n",
       "│ 2018         ┆ 21561      ┆ 2018    ┆ 131.575     │\n",
       "│ 2015         ┆ 17780      ┆ 2015    ┆ 135.0       │\n",
       "│ 2024         ┆ 27426      ┆ 2024    ┆ 188.166667  │\n",
       "│ 2021         ┆ 29087      ┆ 2021    ┆ 148.725     │\n",
       "│ 2023         ┆ 25755      ┆ 2023    ┆ 177.175     │\n",
       "│ 2016         ┆ 19373      ┆ 2016    ┆ 134.675     │\n",
       "└──────────────┴────────────┴─────────┴─────────────┘"
      ]
     },
     "execution_count": 5,
     "metadata": {},
     "output_type": "execute_result"
    }
   ],
   "source": [
    "df_g"
   ]
  }
 ],
 "metadata": {
  "kernelspec": {
   "display_name": "Python 3 (ipykernel)",
   "language": "python",
   "name": "python3"
  },
  "language_info": {
   "codemirror_mode": {
    "name": "ipython",
    "version": 3
   },
   "file_extension": ".py",
   "mimetype": "text/x-python",
   "name": "python",
   "nbconvert_exporter": "python",
   "pygments_lexer": "ipython3",
   "version": "3.10.13"
  }
 },
 "nbformat": 4,
 "nbformat_minor": 5
}
